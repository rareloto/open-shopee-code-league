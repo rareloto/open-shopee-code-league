{
 "cells": [
  {
   "cell_type": "code",
   "execution_count": 1,
   "metadata": {
    "_cell_guid": "b1076dfc-b9ad-4769-8c92-a6c4dae69d19",
    "_uuid": "8f2839f25d086af736a60e9eeb907d3b93b6e0e5",
    "execution": {
     "iopub.execute_input": "2020-08-09T04:28:26.224706Z",
     "iopub.status.busy": "2020-08-09T04:28:26.223980Z",
     "iopub.status.idle": "2020-08-09T04:28:26.228279Z",
     "shell.execute_reply": "2020-08-09T04:28:26.228896Z"
    },
    "papermill": {
     "duration": 0.053733,
     "end_time": "2020-08-09T04:28:26.229133",
     "exception": false,
     "start_time": "2020-08-09T04:28:26.175400",
     "status": "completed"
    },
    "tags": []
   },
   "outputs": [
    {
     "name": "stdout",
     "output_type": "stream",
     "text": [
      "/kaggle/input/open-shopee-code-league-marketing-analytics/users.csv\n",
      "/kaggle/input/open-shopee-code-league-marketing-analytics/test.csv\n",
      "/kaggle/input/open-shopee-code-league-marketing-analytics/sample_submission_0_1.csv\n",
      "/kaggle/input/open-shopee-code-league-marketing-analytics/train.csv\n"
     ]
    }
   ],
   "source": [
    "import numpy as np\n",
    "import pandas as pd\n",
    "import warnings\n",
    "warnings.filterwarnings('ignore')\n",
    "\n",
    "import os\n",
    "for dirname, _, filenames in os.walk('/kaggle/input'):\n",
    "    for filename in filenames:\n",
    "        print(os.path.join(dirname, filename))"
   ]
  },
  {
   "cell_type": "markdown",
   "execution_count": null,
   "metadata": {
    "papermill": {
     "duration": 0.033322,
     "end_time": "2020-08-09T04:28:26.297846",
     "exception": false,
     "start_time": "2020-08-09T04:28:26.264524",
     "status": "completed"
    },
    "tags": []
   },
   "source": [
    "# Import data"
   ]
  },
  {
   "cell_type": "code",
   "execution_count": 2,
   "metadata": {
    "_cell_guid": "79c7e3d0-c299-4dcb-8224-4455121ee9b0",
    "_uuid": "d629ff2d2480ee46fbb7e2d37f6b5fab8052498a",
    "execution": {
     "iopub.execute_input": "2020-08-09T04:28:26.372601Z",
     "iopub.status.busy": "2020-08-09T04:28:26.371959Z",
     "iopub.status.idle": "2020-08-09T04:28:26.821609Z",
     "shell.execute_reply": "2020-08-09T04:28:26.821026Z"
    },
    "papermill": {
     "duration": 0.490418,
     "end_time": "2020-08-09T04:28:26.821737",
     "exception": false,
     "start_time": "2020-08-09T04:28:26.331319",
     "status": "completed"
    },
    "tags": []
   },
   "outputs": [
    {
     "name": "stdout",
     "output_type": "stream",
     "text": [
      "train: (73539, 18)\n",
      "test: (55970, 17)\n",
      "users: (127886, 6)\n",
      "sample submission: (55970, 2)\n"
     ]
    }
   ],
   "source": [
    "train = pd.read_csv('../input/open-shopee-code-league-marketing-analytics/train.csv')\n",
    "test = pd.read_csv('../input/open-shopee-code-league-marketing-analytics/test.csv')\n",
    "users = pd.read_csv('../input/open-shopee-code-league-marketing-analytics/users.csv')\n",
    "samp_sub = pd.read_csv('../input/open-shopee-code-league-marketing-analytics/sample_submission_0_1.csv')\n",
    "\n",
    "print('train:', train.shape)\n",
    "print('test:', test.shape)\n",
    "print('users:', users.shape)\n",
    "print('sample submission:', samp_sub.shape)"
   ]
  },
  {
   "cell_type": "markdown",
   "execution_count": null,
   "metadata": {
    "papermill": {
     "duration": 0.033909,
     "end_time": "2020-08-09T04:28:26.889498",
     "exception": false,
     "start_time": "2020-08-09T04:28:26.855589",
     "status": "completed"
    },
    "tags": []
   },
   "source": [
    "# EDA"
   ]
  },
  {
   "cell_type": "code",
   "execution_count": 3,
   "metadata": {
    "execution": {
     "iopub.execute_input": "2020-08-09T04:28:26.978124Z",
     "iopub.status.busy": "2020-08-09T04:28:26.977458Z",
     "iopub.status.idle": "2020-08-09T04:28:26.991576Z",
     "shell.execute_reply": "2020-08-09T04:28:26.992049Z"
    },
    "papermill": {
     "duration": 0.069717,
     "end_time": "2020-08-09T04:28:26.992195",
     "exception": false,
     "start_time": "2020-08-09T04:28:26.922478",
     "status": "completed"
    },
    "tags": []
   },
   "outputs": [
    {
     "data": {
      "text/html": [
       "<div>\n",
       "<style scoped>\n",
       "    .dataframe tbody tr th:only-of-type {\n",
       "        vertical-align: middle;\n",
       "    }\n",
       "\n",
       "    .dataframe tbody tr th {\n",
       "        vertical-align: top;\n",
       "    }\n",
       "\n",
       "    .dataframe thead th {\n",
       "        text-align: right;\n",
       "    }\n",
       "</style>\n",
       "<table border=\"1\" class=\"dataframe\">\n",
       "  <thead>\n",
       "    <tr style=\"text-align: right;\">\n",
       "      <th></th>\n",
       "      <th>country_code</th>\n",
       "      <th>grass_date</th>\n",
       "      <th>user_id</th>\n",
       "      <th>subject_line_length</th>\n",
       "      <th>last_open_day</th>\n",
       "      <th>last_login_day</th>\n",
       "      <th>last_checkout_day</th>\n",
       "      <th>open_count_last_10_days</th>\n",
       "      <th>open_count_last_30_days</th>\n",
       "      <th>open_count_last_60_days</th>\n",
       "      <th>login_count_last_10_days</th>\n",
       "      <th>login_count_last_30_days</th>\n",
       "      <th>login_count_last_60_days</th>\n",
       "      <th>checkout_count_last_10_days</th>\n",
       "      <th>checkout_count_last_30_days</th>\n",
       "      <th>checkout_count_last_60_days</th>\n",
       "      <th>open_flag</th>\n",
       "      <th>row_id</th>\n",
       "    </tr>\n",
       "  </thead>\n",
       "  <tbody>\n",
       "    <tr>\n",
       "      <th>0</th>\n",
       "      <td>4</td>\n",
       "      <td>2019-07-16 00:00:00+08:00</td>\n",
       "      <td>43</td>\n",
       "      <td>44</td>\n",
       "      <td>19</td>\n",
       "      <td>6</td>\n",
       "      <td>18</td>\n",
       "      <td>0</td>\n",
       "      <td>2</td>\n",
       "      <td>4</td>\n",
       "      <td>12</td>\n",
       "      <td>43</td>\n",
       "      <td>99</td>\n",
       "      <td>0</td>\n",
       "      <td>5</td>\n",
       "      <td>10</td>\n",
       "      <td>0</td>\n",
       "      <td>0</td>\n",
       "    </tr>\n",
       "    <tr>\n",
       "      <th>1</th>\n",
       "      <td>4</td>\n",
       "      <td>2019-07-16 00:00:00+08:00</td>\n",
       "      <td>102</td>\n",
       "      <td>44</td>\n",
       "      <td>9</td>\n",
       "      <td>4</td>\n",
       "      <td>8</td>\n",
       "      <td>2</td>\n",
       "      <td>9</td>\n",
       "      <td>17</td>\n",
       "      <td>18</td>\n",
       "      <td>48</td>\n",
       "      <td>90</td>\n",
       "      <td>1</td>\n",
       "      <td>1</td>\n",
       "      <td>4</td>\n",
       "      <td>1</td>\n",
       "      <td>1</td>\n",
       "    </tr>\n",
       "    <tr>\n",
       "      <th>2</th>\n",
       "      <td>6</td>\n",
       "      <td>2019-07-16 00:00:00+08:00</td>\n",
       "      <td>177</td>\n",
       "      <td>49</td>\n",
       "      <td>14</td>\n",
       "      <td>5</td>\n",
       "      <td>5</td>\n",
       "      <td>0</td>\n",
       "      <td>4</td>\n",
       "      <td>12</td>\n",
       "      <td>24</td>\n",
       "      <td>69</td>\n",
       "      <td>119</td>\n",
       "      <td>5</td>\n",
       "      <td>19</td>\n",
       "      <td>27</td>\n",
       "      <td>0</td>\n",
       "      <td>2</td>\n",
       "    </tr>\n",
       "    <tr>\n",
       "      <th>3</th>\n",
       "      <td>1</td>\n",
       "      <td>2019-07-16 00:00:00+08:00</td>\n",
       "      <td>184</td>\n",
       "      <td>49</td>\n",
       "      <td>49</td>\n",
       "      <td>9</td>\n",
       "      <td>53</td>\n",
       "      <td>0</td>\n",
       "      <td>0</td>\n",
       "      <td>1</td>\n",
       "      <td>9</td>\n",
       "      <td>23</td>\n",
       "      <td>69</td>\n",
       "      <td>1</td>\n",
       "      <td>3</td>\n",
       "      <td>6</td>\n",
       "      <td>0</td>\n",
       "      <td>3</td>\n",
       "    </tr>\n",
       "    <tr>\n",
       "      <th>4</th>\n",
       "      <td>6</td>\n",
       "      <td>2019-07-16 00:00:00+08:00</td>\n",
       "      <td>221</td>\n",
       "      <td>49</td>\n",
       "      <td>227</td>\n",
       "      <td>6</td>\n",
       "      <td>221</td>\n",
       "      <td>0</td>\n",
       "      <td>0</td>\n",
       "      <td>0</td>\n",
       "      <td>2</td>\n",
       "      <td>5</td>\n",
       "      <td>5</td>\n",
       "      <td>0</td>\n",
       "      <td>0</td>\n",
       "      <td>0</td>\n",
       "      <td>0</td>\n",
       "      <td>4</td>\n",
       "    </tr>\n",
       "    <tr>\n",
       "      <th>...</th>\n",
       "      <td>...</td>\n",
       "      <td>...</td>\n",
       "      <td>...</td>\n",
       "      <td>...</td>\n",
       "      <td>...</td>\n",
       "      <td>...</td>\n",
       "      <td>...</td>\n",
       "      <td>...</td>\n",
       "      <td>...</td>\n",
       "      <td>...</td>\n",
       "      <td>...</td>\n",
       "      <td>...</td>\n",
       "      <td>...</td>\n",
       "      <td>...</td>\n",
       "      <td>...</td>\n",
       "      <td>...</td>\n",
       "      <td>...</td>\n",
       "      <td>...</td>\n",
       "    </tr>\n",
       "    <tr>\n",
       "      <th>73534</th>\n",
       "      <td>6</td>\n",
       "      <td>2019-09-02 00:00:00+08:00</td>\n",
       "      <td>127613</td>\n",
       "      <td>39</td>\n",
       "      <td>24</td>\n",
       "      <td>36</td>\n",
       "      <td>279</td>\n",
       "      <td>0</td>\n",
       "      <td>1</td>\n",
       "      <td>1</td>\n",
       "      <td>0</td>\n",
       "      <td>0</td>\n",
       "      <td>0</td>\n",
       "      <td>0</td>\n",
       "      <td>0</td>\n",
       "      <td>0</td>\n",
       "      <td>0</td>\n",
       "      <td>73534</td>\n",
       "    </tr>\n",
       "    <tr>\n",
       "      <th>73535</th>\n",
       "      <td>2</td>\n",
       "      <td>2019-09-02 00:00:00+08:00</td>\n",
       "      <td>127620</td>\n",
       "      <td>38</td>\n",
       "      <td>46</td>\n",
       "      <td>10</td>\n",
       "      <td>51</td>\n",
       "      <td>0</td>\n",
       "      <td>0</td>\n",
       "      <td>1</td>\n",
       "      <td>0</td>\n",
       "      <td>0</td>\n",
       "      <td>0</td>\n",
       "      <td>0</td>\n",
       "      <td>0</td>\n",
       "      <td>0</td>\n",
       "      <td>0</td>\n",
       "      <td>73535</td>\n",
       "    </tr>\n",
       "    <tr>\n",
       "      <th>73536</th>\n",
       "      <td>2</td>\n",
       "      <td>2019-09-02 00:00:00+08:00</td>\n",
       "      <td>127696</td>\n",
       "      <td>32</td>\n",
       "      <td>Never open</td>\n",
       "      <td>Never login</td>\n",
       "      <td>Never checkout</td>\n",
       "      <td>0</td>\n",
       "      <td>0</td>\n",
       "      <td>0</td>\n",
       "      <td>0</td>\n",
       "      <td>0</td>\n",
       "      <td>0</td>\n",
       "      <td>0</td>\n",
       "      <td>0</td>\n",
       "      <td>0</td>\n",
       "      <td>0</td>\n",
       "      <td>73536</td>\n",
       "    </tr>\n",
       "    <tr>\n",
       "      <th>73537</th>\n",
       "      <td>2</td>\n",
       "      <td>2019-09-02 00:00:00+08:00</td>\n",
       "      <td>127807</td>\n",
       "      <td>38</td>\n",
       "      <td>5</td>\n",
       "      <td>34</td>\n",
       "      <td>Never checkout</td>\n",
       "      <td>2</td>\n",
       "      <td>4</td>\n",
       "      <td>4</td>\n",
       "      <td>0</td>\n",
       "      <td>0</td>\n",
       "      <td>0</td>\n",
       "      <td>0</td>\n",
       "      <td>0</td>\n",
       "      <td>0</td>\n",
       "      <td>1</td>\n",
       "      <td>73537</td>\n",
       "    </tr>\n",
       "    <tr>\n",
       "      <th>73538</th>\n",
       "      <td>6</td>\n",
       "      <td>2019-09-02 00:00:00+08:00</td>\n",
       "      <td>127880</td>\n",
       "      <td>39</td>\n",
       "      <td>1</td>\n",
       "      <td>3</td>\n",
       "      <td>Never checkout</td>\n",
       "      <td>2</td>\n",
       "      <td>2</td>\n",
       "      <td>3</td>\n",
       "      <td>0</td>\n",
       "      <td>0</td>\n",
       "      <td>0</td>\n",
       "      <td>0</td>\n",
       "      <td>0</td>\n",
       "      <td>0</td>\n",
       "      <td>0</td>\n",
       "      <td>73538</td>\n",
       "    </tr>\n",
       "  </tbody>\n",
       "</table>\n",
       "<p>73539 rows × 18 columns</p>\n",
       "</div>"
      ],
      "text/plain": [
       "       country_code                 grass_date  user_id  subject_line_length  \\\n",
       "0                 4  2019-07-16 00:00:00+08:00       43                   44   \n",
       "1                 4  2019-07-16 00:00:00+08:00      102                   44   \n",
       "2                 6  2019-07-16 00:00:00+08:00      177                   49   \n",
       "3                 1  2019-07-16 00:00:00+08:00      184                   49   \n",
       "4                 6  2019-07-16 00:00:00+08:00      221                   49   \n",
       "...             ...                        ...      ...                  ...   \n",
       "73534             6  2019-09-02 00:00:00+08:00   127613                   39   \n",
       "73535             2  2019-09-02 00:00:00+08:00   127620                   38   \n",
       "73536             2  2019-09-02 00:00:00+08:00   127696                   32   \n",
       "73537             2  2019-09-02 00:00:00+08:00   127807                   38   \n",
       "73538             6  2019-09-02 00:00:00+08:00   127880                   39   \n",
       "\n",
       "      last_open_day last_login_day last_checkout_day  open_count_last_10_days  \\\n",
       "0                19              6                18                        0   \n",
       "1                 9              4                 8                        2   \n",
       "2                14              5                 5                        0   \n",
       "3                49              9                53                        0   \n",
       "4               227              6               221                        0   \n",
       "...             ...            ...               ...                      ...   \n",
       "73534            24             36               279                        0   \n",
       "73535            46             10                51                        0   \n",
       "73536    Never open    Never login    Never checkout                        0   \n",
       "73537             5             34    Never checkout                        2   \n",
       "73538             1              3    Never checkout                        2   \n",
       "\n",
       "       open_count_last_30_days  open_count_last_60_days  \\\n",
       "0                            2                        4   \n",
       "1                            9                       17   \n",
       "2                            4                       12   \n",
       "3                            0                        1   \n",
       "4                            0                        0   \n",
       "...                        ...                      ...   \n",
       "73534                        1                        1   \n",
       "73535                        0                        1   \n",
       "73536                        0                        0   \n",
       "73537                        4                        4   \n",
       "73538                        2                        3   \n",
       "\n",
       "       login_count_last_10_days  login_count_last_30_days  \\\n",
       "0                            12                        43   \n",
       "1                            18                        48   \n",
       "2                            24                        69   \n",
       "3                             9                        23   \n",
       "4                             2                         5   \n",
       "...                         ...                       ...   \n",
       "73534                         0                         0   \n",
       "73535                         0                         0   \n",
       "73536                         0                         0   \n",
       "73537                         0                         0   \n",
       "73538                         0                         0   \n",
       "\n",
       "       login_count_last_60_days  checkout_count_last_10_days  \\\n",
       "0                            99                            0   \n",
       "1                            90                            1   \n",
       "2                           119                            5   \n",
       "3                            69                            1   \n",
       "4                             5                            0   \n",
       "...                         ...                          ...   \n",
       "73534                         0                            0   \n",
       "73535                         0                            0   \n",
       "73536                         0                            0   \n",
       "73537                         0                            0   \n",
       "73538                         0                            0   \n",
       "\n",
       "       checkout_count_last_30_days  checkout_count_last_60_days  open_flag  \\\n",
       "0                                5                           10          0   \n",
       "1                                1                            4          1   \n",
       "2                               19                           27          0   \n",
       "3                                3                            6          0   \n",
       "4                                0                            0          0   \n",
       "...                            ...                          ...        ...   \n",
       "73534                            0                            0          0   \n",
       "73535                            0                            0          0   \n",
       "73536                            0                            0          0   \n",
       "73537                            0                            0          1   \n",
       "73538                            0                            0          0   \n",
       "\n",
       "       row_id  \n",
       "0           0  \n",
       "1           1  \n",
       "2           2  \n",
       "3           3  \n",
       "4           4  \n",
       "...       ...  \n",
       "73534   73534  \n",
       "73535   73535  \n",
       "73536   73536  \n",
       "73537   73537  \n",
       "73538   73538  \n",
       "\n",
       "[73539 rows x 18 columns]"
      ]
     },
     "execution_count": 3,
     "metadata": {},
     "output_type": "execute_result"
    }
   ],
   "source": [
    "train"
   ]
  },
  {
   "cell_type": "code",
   "execution_count": 4,
   "metadata": {
    "execution": {
     "iopub.execute_input": "2020-08-09T04:28:27.083438Z",
     "iopub.status.busy": "2020-08-09T04:28:27.072082Z",
     "iopub.status.idle": "2020-08-09T04:28:27.087359Z",
     "shell.execute_reply": "2020-08-09T04:28:27.087812Z"
    },
    "papermill": {
     "duration": 0.061458,
     "end_time": "2020-08-09T04:28:27.087993",
     "exception": false,
     "start_time": "2020-08-09T04:28:27.026535",
     "status": "completed"
    },
    "tags": []
   },
   "outputs": [
    {
     "data": {
      "text/html": [
       "<div>\n",
       "<style scoped>\n",
       "    .dataframe tbody tr th:only-of-type {\n",
       "        vertical-align: middle;\n",
       "    }\n",
       "\n",
       "    .dataframe tbody tr th {\n",
       "        vertical-align: top;\n",
       "    }\n",
       "\n",
       "    .dataframe thead th {\n",
       "        text-align: right;\n",
       "    }\n",
       "</style>\n",
       "<table border=\"1\" class=\"dataframe\">\n",
       "  <thead>\n",
       "    <tr style=\"text-align: right;\">\n",
       "      <th></th>\n",
       "      <th>country_code</th>\n",
       "      <th>grass_date</th>\n",
       "      <th>user_id</th>\n",
       "      <th>subject_line_length</th>\n",
       "      <th>last_open_day</th>\n",
       "      <th>last_login_day</th>\n",
       "      <th>last_checkout_day</th>\n",
       "      <th>open_count_last_10_days</th>\n",
       "      <th>open_count_last_30_days</th>\n",
       "      <th>open_count_last_60_days</th>\n",
       "      <th>login_count_last_10_days</th>\n",
       "      <th>login_count_last_30_days</th>\n",
       "      <th>login_count_last_60_days</th>\n",
       "      <th>checkout_count_last_10_days</th>\n",
       "      <th>checkout_count_last_30_days</th>\n",
       "      <th>checkout_count_last_60_days</th>\n",
       "      <th>row_id</th>\n",
       "    </tr>\n",
       "  </thead>\n",
       "  <tbody>\n",
       "    <tr>\n",
       "      <th>0</th>\n",
       "      <td>6</td>\n",
       "      <td>2019-09-03 00:00:00+08:00</td>\n",
       "      <td>0</td>\n",
       "      <td>35</td>\n",
       "      <td>27</td>\n",
       "      <td>2</td>\n",
       "      <td>13</td>\n",
       "      <td>2</td>\n",
       "      <td>3</td>\n",
       "      <td>4</td>\n",
       "      <td>10</td>\n",
       "      <td>34</td>\n",
       "      <td>134</td>\n",
       "      <td>0</td>\n",
       "      <td>6</td>\n",
       "      <td>18</td>\n",
       "      <td>0</td>\n",
       "    </tr>\n",
       "    <tr>\n",
       "      <th>1</th>\n",
       "      <td>6</td>\n",
       "      <td>2019-09-03 00:00:00+08:00</td>\n",
       "      <td>130</td>\n",
       "      <td>35</td>\n",
       "      <td>7</td>\n",
       "      <td>5</td>\n",
       "      <td>383</td>\n",
       "      <td>1</td>\n",
       "      <td>1</td>\n",
       "      <td>1</td>\n",
       "      <td>5</td>\n",
       "      <td>5</td>\n",
       "      <td>5</td>\n",
       "      <td>0</td>\n",
       "      <td>0</td>\n",
       "      <td>0</td>\n",
       "      <td>1</td>\n",
       "    </tr>\n",
       "    <tr>\n",
       "      <th>2</th>\n",
       "      <td>5</td>\n",
       "      <td>2019-09-03 00:00:00+08:00</td>\n",
       "      <td>150</td>\n",
       "      <td>25</td>\n",
       "      <td>34</td>\n",
       "      <td>1</td>\n",
       "      <td>3</td>\n",
       "      <td>0</td>\n",
       "      <td>0</td>\n",
       "      <td>0</td>\n",
       "      <td>13</td>\n",
       "      <td>19</td>\n",
       "      <td>38</td>\n",
       "      <td>2</td>\n",
       "      <td>2</td>\n",
       "      <td>2</td>\n",
       "      <td>2</td>\n",
       "    </tr>\n",
       "    <tr>\n",
       "      <th>3</th>\n",
       "      <td>1</td>\n",
       "      <td>2019-09-03 00:00:00+08:00</td>\n",
       "      <td>181</td>\n",
       "      <td>36</td>\n",
       "      <td>63</td>\n",
       "      <td>5</td>\n",
       "      <td>5</td>\n",
       "      <td>0</td>\n",
       "      <td>0</td>\n",
       "      <td>0</td>\n",
       "      <td>43</td>\n",
       "      <td>110</td>\n",
       "      <td>173</td>\n",
       "      <td>2</td>\n",
       "      <td>5</td>\n",
       "      <td>5</td>\n",
       "      <td>3</td>\n",
       "    </tr>\n",
       "    <tr>\n",
       "      <th>4</th>\n",
       "      <td>5</td>\n",
       "      <td>2019-09-03 00:00:00+08:00</td>\n",
       "      <td>192</td>\n",
       "      <td>23</td>\n",
       "      <td>6</td>\n",
       "      <td>5</td>\n",
       "      <td>54</td>\n",
       "      <td>0</td>\n",
       "      <td>0</td>\n",
       "      <td>0</td>\n",
       "      <td>4</td>\n",
       "      <td>12</td>\n",
       "      <td>39</td>\n",
       "      <td>0</td>\n",
       "      <td>0</td>\n",
       "      <td>2</td>\n",
       "      <td>4</td>\n",
       "    </tr>\n",
       "    <tr>\n",
       "      <th>...</th>\n",
       "      <td>...</td>\n",
       "      <td>...</td>\n",
       "      <td>...</td>\n",
       "      <td>...</td>\n",
       "      <td>...</td>\n",
       "      <td>...</td>\n",
       "      <td>...</td>\n",
       "      <td>...</td>\n",
       "      <td>...</td>\n",
       "      <td>...</td>\n",
       "      <td>...</td>\n",
       "      <td>...</td>\n",
       "      <td>...</td>\n",
       "      <td>...</td>\n",
       "      <td>...</td>\n",
       "      <td>...</td>\n",
       "      <td>...</td>\n",
       "    </tr>\n",
       "    <tr>\n",
       "      <th>55965</th>\n",
       "      <td>6</td>\n",
       "      <td>2019-09-29 00:00:00+08:00</td>\n",
       "      <td>127348</td>\n",
       "      <td>53</td>\n",
       "      <td>Never open</td>\n",
       "      <td>4</td>\n",
       "      <td>8</td>\n",
       "      <td>0</td>\n",
       "      <td>0</td>\n",
       "      <td>0</td>\n",
       "      <td>0</td>\n",
       "      <td>0</td>\n",
       "      <td>0</td>\n",
       "      <td>0</td>\n",
       "      <td>0</td>\n",
       "      <td>0</td>\n",
       "      <td>55965</td>\n",
       "    </tr>\n",
       "    <tr>\n",
       "      <th>55966</th>\n",
       "      <td>6</td>\n",
       "      <td>2019-09-29 00:00:00+08:00</td>\n",
       "      <td>127396</td>\n",
       "      <td>53</td>\n",
       "      <td>59</td>\n",
       "      <td>802</td>\n",
       "      <td>1207</td>\n",
       "      <td>0</td>\n",
       "      <td>0</td>\n",
       "      <td>1</td>\n",
       "      <td>0</td>\n",
       "      <td>0</td>\n",
       "      <td>0</td>\n",
       "      <td>0</td>\n",
       "      <td>0</td>\n",
       "      <td>0</td>\n",
       "      <td>55966</td>\n",
       "    </tr>\n",
       "    <tr>\n",
       "      <th>55967</th>\n",
       "      <td>6</td>\n",
       "      <td>2019-09-29 00:00:00+08:00</td>\n",
       "      <td>127574</td>\n",
       "      <td>43</td>\n",
       "      <td>Never open</td>\n",
       "      <td>7</td>\n",
       "      <td>Never checkout</td>\n",
       "      <td>0</td>\n",
       "      <td>0</td>\n",
       "      <td>0</td>\n",
       "      <td>0</td>\n",
       "      <td>0</td>\n",
       "      <td>0</td>\n",
       "      <td>0</td>\n",
       "      <td>0</td>\n",
       "      <td>0</td>\n",
       "      <td>55967</td>\n",
       "    </tr>\n",
       "    <tr>\n",
       "      <th>55968</th>\n",
       "      <td>6</td>\n",
       "      <td>2019-09-29 00:00:00+08:00</td>\n",
       "      <td>127887</td>\n",
       "      <td>43</td>\n",
       "      <td>5</td>\n",
       "      <td>5</td>\n",
       "      <td>6</td>\n",
       "      <td>2</td>\n",
       "      <td>5</td>\n",
       "      <td>14</td>\n",
       "      <td>0</td>\n",
       "      <td>0</td>\n",
       "      <td>0</td>\n",
       "      <td>0</td>\n",
       "      <td>0</td>\n",
       "      <td>0</td>\n",
       "      <td>55968</td>\n",
       "    </tr>\n",
       "    <tr>\n",
       "      <th>55969</th>\n",
       "      <td>6</td>\n",
       "      <td>2019-09-29 00:00:00+08:00</td>\n",
       "      <td>127895</td>\n",
       "      <td>53</td>\n",
       "      <td>5</td>\n",
       "      <td>3</td>\n",
       "      <td>20</td>\n",
       "      <td>2</td>\n",
       "      <td>14</td>\n",
       "      <td>27</td>\n",
       "      <td>0</td>\n",
       "      <td>0</td>\n",
       "      <td>0</td>\n",
       "      <td>0</td>\n",
       "      <td>0</td>\n",
       "      <td>0</td>\n",
       "      <td>55969</td>\n",
       "    </tr>\n",
       "  </tbody>\n",
       "</table>\n",
       "<p>55970 rows × 17 columns</p>\n",
       "</div>"
      ],
      "text/plain": [
       "       country_code                 grass_date  user_id  subject_line_length  \\\n",
       "0                 6  2019-09-03 00:00:00+08:00        0                   35   \n",
       "1                 6  2019-09-03 00:00:00+08:00      130                   35   \n",
       "2                 5  2019-09-03 00:00:00+08:00      150                   25   \n",
       "3                 1  2019-09-03 00:00:00+08:00      181                   36   \n",
       "4                 5  2019-09-03 00:00:00+08:00      192                   23   \n",
       "...             ...                        ...      ...                  ...   \n",
       "55965             6  2019-09-29 00:00:00+08:00   127348                   53   \n",
       "55966             6  2019-09-29 00:00:00+08:00   127396                   53   \n",
       "55967             6  2019-09-29 00:00:00+08:00   127574                   43   \n",
       "55968             6  2019-09-29 00:00:00+08:00   127887                   43   \n",
       "55969             6  2019-09-29 00:00:00+08:00   127895                   53   \n",
       "\n",
       "      last_open_day last_login_day last_checkout_day  open_count_last_10_days  \\\n",
       "0                27              2                13                        2   \n",
       "1                 7              5               383                        1   \n",
       "2                34              1                 3                        0   \n",
       "3                63              5                 5                        0   \n",
       "4                 6              5                54                        0   \n",
       "...             ...            ...               ...                      ...   \n",
       "55965    Never open              4                 8                        0   \n",
       "55966            59            802              1207                        0   \n",
       "55967    Never open              7    Never checkout                        0   \n",
       "55968             5              5                 6                        2   \n",
       "55969             5              3                20                        2   \n",
       "\n",
       "       open_count_last_30_days  open_count_last_60_days  \\\n",
       "0                            3                        4   \n",
       "1                            1                        1   \n",
       "2                            0                        0   \n",
       "3                            0                        0   \n",
       "4                            0                        0   \n",
       "...                        ...                      ...   \n",
       "55965                        0                        0   \n",
       "55966                        0                        1   \n",
       "55967                        0                        0   \n",
       "55968                        5                       14   \n",
       "55969                       14                       27   \n",
       "\n",
       "       login_count_last_10_days  login_count_last_30_days  \\\n",
       "0                            10                        34   \n",
       "1                             5                         5   \n",
       "2                            13                        19   \n",
       "3                            43                       110   \n",
       "4                             4                        12   \n",
       "...                         ...                       ...   \n",
       "55965                         0                         0   \n",
       "55966                         0                         0   \n",
       "55967                         0                         0   \n",
       "55968                         0                         0   \n",
       "55969                         0                         0   \n",
       "\n",
       "       login_count_last_60_days  checkout_count_last_10_days  \\\n",
       "0                           134                            0   \n",
       "1                             5                            0   \n",
       "2                            38                            2   \n",
       "3                           173                            2   \n",
       "4                            39                            0   \n",
       "...                         ...                          ...   \n",
       "55965                         0                            0   \n",
       "55966                         0                            0   \n",
       "55967                         0                            0   \n",
       "55968                         0                            0   \n",
       "55969                         0                            0   \n",
       "\n",
       "       checkout_count_last_30_days  checkout_count_last_60_days  row_id  \n",
       "0                                6                           18       0  \n",
       "1                                0                            0       1  \n",
       "2                                2                            2       2  \n",
       "3                                5                            5       3  \n",
       "4                                0                            2       4  \n",
       "...                            ...                          ...     ...  \n",
       "55965                            0                            0   55965  \n",
       "55966                            0                            0   55966  \n",
       "55967                            0                            0   55967  \n",
       "55968                            0                            0   55968  \n",
       "55969                            0                            0   55969  \n",
       "\n",
       "[55970 rows x 17 columns]"
      ]
     },
     "execution_count": 4,
     "metadata": {},
     "output_type": "execute_result"
    }
   ],
   "source": [
    "test"
   ]
  },
  {
   "cell_type": "code",
   "execution_count": 5,
   "metadata": {
    "execution": {
     "iopub.execute_input": "2020-08-09T04:28:27.172098Z",
     "iopub.status.busy": "2020-08-09T04:28:27.171121Z",
     "iopub.status.idle": "2020-08-09T04:28:27.175609Z",
     "shell.execute_reply": "2020-08-09T04:28:27.175009Z"
    },
    "papermill": {
     "duration": 0.053712,
     "end_time": "2020-08-09T04:28:27.175720",
     "exception": false,
     "start_time": "2020-08-09T04:28:27.122008",
     "status": "completed"
    },
    "tags": []
   },
   "outputs": [
    {
     "data": {
      "text/html": [
       "<div>\n",
       "<style scoped>\n",
       "    .dataframe tbody tr th:only-of-type {\n",
       "        vertical-align: middle;\n",
       "    }\n",
       "\n",
       "    .dataframe tbody tr th {\n",
       "        vertical-align: top;\n",
       "    }\n",
       "\n",
       "    .dataframe thead th {\n",
       "        text-align: right;\n",
       "    }\n",
       "</style>\n",
       "<table border=\"1\" class=\"dataframe\">\n",
       "  <thead>\n",
       "    <tr style=\"text-align: right;\">\n",
       "      <th></th>\n",
       "      <th>user_id</th>\n",
       "      <th>attr_1</th>\n",
       "      <th>attr_2</th>\n",
       "      <th>attr_3</th>\n",
       "      <th>age</th>\n",
       "      <th>domain</th>\n",
       "    </tr>\n",
       "  </thead>\n",
       "  <tbody>\n",
       "    <tr>\n",
       "      <th>0</th>\n",
       "      <td>0</td>\n",
       "      <td>NaN</td>\n",
       "      <td>1.0</td>\n",
       "      <td>0.0</td>\n",
       "      <td>NaN</td>\n",
       "      <td>@gmail.com</td>\n",
       "    </tr>\n",
       "    <tr>\n",
       "      <th>1</th>\n",
       "      <td>1</td>\n",
       "      <td>1.0</td>\n",
       "      <td>1.0</td>\n",
       "      <td>2.0</td>\n",
       "      <td>50.0</td>\n",
       "      <td>@gmail.com</td>\n",
       "    </tr>\n",
       "    <tr>\n",
       "      <th>2</th>\n",
       "      <td>2</td>\n",
       "      <td>NaN</td>\n",
       "      <td>1.0</td>\n",
       "      <td>0.0</td>\n",
       "      <td>NaN</td>\n",
       "      <td>other</td>\n",
       "    </tr>\n",
       "    <tr>\n",
       "      <th>3</th>\n",
       "      <td>3</td>\n",
       "      <td>NaN</td>\n",
       "      <td>1.0</td>\n",
       "      <td>0.0</td>\n",
       "      <td>NaN</td>\n",
       "      <td>@gmail.com</td>\n",
       "    </tr>\n",
       "    <tr>\n",
       "      <th>4</th>\n",
       "      <td>4</td>\n",
       "      <td>1.0</td>\n",
       "      <td>1.0</td>\n",
       "      <td>2.0</td>\n",
       "      <td>33.0</td>\n",
       "      <td>@gmail.com</td>\n",
       "    </tr>\n",
       "    <tr>\n",
       "      <th>...</th>\n",
       "      <td>...</td>\n",
       "      <td>...</td>\n",
       "      <td>...</td>\n",
       "      <td>...</td>\n",
       "      <td>...</td>\n",
       "      <td>...</td>\n",
       "    </tr>\n",
       "    <tr>\n",
       "      <th>127881</th>\n",
       "      <td>127921</td>\n",
       "      <td>NaN</td>\n",
       "      <td>1.0</td>\n",
       "      <td>0.0</td>\n",
       "      <td>NaN</td>\n",
       "      <td>@yahoo.com</td>\n",
       "    </tr>\n",
       "    <tr>\n",
       "      <th>127882</th>\n",
       "      <td>127922</td>\n",
       "      <td>1.0</td>\n",
       "      <td>1.0</td>\n",
       "      <td>0.0</td>\n",
       "      <td>20.0</td>\n",
       "      <td>@gmail.com</td>\n",
       "    </tr>\n",
       "    <tr>\n",
       "      <th>127883</th>\n",
       "      <td>127923</td>\n",
       "      <td>NaN</td>\n",
       "      <td>1.0</td>\n",
       "      <td>0.0</td>\n",
       "      <td>NaN</td>\n",
       "      <td>@gmail.com</td>\n",
       "    </tr>\n",
       "    <tr>\n",
       "      <th>127884</th>\n",
       "      <td>127924</td>\n",
       "      <td>NaN</td>\n",
       "      <td>0.0</td>\n",
       "      <td>0.0</td>\n",
       "      <td>NaN</td>\n",
       "      <td>@gmail.com</td>\n",
       "    </tr>\n",
       "    <tr>\n",
       "      <th>127885</th>\n",
       "      <td>127925</td>\n",
       "      <td>NaN</td>\n",
       "      <td>1.0</td>\n",
       "      <td>0.0</td>\n",
       "      <td>NaN</td>\n",
       "      <td>@gmail.com</td>\n",
       "    </tr>\n",
       "  </tbody>\n",
       "</table>\n",
       "<p>127886 rows × 6 columns</p>\n",
       "</div>"
      ],
      "text/plain": [
       "        user_id  attr_1  attr_2  attr_3   age      domain\n",
       "0             0     NaN     1.0     0.0   NaN  @gmail.com\n",
       "1             1     1.0     1.0     2.0  50.0  @gmail.com\n",
       "2             2     NaN     1.0     0.0   NaN       other\n",
       "3             3     NaN     1.0     0.0   NaN  @gmail.com\n",
       "4             4     1.0     1.0     2.0  33.0  @gmail.com\n",
       "...         ...     ...     ...     ...   ...         ...\n",
       "127881   127921     NaN     1.0     0.0   NaN  @yahoo.com\n",
       "127882   127922     1.0     1.0     0.0  20.0  @gmail.com\n",
       "127883   127923     NaN     1.0     0.0   NaN  @gmail.com\n",
       "127884   127924     NaN     0.0     0.0   NaN  @gmail.com\n",
       "127885   127925     NaN     1.0     0.0   NaN  @gmail.com\n",
       "\n",
       "[127886 rows x 6 columns]"
      ]
     },
     "execution_count": 5,
     "metadata": {},
     "output_type": "execute_result"
    }
   ],
   "source": [
    "users"
   ]
  },
  {
   "cell_type": "code",
   "execution_count": 6,
   "metadata": {
    "execution": {
     "iopub.execute_input": "2020-08-09T04:28:27.254081Z",
     "iopub.status.busy": "2020-08-09T04:28:27.253308Z",
     "iopub.status.idle": "2020-08-09T04:28:27.257620Z",
     "shell.execute_reply": "2020-08-09T04:28:27.257121Z"
    },
    "papermill": {
     "duration": 0.047525,
     "end_time": "2020-08-09T04:28:27.257727",
     "exception": false,
     "start_time": "2020-08-09T04:28:27.210202",
     "status": "completed"
    },
    "tags": []
   },
   "outputs": [
    {
     "data": {
      "text/html": [
       "<div>\n",
       "<style scoped>\n",
       "    .dataframe tbody tr th:only-of-type {\n",
       "        vertical-align: middle;\n",
       "    }\n",
       "\n",
       "    .dataframe tbody tr th {\n",
       "        vertical-align: top;\n",
       "    }\n",
       "\n",
       "    .dataframe thead th {\n",
       "        text-align: right;\n",
       "    }\n",
       "</style>\n",
       "<table border=\"1\" class=\"dataframe\">\n",
       "  <thead>\n",
       "    <tr style=\"text-align: right;\">\n",
       "      <th></th>\n",
       "      <th>row_id</th>\n",
       "      <th>open_flag</th>\n",
       "    </tr>\n",
       "  </thead>\n",
       "  <tbody>\n",
       "    <tr>\n",
       "      <th>0</th>\n",
       "      <td>0</td>\n",
       "      <td>1</td>\n",
       "    </tr>\n",
       "    <tr>\n",
       "      <th>1</th>\n",
       "      <td>1</td>\n",
       "      <td>1</td>\n",
       "    </tr>\n",
       "    <tr>\n",
       "      <th>2</th>\n",
       "      <td>2</td>\n",
       "      <td>1</td>\n",
       "    </tr>\n",
       "    <tr>\n",
       "      <th>3</th>\n",
       "      <td>3</td>\n",
       "      <td>1</td>\n",
       "    </tr>\n",
       "    <tr>\n",
       "      <th>4</th>\n",
       "      <td>4</td>\n",
       "      <td>1</td>\n",
       "    </tr>\n",
       "    <tr>\n",
       "      <th>...</th>\n",
       "      <td>...</td>\n",
       "      <td>...</td>\n",
       "    </tr>\n",
       "    <tr>\n",
       "      <th>55965</th>\n",
       "      <td>55965</td>\n",
       "      <td>0</td>\n",
       "    </tr>\n",
       "    <tr>\n",
       "      <th>55966</th>\n",
       "      <td>55966</td>\n",
       "      <td>0</td>\n",
       "    </tr>\n",
       "    <tr>\n",
       "      <th>55967</th>\n",
       "      <td>55967</td>\n",
       "      <td>0</td>\n",
       "    </tr>\n",
       "    <tr>\n",
       "      <th>55968</th>\n",
       "      <td>55968</td>\n",
       "      <td>0</td>\n",
       "    </tr>\n",
       "    <tr>\n",
       "      <th>55969</th>\n",
       "      <td>55969</td>\n",
       "      <td>0</td>\n",
       "    </tr>\n",
       "  </tbody>\n",
       "</table>\n",
       "<p>55970 rows × 2 columns</p>\n",
       "</div>"
      ],
      "text/plain": [
       "       row_id  open_flag\n",
       "0           0          1\n",
       "1           1          1\n",
       "2           2          1\n",
       "3           3          1\n",
       "4           4          1\n",
       "...       ...        ...\n",
       "55965   55965          0\n",
       "55966   55966          0\n",
       "55967   55967          0\n",
       "55968   55968          0\n",
       "55969   55969          0\n",
       "\n",
       "[55970 rows x 2 columns]"
      ]
     },
     "execution_count": 6,
     "metadata": {},
     "output_type": "execute_result"
    }
   ],
   "source": [
    "samp_sub"
   ]
  },
  {
   "cell_type": "markdown",
   "execution_count": null,
   "metadata": {
    "papermill": {
     "duration": 0.034227,
     "end_time": "2020-08-09T04:28:27.326053",
     "exception": false,
     "start_time": "2020-08-09T04:28:27.291826",
     "status": "completed"
    },
    "tags": []
   },
   "source": [
    "Checking distribution"
   ]
  },
  {
   "cell_type": "code",
   "execution_count": 7,
   "metadata": {
    "execution": {
     "iopub.execute_input": "2020-08-09T04:28:27.451724Z",
     "iopub.status.busy": "2020-08-09T04:28:27.450033Z",
     "iopub.status.idle": "2020-08-09T04:28:27.459025Z",
     "shell.execute_reply": "2020-08-09T04:28:27.458462Z"
    },
    "papermill": {
     "duration": 0.098617,
     "end_time": "2020-08-09T04:28:27.459139",
     "exception": false,
     "start_time": "2020-08-09T04:28:27.360522",
     "status": "completed"
    },
    "tags": []
   },
   "outputs": [
    {
     "data": {
      "text/plain": [
       "0    62083\n",
       "1    11456\n",
       "Name: open_flag, dtype: int64"
      ]
     },
     "execution_count": 7,
     "metadata": {},
     "output_type": "execute_result"
    }
   ],
   "source": [
    "train['open_flag'].value_counts()"
   ]
  },
  {
   "cell_type": "markdown",
   "execution_count": null,
   "metadata": {
    "papermill": {
     "duration": 0.034414,
     "end_time": "2020-08-09T04:28:27.528388",
     "exception": false,
     "start_time": "2020-08-09T04:28:27.493974",
     "status": "completed"
    },
    "tags": []
   },
   "source": [
    "**Merge users df to train df and test df**"
   ]
  },
  {
   "cell_type": "code",
   "execution_count": 8,
   "metadata": {
    "execution": {
     "iopub.execute_input": "2020-08-09T04:28:27.602805Z",
     "iopub.status.busy": "2020-08-09T04:28:27.602163Z",
     "iopub.status.idle": "2020-08-09T04:28:27.798756Z",
     "shell.execute_reply": "2020-08-09T04:28:27.798175Z"
    },
    "papermill": {
     "duration": 0.235905,
     "end_time": "2020-08-09T04:28:27.798878",
     "exception": false,
     "start_time": "2020-08-09T04:28:27.562973",
     "status": "completed"
    },
    "tags": []
   },
   "outputs": [],
   "source": [
    "train = pd.merge(train, users, on = 'user_id', how = 'left')\n",
    "test = pd.merge(test, users, on = 'user_id', how = 'left')"
   ]
  },
  {
   "cell_type": "code",
   "execution_count": 9,
   "metadata": {
    "execution": {
     "iopub.execute_input": "2020-08-09T04:28:27.873226Z",
     "iopub.status.busy": "2020-08-09T04:28:27.872568Z",
     "iopub.status.idle": "2020-08-09T04:28:27.921775Z",
     "shell.execute_reply": "2020-08-09T04:28:27.922409Z"
    },
    "papermill": {
     "duration": 0.088866,
     "end_time": "2020-08-09T04:28:27.922625",
     "exception": false,
     "start_time": "2020-08-09T04:28:27.833759",
     "status": "completed"
    },
    "tags": []
   },
   "outputs": [
    {
     "name": "stdout",
     "output_type": "stream",
     "text": [
      "<class 'pandas.core.frame.DataFrame'>\n",
      "Int64Index: 73539 entries, 0 to 73538\n",
      "Data columns (total 23 columns):\n",
      " #   Column                       Non-Null Count  Dtype  \n",
      "---  ------                       --------------  -----  \n",
      " 0   country_code                 73539 non-null  int64  \n",
      " 1   grass_date                   73539 non-null  object \n",
      " 2   user_id                      73539 non-null  int64  \n",
      " 3   subject_line_length          73539 non-null  int64  \n",
      " 4   last_open_day                73539 non-null  object \n",
      " 5   last_login_day               73539 non-null  object \n",
      " 6   last_checkout_day            73539 non-null  object \n",
      " 7   open_count_last_10_days      73539 non-null  int64  \n",
      " 8   open_count_last_30_days      73539 non-null  int64  \n",
      " 9   open_count_last_60_days      73539 non-null  int64  \n",
      " 10  login_count_last_10_days     73539 non-null  int64  \n",
      " 11  login_count_last_30_days     73539 non-null  int64  \n",
      " 12  login_count_last_60_days     73539 non-null  int64  \n",
      " 13  checkout_count_last_10_days  73539 non-null  int64  \n",
      " 14  checkout_count_last_30_days  73539 non-null  int64  \n",
      " 15  checkout_count_last_60_days  73539 non-null  int64  \n",
      " 16  open_flag                    73539 non-null  int64  \n",
      " 17  row_id                       73539 non-null  int64  \n",
      " 18  attr_1                       45347 non-null  float64\n",
      " 19  attr_2                       73260 non-null  float64\n",
      " 20  attr_3                       73539 non-null  float64\n",
      " 21  age                          45347 non-null  float64\n",
      " 22  domain                       73539 non-null  object \n",
      "dtypes: float64(4), int64(14), object(5)\n",
      "memory usage: 13.5+ MB\n"
     ]
    }
   ],
   "source": [
    "train.info()"
   ]
  },
  {
   "cell_type": "markdown",
   "execution_count": null,
   "metadata": {
    "papermill": {
     "duration": 0.037351,
     "end_time": "2020-08-09T04:28:27.995484",
     "exception": false,
     "start_time": "2020-08-09T04:28:27.958133",
     "status": "completed"
    },
    "tags": []
   },
   "source": [
    "Since columns **'country_code', 'attr_1/2/3', 'day_of_week'** are categorical, \n",
    "\n",
    "let's change their type to string for convenience in later analysis"
   ]
  },
  {
   "cell_type": "code",
   "execution_count": 10,
   "metadata": {
    "execution": {
     "iopub.execute_input": "2020-08-09T04:28:28.122796Z",
     "iopub.status.busy": "2020-08-09T04:28:28.122124Z",
     "iopub.status.idle": "2020-08-09T04:28:28.342338Z",
     "shell.execute_reply": "2020-08-09T04:28:28.341759Z"
    },
    "papermill": {
     "duration": 0.312304,
     "end_time": "2020-08-09T04:28:28.342483",
     "exception": false,
     "start_time": "2020-08-09T04:28:28.030179",
     "status": "completed"
    },
    "tags": []
   },
   "outputs": [],
   "source": [
    "# change type of categorical columns to str\n",
    "train['country_code'] = train['country_code'].astype(str)\n",
    "train['attr_1'] = train['attr_1'].astype(str)\n",
    "train['attr_2'] = train['attr_2'].astype(str)\n",
    "train['attr_3'] = train['attr_3'].astype(str)\n",
    "\n",
    "test['country_code'] = test['country_code'].astype(str)\n",
    "test['attr_1'] = test['attr_1'].astype(str)\n",
    "test['attr_2'] = test['attr_2'].astype(str)\n",
    "test['attr_3'] = test['attr_3'].astype(str)"
   ]
  },
  {
   "cell_type": "markdown",
   "execution_count": null,
   "metadata": {
    "papermill": {
     "duration": 0.034323,
     "end_time": "2020-08-09T04:28:28.411541",
     "exception": false,
     "start_time": "2020-08-09T04:28:28.377218",
     "status": "completed"
    },
    "tags": []
   },
   "source": [
    "Also, since **'grass_date'** column consists of dates, let's change its type to **datetime**"
   ]
  },
  {
   "cell_type": "code",
   "execution_count": 11,
   "metadata": {
    "execution": {
     "iopub.execute_input": "2020-08-09T04:28:28.489728Z",
     "iopub.status.busy": "2020-08-09T04:28:28.489095Z",
     "iopub.status.idle": "2020-08-09T04:28:28.516855Z",
     "shell.execute_reply": "2020-08-09T04:28:28.516184Z"
    },
    "papermill": {
     "duration": 0.070046,
     "end_time": "2020-08-09T04:28:28.517001",
     "exception": false,
     "start_time": "2020-08-09T04:28:28.446955",
     "status": "completed"
    },
    "tags": []
   },
   "outputs": [],
   "source": [
    "import datetime as dt\n",
    "\n",
    "train['grass_date'] = pd.to_datetime(train['grass_date'])\n",
    "test['grass_date'] = pd.to_datetime(test['grass_date'])"
   ]
  },
  {
   "cell_type": "markdown",
   "execution_count": null,
   "metadata": {
    "papermill": {
     "duration": 0.034016,
     "end_time": "2020-08-09T04:28:28.585992",
     "exception": false,
     "start_time": "2020-08-09T04:28:28.551976",
     "status": "completed"
    },
    "tags": []
   },
   "source": [
    "**Compare visualizations of open_flag == 0 df and open_flag == 1 to understand the patterns**"
   ]
  },
  {
   "cell_type": "code",
   "execution_count": 12,
   "metadata": {
    "execution": {
     "iopub.execute_input": "2020-08-09T04:28:28.660068Z",
     "iopub.status.busy": "2020-08-09T04:28:28.659390Z",
     "iopub.status.idle": "2020-08-09T04:28:28.689863Z",
     "shell.execute_reply": "2020-08-09T04:28:28.689200Z"
    },
    "papermill": {
     "duration": 0.069879,
     "end_time": "2020-08-09T04:28:28.690012",
     "exception": false,
     "start_time": "2020-08-09T04:28:28.620133",
     "status": "completed"
    },
    "tags": []
   },
   "outputs": [],
   "source": [
    "train_flag0 = train[train['open_flag'] == 0]\n",
    "train_flag1 = train[train['open_flag'] == 1]"
   ]
  },
  {
   "cell_type": "markdown",
   "execution_count": null,
   "metadata": {
    "papermill": {
     "duration": 0.033868,
     "end_time": "2020-08-09T04:28:28.758245",
     "exception": false,
     "start_time": "2020-08-09T04:28:28.724377",
     "status": "completed"
    },
    "tags": []
   },
   "source": [
    "Country Code"
   ]
  },
  {
   "cell_type": "code",
   "execution_count": 13,
   "metadata": {
    "execution": {
     "iopub.execute_input": "2020-08-09T04:28:28.831112Z",
     "iopub.status.busy": "2020-08-09T04:28:28.830510Z",
     "iopub.status.idle": "2020-08-09T04:28:29.041059Z",
     "shell.execute_reply": "2020-08-09T04:28:29.040482Z"
    },
    "papermill": {
     "duration": 0.249011,
     "end_time": "2020-08-09T04:28:29.041188",
     "exception": false,
     "start_time": "2020-08-09T04:28:28.792177",
     "status": "completed"
    },
    "tags": []
   },
   "outputs": [
    {
     "data": {
      "text/plain": [
       "<matplotlib.axes._subplots.AxesSubplot at 0x7f0f30929190>"
      ]
     },
     "execution_count": 13,
     "metadata": {},
     "output_type": "execute_result"
    },
    {
     "data": {
      "image/png": "[encoded data removed]",
      "text/plain": [
       "<Figure size 432x288 with 1 Axes>"
      ]
     },
     "metadata": {
      "needs_background": "light"
     },
     "output_type": "display_data"
    }
   ],
   "source": [
    "train_flag1['country_code'].hist()"
   ]
  },
  {
   "cell_type": "code",
   "execution_count": 14,
   "metadata": {
    "execution": {
     "iopub.execute_input": "2020-08-09T04:28:29.120891Z",
     "iopub.status.busy": "2020-08-09T04:28:29.115970Z",
     "iopub.status.idle": "2020-08-09T04:28:29.342197Z",
     "shell.execute_reply": "2020-08-09T04:28:29.342687Z"
    },
    "papermill": {
     "duration": 0.267077,
     "end_time": "2020-08-09T04:28:29.342840",
     "exception": false,
     "start_time": "2020-08-09T04:28:29.075763",
     "status": "completed"
    },
    "tags": []
   },
   "outputs": [
    {
     "data": {
      "text/plain": [
       "<matplotlib.axes._subplots.AxesSubplot at 0x7f0f306fb490>"
      ]
     },
     "execution_count": 14,
     "metadata": {},
     "output_type": "execute_result"
    },
    {
     "data": {
      "image/png": "[encoded data removed]",
      "text/plain": [
       "<Figure size 432x288 with 1 Axes>"
      ]
     },
     "metadata": {
      "needs_background": "light"
     },
     "output_type": "display_data"
    }
   ],
   "source": [
    "train_flag0['country_code'].hist()"
   ]
  },
  {
   "cell_type": "markdown",
   "execution_count": null,
   "metadata": {
    "papermill": {
     "duration": 0.03424,
     "end_time": "2020-08-09T04:28:29.412119",
     "exception": false,
     "start_time": "2020-08-09T04:28:29.377879",
     "status": "completed"
    },
    "tags": []
   },
   "source": [
    "Grass Date"
   ]
  },
  {
   "cell_type": "code",
   "execution_count": 15,
   "metadata": {
    "execution": {
     "iopub.execute_input": "2020-08-09T04:28:29.488205Z",
     "iopub.status.busy": "2020-08-09T04:28:29.487220Z",
     "iopub.status.idle": "2020-08-09T04:28:29.493762Z",
     "shell.execute_reply": "2020-08-09T04:28:29.493173Z"
    },
    "papermill": {
     "duration": 0.047009,
     "end_time": "2020-08-09T04:28:29.493868",
     "exception": false,
     "start_time": "2020-08-09T04:28:29.446859",
     "status": "completed"
    },
    "tags": []
   },
   "outputs": [
    {
     "name": "stdout",
     "output_type": "stream",
     "text": [
      "2019-07-16 00:00:00+08:00 2019-09-02 00:00:00+08:00\n",
      "2019-09-03 00:00:00+08:00 2019-09-29 00:00:00+08:00\n"
     ]
    }
   ],
   "source": [
    "print(train['grass_date'].min(), train['grass_date'].max())\n",
    "print(test['grass_date'].min(), test['grass_date'].max())"
   ]
  },
  {
   "cell_type": "markdown",
   "execution_count": null,
   "metadata": {
    "papermill": {
     "duration": 0.035042,
     "end_time": "2020-08-09T04:28:29.564200",
     "exception": false,
     "start_time": "2020-08-09T04:28:29.529158",
     "status": "completed"
    },
    "tags": []
   },
   "source": [
    "Train and test **differ** in the range of date. \n",
    "\n",
    "Thus, we could just extract the **day of week** from the 'grass_date' column, \n",
    "\n",
    "make a **new column** 'day of week', then drop the 'grass_date' column from our features later."
   ]
  },
  {
   "cell_type": "markdown",
   "execution_count": null,
   "metadata": {
    "papermill": {
     "duration": 0.03419,
     "end_time": "2020-08-09T04:28:29.632939",
     "exception": false,
     "start_time": "2020-08-09T04:28:29.598749",
     "status": "completed"
    },
    "tags": []
   },
   "source": [
    "**New features: 'day_of_week', 'day_of_month'**"
   ]
  },
  {
   "cell_type": "code",
   "execution_count": 16,
   "metadata": {
    "execution": {
     "iopub.execute_input": "2020-08-09T04:28:29.708898Z",
     "iopub.status.busy": "2020-08-09T04:28:29.708276Z",
     "iopub.status.idle": "2020-08-09T04:28:29.791560Z",
     "shell.execute_reply": "2020-08-09T04:28:29.791028Z"
    },
    "papermill": {
     "duration": 0.12408,
     "end_time": "2020-08-09T04:28:29.791682",
     "exception": false,
     "start_time": "2020-08-09T04:28:29.667602",
     "status": "completed"
    },
    "tags": []
   },
   "outputs": [],
   "source": [
    "# add new column 'day_of_week'\n",
    "train['day_of_week'] = train['grass_date'].dt.day_name()\n",
    "test['day_of_week'] = test['grass_date'].dt.day_name()\n",
    "\n",
    "train['day_of_month'] = train['grass_date'].dt.day\n",
    "test['day_of_month'] = test['grass_date'].dt.day"
   ]
  },
  {
   "cell_type": "code",
   "execution_count": 17,
   "metadata": {
    "execution": {
     "iopub.execute_input": "2020-08-09T04:28:29.878240Z",
     "iopub.status.busy": "2020-08-09T04:28:29.877378Z",
     "iopub.status.idle": "2020-08-09T04:28:29.881257Z",
     "shell.execute_reply": "2020-08-09T04:28:29.880689Z"
    },
    "papermill": {
     "duration": 0.054744,
     "end_time": "2020-08-09T04:28:29.881366",
     "exception": false,
     "start_time": "2020-08-09T04:28:29.826622",
     "status": "completed"
    },
    "tags": []
   },
   "outputs": [
    {
     "data": {
      "text/plain": [
       "Monday       14499\n",
       "Tuesday      13595\n",
       "Thursday     11339\n",
       "Friday       10356\n",
       "Sunday        9854\n",
       "Wednesday     8357\n",
       "Saturday      5539\n",
       "Name: day_of_week, dtype: int64"
      ]
     },
     "execution_count": 17,
     "metadata": {},
     "output_type": "execute_result"
    }
   ],
   "source": [
    "train['day_of_week'].value_counts()"
   ]
  },
  {
   "cell_type": "markdown",
   "execution_count": null,
   "metadata": {
    "papermill": {
     "duration": 0.03447,
     "end_time": "2020-08-09T04:28:29.950527",
     "exception": false,
     "start_time": "2020-08-09T04:28:29.916057",
     "status": "completed"
    },
    "tags": []
   },
   "source": [
    "Subject Line Length"
   ]
  },
  {
   "cell_type": "code",
   "execution_count": 18,
   "metadata": {
    "execution": {
     "iopub.execute_input": "2020-08-09T04:28:30.025633Z",
     "iopub.status.busy": "2020-08-09T04:28:30.024760Z",
     "iopub.status.idle": "2020-08-09T04:28:30.029176Z",
     "shell.execute_reply": "2020-08-09T04:28:30.028679Z"
    },
    "papermill": {
     "duration": 0.044145,
     "end_time": "2020-08-09T04:28:30.029291",
     "exception": false,
     "start_time": "2020-08-09T04:28:29.985146",
     "status": "completed"
    },
    "tags": []
   },
   "outputs": [
    {
     "name": "stdout",
     "output_type": "stream",
     "text": [
      "10 79\n"
     ]
    }
   ],
   "source": [
    "print(train['subject_line_length'].min(), test['subject_line_length'].max())"
   ]
  },
  {
   "cell_type": "code",
   "execution_count": 19,
   "metadata": {
    "execution": {
     "iopub.execute_input": "2020-08-09T04:28:30.111605Z",
     "iopub.status.busy": "2020-08-09T04:28:30.110630Z",
     "iopub.status.idle": "2020-08-09T04:28:30.260828Z",
     "shell.execute_reply": "2020-08-09T04:28:30.261314Z"
    },
    "papermill": {
     "duration": 0.196153,
     "end_time": "2020-08-09T04:28:30.261478",
     "exception": false,
     "start_time": "2020-08-09T04:28:30.065325",
     "status": "completed"
    },
    "tags": []
   },
   "outputs": [
    {
     "data": {
      "text/plain": [
       "<matplotlib.axes._subplots.AxesSubplot at 0x7f0f2fe211d0>"
      ]
     },
     "execution_count": 19,
     "metadata": {},
     "output_type": "execute_result"
    },
    {
     "data": {
      "image/png": "[encoded data removed]",
      "text/plain": [
       "<Figure size 432x288 with 1 Axes>"
      ]
     },
     "metadata": {
      "needs_background": "light"
     },
     "output_type": "display_data"
    }
   ],
   "source": [
    "train_flag1['subject_line_length'].hist()"
   ]
  },
  {
   "cell_type": "code",
   "execution_count": 20,
   "metadata": {
    "execution": {
     "iopub.execute_input": "2020-08-09T04:28:30.345078Z",
     "iopub.status.busy": "2020-08-09T04:28:30.344404Z",
     "iopub.status.idle": "2020-08-09T04:28:30.495244Z",
     "shell.execute_reply": "2020-08-09T04:28:30.495680Z"
    },
    "papermill": {
     "duration": 0.197684,
     "end_time": "2020-08-09T04:28:30.495846",
     "exception": false,
     "start_time": "2020-08-09T04:28:30.298162",
     "status": "completed"
    },
    "tags": []
   },
   "outputs": [
    {
     "data": {
      "text/plain": [
       "<matplotlib.axes._subplots.AxesSubplot at 0x7f0f2fdace50>"
      ]
     },
     "execution_count": 20,
     "metadata": {},
     "output_type": "execute_result"
    },
    {
     "data": {
      "image/png": "[encoded data removed]",
      "text/plain": [
       "<Figure size 432x288 with 1 Axes>"
      ]
     },
     "metadata": {
      "needs_background": "light"
     },
     "output_type": "display_data"
    }
   ],
   "source": [
    "train_flag0['subject_line_length'].hist()"
   ]
  },
  {
   "cell_type": "markdown",
   "execution_count": null,
   "metadata": {
    "papermill": {
     "duration": 0.034961,
     "end_time": "2020-08-09T04:28:30.568545",
     "exception": false,
     "start_time": "2020-08-09T04:28:30.533584",
     "status": "completed"
    },
    "tags": []
   },
   "source": [
    "Last Open Day"
   ]
  },
  {
   "cell_type": "code",
   "execution_count": 21,
   "metadata": {
    "execution": {
     "iopub.execute_input": "2020-08-09T04:28:30.650658Z",
     "iopub.status.busy": "2020-08-09T04:28:30.649681Z",
     "iopub.status.idle": "2020-08-09T04:28:30.766500Z",
     "shell.execute_reply": "2020-08-09T04:28:30.766957Z"
    },
    "papermill": {
     "duration": 0.163506,
     "end_time": "2020-08-09T04:28:30.767116",
     "exception": false,
     "start_time": "2020-08-09T04:28:30.603610",
     "status": "completed"
    },
    "tags": []
   },
   "outputs": [
    {
     "name": "stdout",
     "output_type": "stream",
     "text": [
      "1 808\n",
      "1 812\n"
     ]
    }
   ],
   "source": [
    "last_open_day_train = train[train['last_open_day'] != 'Never open'].last_open_day.astype(int)\n",
    "last_open_day_test = test[test['last_open_day'] != 'Never open'].last_open_day.astype(int)\n",
    "print(last_open_day_train.min(), last_open_day_train.max())\n",
    "print(last_open_day_test.min(), last_open_day_test.max())"
   ]
  },
  {
   "cell_type": "code",
   "execution_count": 22,
   "metadata": {
    "execution": {
     "iopub.execute_input": "2020-08-09T04:28:30.849298Z",
     "iopub.status.busy": "2020-08-09T04:28:30.848353Z",
     "iopub.status.idle": "2020-08-09T04:28:30.888606Z",
     "shell.execute_reply": "2020-08-09T04:28:30.887991Z"
    },
    "papermill": {
     "duration": 0.084956,
     "end_time": "2020-08-09T04:28:30.888719",
     "exception": false,
     "start_time": "2020-08-09T04:28:30.803763",
     "status": "completed"
    },
    "tags": []
   },
   "outputs": [
    {
     "data": {
      "text/html": [
       "<div>\n",
       "<style scoped>\n",
       "    .dataframe tbody tr th:only-of-type {\n",
       "        vertical-align: middle;\n",
       "    }\n",
       "\n",
       "    .dataframe tbody tr th {\n",
       "        vertical-align: top;\n",
       "    }\n",
       "\n",
       "    .dataframe thead th {\n",
       "        text-align: right;\n",
       "    }\n",
       "</style>\n",
       "<table border=\"1\" class=\"dataframe\">\n",
       "  <thead>\n",
       "    <tr style=\"text-align: right;\">\n",
       "      <th></th>\n",
       "      <th>country_code</th>\n",
       "      <th>grass_date</th>\n",
       "      <th>user_id</th>\n",
       "      <th>subject_line_length</th>\n",
       "      <th>last_open_day</th>\n",
       "      <th>last_login_day</th>\n",
       "      <th>last_checkout_day</th>\n",
       "      <th>open_count_last_10_days</th>\n",
       "      <th>open_count_last_30_days</th>\n",
       "      <th>open_count_last_60_days</th>\n",
       "      <th>...</th>\n",
       "      <th>checkout_count_last_60_days</th>\n",
       "      <th>open_flag</th>\n",
       "      <th>row_id</th>\n",
       "      <th>attr_1</th>\n",
       "      <th>attr_2</th>\n",
       "      <th>attr_3</th>\n",
       "      <th>age</th>\n",
       "      <th>domain</th>\n",
       "      <th>day_of_week</th>\n",
       "      <th>day_of_month</th>\n",
       "    </tr>\n",
       "  </thead>\n",
       "  <tbody>\n",
       "    <tr>\n",
       "      <th>938</th>\n",
       "      <td>3</td>\n",
       "      <td>2019-07-16 00:00:00+08:00</td>\n",
       "      <td>51795</td>\n",
       "      <td>33</td>\n",
       "      <td>Never open</td>\n",
       "      <td>6</td>\n",
       "      <td>10</td>\n",
       "      <td>0</td>\n",
       "      <td>0</td>\n",
       "      <td>0</td>\n",
       "      <td>...</td>\n",
       "      <td>2</td>\n",
       "      <td>1</td>\n",
       "      <td>938</td>\n",
       "      <td>1.0</td>\n",
       "      <td>1.0</td>\n",
       "      <td>2.0</td>\n",
       "      <td>30.0</td>\n",
       "      <td>@gmail.com</td>\n",
       "      <td>Tuesday</td>\n",
       "      <td>16</td>\n",
       "    </tr>\n",
       "    <tr>\n",
       "      <th>1132</th>\n",
       "      <td>2</td>\n",
       "      <td>2019-07-16 00:00:00+08:00</td>\n",
       "      <td>62947</td>\n",
       "      <td>36</td>\n",
       "      <td>Never open</td>\n",
       "      <td>15</td>\n",
       "      <td>15</td>\n",
       "      <td>1</td>\n",
       "      <td>1</td>\n",
       "      <td>1</td>\n",
       "      <td>...</td>\n",
       "      <td>0</td>\n",
       "      <td>1</td>\n",
       "      <td>1132</td>\n",
       "      <td>nan</td>\n",
       "      <td>1.0</td>\n",
       "      <td>0.0</td>\n",
       "      <td>NaN</td>\n",
       "      <td>@yahoo.com</td>\n",
       "      <td>Tuesday</td>\n",
       "      <td>16</td>\n",
       "    </tr>\n",
       "    <tr>\n",
       "      <th>1292</th>\n",
       "      <td>1</td>\n",
       "      <td>2019-07-16 00:00:00+08:00</td>\n",
       "      <td>70161</td>\n",
       "      <td>58</td>\n",
       "      <td>Never open</td>\n",
       "      <td>353</td>\n",
       "      <td>Never checkout</td>\n",
       "      <td>0</td>\n",
       "      <td>0</td>\n",
       "      <td>0</td>\n",
       "      <td>...</td>\n",
       "      <td>0</td>\n",
       "      <td>1</td>\n",
       "      <td>1292</td>\n",
       "      <td>nan</td>\n",
       "      <td>1.0</td>\n",
       "      <td>0.0</td>\n",
       "      <td>NaN</td>\n",
       "      <td>@gmail.com</td>\n",
       "      <td>Tuesday</td>\n",
       "      <td>16</td>\n",
       "    </tr>\n",
       "    <tr>\n",
       "      <th>1364</th>\n",
       "      <td>2</td>\n",
       "      <td>2019-07-16 00:00:00+08:00</td>\n",
       "      <td>73241</td>\n",
       "      <td>43</td>\n",
       "      <td>Never open</td>\n",
       "      <td>224</td>\n",
       "      <td>278</td>\n",
       "      <td>0</td>\n",
       "      <td>0</td>\n",
       "      <td>0</td>\n",
       "      <td>...</td>\n",
       "      <td>0</td>\n",
       "      <td>1</td>\n",
       "      <td>1364</td>\n",
       "      <td>nan</td>\n",
       "      <td>1.0</td>\n",
       "      <td>0.0</td>\n",
       "      <td>NaN</td>\n",
       "      <td>@gmail.com</td>\n",
       "      <td>Tuesday</td>\n",
       "      <td>16</td>\n",
       "    </tr>\n",
       "    <tr>\n",
       "      <th>1487</th>\n",
       "      <td>2</td>\n",
       "      <td>2019-07-16 00:00:00+08:00</td>\n",
       "      <td>78561</td>\n",
       "      <td>48</td>\n",
       "      <td>Never open</td>\n",
       "      <td>1</td>\n",
       "      <td>6</td>\n",
       "      <td>0</td>\n",
       "      <td>0</td>\n",
       "      <td>0</td>\n",
       "      <td>...</td>\n",
       "      <td>8</td>\n",
       "      <td>1</td>\n",
       "      <td>1487</td>\n",
       "      <td>1.0</td>\n",
       "      <td>1.0</td>\n",
       "      <td>2.0</td>\n",
       "      <td>30.0</td>\n",
       "      <td>@gmail.com</td>\n",
       "      <td>Tuesday</td>\n",
       "      <td>16</td>\n",
       "    </tr>\n",
       "    <tr>\n",
       "      <th>...</th>\n",
       "      <td>...</td>\n",
       "      <td>...</td>\n",
       "      <td>...</td>\n",
       "      <td>...</td>\n",
       "      <td>...</td>\n",
       "      <td>...</td>\n",
       "      <td>...</td>\n",
       "      <td>...</td>\n",
       "      <td>...</td>\n",
       "      <td>...</td>\n",
       "      <td>...</td>\n",
       "      <td>...</td>\n",
       "      <td>...</td>\n",
       "      <td>...</td>\n",
       "      <td>...</td>\n",
       "      <td>...</td>\n",
       "      <td>...</td>\n",
       "      <td>...</td>\n",
       "      <td>...</td>\n",
       "      <td>...</td>\n",
       "      <td>...</td>\n",
       "    </tr>\n",
       "    <tr>\n",
       "      <th>73228</th>\n",
       "      <td>1</td>\n",
       "      <td>2019-09-02 00:00:00+08:00</td>\n",
       "      <td>120340</td>\n",
       "      <td>33</td>\n",
       "      <td>Never open</td>\n",
       "      <td>27</td>\n",
       "      <td>Never checkout</td>\n",
       "      <td>2</td>\n",
       "      <td>2</td>\n",
       "      <td>2</td>\n",
       "      <td>...</td>\n",
       "      <td>0</td>\n",
       "      <td>1</td>\n",
       "      <td>73228</td>\n",
       "      <td>nan</td>\n",
       "      <td>1.0</td>\n",
       "      <td>0.0</td>\n",
       "      <td>NaN</td>\n",
       "      <td>@gmail.com</td>\n",
       "      <td>Monday</td>\n",
       "      <td>2</td>\n",
       "    </tr>\n",
       "    <tr>\n",
       "      <th>73280</th>\n",
       "      <td>2</td>\n",
       "      <td>2019-09-02 00:00:00+08:00</td>\n",
       "      <td>121064</td>\n",
       "      <td>38</td>\n",
       "      <td>Never open</td>\n",
       "      <td>26</td>\n",
       "      <td>Never checkout</td>\n",
       "      <td>0</td>\n",
       "      <td>0</td>\n",
       "      <td>0</td>\n",
       "      <td>...</td>\n",
       "      <td>0</td>\n",
       "      <td>1</td>\n",
       "      <td>73280</td>\n",
       "      <td>nan</td>\n",
       "      <td>1.0</td>\n",
       "      <td>0.0</td>\n",
       "      <td>NaN</td>\n",
       "      <td>@gmail.com</td>\n",
       "      <td>Monday</td>\n",
       "      <td>2</td>\n",
       "    </tr>\n",
       "    <tr>\n",
       "      <th>73370</th>\n",
       "      <td>2</td>\n",
       "      <td>2019-09-02 00:00:00+08:00</td>\n",
       "      <td>122243</td>\n",
       "      <td>38</td>\n",
       "      <td>Never open</td>\n",
       "      <td>1</td>\n",
       "      <td>14</td>\n",
       "      <td>0</td>\n",
       "      <td>0</td>\n",
       "      <td>0</td>\n",
       "      <td>...</td>\n",
       "      <td>13</td>\n",
       "      <td>1</td>\n",
       "      <td>73370</td>\n",
       "      <td>1.0</td>\n",
       "      <td>1.0</td>\n",
       "      <td>2.0</td>\n",
       "      <td>19.0</td>\n",
       "      <td>@gmail.com</td>\n",
       "      <td>Monday</td>\n",
       "      <td>2</td>\n",
       "    </tr>\n",
       "    <tr>\n",
       "      <th>73448</th>\n",
       "      <td>6</td>\n",
       "      <td>2019-09-02 00:00:00+08:00</td>\n",
       "      <td>123232</td>\n",
       "      <td>39</td>\n",
       "      <td>Never open</td>\n",
       "      <td>1</td>\n",
       "      <td>10</td>\n",
       "      <td>0</td>\n",
       "      <td>0</td>\n",
       "      <td>0</td>\n",
       "      <td>...</td>\n",
       "      <td>4</td>\n",
       "      <td>1</td>\n",
       "      <td>73448</td>\n",
       "      <td>1.0</td>\n",
       "      <td>1.0</td>\n",
       "      <td>2.0</td>\n",
       "      <td>23.0</td>\n",
       "      <td>@gmail.com</td>\n",
       "      <td>Monday</td>\n",
       "      <td>2</td>\n",
       "    </tr>\n",
       "    <tr>\n",
       "      <th>73451</th>\n",
       "      <td>1</td>\n",
       "      <td>2019-09-02 00:00:00+08:00</td>\n",
       "      <td>123249</td>\n",
       "      <td>33</td>\n",
       "      <td>Never open</td>\n",
       "      <td>3</td>\n",
       "      <td>Never checkout</td>\n",
       "      <td>1</td>\n",
       "      <td>1</td>\n",
       "      <td>1</td>\n",
       "      <td>...</td>\n",
       "      <td>0</td>\n",
       "      <td>1</td>\n",
       "      <td>73451</td>\n",
       "      <td>nan</td>\n",
       "      <td>1.0</td>\n",
       "      <td>0.0</td>\n",
       "      <td>NaN</td>\n",
       "      <td>@gmail.com</td>\n",
       "      <td>Monday</td>\n",
       "      <td>2</td>\n",
       "    </tr>\n",
       "  </tbody>\n",
       "</table>\n",
       "<p>463 rows × 25 columns</p>\n",
       "</div>"
      ],
      "text/plain": [
       "      country_code                grass_date  user_id  subject_line_length  \\\n",
       "938              3 2019-07-16 00:00:00+08:00    51795                   33   \n",
       "1132             2 2019-07-16 00:00:00+08:00    62947                   36   \n",
       "1292             1 2019-07-16 00:00:00+08:00    70161                   58   \n",
       "1364             2 2019-07-16 00:00:00+08:00    73241                   43   \n",
       "1487             2 2019-07-16 00:00:00+08:00    78561                   48   \n",
       "...            ...                       ...      ...                  ...   \n",
       "73228            1 2019-09-02 00:00:00+08:00   120340                   33   \n",
       "73280            2 2019-09-02 00:00:00+08:00   121064                   38   \n",
       "73370            2 2019-09-02 00:00:00+08:00   122243                   38   \n",
       "73448            6 2019-09-02 00:00:00+08:00   123232                   39   \n",
       "73451            1 2019-09-02 00:00:00+08:00   123249                   33   \n",
       "\n",
       "      last_open_day last_login_day last_checkout_day  open_count_last_10_days  \\\n",
       "938      Never open              6                10                        0   \n",
       "1132     Never open             15                15                        1   \n",
       "1292     Never open            353    Never checkout                        0   \n",
       "1364     Never open            224               278                        0   \n",
       "1487     Never open              1                 6                        0   \n",
       "...             ...            ...               ...                      ...   \n",
       "73228    Never open             27    Never checkout                        2   \n",
       "73280    Never open             26    Never checkout                        0   \n",
       "73370    Never open              1                14                        0   \n",
       "73448    Never open              1                10                        0   \n",
       "73451    Never open              3    Never checkout                        1   \n",
       "\n",
       "       open_count_last_30_days  open_count_last_60_days  ...  \\\n",
       "938                          0                        0  ...   \n",
       "1132                         1                        1  ...   \n",
       "1292                         0                        0  ...   \n",
       "1364                         0                        0  ...   \n",
       "1487                         0                        0  ...   \n",
       "...                        ...                      ...  ...   \n",
       "73228                        2                        2  ...   \n",
       "73280                        0                        0  ...   \n",
       "73370                        0                        0  ...   \n",
       "73448                        0                        0  ...   \n",
       "73451                        1                        1  ...   \n",
       "\n",
       "       checkout_count_last_60_days  open_flag  row_id  attr_1  attr_2  attr_3  \\\n",
       "938                              2          1     938     1.0     1.0     2.0   \n",
       "1132                             0          1    1132     nan     1.0     0.0   \n",
       "1292                             0          1    1292     nan     1.0     0.0   \n",
       "1364                             0          1    1364     nan     1.0     0.0   \n",
       "1487                             8          1    1487     1.0     1.0     2.0   \n",
       "...                            ...        ...     ...     ...     ...     ...   \n",
       "73228                            0          1   73228     nan     1.0     0.0   \n",
       "73280                            0          1   73280     nan     1.0     0.0   \n",
       "73370                           13          1   73370     1.0     1.0     2.0   \n",
       "73448                            4          1   73448     1.0     1.0     2.0   \n",
       "73451                            0          1   73451     nan     1.0     0.0   \n",
       "\n",
       "        age      domain day_of_week day_of_month  \n",
       "938    30.0  @gmail.com     Tuesday           16  \n",
       "1132    NaN  @yahoo.com     Tuesday           16  \n",
       "1292    NaN  @gmail.com     Tuesday           16  \n",
       "1364    NaN  @gmail.com     Tuesday           16  \n",
       "1487   30.0  @gmail.com     Tuesday           16  \n",
       "...     ...         ...         ...          ...  \n",
       "73228   NaN  @gmail.com      Monday            2  \n",
       "73280   NaN  @gmail.com      Monday            2  \n",
       "73370  19.0  @gmail.com      Monday            2  \n",
       "73448  23.0  @gmail.com      Monday            2  \n",
       "73451   NaN  @gmail.com      Monday            2  \n",
       "\n",
       "[463 rows x 25 columns]"
      ]
     },
     "execution_count": 22,
     "metadata": {},
     "output_type": "execute_result"
    }
   ],
   "source": [
    "train[(train['last_open_day'] == 'Never open') & (train['open_flag'] == 1)]"
   ]
  },
  {
   "cell_type": "code",
   "execution_count": 23,
   "metadata": {
    "execution": {
     "iopub.execute_input": "2020-08-09T04:28:30.972278Z",
     "iopub.status.busy": "2020-08-09T04:28:30.971561Z",
     "iopub.status.idle": "2020-08-09T04:28:31.009763Z",
     "shell.execute_reply": "2020-08-09T04:28:31.010250Z"
    },
    "papermill": {
     "duration": 0.085185,
     "end_time": "2020-08-09T04:28:31.010414",
     "exception": false,
     "start_time": "2020-08-09T04:28:30.925229",
     "status": "completed"
    },
    "tags": []
   },
   "outputs": [],
   "source": [
    "train_temp1 = train[(train['last_open_day'] != 'Never open') & (train['open_flag'] == 1)]\n",
    "train_temp0 = train[(train['last_open_day'] != 'Never open') & (train['open_flag'] == 0)]\n",
    "train_temp1['last_open_day'] = train_temp1['last_open_day'].astype(int)\n",
    "train_temp0['last_open_day'] = train_temp0['last_open_day'].astype(int)"
   ]
  },
  {
   "cell_type": "code",
   "execution_count": 24,
   "metadata": {
    "execution": {
     "iopub.execute_input": "2020-08-09T04:28:31.093777Z",
     "iopub.status.busy": "2020-08-09T04:28:31.093158Z",
     "iopub.status.idle": "2020-08-09T04:28:31.240328Z",
     "shell.execute_reply": "2020-08-09T04:28:31.239784Z"
    },
    "papermill": {
     "duration": 0.193219,
     "end_time": "2020-08-09T04:28:31.240445",
     "exception": false,
     "start_time": "2020-08-09T04:28:31.047226",
     "status": "completed"
    },
    "tags": []
   },
   "outputs": [
    {
     "data": {
      "text/plain": [
       "<matplotlib.axes._subplots.AxesSubplot at 0x7f0f2fd3b990>"
      ]
     },
     "execution_count": 24,
     "metadata": {},
     "output_type": "execute_result"
    },
    {
     "data": {
      "image/png": "[encoded data removed]",
      "text/plain": [
       "<Figure size 432x288 with 1 Axes>"
      ]
     },
     "metadata": {
      "needs_background": "light"
     },
     "output_type": "display_data"
    }
   ],
   "source": [
    "train_temp1['last_open_day'].hist()"
   ]
  },
  {
   "cell_type": "code",
   "execution_count": 25,
   "metadata": {
    "execution": {
     "iopub.execute_input": "2020-08-09T04:28:31.320995Z",
     "iopub.status.busy": "2020-08-09T04:28:31.319948Z",
     "iopub.status.idle": "2020-08-09T04:28:31.473798Z",
     "shell.execute_reply": "2020-08-09T04:28:31.473205Z"
    },
    "papermill": {
     "duration": 0.196102,
     "end_time": "2020-08-09T04:28:31.473939",
     "exception": false,
     "start_time": "2020-08-09T04:28:31.277837",
     "status": "completed"
    },
    "tags": []
   },
   "outputs": [
    {
     "data": {
      "text/plain": [
       "<matplotlib.axes._subplots.AxesSubplot at 0x7f0f2fc580d0>"
      ]
     },
     "execution_count": 25,
     "metadata": {},
     "output_type": "execute_result"
    },
    {
     "data": {
      "image/png": "[encoded data removed]",
      "text/plain": [
       "<Figure size 432x288 with 1 Axes>"
      ]
     },
     "metadata": {
      "needs_background": "light"
     },
     "output_type": "display_data"
    }
   ],
   "source": [
    "train_temp1 = train_temp1[(train_temp1['last_open_day'] < 300)]\n",
    "train_temp1['last_open_day'].hist()"
   ]
  },
  {
   "cell_type": "code",
   "execution_count": 26,
   "metadata": {
    "execution": {
     "iopub.execute_input": "2020-08-09T04:28:31.564545Z",
     "iopub.status.busy": "2020-08-09T04:28:31.563565Z",
     "iopub.status.idle": "2020-08-09T04:28:31.737078Z",
     "shell.execute_reply": "2020-08-09T04:28:31.736442Z"
    },
    "papermill": {
     "duration": 0.226461,
     "end_time": "2020-08-09T04:28:31.737199",
     "exception": false,
     "start_time": "2020-08-09T04:28:31.510738",
     "status": "completed"
    },
    "tags": []
   },
   "outputs": [
    {
     "data": {
      "text/plain": [
       "<matplotlib.axes._subplots.AxesSubplot at 0x7f0f2fc35e50>"
      ]
     },
     "execution_count": 26,
     "metadata": {},
     "output_type": "execute_result"
    },
    {
     "data": {
      "image/png": "[encoded data removed]",
      "text/plain": [
       "<Figure size 432x288 with 1 Axes>"
      ]
     },
     "metadata": {
      "needs_background": "light"
     },
     "output_type": "display_data"
    }
   ],
   "source": [
    "train_temp0['last_open_day'].hist()"
   ]
  },
  {
   "cell_type": "code",
   "execution_count": 27,
   "metadata": {
    "execution": {
     "iopub.execute_input": "2020-08-09T04:28:31.816164Z",
     "iopub.status.busy": "2020-08-09T04:28:31.815419Z",
     "iopub.status.idle": "2020-08-09T04:28:31.984216Z",
     "shell.execute_reply": "2020-08-09T04:28:31.983589Z"
    },
    "papermill": {
     "duration": 0.210022,
     "end_time": "2020-08-09T04:28:31.984334",
     "exception": false,
     "start_time": "2020-08-09T04:28:31.774312",
     "status": "completed"
    },
    "tags": []
   },
   "outputs": [
    {
     "data": {
      "text/plain": [
       "<matplotlib.axes._subplots.AxesSubplot at 0x7f0f2fb67c90>"
      ]
     },
     "execution_count": 27,
     "metadata": {},
     "output_type": "execute_result"
    },
    {
     "data": {
      "image/png": "[encoded data removed]",
      "text/plain": [
       "<Figure size 432x288 with 1 Axes>"
      ]
     },
     "metadata": {
      "needs_background": "light"
     },
     "output_type": "display_data"
    }
   ],
   "source": [
    "train_temp0[(train_temp0['last_open_day'] < 500)]['last_open_day'].hist()"
   ]
  },
  {
   "cell_type": "code",
   "execution_count": 28,
   "metadata": {
    "execution": {
     "iopub.execute_input": "2020-08-09T04:28:32.074061Z",
     "iopub.status.busy": "2020-08-09T04:28:32.072987Z",
     "iopub.status.idle": "2020-08-09T04:28:32.121095Z",
     "shell.execute_reply": "2020-08-09T04:28:32.120536Z"
    },
    "papermill": {
     "duration": 0.099644,
     "end_time": "2020-08-09T04:28:32.121220",
     "exception": false,
     "start_time": "2020-08-09T04:28:32.021576",
     "status": "completed"
    },
    "tags": []
   },
   "outputs": [
    {
     "data": {
      "text/html": [
       "<div>\n",
       "<style scoped>\n",
       "    .dataframe tbody tr th:only-of-type {\n",
       "        vertical-align: middle;\n",
       "    }\n",
       "\n",
       "    .dataframe tbody tr th {\n",
       "        vertical-align: top;\n",
       "    }\n",
       "\n",
       "    .dataframe thead th {\n",
       "        text-align: right;\n",
       "    }\n",
       "</style>\n",
       "<table border=\"1\" class=\"dataframe\">\n",
       "  <thead>\n",
       "    <tr style=\"text-align: right;\">\n",
       "      <th></th>\n",
       "      <th>country_code</th>\n",
       "      <th>grass_date</th>\n",
       "      <th>user_id</th>\n",
       "      <th>subject_line_length</th>\n",
       "      <th>last_open_day</th>\n",
       "      <th>last_login_day</th>\n",
       "      <th>last_checkout_day</th>\n",
       "      <th>open_count_last_10_days</th>\n",
       "      <th>open_count_last_30_days</th>\n",
       "      <th>open_count_last_60_days</th>\n",
       "      <th>...</th>\n",
       "      <th>checkout_count_last_30_days</th>\n",
       "      <th>checkout_count_last_60_days</th>\n",
       "      <th>row_id</th>\n",
       "      <th>attr_1</th>\n",
       "      <th>attr_2</th>\n",
       "      <th>attr_3</th>\n",
       "      <th>age</th>\n",
       "      <th>domain</th>\n",
       "      <th>day_of_week</th>\n",
       "      <th>day_of_month</th>\n",
       "    </tr>\n",
       "  </thead>\n",
       "  <tbody>\n",
       "    <tr>\n",
       "      <th>15</th>\n",
       "      <td>5</td>\n",
       "      <td>2019-09-03 00:00:00+08:00</td>\n",
       "      <td>571</td>\n",
       "      <td>25</td>\n",
       "      <td>Never open</td>\n",
       "      <td>6</td>\n",
       "      <td>13</td>\n",
       "      <td>0</td>\n",
       "      <td>0</td>\n",
       "      <td>0</td>\n",
       "      <td>...</td>\n",
       "      <td>2</td>\n",
       "      <td>11</td>\n",
       "      <td>15</td>\n",
       "      <td>1.0</td>\n",
       "      <td>1.0</td>\n",
       "      <td>2.0</td>\n",
       "      <td>32.0</td>\n",
       "      <td>@yahoo.com</td>\n",
       "      <td>Tuesday</td>\n",
       "      <td>3</td>\n",
       "    </tr>\n",
       "    <tr>\n",
       "      <th>65</th>\n",
       "      <td>5</td>\n",
       "      <td>2019-09-03 00:00:00+08:00</td>\n",
       "      <td>2034</td>\n",
       "      <td>25</td>\n",
       "      <td>Never open</td>\n",
       "      <td>5</td>\n",
       "      <td>33</td>\n",
       "      <td>0</td>\n",
       "      <td>0</td>\n",
       "      <td>0</td>\n",
       "      <td>...</td>\n",
       "      <td>0</td>\n",
       "      <td>2</td>\n",
       "      <td>65</td>\n",
       "      <td>1.0</td>\n",
       "      <td>1.0</td>\n",
       "      <td>2.0</td>\n",
       "      <td>49.0</td>\n",
       "      <td>@yahoo.com</td>\n",
       "      <td>Tuesday</td>\n",
       "      <td>3</td>\n",
       "    </tr>\n",
       "    <tr>\n",
       "      <th>177</th>\n",
       "      <td>5</td>\n",
       "      <td>2019-09-03 00:00:00+08:00</td>\n",
       "      <td>4831</td>\n",
       "      <td>25</td>\n",
       "      <td>Never open</td>\n",
       "      <td>24</td>\n",
       "      <td>28</td>\n",
       "      <td>0</td>\n",
       "      <td>0</td>\n",
       "      <td>0</td>\n",
       "      <td>...</td>\n",
       "      <td>3</td>\n",
       "      <td>5</td>\n",
       "      <td>177</td>\n",
       "      <td>1.0</td>\n",
       "      <td>1.0</td>\n",
       "      <td>1.0</td>\n",
       "      <td>33.0</td>\n",
       "      <td>@gmail.com</td>\n",
       "      <td>Tuesday</td>\n",
       "      <td>3</td>\n",
       "    </tr>\n",
       "    <tr>\n",
       "      <th>222</th>\n",
       "      <td>5</td>\n",
       "      <td>2019-09-03 00:00:00+08:00</td>\n",
       "      <td>5758</td>\n",
       "      <td>25</td>\n",
       "      <td>Never open</td>\n",
       "      <td>67</td>\n",
       "      <td>73</td>\n",
       "      <td>0</td>\n",
       "      <td>0</td>\n",
       "      <td>0</td>\n",
       "      <td>...</td>\n",
       "      <td>0</td>\n",
       "      <td>0</td>\n",
       "      <td>222</td>\n",
       "      <td>1.0</td>\n",
       "      <td>1.0</td>\n",
       "      <td>2.0</td>\n",
       "      <td>32.0</td>\n",
       "      <td>@yahoo.com</td>\n",
       "      <td>Tuesday</td>\n",
       "      <td>3</td>\n",
       "    </tr>\n",
       "    <tr>\n",
       "      <th>230</th>\n",
       "      <td>5</td>\n",
       "      <td>2019-09-03 00:00:00+08:00</td>\n",
       "      <td>5923</td>\n",
       "      <td>25</td>\n",
       "      <td>Never open</td>\n",
       "      <td>17</td>\n",
       "      <td>165</td>\n",
       "      <td>0</td>\n",
       "      <td>0</td>\n",
       "      <td>0</td>\n",
       "      <td>...</td>\n",
       "      <td>0</td>\n",
       "      <td>0</td>\n",
       "      <td>230</td>\n",
       "      <td>1.0</td>\n",
       "      <td>1.0</td>\n",
       "      <td>1.0</td>\n",
       "      <td>29.0</td>\n",
       "      <td>@yahoo.com</td>\n",
       "      <td>Tuesday</td>\n",
       "      <td>3</td>\n",
       "    </tr>\n",
       "    <tr>\n",
       "      <th>...</th>\n",
       "      <td>...</td>\n",
       "      <td>...</td>\n",
       "      <td>...</td>\n",
       "      <td>...</td>\n",
       "      <td>...</td>\n",
       "      <td>...</td>\n",
       "      <td>...</td>\n",
       "      <td>...</td>\n",
       "      <td>...</td>\n",
       "      <td>...</td>\n",
       "      <td>...</td>\n",
       "      <td>...</td>\n",
       "      <td>...</td>\n",
       "      <td>...</td>\n",
       "      <td>...</td>\n",
       "      <td>...</td>\n",
       "      <td>...</td>\n",
       "      <td>...</td>\n",
       "      <td>...</td>\n",
       "      <td>...</td>\n",
       "      <td>...</td>\n",
       "    </tr>\n",
       "    <tr>\n",
       "      <th>55954</th>\n",
       "      <td>6</td>\n",
       "      <td>2019-09-29 00:00:00+08:00</td>\n",
       "      <td>126527</td>\n",
       "      <td>41</td>\n",
       "      <td>Never open</td>\n",
       "      <td>Never login</td>\n",
       "      <td>Never checkout</td>\n",
       "      <td>1</td>\n",
       "      <td>1</td>\n",
       "      <td>1</td>\n",
       "      <td>...</td>\n",
       "      <td>0</td>\n",
       "      <td>0</td>\n",
       "      <td>55954</td>\n",
       "      <td>nan</td>\n",
       "      <td>nan</td>\n",
       "      <td>0.0</td>\n",
       "      <td>NaN</td>\n",
       "      <td>other</td>\n",
       "      <td>Sunday</td>\n",
       "      <td>29</td>\n",
       "    </tr>\n",
       "    <tr>\n",
       "      <th>55957</th>\n",
       "      <td>6</td>\n",
       "      <td>2019-09-29 00:00:00+08:00</td>\n",
       "      <td>126911</td>\n",
       "      <td>41</td>\n",
       "      <td>Never open</td>\n",
       "      <td>Never login</td>\n",
       "      <td>Never checkout</td>\n",
       "      <td>0</td>\n",
       "      <td>0</td>\n",
       "      <td>0</td>\n",
       "      <td>...</td>\n",
       "      <td>0</td>\n",
       "      <td>0</td>\n",
       "      <td>55957</td>\n",
       "      <td>nan</td>\n",
       "      <td>nan</td>\n",
       "      <td>0.0</td>\n",
       "      <td>NaN</td>\n",
       "      <td>@qq.com</td>\n",
       "      <td>Sunday</td>\n",
       "      <td>29</td>\n",
       "    </tr>\n",
       "    <tr>\n",
       "      <th>55961</th>\n",
       "      <td>6</td>\n",
       "      <td>2019-09-29 00:00:00+08:00</td>\n",
       "      <td>127278</td>\n",
       "      <td>43</td>\n",
       "      <td>Never open</td>\n",
       "      <td>27</td>\n",
       "      <td>Never checkout</td>\n",
       "      <td>0</td>\n",
       "      <td>0</td>\n",
       "      <td>0</td>\n",
       "      <td>...</td>\n",
       "      <td>0</td>\n",
       "      <td>0</td>\n",
       "      <td>55961</td>\n",
       "      <td>nan</td>\n",
       "      <td>1.0</td>\n",
       "      <td>0.0</td>\n",
       "      <td>NaN</td>\n",
       "      <td>@gmail.com</td>\n",
       "      <td>Sunday</td>\n",
       "      <td>29</td>\n",
       "    </tr>\n",
       "    <tr>\n",
       "      <th>55965</th>\n",
       "      <td>6</td>\n",
       "      <td>2019-09-29 00:00:00+08:00</td>\n",
       "      <td>127348</td>\n",
       "      <td>53</td>\n",
       "      <td>Never open</td>\n",
       "      <td>4</td>\n",
       "      <td>8</td>\n",
       "      <td>0</td>\n",
       "      <td>0</td>\n",
       "      <td>0</td>\n",
       "      <td>...</td>\n",
       "      <td>0</td>\n",
       "      <td>0</td>\n",
       "      <td>55965</td>\n",
       "      <td>nan</td>\n",
       "      <td>1.0</td>\n",
       "      <td>0.0</td>\n",
       "      <td>NaN</td>\n",
       "      <td>@gmail.com</td>\n",
       "      <td>Sunday</td>\n",
       "      <td>29</td>\n",
       "    </tr>\n",
       "    <tr>\n",
       "      <th>55967</th>\n",
       "      <td>6</td>\n",
       "      <td>2019-09-29 00:00:00+08:00</td>\n",
       "      <td>127574</td>\n",
       "      <td>43</td>\n",
       "      <td>Never open</td>\n",
       "      <td>7</td>\n",
       "      <td>Never checkout</td>\n",
       "      <td>0</td>\n",
       "      <td>0</td>\n",
       "      <td>0</td>\n",
       "      <td>...</td>\n",
       "      <td>0</td>\n",
       "      <td>0</td>\n",
       "      <td>55967</td>\n",
       "      <td>nan</td>\n",
       "      <td>1.0</td>\n",
       "      <td>0.0</td>\n",
       "      <td>NaN</td>\n",
       "      <td>@hotmail.com</td>\n",
       "      <td>Sunday</td>\n",
       "      <td>29</td>\n",
       "    </tr>\n",
       "  </tbody>\n",
       "</table>\n",
       "<p>7589 rows × 24 columns</p>\n",
       "</div>"
      ],
      "text/plain": [
       "      country_code                grass_date  user_id  subject_line_length  \\\n",
       "15               5 2019-09-03 00:00:00+08:00      571                   25   \n",
       "65               5 2019-09-03 00:00:00+08:00     2034                   25   \n",
       "177              5 2019-09-03 00:00:00+08:00     4831                   25   \n",
       "222              5 2019-09-03 00:00:00+08:00     5758                   25   \n",
       "230              5 2019-09-03 00:00:00+08:00     5923                   25   \n",
       "...            ...                       ...      ...                  ...   \n",
       "55954            6 2019-09-29 00:00:00+08:00   126527                   41   \n",
       "55957            6 2019-09-29 00:00:00+08:00   126911                   41   \n",
       "55961            6 2019-09-29 00:00:00+08:00   127278                   43   \n",
       "55965            6 2019-09-29 00:00:00+08:00   127348                   53   \n",
       "55967            6 2019-09-29 00:00:00+08:00   127574                   43   \n",
       "\n",
       "      last_open_day last_login_day last_checkout_day  open_count_last_10_days  \\\n",
       "15       Never open              6                13                        0   \n",
       "65       Never open              5                33                        0   \n",
       "177      Never open             24                28                        0   \n",
       "222      Never open             67                73                        0   \n",
       "230      Never open             17               165                        0   \n",
       "...             ...            ...               ...                      ...   \n",
       "55954    Never open    Never login    Never checkout                        1   \n",
       "55957    Never open    Never login    Never checkout                        0   \n",
       "55961    Never open             27    Never checkout                        0   \n",
       "55965    Never open              4                 8                        0   \n",
       "55967    Never open              7    Never checkout                        0   \n",
       "\n",
       "       open_count_last_30_days  open_count_last_60_days  ...  \\\n",
       "15                           0                        0  ...   \n",
       "65                           0                        0  ...   \n",
       "177                          0                        0  ...   \n",
       "222                          0                        0  ...   \n",
       "230                          0                        0  ...   \n",
       "...                        ...                      ...  ...   \n",
       "55954                        1                        1  ...   \n",
       "55957                        0                        0  ...   \n",
       "55961                        0                        0  ...   \n",
       "55965                        0                        0  ...   \n",
       "55967                        0                        0  ...   \n",
       "\n",
       "       checkout_count_last_30_days  checkout_count_last_60_days  row_id  \\\n",
       "15                               2                           11      15   \n",
       "65                               0                            2      65   \n",
       "177                              3                            5     177   \n",
       "222                              0                            0     222   \n",
       "230                              0                            0     230   \n",
       "...                            ...                          ...     ...   \n",
       "55954                            0                            0   55954   \n",
       "55957                            0                            0   55957   \n",
       "55961                            0                            0   55961   \n",
       "55965                            0                            0   55965   \n",
       "55967                            0                            0   55967   \n",
       "\n",
       "       attr_1  attr_2  attr_3   age        domain day_of_week day_of_month  \n",
       "15        1.0     1.0     2.0  32.0    @yahoo.com     Tuesday            3  \n",
       "65        1.0     1.0     2.0  49.0    @yahoo.com     Tuesday            3  \n",
       "177       1.0     1.0     1.0  33.0    @gmail.com     Tuesday            3  \n",
       "222       1.0     1.0     2.0  32.0    @yahoo.com     Tuesday            3  \n",
       "230       1.0     1.0     1.0  29.0    @yahoo.com     Tuesday            3  \n",
       "...       ...     ...     ...   ...           ...         ...          ...  \n",
       "55954     nan     nan     0.0   NaN         other      Sunday           29  \n",
       "55957     nan     nan     0.0   NaN       @qq.com      Sunday           29  \n",
       "55961     nan     1.0     0.0   NaN    @gmail.com      Sunday           29  \n",
       "55965     nan     1.0     0.0   NaN    @gmail.com      Sunday           29  \n",
       "55967     nan     1.0     0.0   NaN  @hotmail.com      Sunday           29  \n",
       "\n",
       "[7589 rows x 24 columns]"
      ]
     },
     "execution_count": 28,
     "metadata": {},
     "output_type": "execute_result"
    }
   ],
   "source": [
    "test[(test['last_open_day'] == 'Never open')]"
   ]
  },
  {
   "cell_type": "markdown",
   "execution_count": null,
   "metadata": {
    "papermill": {
     "duration": 0.037251,
     "end_time": "2020-08-09T04:28:32.196070",
     "exception": false,
     "start_time": "2020-08-09T04:28:32.158819",
     "status": "completed"
    },
    "tags": []
   },
   "source": [
    "Last Login Day"
   ]
  },
  {
   "cell_type": "code",
   "execution_count": 29,
   "metadata": {
    "execution": {
     "iopub.execute_input": "2020-08-09T04:28:32.282011Z",
     "iopub.status.busy": "2020-08-09T04:28:32.281334Z",
     "iopub.status.idle": "2020-08-09T04:28:32.345455Z",
     "shell.execute_reply": "2020-08-09T04:28:32.344902Z"
    },
    "papermill": {
     "duration": 0.111434,
     "end_time": "2020-08-09T04:28:32.345569",
     "exception": false,
     "start_time": "2020-08-09T04:28:32.234135",
     "status": "completed"
    },
    "tags": []
   },
   "outputs": [
    {
     "name": "stdout",
     "output_type": "stream",
     "text": [
      "0 18141\n",
      "0 18165\n"
     ]
    }
   ],
   "source": [
    "last_login_day_train = train[train['last_login_day'] != 'Never login'].last_login_day.astype(int)\n",
    "last_login_day_test = test[test['last_login_day'] != 'Never login'].last_login_day.astype(int)\n",
    "print(last_login_day_train.min(), last_login_day_train.max())\n",
    "print(last_login_day_test.min(), last_login_day_test.max())"
   ]
  },
  {
   "cell_type": "code",
   "execution_count": 30,
   "metadata": {
    "execution": {
     "iopub.execute_input": "2020-08-09T04:28:32.432716Z",
     "iopub.status.busy": "2020-08-09T04:28:32.432055Z",
     "iopub.status.idle": "2020-08-09T04:28:32.460770Z",
     "shell.execute_reply": "2020-08-09T04:28:32.460208Z"
    },
    "papermill": {
     "duration": 0.077624,
     "end_time": "2020-08-09T04:28:32.460888",
     "exception": false,
     "start_time": "2020-08-09T04:28:32.383264",
     "status": "completed"
    },
    "tags": []
   },
   "outputs": [],
   "source": [
    "train_temp1 = train[(train['last_login_day'] != 'Never login') & (train['open_flag'] == 1)]\n",
    "train_temp0 = train[(train['last_login_day'] != 'Never login') & (train['open_flag'] == 1)]\n",
    "train_temp1['last_login_day'] = train_temp1['last_login_day'].astype(int)\n",
    "train_temp0['last_login_day'] = train_temp0['last_login_day'].astype(int)"
   ]
  },
  {
   "cell_type": "code",
   "execution_count": 31,
   "metadata": {
    "execution": {
     "iopub.execute_input": "2020-08-09T04:28:32.545225Z",
     "iopub.status.busy": "2020-08-09T04:28:32.540499Z",
     "iopub.status.idle": "2020-08-09T04:28:32.692220Z",
     "shell.execute_reply": "2020-08-09T04:28:32.691587Z"
    },
    "papermill": {
     "duration": 0.193812,
     "end_time": "2020-08-09T04:28:32.692338",
     "exception": false,
     "start_time": "2020-08-09T04:28:32.498526",
     "status": "completed"
    },
    "tags": []
   },
   "outputs": [
    {
     "data": {
      "text/plain": [
       "<matplotlib.axes._subplots.AxesSubplot at 0x7f0f2fb47d50>"
      ]
     },
     "execution_count": 31,
     "metadata": {},
     "output_type": "execute_result"
    },
    {
     "data": {
      "image/png": "[encoded data removed]",
      "text/plain": [
       "<Figure size 432x288 with 1 Axes>"
      ]
     },
     "metadata": {
      "needs_background": "light"
     },
     "output_type": "display_data"
    }
   ],
   "source": [
    "train_temp1['last_login_day'].hist()"
   ]
  },
  {
   "cell_type": "code",
   "execution_count": 32,
   "metadata": {
    "execution": {
     "iopub.execute_input": "2020-08-09T04:28:32.774198Z",
     "iopub.status.busy": "2020-08-09T04:28:32.773245Z",
     "iopub.status.idle": "2020-08-09T04:28:32.941954Z",
     "shell.execute_reply": "2020-08-09T04:28:32.941316Z"
    },
    "papermill": {
     "duration": 0.211956,
     "end_time": "2020-08-09T04:28:32.942074",
     "exception": false,
     "start_time": "2020-08-09T04:28:32.730118",
     "status": "completed"
    },
    "tags": []
   },
   "outputs": [
    {
     "data": {
      "text/plain": [
       "<matplotlib.axes._subplots.AxesSubplot at 0x7f0f2fa84e10>"
      ]
     },
     "execution_count": 32,
     "metadata": {},
     "output_type": "execute_result"
    },
    {
     "data": {
      "image/png": "[encoded data removed]",
      "text/plain": [
       "<Figure size 432x288 with 1 Axes>"
      ]
     },
     "metadata": {
      "needs_background": "light"
     },
     "output_type": "display_data"
    }
   ],
   "source": [
    "train_temp1[train_temp1['last_login_day'] < 200]['last_login_day'].hist()"
   ]
  },
  {
   "cell_type": "code",
   "execution_count": 33,
   "metadata": {
    "execution": {
     "iopub.execute_input": "2020-08-09T04:28:33.024350Z",
     "iopub.status.busy": "2020-08-09T04:28:33.023709Z",
     "iopub.status.idle": "2020-08-09T04:28:33.193101Z",
     "shell.execute_reply": "2020-08-09T04:28:33.192426Z"
    },
    "papermill": {
     "duration": 0.212952,
     "end_time": "2020-08-09T04:28:33.193244",
     "exception": false,
     "start_time": "2020-08-09T04:28:32.980292",
     "status": "completed"
    },
    "tags": []
   },
   "outputs": [
    {
     "data": {
      "text/plain": [
       "<matplotlib.axes._subplots.AxesSubplot at 0x7f0f2fa05d10>"
      ]
     },
     "execution_count": 33,
     "metadata": {},
     "output_type": "execute_result"
    },
    {
     "data": {
      "image/png": "[encoded data removed]",
      "text/plain": [
       "<Figure size 432x288 with 1 Axes>"
      ]
     },
     "metadata": {
      "needs_background": "light"
     },
     "output_type": "display_data"
    }
   ],
   "source": [
    "train_temp0[train_temp0['last_login_day'] < 200]['last_login_day'].hist()"
   ]
  },
  {
   "cell_type": "code",
   "execution_count": 34,
   "metadata": {
    "execution": {
     "iopub.execute_input": "2020-08-09T04:28:33.290589Z",
     "iopub.status.busy": "2020-08-09T04:28:33.278971Z",
     "iopub.status.idle": "2020-08-09T04:28:33.303199Z",
     "shell.execute_reply": "2020-08-09T04:28:33.302637Z"
    },
    "papermill": {
     "duration": 0.071467,
     "end_time": "2020-08-09T04:28:33.303314",
     "exception": false,
     "start_time": "2020-08-09T04:28:33.231847",
     "status": "completed"
    },
    "tags": []
   },
   "outputs": [
    {
     "data": {
      "text/html": [
       "<div>\n",
       "<style scoped>\n",
       "    .dataframe tbody tr th:only-of-type {\n",
       "        vertical-align: middle;\n",
       "    }\n",
       "\n",
       "    .dataframe tbody tr th {\n",
       "        vertical-align: top;\n",
       "    }\n",
       "\n",
       "    .dataframe thead th {\n",
       "        text-align: right;\n",
       "    }\n",
       "</style>\n",
       "<table border=\"1\" class=\"dataframe\">\n",
       "  <thead>\n",
       "    <tr style=\"text-align: right;\">\n",
       "      <th></th>\n",
       "      <th>country_code</th>\n",
       "      <th>grass_date</th>\n",
       "      <th>user_id</th>\n",
       "      <th>subject_line_length</th>\n",
       "      <th>last_open_day</th>\n",
       "      <th>last_login_day</th>\n",
       "      <th>last_checkout_day</th>\n",
       "      <th>open_count_last_10_days</th>\n",
       "      <th>open_count_last_30_days</th>\n",
       "      <th>open_count_last_60_days</th>\n",
       "      <th>...</th>\n",
       "      <th>checkout_count_last_60_days</th>\n",
       "      <th>open_flag</th>\n",
       "      <th>row_id</th>\n",
       "      <th>attr_1</th>\n",
       "      <th>attr_2</th>\n",
       "      <th>attr_3</th>\n",
       "      <th>age</th>\n",
       "      <th>domain</th>\n",
       "      <th>day_of_week</th>\n",
       "      <th>day_of_month</th>\n",
       "    </tr>\n",
       "  </thead>\n",
       "  <tbody>\n",
       "    <tr>\n",
       "      <th>6049</th>\n",
       "      <td>4</td>\n",
       "      <td>2019-07-19 00:00:00+08:00</td>\n",
       "      <td>111486</td>\n",
       "      <td>46</td>\n",
       "      <td>2</td>\n",
       "      <td>18096</td>\n",
       "      <td>Never checkout</td>\n",
       "      <td>1</td>\n",
       "      <td>1</td>\n",
       "      <td>1</td>\n",
       "      <td>...</td>\n",
       "      <td>0</td>\n",
       "      <td>1</td>\n",
       "      <td>6049</td>\n",
       "      <td>nan</td>\n",
       "      <td>1.0</td>\n",
       "      <td>0.0</td>\n",
       "      <td>NaN</td>\n",
       "      <td>@gmail.com</td>\n",
       "      <td>Friday</td>\n",
       "      <td>19</td>\n",
       "    </tr>\n",
       "    <tr>\n",
       "      <th>16805</th>\n",
       "      <td>5</td>\n",
       "      <td>2019-07-26 00:00:00+08:00</td>\n",
       "      <td>116708</td>\n",
       "      <td>32</td>\n",
       "      <td>3</td>\n",
       "      <td>18103</td>\n",
       "      <td>Never checkout</td>\n",
       "      <td>1</td>\n",
       "      <td>1</td>\n",
       "      <td>1</td>\n",
       "      <td>...</td>\n",
       "      <td>0</td>\n",
       "      <td>1</td>\n",
       "      <td>16805</td>\n",
       "      <td>nan</td>\n",
       "      <td>1.0</td>\n",
       "      <td>0.0</td>\n",
       "      <td>NaN</td>\n",
       "      <td>@gmail.com</td>\n",
       "      <td>Friday</td>\n",
       "      <td>26</td>\n",
       "    </tr>\n",
       "    <tr>\n",
       "      <th>22973</th>\n",
       "      <td>5</td>\n",
       "      <td>2019-07-30 00:00:00+08:00</td>\n",
       "      <td>108846</td>\n",
       "      <td>38</td>\n",
       "      <td>50</td>\n",
       "      <td>18107</td>\n",
       "      <td>Never checkout</td>\n",
       "      <td>1</td>\n",
       "      <td>1</td>\n",
       "      <td>2</td>\n",
       "      <td>...</td>\n",
       "      <td>0</td>\n",
       "      <td>1</td>\n",
       "      <td>22973</td>\n",
       "      <td>nan</td>\n",
       "      <td>1.0</td>\n",
       "      <td>0.0</td>\n",
       "      <td>NaN</td>\n",
       "      <td>@gmail.com</td>\n",
       "      <td>Tuesday</td>\n",
       "      <td>30</td>\n",
       "    </tr>\n",
       "    <tr>\n",
       "      <th>36255</th>\n",
       "      <td>5</td>\n",
       "      <td>2019-08-08 00:00:00+08:00</td>\n",
       "      <td>104418</td>\n",
       "      <td>28</td>\n",
       "      <td>Never open</td>\n",
       "      <td>18116</td>\n",
       "      <td>96</td>\n",
       "      <td>0</td>\n",
       "      <td>0</td>\n",
       "      <td>0</td>\n",
       "      <td>...</td>\n",
       "      <td>0</td>\n",
       "      <td>1</td>\n",
       "      <td>36255</td>\n",
       "      <td>nan</td>\n",
       "      <td>1.0</td>\n",
       "      <td>0.0</td>\n",
       "      <td>NaN</td>\n",
       "      <td>@gmail.com</td>\n",
       "      <td>Thursday</td>\n",
       "      <td>8</td>\n",
       "    </tr>\n",
       "    <tr>\n",
       "      <th>59580</th>\n",
       "      <td>4</td>\n",
       "      <td>2019-08-25 00:00:00+08:00</td>\n",
       "      <td>120314</td>\n",
       "      <td>38</td>\n",
       "      <td>Never open</td>\n",
       "      <td>18133</td>\n",
       "      <td>Never checkout</td>\n",
       "      <td>1</td>\n",
       "      <td>1</td>\n",
       "      <td>1</td>\n",
       "      <td>...</td>\n",
       "      <td>0</td>\n",
       "      <td>1</td>\n",
       "      <td>59580</td>\n",
       "      <td>nan</td>\n",
       "      <td>1.0</td>\n",
       "      <td>0.0</td>\n",
       "      <td>NaN</td>\n",
       "      <td>@hotmail.com</td>\n",
       "      <td>Sunday</td>\n",
       "      <td>25</td>\n",
       "    </tr>\n",
       "  </tbody>\n",
       "</table>\n",
       "<p>5 rows × 25 columns</p>\n",
       "</div>"
      ],
      "text/plain": [
       "      country_code                grass_date  user_id  subject_line_length  \\\n",
       "6049             4 2019-07-19 00:00:00+08:00   111486                   46   \n",
       "16805            5 2019-07-26 00:00:00+08:00   116708                   32   \n",
       "22973            5 2019-07-30 00:00:00+08:00   108846                   38   \n",
       "36255            5 2019-08-08 00:00:00+08:00   104418                   28   \n",
       "59580            4 2019-08-25 00:00:00+08:00   120314                   38   \n",
       "\n",
       "      last_open_day  last_login_day last_checkout_day  \\\n",
       "6049              2           18096    Never checkout   \n",
       "16805             3           18103    Never checkout   \n",
       "22973            50           18107    Never checkout   \n",
       "36255    Never open           18116                96   \n",
       "59580    Never open           18133    Never checkout   \n",
       "\n",
       "       open_count_last_10_days  open_count_last_30_days  \\\n",
       "6049                         1                        1   \n",
       "16805                        1                        1   \n",
       "22973                        1                        1   \n",
       "36255                        0                        0   \n",
       "59580                        1                        1   \n",
       "\n",
       "       open_count_last_60_days  ...  checkout_count_last_60_days  open_flag  \\\n",
       "6049                         1  ...                            0          1   \n",
       "16805                        1  ...                            0          1   \n",
       "22973                        2  ...                            0          1   \n",
       "36255                        0  ...                            0          1   \n",
       "59580                        1  ...                            0          1   \n",
       "\n",
       "       row_id  attr_1  attr_2  attr_3  age        domain day_of_week  \\\n",
       "6049     6049     nan     1.0     0.0  NaN    @gmail.com      Friday   \n",
       "16805   16805     nan     1.0     0.0  NaN    @gmail.com      Friday   \n",
       "22973   22973     nan     1.0     0.0  NaN    @gmail.com     Tuesday   \n",
       "36255   36255     nan     1.0     0.0  NaN    @gmail.com    Thursday   \n",
       "59580   59580     nan     1.0     0.0  NaN  @hotmail.com      Sunday   \n",
       "\n",
       "      day_of_month  \n",
       "6049            19  \n",
       "16805           26  \n",
       "22973           30  \n",
       "36255            8  \n",
       "59580           25  \n",
       "\n",
       "[5 rows x 25 columns]"
      ]
     },
     "execution_count": 34,
     "metadata": {},
     "output_type": "execute_result"
    }
   ],
   "source": [
    "train_temp1[train_temp1['last_login_day'] > 15000]"
   ]
  },
  {
   "cell_type": "code",
   "execution_count": 35,
   "metadata": {
    "execution": {
     "iopub.execute_input": "2020-08-09T04:28:33.391557Z",
     "iopub.status.busy": "2020-08-09T04:28:33.390796Z",
     "iopub.status.idle": "2020-08-09T04:28:33.394850Z",
     "shell.execute_reply": "2020-08-09T04:28:33.394255Z"
    },
    "papermill": {
     "duration": 0.052582,
     "end_time": "2020-08-09T04:28:33.394979",
     "exception": false,
     "start_time": "2020-08-09T04:28:33.342397",
     "status": "completed"
    },
    "tags": []
   },
   "outputs": [
    {
     "data": {
      "text/plain": [
       "169"
      ]
     },
     "execution_count": 35,
     "metadata": {},
     "output_type": "execute_result"
    }
   ],
   "source": [
    "len(test[test['last_login_day'] == 'Never login'])"
   ]
  },
  {
   "cell_type": "markdown",
   "execution_count": null,
   "metadata": {
    "papermill": {
     "duration": 0.038705,
     "end_time": "2020-08-09T04:28:33.472149",
     "exception": false,
     "start_time": "2020-08-09T04:28:33.433444",
     "status": "completed"
    },
    "tags": []
   },
   "source": [
    "Last Checkout Day"
   ]
  },
  {
   "cell_type": "code",
   "execution_count": 36,
   "metadata": {
    "execution": {
     "iopub.execute_input": "2020-08-09T04:28:33.564330Z",
     "iopub.status.busy": "2020-08-09T04:28:33.563351Z",
     "iopub.status.idle": "2020-08-09T04:28:33.566952Z",
     "shell.execute_reply": "2020-08-09T04:28:33.567378Z"
    },
    "papermill": {
     "duration": 0.05712,
     "end_time": "2020-08-09T04:28:33.567534",
     "exception": false,
     "start_time": "2020-08-09T04:28:33.510414",
     "status": "completed"
    },
    "tags": []
   },
   "outputs": [
    {
     "data": {
      "text/plain": [
       "Never checkout    16905\n",
       "1                  3184\n",
       "2                  2611\n",
       "3                  2159\n",
       "4                  2065\n",
       "                  ...  \n",
       "986                   1\n",
       "785                   1\n",
       "1124                  1\n",
       "1122                  1\n",
       "1042                  1\n",
       "Name: last_checkout_day, Length: 947, dtype: int64"
      ]
     },
     "execution_count": 36,
     "metadata": {},
     "output_type": "execute_result"
    }
   ],
   "source": [
    "train['last_checkout_day'].value_counts()"
   ]
  },
  {
   "cell_type": "code",
   "execution_count": 37,
   "metadata": {
    "execution": {
     "iopub.execute_input": "2020-08-09T04:28:33.655386Z",
     "iopub.status.busy": "2020-08-09T04:28:33.654735Z",
     "iopub.status.idle": "2020-08-09T04:28:33.696678Z",
     "shell.execute_reply": "2020-08-09T04:28:33.695902Z"
    },
    "papermill": {
     "duration": 0.090512,
     "end_time": "2020-08-09T04:28:33.696860",
     "exception": false,
     "start_time": "2020-08-09T04:28:33.606348",
     "status": "completed"
    },
    "tags": []
   },
   "outputs": [
    {
     "name": "stdout",
     "output_type": "stream",
     "text": [
      "1 1445\n",
      "1 1462\n"
     ]
    }
   ],
   "source": [
    "last_checkout_day_train = train[train['last_checkout_day'] != 'Never checkout'].last_checkout_day.astype(int)\n",
    "last_checkout_day_test = test[test['last_checkout_day'] != 'Never checkout'].last_checkout_day.astype(int)\n",
    "print(last_checkout_day_train.min(), last_checkout_day_train.max())\n",
    "print(last_checkout_day_test.min(), last_checkout_day_test.max())"
   ]
  },
  {
   "cell_type": "code",
   "execution_count": 38,
   "metadata": {
    "execution": {
     "iopub.execute_input": "2020-08-09T04:28:33.784670Z",
     "iopub.status.busy": "2020-08-09T04:28:33.784057Z",
     "iopub.status.idle": "2020-08-09T04:28:33.827961Z",
     "shell.execute_reply": "2020-08-09T04:28:33.827395Z"
    },
    "papermill": {
     "duration": 0.091824,
     "end_time": "2020-08-09T04:28:33.828084",
     "exception": false,
     "start_time": "2020-08-09T04:28:33.736260",
     "status": "completed"
    },
    "tags": []
   },
   "outputs": [
    {
     "data": {
      "text/html": [
       "<div>\n",
       "<style scoped>\n",
       "    .dataframe tbody tr th:only-of-type {\n",
       "        vertical-align: middle;\n",
       "    }\n",
       "\n",
       "    .dataframe tbody tr th {\n",
       "        vertical-align: top;\n",
       "    }\n",
       "\n",
       "    .dataframe thead th {\n",
       "        text-align: right;\n",
       "    }\n",
       "</style>\n",
       "<table border=\"1\" class=\"dataframe\">\n",
       "  <thead>\n",
       "    <tr style=\"text-align: right;\">\n",
       "      <th></th>\n",
       "      <th>country_code</th>\n",
       "      <th>grass_date</th>\n",
       "      <th>user_id</th>\n",
       "      <th>subject_line_length</th>\n",
       "      <th>last_open_day</th>\n",
       "      <th>last_login_day</th>\n",
       "      <th>last_checkout_day</th>\n",
       "      <th>open_count_last_10_days</th>\n",
       "      <th>open_count_last_30_days</th>\n",
       "      <th>open_count_last_60_days</th>\n",
       "      <th>...</th>\n",
       "      <th>checkout_count_last_60_days</th>\n",
       "      <th>open_flag</th>\n",
       "      <th>row_id</th>\n",
       "      <th>attr_1</th>\n",
       "      <th>attr_2</th>\n",
       "      <th>attr_3</th>\n",
       "      <th>age</th>\n",
       "      <th>domain</th>\n",
       "      <th>day_of_week</th>\n",
       "      <th>day_of_month</th>\n",
       "    </tr>\n",
       "  </thead>\n",
       "  <tbody>\n",
       "    <tr>\n",
       "      <th>283</th>\n",
       "      <td>6</td>\n",
       "      <td>2019-07-16 00:00:00+08:00</td>\n",
       "      <td>16603</td>\n",
       "      <td>49</td>\n",
       "      <td>3</td>\n",
       "      <td>36</td>\n",
       "      <td>Never checkout</td>\n",
       "      <td>7</td>\n",
       "      <td>11</td>\n",
       "      <td>17</td>\n",
       "      <td>...</td>\n",
       "      <td>0</td>\n",
       "      <td>1</td>\n",
       "      <td>283</td>\n",
       "      <td>nan</td>\n",
       "      <td>1.0</td>\n",
       "      <td>0.0</td>\n",
       "      <td>NaN</td>\n",
       "      <td>@yahoo.com</td>\n",
       "      <td>Tuesday</td>\n",
       "      <td>16</td>\n",
       "    </tr>\n",
       "    <tr>\n",
       "      <th>372</th>\n",
       "      <td>4</td>\n",
       "      <td>2019-07-16 00:00:00+08:00</td>\n",
       "      <td>21854</td>\n",
       "      <td>44</td>\n",
       "      <td>22</td>\n",
       "      <td>164</td>\n",
       "      <td>Never checkout</td>\n",
       "      <td>0</td>\n",
       "      <td>1</td>\n",
       "      <td>4</td>\n",
       "      <td>...</td>\n",
       "      <td>0</td>\n",
       "      <td>1</td>\n",
       "      <td>372</td>\n",
       "      <td>1.0</td>\n",
       "      <td>1.0</td>\n",
       "      <td>2.0</td>\n",
       "      <td>25.0</td>\n",
       "      <td>@hotmail.com</td>\n",
       "      <td>Tuesday</td>\n",
       "      <td>16</td>\n",
       "    </tr>\n",
       "    <tr>\n",
       "      <th>575</th>\n",
       "      <td>3</td>\n",
       "      <td>2019-07-16 00:00:00+08:00</td>\n",
       "      <td>33012</td>\n",
       "      <td>33</td>\n",
       "      <td>2</td>\n",
       "      <td>632</td>\n",
       "      <td>Never checkout</td>\n",
       "      <td>6</td>\n",
       "      <td>23</td>\n",
       "      <td>34</td>\n",
       "      <td>...</td>\n",
       "      <td>0</td>\n",
       "      <td>1</td>\n",
       "      <td>575</td>\n",
       "      <td>1.0</td>\n",
       "      <td>1.0</td>\n",
       "      <td>1.0</td>\n",
       "      <td>45.0</td>\n",
       "      <td>@gmail.com</td>\n",
       "      <td>Tuesday</td>\n",
       "      <td>16</td>\n",
       "    </tr>\n",
       "    <tr>\n",
       "      <th>676</th>\n",
       "      <td>6</td>\n",
       "      <td>2019-07-16 00:00:00+08:00</td>\n",
       "      <td>38234</td>\n",
       "      <td>49</td>\n",
       "      <td>3</td>\n",
       "      <td>584</td>\n",
       "      <td>Never checkout</td>\n",
       "      <td>6</td>\n",
       "      <td>15</td>\n",
       "      <td>26</td>\n",
       "      <td>...</td>\n",
       "      <td>0</td>\n",
       "      <td>1</td>\n",
       "      <td>676</td>\n",
       "      <td>nan</td>\n",
       "      <td>1.0</td>\n",
       "      <td>0.0</td>\n",
       "      <td>NaN</td>\n",
       "      <td>@gmail.com</td>\n",
       "      <td>Tuesday</td>\n",
       "      <td>16</td>\n",
       "    </tr>\n",
       "    <tr>\n",
       "      <th>705</th>\n",
       "      <td>2</td>\n",
       "      <td>2019-07-16 00:00:00+08:00</td>\n",
       "      <td>39676</td>\n",
       "      <td>36</td>\n",
       "      <td>3</td>\n",
       "      <td>95</td>\n",
       "      <td>Never checkout</td>\n",
       "      <td>11</td>\n",
       "      <td>18</td>\n",
       "      <td>23</td>\n",
       "      <td>...</td>\n",
       "      <td>7</td>\n",
       "      <td>1</td>\n",
       "      <td>705</td>\n",
       "      <td>1.0</td>\n",
       "      <td>1.0</td>\n",
       "      <td>1.0</td>\n",
       "      <td>29.0</td>\n",
       "      <td>@ymail.com</td>\n",
       "      <td>Tuesday</td>\n",
       "      <td>16</td>\n",
       "    </tr>\n",
       "    <tr>\n",
       "      <th>...</th>\n",
       "      <td>...</td>\n",
       "      <td>...</td>\n",
       "      <td>...</td>\n",
       "      <td>...</td>\n",
       "      <td>...</td>\n",
       "      <td>...</td>\n",
       "      <td>...</td>\n",
       "      <td>...</td>\n",
       "      <td>...</td>\n",
       "      <td>...</td>\n",
       "      <td>...</td>\n",
       "      <td>...</td>\n",
       "      <td>...</td>\n",
       "      <td>...</td>\n",
       "      <td>...</td>\n",
       "      <td>...</td>\n",
       "      <td>...</td>\n",
       "      <td>...</td>\n",
       "      <td>...</td>\n",
       "      <td>...</td>\n",
       "      <td>...</td>\n",
       "    </tr>\n",
       "    <tr>\n",
       "      <th>73507</th>\n",
       "      <td>2</td>\n",
       "      <td>2019-09-02 00:00:00+08:00</td>\n",
       "      <td>126958</td>\n",
       "      <td>38</td>\n",
       "      <td>12</td>\n",
       "      <td>3</td>\n",
       "      <td>Never checkout</td>\n",
       "      <td>0</td>\n",
       "      <td>0</td>\n",
       "      <td>0</td>\n",
       "      <td>...</td>\n",
       "      <td>0</td>\n",
       "      <td>1</td>\n",
       "      <td>73507</td>\n",
       "      <td>nan</td>\n",
       "      <td>1.0</td>\n",
       "      <td>0.0</td>\n",
       "      <td>NaN</td>\n",
       "      <td>@qq.com</td>\n",
       "      <td>Monday</td>\n",
       "      <td>2</td>\n",
       "    </tr>\n",
       "    <tr>\n",
       "      <th>73508</th>\n",
       "      <td>2</td>\n",
       "      <td>2019-09-02 00:00:00+08:00</td>\n",
       "      <td>126959</td>\n",
       "      <td>38</td>\n",
       "      <td>3</td>\n",
       "      <td>243</td>\n",
       "      <td>Never checkout</td>\n",
       "      <td>4</td>\n",
       "      <td>13</td>\n",
       "      <td>28</td>\n",
       "      <td>...</td>\n",
       "      <td>0</td>\n",
       "      <td>1</td>\n",
       "      <td>73508</td>\n",
       "      <td>nan</td>\n",
       "      <td>1.0</td>\n",
       "      <td>0.0</td>\n",
       "      <td>NaN</td>\n",
       "      <td>@gmail.com</td>\n",
       "      <td>Monday</td>\n",
       "      <td>2</td>\n",
       "    </tr>\n",
       "    <tr>\n",
       "      <th>73521</th>\n",
       "      <td>6</td>\n",
       "      <td>2019-09-02 00:00:00+08:00</td>\n",
       "      <td>127363</td>\n",
       "      <td>39</td>\n",
       "      <td>18</td>\n",
       "      <td>345</td>\n",
       "      <td>Never checkout</td>\n",
       "      <td>5</td>\n",
       "      <td>8</td>\n",
       "      <td>22</td>\n",
       "      <td>...</td>\n",
       "      <td>0</td>\n",
       "      <td>1</td>\n",
       "      <td>73521</td>\n",
       "      <td>nan</td>\n",
       "      <td>1.0</td>\n",
       "      <td>0.0</td>\n",
       "      <td>NaN</td>\n",
       "      <td>@gmail.com</td>\n",
       "      <td>Monday</td>\n",
       "      <td>2</td>\n",
       "    </tr>\n",
       "    <tr>\n",
       "      <th>73528</th>\n",
       "      <td>2</td>\n",
       "      <td>2019-09-02 00:00:00+08:00</td>\n",
       "      <td>127475</td>\n",
       "      <td>38</td>\n",
       "      <td>4</td>\n",
       "      <td>49</td>\n",
       "      <td>Never checkout</td>\n",
       "      <td>1</td>\n",
       "      <td>9</td>\n",
       "      <td>17</td>\n",
       "      <td>...</td>\n",
       "      <td>0</td>\n",
       "      <td>1</td>\n",
       "      <td>73528</td>\n",
       "      <td>nan</td>\n",
       "      <td>1.0</td>\n",
       "      <td>0.0</td>\n",
       "      <td>NaN</td>\n",
       "      <td>@qq.com</td>\n",
       "      <td>Monday</td>\n",
       "      <td>2</td>\n",
       "    </tr>\n",
       "    <tr>\n",
       "      <th>73537</th>\n",
       "      <td>2</td>\n",
       "      <td>2019-09-02 00:00:00+08:00</td>\n",
       "      <td>127807</td>\n",
       "      <td>38</td>\n",
       "      <td>5</td>\n",
       "      <td>34</td>\n",
       "      <td>Never checkout</td>\n",
       "      <td>2</td>\n",
       "      <td>4</td>\n",
       "      <td>4</td>\n",
       "      <td>...</td>\n",
       "      <td>0</td>\n",
       "      <td>1</td>\n",
       "      <td>73537</td>\n",
       "      <td>1.0</td>\n",
       "      <td>1.0</td>\n",
       "      <td>1.0</td>\n",
       "      <td>38.0</td>\n",
       "      <td>@gmail.com</td>\n",
       "      <td>Monday</td>\n",
       "      <td>2</td>\n",
       "    </tr>\n",
       "  </tbody>\n",
       "</table>\n",
       "<p>2334 rows × 25 columns</p>\n",
       "</div>"
      ],
      "text/plain": [
       "      country_code                grass_date  user_id  subject_line_length  \\\n",
       "283              6 2019-07-16 00:00:00+08:00    16603                   49   \n",
       "372              4 2019-07-16 00:00:00+08:00    21854                   44   \n",
       "575              3 2019-07-16 00:00:00+08:00    33012                   33   \n",
       "676              6 2019-07-16 00:00:00+08:00    38234                   49   \n",
       "705              2 2019-07-16 00:00:00+08:00    39676                   36   \n",
       "...            ...                       ...      ...                  ...   \n",
       "73507            2 2019-09-02 00:00:00+08:00   126958                   38   \n",
       "73508            2 2019-09-02 00:00:00+08:00   126959                   38   \n",
       "73521            6 2019-09-02 00:00:00+08:00   127363                   39   \n",
       "73528            2 2019-09-02 00:00:00+08:00   127475                   38   \n",
       "73537            2 2019-09-02 00:00:00+08:00   127807                   38   \n",
       "\n",
       "      last_open_day last_login_day last_checkout_day  open_count_last_10_days  \\\n",
       "283               3             36    Never checkout                        7   \n",
       "372              22            164    Never checkout                        0   \n",
       "575               2            632    Never checkout                        6   \n",
       "676               3            584    Never checkout                        6   \n",
       "705               3             95    Never checkout                       11   \n",
       "...             ...            ...               ...                      ...   \n",
       "73507            12              3    Never checkout                        0   \n",
       "73508             3            243    Never checkout                        4   \n",
       "73521            18            345    Never checkout                        5   \n",
       "73528             4             49    Never checkout                        1   \n",
       "73537             5             34    Never checkout                        2   \n",
       "\n",
       "       open_count_last_30_days  open_count_last_60_days  ...  \\\n",
       "283                         11                       17  ...   \n",
       "372                          1                        4  ...   \n",
       "575                         23                       34  ...   \n",
       "676                         15                       26  ...   \n",
       "705                         18                       23  ...   \n",
       "...                        ...                      ...  ...   \n",
       "73507                        0                        0  ...   \n",
       "73508                       13                       28  ...   \n",
       "73521                        8                       22  ...   \n",
       "73528                        9                       17  ...   \n",
       "73537                        4                        4  ...   \n",
       "\n",
       "       checkout_count_last_60_days  open_flag  row_id  attr_1  attr_2  attr_3  \\\n",
       "283                              0          1     283     nan     1.0     0.0   \n",
       "372                              0          1     372     1.0     1.0     2.0   \n",
       "575                              0          1     575     1.0     1.0     1.0   \n",
       "676                              0          1     676     nan     1.0     0.0   \n",
       "705                              7          1     705     1.0     1.0     1.0   \n",
       "...                            ...        ...     ...     ...     ...     ...   \n",
       "73507                            0          1   73507     nan     1.0     0.0   \n",
       "73508                            0          1   73508     nan     1.0     0.0   \n",
       "73521                            0          1   73521     nan     1.0     0.0   \n",
       "73528                            0          1   73528     nan     1.0     0.0   \n",
       "73537                            0          1   73537     1.0     1.0     1.0   \n",
       "\n",
       "        age        domain day_of_week day_of_month  \n",
       "283     NaN    @yahoo.com     Tuesday           16  \n",
       "372    25.0  @hotmail.com     Tuesday           16  \n",
       "575    45.0    @gmail.com     Tuesday           16  \n",
       "676     NaN    @gmail.com     Tuesday           16  \n",
       "705    29.0    @ymail.com     Tuesday           16  \n",
       "...     ...           ...         ...          ...  \n",
       "73507   NaN       @qq.com      Monday            2  \n",
       "73508   NaN    @gmail.com      Monday            2  \n",
       "73521   NaN    @gmail.com      Monday            2  \n",
       "73528   NaN       @qq.com      Monday            2  \n",
       "73537  38.0    @gmail.com      Monday            2  \n",
       "\n",
       "[2334 rows x 25 columns]"
      ]
     },
     "execution_count": 38,
     "metadata": {},
     "output_type": "execute_result"
    }
   ],
   "source": [
    "train[(train['last_checkout_day'] == 'Never checkout') & (train['open_flag'] == 1)]"
   ]
  },
  {
   "cell_type": "code",
   "execution_count": 39,
   "metadata": {
    "execution": {
     "iopub.execute_input": "2020-08-09T04:28:33.916250Z",
     "iopub.status.busy": "2020-08-09T04:28:33.915619Z",
     "iopub.status.idle": "2020-08-09T04:28:33.927471Z",
     "shell.execute_reply": "2020-08-09T04:28:33.926876Z"
    },
    "papermill": {
     "duration": 0.06023,
     "end_time": "2020-08-09T04:28:33.927587",
     "exception": false,
     "start_time": "2020-08-09T04:28:33.867357",
     "status": "completed"
    },
    "tags": []
   },
   "outputs": [],
   "source": [
    "train_temp = train[(train['last_checkout_day'] != 'Never checkout') & (train['open_flag'] == 1)]\n",
    "train_temp['last_checkout_day'] = train_temp['last_checkout_day'].astype(int)"
   ]
  },
  {
   "cell_type": "code",
   "execution_count": 40,
   "metadata": {
    "execution": {
     "iopub.execute_input": "2020-08-09T04:28:34.015581Z",
     "iopub.status.busy": "2020-08-09T04:28:34.014823Z",
     "iopub.status.idle": "2020-08-09T04:28:34.171149Z",
     "shell.execute_reply": "2020-08-09T04:28:34.170590Z"
    },
    "papermill": {
     "duration": 0.204623,
     "end_time": "2020-08-09T04:28:34.171271",
     "exception": false,
     "start_time": "2020-08-09T04:28:33.966648",
     "status": "completed"
    },
    "tags": []
   },
   "outputs": [
    {
     "data": {
      "text/plain": [
       "<matplotlib.axes._subplots.AxesSubplot at 0x7f0f2f927290>"
      ]
     },
     "execution_count": 40,
     "metadata": {},
     "output_type": "execute_result"
    },
    {
     "data": {
      "image/png": "[encoded data removed]",
      "text/plain": [
       "<Figure size 432x288 with 1 Axes>"
      ]
     },
     "metadata": {
      "needs_background": "light"
     },
     "output_type": "display_data"
    }
   ],
   "source": [
    "train_temp['last_checkout_day'].hist()"
   ]
  },
  {
   "cell_type": "code",
   "execution_count": 41,
   "metadata": {
    "execution": {
     "iopub.execute_input": "2020-08-09T04:28:34.255522Z",
     "iopub.status.busy": "2020-08-09T04:28:34.254846Z",
     "iopub.status.idle": "2020-08-09T04:28:34.485369Z",
     "shell.execute_reply": "2020-08-09T04:28:34.485811Z"
    },
    "papermill": {
     "duration": 0.275355,
     "end_time": "2020-08-09T04:28:34.486000",
     "exception": false,
     "start_time": "2020-08-09T04:28:34.210645",
     "status": "completed"
    },
    "tags": []
   },
   "outputs": [
    {
     "data": {
      "text/plain": [
       "<matplotlib.axes._subplots.AxesSubplot at 0x7f0f2f858a10>"
      ]
     },
     "execution_count": 41,
     "metadata": {},
     "output_type": "execute_result"
    },
    {
     "data": {
      "image/png": "[encoded data removed]",
      "text/plain": [
       "<Figure size 432x288 with 1 Axes>"
      ]
     },
     "metadata": {
      "needs_background": "light"
     },
     "output_type": "display_data"
    }
   ],
   "source": [
    "train_temp = train_temp[train_temp['last_checkout_day'] < 100]\n",
    "train_temp['last_checkout_day'].hist()"
   ]
  },
  {
   "cell_type": "code",
   "execution_count": 42,
   "metadata": {
    "execution": {
     "iopub.execute_input": "2020-08-09T04:28:34.575236Z",
     "iopub.status.busy": "2020-08-09T04:28:34.574566Z",
     "iopub.status.idle": "2020-08-09T04:28:34.599244Z",
     "shell.execute_reply": "2020-08-09T04:28:34.598683Z"
    },
    "papermill": {
     "duration": 0.073734,
     "end_time": "2020-08-09T04:28:34.599362",
     "exception": false,
     "start_time": "2020-08-09T04:28:34.525628",
     "status": "completed"
    },
    "tags": []
   },
   "outputs": [],
   "source": [
    "train_temp = train[(train['last_checkout_day'] != 'Never checkout') & (train['open_flag'] == 0)]\n",
    "train_temp['last_checkout_day'] = train_temp['last_checkout_day'].astype(int)"
   ]
  },
  {
   "cell_type": "code",
   "execution_count": 43,
   "metadata": {
    "execution": {
     "iopub.execute_input": "2020-08-09T04:28:34.688990Z",
     "iopub.status.busy": "2020-08-09T04:28:34.688245Z",
     "iopub.status.idle": "2020-08-09T04:28:34.848469Z",
     "shell.execute_reply": "2020-08-09T04:28:34.847823Z"
    },
    "papermill": {
     "duration": 0.209376,
     "end_time": "2020-08-09T04:28:34.848598",
     "exception": false,
     "start_time": "2020-08-09T04:28:34.639222",
     "status": "completed"
    },
    "tags": []
   },
   "outputs": [
    {
     "data": {
      "text/plain": [
       "<matplotlib.axes._subplots.AxesSubplot at 0x7f0f2fb55590>"
      ]
     },
     "execution_count": 43,
     "metadata": {},
     "output_type": "execute_result"
    },
    {
     "data": {
      "image/png": "[encoded data removed]",
      "text/plain": [
       "<Figure size 432x288 with 1 Axes>"
      ]
     },
     "metadata": {
      "needs_background": "light"
     },
     "output_type": "display_data"
    }
   ],
   "source": [
    "train_temp['last_checkout_day'].hist()"
   ]
  },
  {
   "cell_type": "code",
   "execution_count": 44,
   "metadata": {
    "execution": {
     "iopub.execute_input": "2020-08-09T04:28:34.935816Z",
     "iopub.status.busy": "2020-08-09T04:28:34.935175Z",
     "iopub.status.idle": "2020-08-09T04:28:35.115042Z",
     "shell.execute_reply": "2020-08-09T04:28:35.114416Z"
    },
    "papermill": {
     "duration": 0.224926,
     "end_time": "2020-08-09T04:28:35.115159",
     "exception": false,
     "start_time": "2020-08-09T04:28:34.890233",
     "status": "completed"
    },
    "tags": []
   },
   "outputs": [
    {
     "data": {
      "text/plain": [
       "<matplotlib.axes._subplots.AxesSubplot at 0x7f0f2f7490d0>"
      ]
     },
     "execution_count": 44,
     "metadata": {},
     "output_type": "execute_result"
    },
    {
     "data": {
      "image/png": "[encoded data removed]",
      "text/plain": [
       "<Figure size 432x288 with 1 Axes>"
      ]
     },
     "metadata": {
      "needs_background": "light"
     },
     "output_type": "display_data"
    }
   ],
   "source": [
    "train_temp = train_temp[train_temp['last_checkout_day'] < 100]\n",
    "train_temp['last_checkout_day'].hist()"
   ]
  },
  {
   "cell_type": "markdown",
   "execution_count": null,
   "metadata": {
    "papermill": {
     "duration": 0.040752,
     "end_time": "2020-08-09T04:28:35.196891",
     "exception": false,
     "start_time": "2020-08-09T04:28:35.156139",
     "status": "completed"
    },
    "tags": []
   },
   "source": [
    "Open Count Last 10 days"
   ]
  },
  {
   "cell_type": "code",
   "execution_count": 45,
   "metadata": {
    "execution": {
     "iopub.execute_input": "2020-08-09T04:28:35.283898Z",
     "iopub.status.busy": "2020-08-09T04:28:35.282975Z",
     "iopub.status.idle": "2020-08-09T04:28:35.290569Z",
     "shell.execute_reply": "2020-08-09T04:28:35.290054Z"
    },
    "papermill": {
     "duration": 0.052941,
     "end_time": "2020-08-09T04:28:35.290683",
     "exception": false,
     "start_time": "2020-08-09T04:28:35.237742",
     "status": "completed"
    },
    "tags": []
   },
   "outputs": [
    {
     "data": {
      "text/plain": [
       "0     47406\n",
       "1     11382\n",
       "2      5372\n",
       "3      3291\n",
       "4      2099\n",
       "5      1339\n",
       "6       874\n",
       "7       654\n",
       "8       488\n",
       "9       337\n",
       "10      195\n",
       "11       54\n",
       "12       26\n",
       "13        9\n",
       "14        5\n",
       "16        3\n",
       "24        2\n",
       "17        1\n",
       "19        1\n",
       "31        1\n",
       "Name: open_count_last_10_days, dtype: int64"
      ]
     },
     "execution_count": 45,
     "metadata": {},
     "output_type": "execute_result"
    }
   ],
   "source": [
    "train['open_count_last_10_days'].value_counts()"
   ]
  },
  {
   "cell_type": "code",
   "execution_count": 46,
   "metadata": {
    "execution": {
     "iopub.execute_input": "2020-08-09T04:28:35.377562Z",
     "iopub.status.busy": "2020-08-09T04:28:35.376895Z",
     "iopub.status.idle": "2020-08-09T04:28:35.400407Z",
     "shell.execute_reply": "2020-08-09T04:28:35.399834Z"
    },
    "papermill": {
     "duration": 0.069027,
     "end_time": "2020-08-09T04:28:35.400533",
     "exception": false,
     "start_time": "2020-08-09T04:28:35.331506",
     "status": "completed"
    },
    "tags": []
   },
   "outputs": [],
   "source": [
    "train_flag1 = train[train['open_flag'] == 1]\n",
    "train_flag0 = train[train['open_flag'] == 0]"
   ]
  },
  {
   "cell_type": "code",
   "execution_count": 47,
   "metadata": {
    "execution": {
     "iopub.execute_input": "2020-08-09T04:28:35.492370Z",
     "iopub.status.busy": "2020-08-09T04:28:35.491373Z",
     "iopub.status.idle": "2020-08-09T04:28:35.642569Z",
     "shell.execute_reply": "2020-08-09T04:28:35.641992Z"
    },
    "papermill": {
     "duration": 0.201417,
     "end_time": "2020-08-09T04:28:35.642688",
     "exception": false,
     "start_time": "2020-08-09T04:28:35.441271",
     "status": "completed"
    },
    "tags": []
   },
   "outputs": [
    {
     "data": {
      "text/plain": [
       "<matplotlib.axes._subplots.AxesSubplot at 0x7f0f2f6daf50>"
      ]
     },
     "execution_count": 47,
     "metadata": {},
     "output_type": "execute_result"
    },
    {
     "data": {
      "image/png": "[encoded data removed]",
      "text/plain": [
       "<Figure size 432x288 with 1 Axes>"
      ]
     },
     "metadata": {
      "needs_background": "light"
     },
     "output_type": "display_data"
    }
   ],
   "source": [
    "train_flag1['open_count_last_10_days'].hist()"
   ]
  },
  {
   "cell_type": "code",
   "execution_count": 48,
   "metadata": {
    "execution": {
     "iopub.execute_input": "2020-08-09T04:28:35.734561Z",
     "iopub.status.busy": "2020-08-09T04:28:35.733876Z",
     "iopub.status.idle": "2020-08-09T04:28:35.882900Z",
     "shell.execute_reply": "2020-08-09T04:28:35.882343Z"
    },
    "papermill": {
     "duration": 0.199498,
     "end_time": "2020-08-09T04:28:35.883046",
     "exception": false,
     "start_time": "2020-08-09T04:28:35.683548",
     "status": "completed"
    },
    "tags": []
   },
   "outputs": [
    {
     "data": {
      "text/plain": [
       "<matplotlib.axes._subplots.AxesSubplot at 0x7f0f2f66ff90>"
      ]
     },
     "execution_count": 48,
     "metadata": {},
     "output_type": "execute_result"
    },
    {
     "data": {
      "image/png": "[encoded data removed]",
      "text/plain": [
       "<Figure size 432x288 with 1 Axes>"
      ]
     },
     "metadata": {
      "needs_background": "light"
     },
     "output_type": "display_data"
    }
   ],
   "source": [
    "train_flag0['open_count_last_10_days'].hist()"
   ]
  },
  {
   "cell_type": "code",
   "execution_count": 49,
   "metadata": {
    "execution": {
     "iopub.execute_input": "2020-08-09T04:28:35.974149Z",
     "iopub.status.busy": "2020-08-09T04:28:35.973316Z",
     "iopub.status.idle": "2020-08-09T04:28:36.114857Z",
     "shell.execute_reply": "2020-08-09T04:28:36.115367Z"
    },
    "papermill": {
     "duration": 0.19164,
     "end_time": "2020-08-09T04:28:36.115517",
     "exception": false,
     "start_time": "2020-08-09T04:28:35.923877",
     "status": "completed"
    },
    "tags": []
   },
   "outputs": [
    {
     "data": {
      "text/plain": [
       "<matplotlib.axes._subplots.AxesSubplot at 0x7f0f2f5e2290>"
      ]
     },
     "execution_count": 49,
     "metadata": {},
     "output_type": "execute_result"
    },
    {
     "data": {
      "image/png": "[encoded data removed]",
      "text/plain": [
       "<Figure size 432x288 with 1 Axes>"
      ]
     },
     "metadata": {
      "needs_background": "light"
     },
     "output_type": "display_data"
    }
   ],
   "source": [
    "train_flag1['open_count_last_30_days'].hist()"
   ]
  },
  {
   "cell_type": "code",
   "execution_count": 50,
   "metadata": {
    "execution": {
     "iopub.execute_input": "2020-08-09T04:28:36.205719Z",
     "iopub.status.busy": "2020-08-09T04:28:36.204900Z",
     "iopub.status.idle": "2020-08-09T04:28:36.345137Z",
     "shell.execute_reply": "2020-08-09T04:28:36.345587Z"
    },
    "papermill": {
     "duration": 0.189611,
     "end_time": "2020-08-09T04:28:36.345742",
     "exception": false,
     "start_time": "2020-08-09T04:28:36.156131",
     "status": "completed"
    },
    "tags": []
   },
   "outputs": [
    {
     "data": {
      "text/plain": [
       "<matplotlib.axes._subplots.AxesSubplot at 0x7f0f2f583b50>"
      ]
     },
     "execution_count": 50,
     "metadata": {},
     "output_type": "execute_result"
    },
    {
     "data": {
      "image/png": "[encoded data removed]",
      "text/plain": [
       "<Figure size 432x288 with 1 Axes>"
      ]
     },
     "metadata": {
      "needs_background": "light"
     },
     "output_type": "display_data"
    }
   ],
   "source": [
    "train_flag0['open_count_last_30_days'].hist()"
   ]
  },
  {
   "cell_type": "code",
   "execution_count": 51,
   "metadata": {
    "execution": {
     "iopub.execute_input": "2020-08-09T04:28:36.449563Z",
     "iopub.status.busy": "2020-08-09T04:28:36.448622Z",
     "iopub.status.idle": "2020-08-09T04:28:36.657643Z",
     "shell.execute_reply": "2020-08-09T04:28:36.658422Z"
    },
    "papermill": {
     "duration": 0.271625,
     "end_time": "2020-08-09T04:28:36.658656",
     "exception": false,
     "start_time": "2020-08-09T04:28:36.387031",
     "status": "completed"
    },
    "tags": []
   },
   "outputs": [
    {
     "data": {
      "text/plain": [
       "<matplotlib.axes._subplots.AxesSubplot at 0x7f0f2f507490>"
      ]
     },
     "execution_count": 51,
     "metadata": {},
     "output_type": "execute_result"
    },
    {
     "data": {
      "image/png": "[encoded data removed]",
      "text/plain": [
       "<Figure size 432x288 with 1 Axes>"
      ]
     },
     "metadata": {
      "needs_background": "light"
     },
     "output_type": "display_data"
    }
   ],
   "source": [
    "train_flag1['open_count_last_60_days'].hist()"
   ]
  },
  {
   "cell_type": "code",
   "execution_count": 52,
   "metadata": {
    "execution": {
     "iopub.execute_input": "2020-08-09T04:28:36.799962Z",
     "iopub.status.busy": "2020-08-09T04:28:36.798797Z",
     "iopub.status.idle": "2020-08-09T04:28:37.004393Z",
     "shell.execute_reply": "2020-08-09T04:28:37.003805Z"
    },
    "papermill": {
     "duration": 0.276571,
     "end_time": "2020-08-09T04:28:37.004514",
     "exception": false,
     "start_time": "2020-08-09T04:28:36.727943",
     "status": "completed"
    },
    "tags": []
   },
   "outputs": [
    {
     "data": {
      "text/plain": [
       "<matplotlib.axes._subplots.AxesSubplot at 0x7f0f2f432b10>"
      ]
     },
     "execution_count": 52,
     "metadata": {},
     "output_type": "execute_result"
    },
    {
     "data": {
      "image/png": "[encoded data removed]",
      "text/plain": [
       "<Figure size 432x288 with 1 Axes>"
      ]
     },
     "metadata": {
      "needs_background": "light"
     },
     "output_type": "display_data"
    }
   ],
   "source": [
    "train_flag0['open_count_last_60_days'].hist()"
   ]
  },
  {
   "cell_type": "code",
   "execution_count": 53,
   "metadata": {
    "execution": {
     "iopub.execute_input": "2020-08-09T04:28:37.115065Z",
     "iopub.status.busy": "2020-08-09T04:28:37.114127Z",
     "iopub.status.idle": "2020-08-09T04:28:37.260340Z",
     "shell.execute_reply": "2020-08-09T04:28:37.260903Z"
    },
    "papermill": {
     "duration": 0.213964,
     "end_time": "2020-08-09T04:28:37.261075",
     "exception": false,
     "start_time": "2020-08-09T04:28:37.047111",
     "status": "completed"
    },
    "tags": []
   },
   "outputs": [
    {
     "data": {
      "text/plain": [
       "<matplotlib.axes._subplots.AxesSubplot at 0x7f0f2f3b0290>"
      ]
     },
     "execution_count": 53,
     "metadata": {},
     "output_type": "execute_result"
    },
    {
     "data": {
      "image/png": "[encoded data removed]",
      "text/plain": [
       "<Figure size 432x288 with 1 Axes>"
      ]
     },
     "metadata": {
      "needs_background": "light"
     },
     "output_type": "display_data"
    }
   ],
   "source": [
    "train_flag1['login_count_last_10_days'].hist()"
   ]
  },
  {
   "cell_type": "code",
   "execution_count": 54,
   "metadata": {
    "execution": {
     "iopub.execute_input": "2020-08-09T04:28:37.356282Z",
     "iopub.status.busy": "2020-08-09T04:28:37.351174Z",
     "iopub.status.idle": "2020-08-09T04:28:37.489624Z",
     "shell.execute_reply": "2020-08-09T04:28:37.489015Z"
    },
    "papermill": {
     "duration": 0.184664,
     "end_time": "2020-08-09T04:28:37.489737",
     "exception": false,
     "start_time": "2020-08-09T04:28:37.305073",
     "status": "completed"
    },
    "tags": []
   },
   "outputs": [
    {
     "data": {
      "text/plain": [
       "<matplotlib.axes._subplots.AxesSubplot at 0x7f0f2f338350>"
      ]
     },
     "execution_count": 54,
     "metadata": {},
     "output_type": "execute_result"
    },
    {
     "data": {
      "image/png": "[encoded data removed]",
      "text/plain": [
       "<Figure size 432x288 with 1 Axes>"
      ]
     },
     "metadata": {
      "needs_background": "light"
     },
     "output_type": "display_data"
    }
   ],
   "source": [
    "train_flag0['login_count_last_10_days'].hist(bins = [0, 20, 40, 60, 80, 100])"
   ]
  },
  {
   "cell_type": "code",
   "execution_count": 55,
   "metadata": {
    "execution": {
     "iopub.execute_input": "2020-08-09T04:28:37.593349Z",
     "iopub.status.busy": "2020-08-09T04:28:37.592691Z",
     "iopub.status.idle": "2020-08-09T04:28:37.726996Z",
     "shell.execute_reply": "2020-08-09T04:28:37.726412Z"
    },
    "papermill": {
     "duration": 0.186759,
     "end_time": "2020-08-09T04:28:37.727124",
     "exception": false,
     "start_time": "2020-08-09T04:28:37.540365",
     "status": "completed"
    },
    "tags": []
   },
   "outputs": [
    {
     "data": {
      "text/plain": [
       "<matplotlib.axes._subplots.AxesSubplot at 0x7f0f2f482dd0>"
      ]
     },
     "execution_count": 55,
     "metadata": {},
     "output_type": "execute_result"
    },
    {
     "data": {
      "image/png": "[encoded data removed]",
      "text/plain": [
       "<Figure size 432x288 with 1 Axes>"
      ]
     },
     "metadata": {
      "needs_background": "light"
     },
     "output_type": "display_data"
    }
   ],
   "source": [
    "train_flag1['login_count_last_30_days'].hist()"
   ]
  },
  {
   "cell_type": "code",
   "execution_count": 56,
   "metadata": {
    "execution": {
     "iopub.execute_input": "2020-08-09T04:28:37.816667Z",
     "iopub.status.busy": "2020-08-09T04:28:37.815965Z",
     "iopub.status.idle": "2020-08-09T04:28:37.957404Z",
     "shell.execute_reply": "2020-08-09T04:28:37.956845Z"
    },
    "papermill": {
     "duration": 0.188275,
     "end_time": "2020-08-09T04:28:37.957519",
     "exception": false,
     "start_time": "2020-08-09T04:28:37.769244",
     "status": "completed"
    },
    "tags": []
   },
   "outputs": [
    {
     "data": {
      "text/plain": [
       "<matplotlib.axes._subplots.AxesSubplot at 0x7f0f2f235690>"
      ]
     },
     "execution_count": 56,
     "metadata": {},
     "output_type": "execute_result"
    },
    {
     "data": {
      "image/png": "[encoded data removed]",
      "text/plain": [
       "<Figure size 432x288 with 1 Axes>"
      ]
     },
     "metadata": {
      "needs_background": "light"
     },
     "output_type": "display_data"
    }
   ],
   "source": [
    "train_flag0['login_count_last_30_days'].hist(bins = [0, 100, 200, 300])"
   ]
  },
  {
   "cell_type": "code",
   "execution_count": 57,
   "metadata": {
    "execution": {
     "iopub.execute_input": "2020-08-09T04:28:38.053576Z",
     "iopub.status.busy": "2020-08-09T04:28:38.052308Z",
     "iopub.status.idle": "2020-08-09T04:28:38.187039Z",
     "shell.execute_reply": "2020-08-09T04:28:38.186485Z"
    },
    "papermill": {
     "duration": 0.18744,
     "end_time": "2020-08-09T04:28:38.187155",
     "exception": false,
     "start_time": "2020-08-09T04:28:37.999715",
     "status": "completed"
    },
    "tags": []
   },
   "outputs": [
    {
     "data": {
      "text/plain": [
       "<matplotlib.axes._subplots.AxesSubplot at 0x7f0f2f1af610>"
      ]
     },
     "execution_count": 57,
     "metadata": {},
     "output_type": "execute_result"
    },
    {
     "data": {
      "image/png": "[encoded data removed]",
      "text/plain": [
       "<Figure size 432x288 with 1 Axes>"
      ]
     },
     "metadata": {
      "needs_background": "light"
     },
     "output_type": "display_data"
    }
   ],
   "source": [
    "train_flag1['login_count_last_60_days'].hist()"
   ]
  },
  {
   "cell_type": "code",
   "execution_count": 58,
   "metadata": {
    "execution": {
     "iopub.execute_input": "2020-08-09T04:28:38.281827Z",
     "iopub.status.busy": "2020-08-09T04:28:38.280474Z",
     "iopub.status.idle": "2020-08-09T04:28:38.431744Z",
     "shell.execute_reply": "2020-08-09T04:28:38.431221Z"
    },
    "papermill": {
     "duration": 0.202075,
     "end_time": "2020-08-09T04:28:38.431867",
     "exception": false,
     "start_time": "2020-08-09T04:28:38.229792",
     "status": "completed"
    },
    "tags": []
   },
   "outputs": [
    {
     "data": {
      "text/plain": [
       "<matplotlib.axes._subplots.AxesSubplot at 0x7f0f2f12fc10>"
      ]
     },
     "execution_count": 58,
     "metadata": {},
     "output_type": "execute_result"
    },
    {
     "data": {
      "image/png": "[encoded data removed]",
      "text/plain": [
       "<Figure size 432x288 with 1 Axes>"
      ]
     },
     "metadata": {
      "needs_background": "light"
     },
     "output_type": "display_data"
    }
   ],
   "source": [
    "train_flag0['login_count_last_60_days'].hist()"
   ]
  },
  {
   "cell_type": "code",
   "execution_count": 59,
   "metadata": {
    "execution": {
     "iopub.execute_input": "2020-08-09T04:28:38.527421Z",
     "iopub.status.busy": "2020-08-09T04:28:38.526673Z",
     "iopub.status.idle": "2020-08-09T04:28:38.765484Z",
     "shell.execute_reply": "2020-08-09T04:28:38.764965Z"
    },
    "papermill": {
     "duration": 0.29065,
     "end_time": "2020-08-09T04:28:38.765599",
     "exception": false,
     "start_time": "2020-08-09T04:28:38.474949",
     "status": "completed"
    },
    "tags": []
   },
   "outputs": [
    {
     "data": {
      "text/plain": [
       "<matplotlib.axes._subplots.AxesSubplot at 0x7f0f2f0b3250>"
      ]
     },
     "execution_count": 59,
     "metadata": {},
     "output_type": "execute_result"
    },
    {
     "data": {
      "image/png": "[encoded data removed]",
      "text/plain": [
       "<Figure size 432x288 with 1 Axes>"
      ]
     },
     "metadata": {
      "needs_background": "light"
     },
     "output_type": "display_data"
    }
   ],
   "source": [
    "train_flag1['checkout_count_last_10_days'].hist()"
   ]
  },
  {
   "cell_type": "code",
   "execution_count": 60,
   "metadata": {
    "execution": {
     "iopub.execute_input": "2020-08-09T04:28:38.865330Z",
     "iopub.status.busy": "2020-08-09T04:28:38.860692Z",
     "iopub.status.idle": "2020-08-09T04:28:39.020327Z",
     "shell.execute_reply": "2020-08-09T04:28:39.019678Z"
    },
    "papermill": {
     "duration": 0.211252,
     "end_time": "2020-08-09T04:28:39.020448",
     "exception": false,
     "start_time": "2020-08-09T04:28:38.809196",
     "status": "completed"
    },
    "tags": []
   },
   "outputs": [
    {
     "data": {
      "text/plain": [
       "<matplotlib.axes._subplots.AxesSubplot at 0x7f0f2f57d190>"
      ]
     },
     "execution_count": 60,
     "metadata": {},
     "output_type": "execute_result"
    },
    {
     "data": {
      "image/png": "[encoded data removed]",
      "text/plain": [
       "<Figure size 432x288 with 1 Axes>"
      ]
     },
     "metadata": {
      "needs_background": "light"
     },
     "output_type": "display_data"
    }
   ],
   "source": [
    "train_flag0['checkout_count_last_10_days'].hist()"
   ]
  },
  {
   "cell_type": "code",
   "execution_count": 61,
   "metadata": {
    "execution": {
     "iopub.execute_input": "2020-08-09T04:28:39.112683Z",
     "iopub.status.busy": "2020-08-09T04:28:39.112102Z",
     "iopub.status.idle": "2020-08-09T04:28:39.260997Z",
     "shell.execute_reply": "2020-08-09T04:28:39.260362Z"
    },
    "papermill": {
     "duration": 0.196735,
     "end_time": "2020-08-09T04:28:39.261122",
     "exception": false,
     "start_time": "2020-08-09T04:28:39.064387",
     "status": "completed"
    },
    "tags": []
   },
   "outputs": [
    {
     "data": {
      "text/plain": [
       "<matplotlib.axes._subplots.AxesSubplot at 0x7f0f2f3b01d0>"
      ]
     },
     "execution_count": 61,
     "metadata": {},
     "output_type": "execute_result"
    },
    {
     "data": {
      "image/png": "[encoded data removed]",
      "text/plain": [
       "<Figure size 432x288 with 1 Axes>"
      ]
     },
     "metadata": {
      "needs_background": "light"
     },
     "output_type": "display_data"
    }
   ],
   "source": [
    "train_flag1[train_flag1['checkout_count_last_30_days'] < 100]['checkout_count_last_30_days'].hist()"
   ]
  },
  {
   "cell_type": "code",
   "execution_count": 62,
   "metadata": {
    "execution": {
     "iopub.execute_input": "2020-08-09T04:28:39.356153Z",
     "iopub.status.busy": "2020-08-09T04:28:39.355473Z",
     "iopub.status.idle": "2020-08-09T04:28:39.525569Z",
     "shell.execute_reply": "2020-08-09T04:28:39.524948Z"
    },
    "papermill": {
     "duration": 0.220534,
     "end_time": "2020-08-09T04:28:39.525683",
     "exception": false,
     "start_time": "2020-08-09T04:28:39.305149",
     "status": "completed"
    },
    "tags": []
   },
   "outputs": [
    {
     "data": {
      "text/plain": [
       "<matplotlib.axes._subplots.AxesSubplot at 0x7f0f2ef1f850>"
      ]
     },
     "execution_count": 62,
     "metadata": {},
     "output_type": "execute_result"
    },
    {
     "data": {
      "image/png": "[encoded data removed]",
      "text/plain": [
       "<Figure size 432x288 with 1 Axes>"
      ]
     },
     "metadata": {
      "needs_background": "light"
     },
     "output_type": "display_data"
    }
   ],
   "source": [
    "train_flag0[train_flag0['checkout_count_last_30_days'] < 100]['checkout_count_last_30_days'].hist()"
   ]
  },
  {
   "cell_type": "code",
   "execution_count": 63,
   "metadata": {
    "execution": {
     "iopub.execute_input": "2020-08-09T04:28:39.623407Z",
     "iopub.status.busy": "2020-08-09T04:28:39.622752Z",
     "iopub.status.idle": "2020-08-09T04:28:39.770630Z",
     "shell.execute_reply": "2020-08-09T04:28:39.771164Z"
    },
    "papermill": {
     "duration": 0.197311,
     "end_time": "2020-08-09T04:28:39.771319",
     "exception": false,
     "start_time": "2020-08-09T04:28:39.574008",
     "status": "completed"
    },
    "tags": []
   },
   "outputs": [
    {
     "data": {
      "text/plain": [
       "<matplotlib.axes._subplots.AxesSubplot at 0x7f0f2eea6d50>"
      ]
     },
     "execution_count": 63,
     "metadata": {},
     "output_type": "execute_result"
    },
    {
     "data": {
      "image/png": "[encoded data removed]",
      "text/plain": [
       "<Figure size 432x288 with 1 Axes>"
      ]
     },
     "metadata": {
      "needs_background": "light"
     },
     "output_type": "display_data"
    }
   ],
   "source": [
    "train_flag1[train_flag1['checkout_count_last_60_days'] < 100]['checkout_count_last_60_days'].hist()"
   ]
  },
  {
   "cell_type": "code",
   "execution_count": 64,
   "metadata": {
    "execution": {
     "iopub.execute_input": "2020-08-09T04:28:39.866531Z",
     "iopub.status.busy": "2020-08-09T04:28:39.865537Z",
     "iopub.status.idle": "2020-08-09T04:28:40.028859Z",
     "shell.execute_reply": "2020-08-09T04:28:40.029388Z"
    },
    "papermill": {
     "duration": 0.214066,
     "end_time": "2020-08-09T04:28:40.029554",
     "exception": false,
     "start_time": "2020-08-09T04:28:39.815488",
     "status": "completed"
    },
    "tags": []
   },
   "outputs": [
    {
     "data": {
      "text/plain": [
       "<matplotlib.axes._subplots.AxesSubplot at 0x7f0f2ee33e90>"
      ]
     },
     "execution_count": 64,
     "metadata": {},
     "output_type": "execute_result"
    },
    {
     "data": {
      "image/png": "[encoded data removed]",
      "text/plain": [
       "<Figure size 432x288 with 1 Axes>"
      ]
     },
     "metadata": {
      "needs_background": "light"
     },
     "output_type": "display_data"
    }
   ],
   "source": [
    "train_flag0[train_flag0['checkout_count_last_60_days'] < 100]['checkout_count_last_60_days'].hist()"
   ]
  },
  {
   "cell_type": "markdown",
   "execution_count": null,
   "metadata": {
    "papermill": {
     "duration": 0.043619,
     "end_time": "2020-08-09T04:28:40.118310",
     "exception": false,
     "start_time": "2020-08-09T04:28:40.074691",
     "status": "completed"
    },
    "tags": []
   },
   "source": [
    "# EDA Part 2"
   ]
  },
  {
   "cell_type": "code",
   "execution_count": 65,
   "metadata": {
    "execution": {
     "iopub.execute_input": "2020-08-09T04:28:40.228240Z",
     "iopub.status.busy": "2020-08-09T04:28:40.227146Z",
     "iopub.status.idle": "2020-08-09T04:28:40.309519Z",
     "shell.execute_reply": "2020-08-09T04:28:40.308875Z"
    },
    "papermill": {
     "duration": 0.14198,
     "end_time": "2020-08-09T04:28:40.309635",
     "exception": false,
     "start_time": "2020-08-09T04:28:40.167655",
     "status": "completed"
    },
    "tags": []
   },
   "outputs": [
    {
     "data": {
      "text/html": [
       "<div>\n",
       "<style scoped>\n",
       "    .dataframe tbody tr th:only-of-type {\n",
       "        vertical-align: middle;\n",
       "    }\n",
       "\n",
       "    .dataframe tbody tr th {\n",
       "        vertical-align: top;\n",
       "    }\n",
       "\n",
       "    .dataframe thead th {\n",
       "        text-align: right;\n",
       "    }\n",
       "</style>\n",
       "<table border=\"1\" class=\"dataframe\">\n",
       "  <thead>\n",
       "    <tr style=\"text-align: right;\">\n",
       "      <th></th>\n",
       "      <th>user_id</th>\n",
       "      <th>subject_line_length</th>\n",
       "      <th>open_count_last_10_days</th>\n",
       "      <th>open_count_last_30_days</th>\n",
       "      <th>open_count_last_60_days</th>\n",
       "      <th>login_count_last_10_days</th>\n",
       "      <th>login_count_last_30_days</th>\n",
       "      <th>login_count_last_60_days</th>\n",
       "      <th>checkout_count_last_10_days</th>\n",
       "      <th>checkout_count_last_30_days</th>\n",
       "      <th>checkout_count_last_60_days</th>\n",
       "      <th>open_flag</th>\n",
       "      <th>row_id</th>\n",
       "      <th>age</th>\n",
       "      <th>day_of_month</th>\n",
       "    </tr>\n",
       "  </thead>\n",
       "  <tbody>\n",
       "    <tr>\n",
       "      <th>count</th>\n",
       "      <td>73539.000000</td>\n",
       "      <td>73539.000000</td>\n",
       "      <td>73539.000000</td>\n",
       "      <td>73539.000000</td>\n",
       "      <td>73539.000000</td>\n",
       "      <td>73539.000000</td>\n",
       "      <td>73539.000000</td>\n",
       "      <td>73539.000000</td>\n",
       "      <td>73539.000000</td>\n",
       "      <td>73539.000000</td>\n",
       "      <td>73539.000000</td>\n",
       "      <td>73539.000000</td>\n",
       "      <td>73539.00000</td>\n",
       "      <td>45347.000000</td>\n",
       "      <td>73539.000000</td>\n",
       "    </tr>\n",
       "    <tr>\n",
       "      <th>mean</th>\n",
       "      <td>63048.595358</td>\n",
       "      <td>43.656373</td>\n",
       "      <td>0.911829</td>\n",
       "      <td>2.780457</td>\n",
       "      <td>5.019364</td>\n",
       "      <td>8.382287</td>\n",
       "      <td>25.284053</td>\n",
       "      <td>49.010430</td>\n",
       "      <td>0.909898</td>\n",
       "      <td>2.796040</td>\n",
       "      <td>5.420960</td>\n",
       "      <td>0.155781</td>\n",
       "      <td>36769.00000</td>\n",
       "      <td>31.445564</td>\n",
       "      <td>16.517263</td>\n",
       "    </tr>\n",
       "    <tr>\n",
       "      <th>std</th>\n",
       "      <td>36068.006037</td>\n",
       "      <td>11.219323</td>\n",
       "      <td>1.754052</td>\n",
       "      <td>4.570239</td>\n",
       "      <td>7.902313</td>\n",
       "      <td>13.424436</td>\n",
       "      <td>37.853189</td>\n",
       "      <td>71.819327</td>\n",
       "      <td>2.887416</td>\n",
       "      <td>7.686064</td>\n",
       "      <td>13.980182</td>\n",
       "      <td>0.362650</td>\n",
       "      <td>21229.02506</td>\n",
       "      <td>11.797405</td>\n",
       "      <td>9.253182</td>\n",
       "    </tr>\n",
       "    <tr>\n",
       "      <th>min</th>\n",
       "      <td>2.000000</td>\n",
       "      <td>10.000000</td>\n",
       "      <td>0.000000</td>\n",
       "      <td>0.000000</td>\n",
       "      <td>0.000000</td>\n",
       "      <td>0.000000</td>\n",
       "      <td>0.000000</td>\n",
       "      <td>0.000000</td>\n",
       "      <td>0.000000</td>\n",
       "      <td>0.000000</td>\n",
       "      <td>0.000000</td>\n",
       "      <td>0.000000</td>\n",
       "      <td>0.00000</td>\n",
       "      <td>-17.000000</td>\n",
       "      <td>1.000000</td>\n",
       "    </tr>\n",
       "    <tr>\n",
       "      <th>25%</th>\n",
       "      <td>31679.500000</td>\n",
       "      <td>34.000000</td>\n",
       "      <td>0.000000</td>\n",
       "      <td>0.000000</td>\n",
       "      <td>0.000000</td>\n",
       "      <td>0.000000</td>\n",
       "      <td>1.000000</td>\n",
       "      <td>3.000000</td>\n",
       "      <td>0.000000</td>\n",
       "      <td>0.000000</td>\n",
       "      <td>0.000000</td>\n",
       "      <td>0.000000</td>\n",
       "      <td>18384.50000</td>\n",
       "      <td>24.000000</td>\n",
       "      <td>8.000000</td>\n",
       "    </tr>\n",
       "    <tr>\n",
       "      <th>50%</th>\n",
       "      <td>63340.000000</td>\n",
       "      <td>43.000000</td>\n",
       "      <td>0.000000</td>\n",
       "      <td>1.000000</td>\n",
       "      <td>2.000000</td>\n",
       "      <td>3.000000</td>\n",
       "      <td>11.000000</td>\n",
       "      <td>22.000000</td>\n",
       "      <td>0.000000</td>\n",
       "      <td>0.000000</td>\n",
       "      <td>1.000000</td>\n",
       "      <td>0.000000</td>\n",
       "      <td>36769.00000</td>\n",
       "      <td>29.000000</td>\n",
       "      <td>18.000000</td>\n",
       "    </tr>\n",
       "    <tr>\n",
       "      <th>75%</th>\n",
       "      <td>94731.500000</td>\n",
       "      <td>52.000000</td>\n",
       "      <td>1.000000</td>\n",
       "      <td>3.000000</td>\n",
       "      <td>6.000000</td>\n",
       "      <td>12.000000</td>\n",
       "      <td>35.000000</td>\n",
       "      <td>69.000000</td>\n",
       "      <td>1.000000</td>\n",
       "      <td>3.000000</td>\n",
       "      <td>6.000000</td>\n",
       "      <td>0.000000</td>\n",
       "      <td>55153.50000</td>\n",
       "      <td>36.000000</td>\n",
       "      <td>24.000000</td>\n",
       "    </tr>\n",
       "    <tr>\n",
       "      <th>max</th>\n",
       "      <td>127925.000000</td>\n",
       "      <td>75.000000</td>\n",
       "      <td>31.000000</td>\n",
       "      <td>92.000000</td>\n",
       "      <td>135.000000</td>\n",
       "      <td>254.000000</td>\n",
       "      <td>735.000000</td>\n",
       "      <td>1260.000000</td>\n",
       "      <td>157.000000</td>\n",
       "      <td>531.000000</td>\n",
       "      <td>783.000000</td>\n",
       "      <td>1.000000</td>\n",
       "      <td>73538.00000</td>\n",
       "      <td>118.000000</td>\n",
       "      <td>30.000000</td>\n",
       "    </tr>\n",
       "  </tbody>\n",
       "</table>\n",
       "</div>"
      ],
      "text/plain": [
       "             user_id  subject_line_length  open_count_last_10_days  \\\n",
       "count   73539.000000         73539.000000             73539.000000   \n",
       "mean    63048.595358            43.656373                 0.911829   \n",
       "std     36068.006037            11.219323                 1.754052   \n",
       "min         2.000000            10.000000                 0.000000   \n",
       "25%     31679.500000            34.000000                 0.000000   \n",
       "50%     63340.000000            43.000000                 0.000000   \n",
       "75%     94731.500000            52.000000                 1.000000   \n",
       "max    127925.000000            75.000000                31.000000   \n",
       "\n",
       "       open_count_last_30_days  open_count_last_60_days  \\\n",
       "count             73539.000000             73539.000000   \n",
       "mean                  2.780457                 5.019364   \n",
       "std                   4.570239                 7.902313   \n",
       "min                   0.000000                 0.000000   \n",
       "25%                   0.000000                 0.000000   \n",
       "50%                   1.000000                 2.000000   \n",
       "75%                   3.000000                 6.000000   \n",
       "max                  92.000000               135.000000   \n",
       "\n",
       "       login_count_last_10_days  login_count_last_30_days  \\\n",
       "count              73539.000000              73539.000000   \n",
       "mean                   8.382287                 25.284053   \n",
       "std                   13.424436                 37.853189   \n",
       "min                    0.000000                  0.000000   \n",
       "25%                    0.000000                  1.000000   \n",
       "50%                    3.000000                 11.000000   \n",
       "75%                   12.000000                 35.000000   \n",
       "max                  254.000000                735.000000   \n",
       "\n",
       "       login_count_last_60_days  checkout_count_last_10_days  \\\n",
       "count              73539.000000                 73539.000000   \n",
       "mean                  49.010430                     0.909898   \n",
       "std                   71.819327                     2.887416   \n",
       "min                    0.000000                     0.000000   \n",
       "25%                    3.000000                     0.000000   \n",
       "50%                   22.000000                     0.000000   \n",
       "75%                   69.000000                     1.000000   \n",
       "max                 1260.000000                   157.000000   \n",
       "\n",
       "       checkout_count_last_30_days  checkout_count_last_60_days     open_flag  \\\n",
       "count                 73539.000000                 73539.000000  73539.000000   \n",
       "mean                      2.796040                     5.420960      0.155781   \n",
       "std                       7.686064                    13.980182      0.362650   \n",
       "min                       0.000000                     0.000000      0.000000   \n",
       "25%                       0.000000                     0.000000      0.000000   \n",
       "50%                       0.000000                     1.000000      0.000000   \n",
       "75%                       3.000000                     6.000000      0.000000   \n",
       "max                     531.000000                   783.000000      1.000000   \n",
       "\n",
       "            row_id           age  day_of_month  \n",
       "count  73539.00000  45347.000000  73539.000000  \n",
       "mean   36769.00000     31.445564     16.517263  \n",
       "std    21229.02506     11.797405      9.253182  \n",
       "min        0.00000    -17.000000      1.000000  \n",
       "25%    18384.50000     24.000000      8.000000  \n",
       "50%    36769.00000     29.000000     18.000000  \n",
       "75%    55153.50000     36.000000     24.000000  \n",
       "max    73538.00000    118.000000     30.000000  "
      ]
     },
     "execution_count": 65,
     "metadata": {},
     "output_type": "execute_result"
    }
   ],
   "source": [
    "train.describe()"
   ]
  },
  {
   "cell_type": "code",
   "execution_count": 66,
   "metadata": {
    "execution": {
     "iopub.execute_input": "2020-08-09T04:28:40.410013Z",
     "iopub.status.busy": "2020-08-09T04:28:40.408894Z",
     "iopub.status.idle": "2020-08-09T04:28:40.475662Z",
     "shell.execute_reply": "2020-08-09T04:28:40.475056Z"
    },
    "papermill": {
     "duration": 0.119916,
     "end_time": "2020-08-09T04:28:40.475802",
     "exception": false,
     "start_time": "2020-08-09T04:28:40.355886",
     "status": "completed"
    },
    "tags": []
   },
   "outputs": [
    {
     "data": {
      "text/html": [
       "<div>\n",
       "<style scoped>\n",
       "    .dataframe tbody tr th:only-of-type {\n",
       "        vertical-align: middle;\n",
       "    }\n",
       "\n",
       "    .dataframe tbody tr th {\n",
       "        vertical-align: top;\n",
       "    }\n",
       "\n",
       "    .dataframe thead th {\n",
       "        text-align: right;\n",
       "    }\n",
       "</style>\n",
       "<table border=\"1\" class=\"dataframe\">\n",
       "  <thead>\n",
       "    <tr style=\"text-align: right;\">\n",
       "      <th></th>\n",
       "      <th>user_id</th>\n",
       "      <th>subject_line_length</th>\n",
       "      <th>open_count_last_10_days</th>\n",
       "      <th>open_count_last_30_days</th>\n",
       "      <th>open_count_last_60_days</th>\n",
       "      <th>login_count_last_10_days</th>\n",
       "      <th>login_count_last_30_days</th>\n",
       "      <th>login_count_last_60_days</th>\n",
       "      <th>checkout_count_last_10_days</th>\n",
       "      <th>checkout_count_last_30_days</th>\n",
       "      <th>checkout_count_last_60_days</th>\n",
       "      <th>row_id</th>\n",
       "      <th>age</th>\n",
       "      <th>day_of_month</th>\n",
       "    </tr>\n",
       "  </thead>\n",
       "  <tbody>\n",
       "    <tr>\n",
       "      <th>count</th>\n",
       "      <td>55970.000000</td>\n",
       "      <td>55970.000000</td>\n",
       "      <td>55970.000000</td>\n",
       "      <td>55970.000000</td>\n",
       "      <td>55970.000000</td>\n",
       "      <td>55970.000000</td>\n",
       "      <td>55970.000000</td>\n",
       "      <td>55970.000000</td>\n",
       "      <td>55970.000000</td>\n",
       "      <td>55970.000000</td>\n",
       "      <td>55970.000000</td>\n",
       "      <td>55970.00000</td>\n",
       "      <td>34737.000000</td>\n",
       "      <td>55970.000000</td>\n",
       "    </tr>\n",
       "    <tr>\n",
       "      <th>mean</th>\n",
       "      <td>65049.007790</td>\n",
       "      <td>42.212703</td>\n",
       "      <td>0.774272</td>\n",
       "      <td>2.441880</td>\n",
       "      <td>5.323530</td>\n",
       "      <td>8.978899</td>\n",
       "      <td>26.289459</td>\n",
       "      <td>50.713882</td>\n",
       "      <td>1.124674</td>\n",
       "      <td>3.219385</td>\n",
       "      <td>5.933893</td>\n",
       "      <td>27984.50000</td>\n",
       "      <td>31.267409</td>\n",
       "      <td>12.644863</td>\n",
       "    </tr>\n",
       "    <tr>\n",
       "      <th>std</th>\n",
       "      <td>37934.945847</td>\n",
       "      <td>12.276136</td>\n",
       "      <td>1.752984</td>\n",
       "      <td>4.786883</td>\n",
       "      <td>9.053473</td>\n",
       "      <td>13.975840</td>\n",
       "      <td>38.572656</td>\n",
       "      <td>73.289199</td>\n",
       "      <td>3.500704</td>\n",
       "      <td>8.197445</td>\n",
       "      <td>14.233715</td>\n",
       "      <td>16157.29162</td>\n",
       "      <td>11.312572</td>\n",
       "      <td>7.444977</td>\n",
       "    </tr>\n",
       "    <tr>\n",
       "      <th>min</th>\n",
       "      <td>0.000000</td>\n",
       "      <td>11.000000</td>\n",
       "      <td>0.000000</td>\n",
       "      <td>0.000000</td>\n",
       "      <td>0.000000</td>\n",
       "      <td>0.000000</td>\n",
       "      <td>0.000000</td>\n",
       "      <td>0.000000</td>\n",
       "      <td>0.000000</td>\n",
       "      <td>0.000000</td>\n",
       "      <td>0.000000</td>\n",
       "      <td>0.00000</td>\n",
       "      <td>0.000000</td>\n",
       "      <td>3.000000</td>\n",
       "    </tr>\n",
       "    <tr>\n",
       "      <th>25%</th>\n",
       "      <td>32293.250000</td>\n",
       "      <td>35.000000</td>\n",
       "      <td>0.000000</td>\n",
       "      <td>0.000000</td>\n",
       "      <td>0.000000</td>\n",
       "      <td>0.000000</td>\n",
       "      <td>2.000000</td>\n",
       "      <td>4.000000</td>\n",
       "      <td>0.000000</td>\n",
       "      <td>0.000000</td>\n",
       "      <td>0.000000</td>\n",
       "      <td>13992.25000</td>\n",
       "      <td>24.000000</td>\n",
       "      <td>7.000000</td>\n",
       "    </tr>\n",
       "    <tr>\n",
       "      <th>50%</th>\n",
       "      <td>64683.000000</td>\n",
       "      <td>41.000000</td>\n",
       "      <td>0.000000</td>\n",
       "      <td>0.000000</td>\n",
       "      <td>2.000000</td>\n",
       "      <td>4.000000</td>\n",
       "      <td>13.000000</td>\n",
       "      <td>25.000000</td>\n",
       "      <td>0.000000</td>\n",
       "      <td>1.000000</td>\n",
       "      <td>2.000000</td>\n",
       "      <td>27984.50000</td>\n",
       "      <td>29.000000</td>\n",
       "      <td>10.000000</td>\n",
       "    </tr>\n",
       "    <tr>\n",
       "      <th>75%</th>\n",
       "      <td>97776.500000</td>\n",
       "      <td>48.000000</td>\n",
       "      <td>1.000000</td>\n",
       "      <td>3.000000</td>\n",
       "      <td>6.000000</td>\n",
       "      <td>13.000000</td>\n",
       "      <td>36.000000</td>\n",
       "      <td>70.000000</td>\n",
       "      <td>1.000000</td>\n",
       "      <td>3.000000</td>\n",
       "      <td>7.000000</td>\n",
       "      <td>41976.75000</td>\n",
       "      <td>36.000000</td>\n",
       "      <td>18.000000</td>\n",
       "    </tr>\n",
       "    <tr>\n",
       "      <th>max</th>\n",
       "      <td>127922.000000</td>\n",
       "      <td>79.000000</td>\n",
       "      <td>30.000000</td>\n",
       "      <td>79.000000</td>\n",
       "      <td>120.000000</td>\n",
       "      <td>329.000000</td>\n",
       "      <td>746.000000</td>\n",
       "      <td>1300.000000</td>\n",
       "      <td>252.000000</td>\n",
       "      <td>404.000000</td>\n",
       "      <td>609.000000</td>\n",
       "      <td>55969.00000</td>\n",
       "      <td>118.000000</td>\n",
       "      <td>29.000000</td>\n",
       "    </tr>\n",
       "  </tbody>\n",
       "</table>\n",
       "</div>"
      ],
      "text/plain": [
       "             user_id  subject_line_length  open_count_last_10_days  \\\n",
       "count   55970.000000         55970.000000             55970.000000   \n",
       "mean    65049.007790            42.212703                 0.774272   \n",
       "std     37934.945847            12.276136                 1.752984   \n",
       "min         0.000000            11.000000                 0.000000   \n",
       "25%     32293.250000            35.000000                 0.000000   \n",
       "50%     64683.000000            41.000000                 0.000000   \n",
       "75%     97776.500000            48.000000                 1.000000   \n",
       "max    127922.000000            79.000000                30.000000   \n",
       "\n",
       "       open_count_last_30_days  open_count_last_60_days  \\\n",
       "count             55970.000000             55970.000000   \n",
       "mean                  2.441880                 5.323530   \n",
       "std                   4.786883                 9.053473   \n",
       "min                   0.000000                 0.000000   \n",
       "25%                   0.000000                 0.000000   \n",
       "50%                   0.000000                 2.000000   \n",
       "75%                   3.000000                 6.000000   \n",
       "max                  79.000000               120.000000   \n",
       "\n",
       "       login_count_last_10_days  login_count_last_30_days  \\\n",
       "count              55970.000000              55970.000000   \n",
       "mean                   8.978899                 26.289459   \n",
       "std                   13.975840                 38.572656   \n",
       "min                    0.000000                  0.000000   \n",
       "25%                    0.000000                  2.000000   \n",
       "50%                    4.000000                 13.000000   \n",
       "75%                   13.000000                 36.000000   \n",
       "max                  329.000000                746.000000   \n",
       "\n",
       "       login_count_last_60_days  checkout_count_last_10_days  \\\n",
       "count              55970.000000                 55970.000000   \n",
       "mean                  50.713882                     1.124674   \n",
       "std                   73.289199                     3.500704   \n",
       "min                    0.000000                     0.000000   \n",
       "25%                    4.000000                     0.000000   \n",
       "50%                   25.000000                     0.000000   \n",
       "75%                   70.000000                     1.000000   \n",
       "max                 1300.000000                   252.000000   \n",
       "\n",
       "       checkout_count_last_30_days  checkout_count_last_60_days       row_id  \\\n",
       "count                 55970.000000                 55970.000000  55970.00000   \n",
       "mean                      3.219385                     5.933893  27984.50000   \n",
       "std                       8.197445                    14.233715  16157.29162   \n",
       "min                       0.000000                     0.000000      0.00000   \n",
       "25%                       0.000000                     0.000000  13992.25000   \n",
       "50%                       1.000000                     2.000000  27984.50000   \n",
       "75%                       3.000000                     7.000000  41976.75000   \n",
       "max                     404.000000                   609.000000  55969.00000   \n",
       "\n",
       "                age  day_of_month  \n",
       "count  34737.000000  55970.000000  \n",
       "mean      31.267409     12.644863  \n",
       "std       11.312572      7.444977  \n",
       "min        0.000000      3.000000  \n",
       "25%       24.000000      7.000000  \n",
       "50%       29.000000     10.000000  \n",
       "75%       36.000000     18.000000  \n",
       "max      118.000000     29.000000  "
      ]
     },
     "execution_count": 66,
     "metadata": {},
     "output_type": "execute_result"
    }
   ],
   "source": [
    "test.describe()"
   ]
  },
  {
   "cell_type": "code",
   "execution_count": 67,
   "metadata": {
    "execution": {
     "iopub.execute_input": "2020-08-09T04:28:40.574484Z",
     "iopub.status.busy": "2020-08-09T04:28:40.573784Z",
     "iopub.status.idle": "2020-08-09T04:28:40.597429Z",
     "shell.execute_reply": "2020-08-09T04:28:40.596809Z"
    },
    "papermill": {
     "duration": 0.074263,
     "end_time": "2020-08-09T04:28:40.597556",
     "exception": false,
     "start_time": "2020-08-09T04:28:40.523293",
     "status": "completed"
    },
    "tags": []
   },
   "outputs": [],
   "source": [
    "train_flag1 = train[train['open_flag'] == 1]\n",
    "train_flag0 = train[train['open_flag'] == 0]"
   ]
  },
  {
   "cell_type": "markdown",
   "execution_count": null,
   "metadata": {
    "papermill": {
     "duration": 0.044308,
     "end_time": "2020-08-09T04:28:40.687345",
     "exception": false,
     "start_time": "2020-08-09T04:28:40.643037",
     "status": "completed"
    },
    "tags": []
   },
   "source": [
    "Age"
   ]
  },
  {
   "cell_type": "code",
   "execution_count": 68,
   "metadata": {
    "execution": {
     "iopub.execute_input": "2020-08-09T04:28:40.786542Z",
     "iopub.status.busy": "2020-08-09T04:28:40.785810Z",
     "iopub.status.idle": "2020-08-09T04:28:40.935634Z",
     "shell.execute_reply": "2020-08-09T04:28:40.935016Z"
    },
    "papermill": {
     "duration": 0.203754,
     "end_time": "2020-08-09T04:28:40.935753",
     "exception": false,
     "start_time": "2020-08-09T04:28:40.731999",
     "status": "completed"
    },
    "tags": []
   },
   "outputs": [
    {
     "data": {
      "text/plain": [
       "<matplotlib.axes._subplots.AxesSubplot at 0x7f0f2ee05ad0>"
      ]
     },
     "execution_count": 68,
     "metadata": {},
     "output_type": "execute_result"
    },
    {
     "data": {
      "image/png": "[encoded data removed]",
      "text/plain": [
       "<Figure size 432x288 with 1 Axes>"
      ]
     },
     "metadata": {
      "needs_background": "light"
     },
     "output_type": "display_data"
    }
   ],
   "source": [
    "train_flag1['age'].hist()"
   ]
  },
  {
   "cell_type": "code",
   "execution_count": 69,
   "metadata": {
    "execution": {
     "iopub.execute_input": "2020-08-09T04:28:41.038313Z",
     "iopub.status.busy": "2020-08-09T04:28:41.037616Z",
     "iopub.status.idle": "2020-08-09T04:28:41.209748Z",
     "shell.execute_reply": "2020-08-09T04:28:41.209136Z"
    },
    "papermill": {
     "duration": 0.227229,
     "end_time": "2020-08-09T04:28:41.209877",
     "exception": false,
     "start_time": "2020-08-09T04:28:40.982648",
     "status": "completed"
    },
    "tags": []
   },
   "outputs": [
    {
     "data": {
      "text/plain": [
       "<matplotlib.axes._subplots.AxesSubplot at 0x7f0f2eccc790>"
      ]
     },
     "execution_count": 69,
     "metadata": {},
     "output_type": "execute_result"
    },
    {
     "data": {
      "image/png": "[encoded data removed]",
      "text/plain": [
       "<Figure size 432x288 with 1 Axes>"
      ]
     },
     "metadata": {
      "needs_background": "light"
     },
     "output_type": "display_data"
    }
   ],
   "source": [
    "train_flag0['age'].hist()"
   ]
  },
  {
   "cell_type": "markdown",
   "execution_count": null,
   "metadata": {
    "papermill": {
     "duration": 0.04656,
     "end_time": "2020-08-09T04:28:41.302107",
     "exception": false,
     "start_time": "2020-08-09T04:28:41.255547",
     "status": "completed"
    },
    "tags": []
   },
   "source": [
    "Dividing the 'age' column into some **age ranges** may get better performance\n",
    "\n",
    "*I'll try that later*"
   ]
  },
  {
   "cell_type": "code",
   "execution_count": 70,
   "metadata": {
    "execution": {
     "iopub.execute_input": "2020-08-09T04:28:41.404480Z",
     "iopub.status.busy": "2020-08-09T04:28:41.400132Z",
     "iopub.status.idle": "2020-08-09T04:28:41.566859Z",
     "shell.execute_reply": "2020-08-09T04:28:41.567646Z"
    },
    "papermill": {
     "duration": 0.220743,
     "end_time": "2020-08-09T04:28:41.567865",
     "exception": false,
     "start_time": "2020-08-09T04:28:41.347122",
     "status": "completed"
    },
    "tags": []
   },
   "outputs": [
    {
     "data": {
      "text/plain": [
       "<matplotlib.axes._subplots.AxesSubplot at 0x7f0f2ecab550>"
      ]
     },
     "execution_count": 70,
     "metadata": {},
     "output_type": "execute_result"
    },
    {
     "data": {
      "image/png": "[encoded data removed]",
      "text/plain": [
       "<Figure size 432x288 with 1 Axes>"
      ]
     },
     "metadata": {
      "needs_background": "light"
     },
     "output_type": "display_data"
    }
   ],
   "source": [
    "train_flag1[train_flag1['age'] > 110]['age'].hist()"
   ]
  },
  {
   "cell_type": "code",
   "execution_count": 71,
   "metadata": {
    "execution": {
     "iopub.execute_input": "2020-08-09T04:28:41.669539Z",
     "iopub.status.busy": "2020-08-09T04:28:41.667892Z",
     "iopub.status.idle": "2020-08-09T04:28:41.828708Z",
     "shell.execute_reply": "2020-08-09T04:28:41.828112Z"
    },
    "papermill": {
     "duration": 0.211109,
     "end_time": "2020-08-09T04:28:41.828824",
     "exception": false,
     "start_time": "2020-08-09T04:28:41.617715",
     "status": "completed"
    },
    "tags": []
   },
   "outputs": [
    {
     "data": {
      "text/plain": [
       "<matplotlib.axes._subplots.AxesSubplot at 0x7f0f2ebcfd90>"
      ]
     },
     "execution_count": 71,
     "metadata": {},
     "output_type": "execute_result"
    },
    {
     "data": {
      "image/png": "[encoded data removed]",
      "text/plain": [
       "<Figure size 432x288 with 1 Axes>"
      ]
     },
     "metadata": {
      "needs_background": "light"
     },
     "output_type": "display_data"
    }
   ],
   "source": [
    "train_flag0[train_flag0['age'] > 110]['age'].hist()"
   ]
  },
  {
   "cell_type": "code",
   "execution_count": 72,
   "metadata": {
    "execution": {
     "iopub.execute_input": "2020-08-09T04:28:41.973569Z",
     "iopub.status.busy": "2020-08-09T04:28:41.967330Z",
     "iopub.status.idle": "2020-08-09T04:28:42.014067Z",
     "shell.execute_reply": "2020-08-09T04:28:42.013192Z"
    },
    "papermill": {
     "duration": 0.13946,
     "end_time": "2020-08-09T04:28:42.014245",
     "exception": false,
     "start_time": "2020-08-09T04:28:41.874785",
     "status": "completed"
    },
    "tags": []
   },
   "outputs": [
    {
     "data": {
      "text/html": [
       "<div>\n",
       "<style scoped>\n",
       "    .dataframe tbody tr th:only-of-type {\n",
       "        vertical-align: middle;\n",
       "    }\n",
       "\n",
       "    .dataframe tbody tr th {\n",
       "        vertical-align: top;\n",
       "    }\n",
       "\n",
       "    .dataframe thead th {\n",
       "        text-align: right;\n",
       "    }\n",
       "</style>\n",
       "<table border=\"1\" class=\"dataframe\">\n",
       "  <thead>\n",
       "    <tr style=\"text-align: right;\">\n",
       "      <th></th>\n",
       "      <th>country_code</th>\n",
       "      <th>grass_date</th>\n",
       "      <th>user_id</th>\n",
       "      <th>subject_line_length</th>\n",
       "      <th>last_open_day</th>\n",
       "      <th>last_login_day</th>\n",
       "      <th>last_checkout_day</th>\n",
       "      <th>open_count_last_10_days</th>\n",
       "      <th>open_count_last_30_days</th>\n",
       "      <th>open_count_last_60_days</th>\n",
       "      <th>...</th>\n",
       "      <th>checkout_count_last_60_days</th>\n",
       "      <th>open_flag</th>\n",
       "      <th>row_id</th>\n",
       "      <th>attr_1</th>\n",
       "      <th>attr_2</th>\n",
       "      <th>attr_3</th>\n",
       "      <th>age</th>\n",
       "      <th>domain</th>\n",
       "      <th>day_of_week</th>\n",
       "      <th>day_of_month</th>\n",
       "    </tr>\n",
       "  </thead>\n",
       "  <tbody>\n",
       "    <tr>\n",
       "      <th>395</th>\n",
       "      <td>4</td>\n",
       "      <td>2019-07-16 00:00:00+08:00</td>\n",
       "      <td>23206</td>\n",
       "      <td>44</td>\n",
       "      <td>10</td>\n",
       "      <td>2</td>\n",
       "      <td>2</td>\n",
       "      <td>1</td>\n",
       "      <td>1</td>\n",
       "      <td>2</td>\n",
       "      <td>...</td>\n",
       "      <td>16</td>\n",
       "      <td>0</td>\n",
       "      <td>395</td>\n",
       "      <td>1.0</td>\n",
       "      <td>1.0</td>\n",
       "      <td>2.0</td>\n",
       "      <td>118.0</td>\n",
       "      <td>@gmail.com</td>\n",
       "      <td>Tuesday</td>\n",
       "      <td>16</td>\n",
       "    </tr>\n",
       "    <tr>\n",
       "      <th>639</th>\n",
       "      <td>4</td>\n",
       "      <td>2019-07-16 00:00:00+08:00</td>\n",
       "      <td>36248</td>\n",
       "      <td>44</td>\n",
       "      <td>9</td>\n",
       "      <td>2</td>\n",
       "      <td>13</td>\n",
       "      <td>1</td>\n",
       "      <td>1</td>\n",
       "      <td>2</td>\n",
       "      <td>...</td>\n",
       "      <td>2</td>\n",
       "      <td>1</td>\n",
       "      <td>639</td>\n",
       "      <td>1.0</td>\n",
       "      <td>1.0</td>\n",
       "      <td>1.0</td>\n",
       "      <td>118.0</td>\n",
       "      <td>@gmail.com</td>\n",
       "      <td>Tuesday</td>\n",
       "      <td>16</td>\n",
       "    </tr>\n",
       "    <tr>\n",
       "      <th>677</th>\n",
       "      <td>4</td>\n",
       "      <td>2019-07-16 00:00:00+08:00</td>\n",
       "      <td>38235</td>\n",
       "      <td>44</td>\n",
       "      <td>12</td>\n",
       "      <td>6</td>\n",
       "      <td>42</td>\n",
       "      <td>0</td>\n",
       "      <td>3</td>\n",
       "      <td>3</td>\n",
       "      <td>...</td>\n",
       "      <td>4</td>\n",
       "      <td>0</td>\n",
       "      <td>677</td>\n",
       "      <td>1.0</td>\n",
       "      <td>1.0</td>\n",
       "      <td>2.0</td>\n",
       "      <td>118.0</td>\n",
       "      <td>@hotmail.com</td>\n",
       "      <td>Tuesday</td>\n",
       "      <td>16</td>\n",
       "    </tr>\n",
       "    <tr>\n",
       "      <th>862</th>\n",
       "      <td>4</td>\n",
       "      <td>2019-07-16 00:00:00+08:00</td>\n",
       "      <td>47984</td>\n",
       "      <td>44</td>\n",
       "      <td>12</td>\n",
       "      <td>1</td>\n",
       "      <td>128</td>\n",
       "      <td>0</td>\n",
       "      <td>2</td>\n",
       "      <td>2</td>\n",
       "      <td>...</td>\n",
       "      <td>0</td>\n",
       "      <td>1</td>\n",
       "      <td>862</td>\n",
       "      <td>1.0</td>\n",
       "      <td>1.0</td>\n",
       "      <td>2.0</td>\n",
       "      <td>118.0</td>\n",
       "      <td>@gmail.com</td>\n",
       "      <td>Tuesday</td>\n",
       "      <td>16</td>\n",
       "    </tr>\n",
       "    <tr>\n",
       "      <th>896</th>\n",
       "      <td>4</td>\n",
       "      <td>2019-07-16 00:00:00+08:00</td>\n",
       "      <td>49721</td>\n",
       "      <td>44</td>\n",
       "      <td>7</td>\n",
       "      <td>12</td>\n",
       "      <td>15</td>\n",
       "      <td>1</td>\n",
       "      <td>1</td>\n",
       "      <td>1</td>\n",
       "      <td>...</td>\n",
       "      <td>4</td>\n",
       "      <td>0</td>\n",
       "      <td>896</td>\n",
       "      <td>1.0</td>\n",
       "      <td>1.0</td>\n",
       "      <td>1.0</td>\n",
       "      <td>118.0</td>\n",
       "      <td>@gmail.com</td>\n",
       "      <td>Tuesday</td>\n",
       "      <td>16</td>\n",
       "    </tr>\n",
       "    <tr>\n",
       "      <th>...</th>\n",
       "      <td>...</td>\n",
       "      <td>...</td>\n",
       "      <td>...</td>\n",
       "      <td>...</td>\n",
       "      <td>...</td>\n",
       "      <td>...</td>\n",
       "      <td>...</td>\n",
       "      <td>...</td>\n",
       "      <td>...</td>\n",
       "      <td>...</td>\n",
       "      <td>...</td>\n",
       "      <td>...</td>\n",
       "      <td>...</td>\n",
       "      <td>...</td>\n",
       "      <td>...</td>\n",
       "      <td>...</td>\n",
       "      <td>...</td>\n",
       "      <td>...</td>\n",
       "      <td>...</td>\n",
       "      <td>...</td>\n",
       "      <td>...</td>\n",
       "    </tr>\n",
       "    <tr>\n",
       "      <th>70500</th>\n",
       "      <td>4</td>\n",
       "      <td>2019-09-02 00:00:00+08:00</td>\n",
       "      <td>21892</td>\n",
       "      <td>34</td>\n",
       "      <td>10</td>\n",
       "      <td>4</td>\n",
       "      <td>88</td>\n",
       "      <td>1</td>\n",
       "      <td>5</td>\n",
       "      <td>10</td>\n",
       "      <td>...</td>\n",
       "      <td>0</td>\n",
       "      <td>1</td>\n",
       "      <td>70500</td>\n",
       "      <td>1.0</td>\n",
       "      <td>1.0</td>\n",
       "      <td>2.0</td>\n",
       "      <td>118.0</td>\n",
       "      <td>@gmail.com</td>\n",
       "      <td>Monday</td>\n",
       "      <td>2</td>\n",
       "    </tr>\n",
       "    <tr>\n",
       "      <th>70889</th>\n",
       "      <td>4</td>\n",
       "      <td>2019-09-02 00:00:00+08:00</td>\n",
       "      <td>35987</td>\n",
       "      <td>34</td>\n",
       "      <td>12</td>\n",
       "      <td>24</td>\n",
       "      <td>71</td>\n",
       "      <td>0</td>\n",
       "      <td>2</td>\n",
       "      <td>3</td>\n",
       "      <td>...</td>\n",
       "      <td>0</td>\n",
       "      <td>0</td>\n",
       "      <td>70889</td>\n",
       "      <td>1.0</td>\n",
       "      <td>1.0</td>\n",
       "      <td>1.0</td>\n",
       "      <td>118.0</td>\n",
       "      <td>@hotmail.com</td>\n",
       "      <td>Monday</td>\n",
       "      <td>2</td>\n",
       "    </tr>\n",
       "    <tr>\n",
       "      <th>71126</th>\n",
       "      <td>3</td>\n",
       "      <td>2019-09-02 00:00:00+08:00</td>\n",
       "      <td>44189</td>\n",
       "      <td>64</td>\n",
       "      <td>12</td>\n",
       "      <td>3</td>\n",
       "      <td>3</td>\n",
       "      <td>0</td>\n",
       "      <td>1</td>\n",
       "      <td>5</td>\n",
       "      <td>...</td>\n",
       "      <td>9</td>\n",
       "      <td>0</td>\n",
       "      <td>71126</td>\n",
       "      <td>1.0</td>\n",
       "      <td>1.0</td>\n",
       "      <td>1.0</td>\n",
       "      <td>118.0</td>\n",
       "      <td>other</td>\n",
       "      <td>Monday</td>\n",
       "      <td>2</td>\n",
       "    </tr>\n",
       "    <tr>\n",
       "      <th>71868</th>\n",
       "      <td>4</td>\n",
       "      <td>2019-09-02 00:00:00+08:00</td>\n",
       "      <td>70127</td>\n",
       "      <td>34</td>\n",
       "      <td>42</td>\n",
       "      <td>7</td>\n",
       "      <td>37</td>\n",
       "      <td>0</td>\n",
       "      <td>0</td>\n",
       "      <td>0</td>\n",
       "      <td>...</td>\n",
       "      <td>3</td>\n",
       "      <td>0</td>\n",
       "      <td>71868</td>\n",
       "      <td>1.0</td>\n",
       "      <td>1.0</td>\n",
       "      <td>1.0</td>\n",
       "      <td>118.0</td>\n",
       "      <td>@gmail.com</td>\n",
       "      <td>Monday</td>\n",
       "      <td>2</td>\n",
       "    </tr>\n",
       "    <tr>\n",
       "      <th>72049</th>\n",
       "      <td>4</td>\n",
       "      <td>2019-09-02 00:00:00+08:00</td>\n",
       "      <td>78293</td>\n",
       "      <td>34</td>\n",
       "      <td>66</td>\n",
       "      <td>69</td>\n",
       "      <td>90</td>\n",
       "      <td>0</td>\n",
       "      <td>0</td>\n",
       "      <td>0</td>\n",
       "      <td>...</td>\n",
       "      <td>0</td>\n",
       "      <td>0</td>\n",
       "      <td>72049</td>\n",
       "      <td>1.0</td>\n",
       "      <td>1.0</td>\n",
       "      <td>2.0</td>\n",
       "      <td>118.0</td>\n",
       "      <td>@gmail.com</td>\n",
       "      <td>Monday</td>\n",
       "      <td>2</td>\n",
       "    </tr>\n",
       "  </tbody>\n",
       "</table>\n",
       "<p>287 rows × 25 columns</p>\n",
       "</div>"
      ],
      "text/plain": [
       "      country_code                grass_date  user_id  subject_line_length  \\\n",
       "395              4 2019-07-16 00:00:00+08:00    23206                   44   \n",
       "639              4 2019-07-16 00:00:00+08:00    36248                   44   \n",
       "677              4 2019-07-16 00:00:00+08:00    38235                   44   \n",
       "862              4 2019-07-16 00:00:00+08:00    47984                   44   \n",
       "896              4 2019-07-16 00:00:00+08:00    49721                   44   \n",
       "...            ...                       ...      ...                  ...   \n",
       "70500            4 2019-09-02 00:00:00+08:00    21892                   34   \n",
       "70889            4 2019-09-02 00:00:00+08:00    35987                   34   \n",
       "71126            3 2019-09-02 00:00:00+08:00    44189                   64   \n",
       "71868            4 2019-09-02 00:00:00+08:00    70127                   34   \n",
       "72049            4 2019-09-02 00:00:00+08:00    78293                   34   \n",
       "\n",
       "      last_open_day last_login_day last_checkout_day  open_count_last_10_days  \\\n",
       "395              10              2                 2                        1   \n",
       "639               9              2                13                        1   \n",
       "677              12              6                42                        0   \n",
       "862              12              1               128                        0   \n",
       "896               7             12                15                        1   \n",
       "...             ...            ...               ...                      ...   \n",
       "70500            10              4                88                        1   \n",
       "70889            12             24                71                        0   \n",
       "71126            12              3                 3                        0   \n",
       "71868            42              7                37                        0   \n",
       "72049            66             69                90                        0   \n",
       "\n",
       "       open_count_last_30_days  open_count_last_60_days  ...  \\\n",
       "395                          1                        2  ...   \n",
       "639                          1                        2  ...   \n",
       "677                          3                        3  ...   \n",
       "862                          2                        2  ...   \n",
       "896                          1                        1  ...   \n",
       "...                        ...                      ...  ...   \n",
       "70500                        5                       10  ...   \n",
       "70889                        2                        3  ...   \n",
       "71126                        1                        5  ...   \n",
       "71868                        0                        0  ...   \n",
       "72049                        0                        0  ...   \n",
       "\n",
       "       checkout_count_last_60_days  open_flag  row_id  attr_1  attr_2  attr_3  \\\n",
       "395                             16          0     395     1.0     1.0     2.0   \n",
       "639                              2          1     639     1.0     1.0     1.0   \n",
       "677                              4          0     677     1.0     1.0     2.0   \n",
       "862                              0          1     862     1.0     1.0     2.0   \n",
       "896                              4          0     896     1.0     1.0     1.0   \n",
       "...                            ...        ...     ...     ...     ...     ...   \n",
       "70500                            0          1   70500     1.0     1.0     2.0   \n",
       "70889                            0          0   70889     1.0     1.0     1.0   \n",
       "71126                            9          0   71126     1.0     1.0     1.0   \n",
       "71868                            3          0   71868     1.0     1.0     1.0   \n",
       "72049                            0          0   72049     1.0     1.0     2.0   \n",
       "\n",
       "         age        domain day_of_week day_of_month  \n",
       "395    118.0    @gmail.com     Tuesday           16  \n",
       "639    118.0    @gmail.com     Tuesday           16  \n",
       "677    118.0  @hotmail.com     Tuesday           16  \n",
       "862    118.0    @gmail.com     Tuesday           16  \n",
       "896    118.0    @gmail.com     Tuesday           16  \n",
       "...      ...           ...         ...          ...  \n",
       "70500  118.0    @gmail.com      Monday            2  \n",
       "70889  118.0  @hotmail.com      Monday            2  \n",
       "71126  118.0         other      Monday            2  \n",
       "71868  118.0    @gmail.com      Monday            2  \n",
       "72049  118.0    @gmail.com      Monday            2  \n",
       "\n",
       "[287 rows x 25 columns]"
      ]
     },
     "execution_count": 72,
     "metadata": {},
     "output_type": "execute_result"
    }
   ],
   "source": [
    "train[(train.age > 116)]"
   ]
  },
  {
   "cell_type": "markdown",
   "execution_count": null,
   "metadata": {
    "papermill": {
     "duration": 0.078993,
     "end_time": "2020-08-09T04:28:42.145784",
     "exception": false,
     "start_time": "2020-08-09T04:28:42.066791",
     "status": "completed"
    },
    "tags": []
   },
   "source": [
    "**New feature: 'age_class'**"
   ]
  },
  {
   "cell_type": "code",
   "execution_count": 73,
   "metadata": {
    "execution": {
     "iopub.execute_input": "2020-08-09T04:28:42.250420Z",
     "iopub.status.busy": "2020-08-09T04:28:42.249720Z",
     "iopub.status.idle": "2020-08-09T04:28:42.329634Z",
     "shell.execute_reply": "2020-08-09T04:28:42.328563Z"
    },
    "papermill": {
     "duration": 0.135613,
     "end_time": "2020-08-09T04:28:42.329819",
     "exception": false,
     "start_time": "2020-08-09T04:28:42.194206",
     "status": "completed"
    },
    "tags": []
   },
   "outputs": [],
   "source": [
    "train['age_class'] = train['age'].isna()\n",
    "train['age_class'] = train['age_class'].map({True:'Unknown',False:'<>'})\n",
    "\n",
    "test['age_class'] = test['age'].isna()\n",
    "test['age_class'] = test['age_class'].map({True:'Unknown',False:'<>'})\n",
    "\n",
    "train.loc[train['age'] >= 30, 'age_class'] = '>=30'\n",
    "train.loc[train['age'] < 30, 'age_class'] = '<30'\n",
    "\n",
    "test.loc[test['age'] >= 30, 'age_class'] = '>=30'\n",
    "test.loc[test['age'] < 30, 'age_class'] = '<30'"
   ]
  },
  {
   "cell_type": "markdown",
   "execution_count": null,
   "metadata": {
    "papermill": {
     "duration": 0.046328,
     "end_time": "2020-08-09T04:28:42.438663",
     "exception": false,
     "start_time": "2020-08-09T04:28:42.392335",
     "status": "completed"
    },
    "tags": []
   },
   "source": [
    "\"As of January 9, 2020, there were **31 living supercentenarians** on our list (30 females, 1 male)\"\n",
    "*Source: liebertpub.com*\n",
    "\n",
    "As of 3 August 2020, the oldest known living person is Kane Tanaka of Japan, aged **117** years, 214 days."
   ]
  },
  {
   "cell_type": "markdown",
   "execution_count": null,
   "metadata": {
    "papermill": {
     "duration": 0.046566,
     "end_time": "2020-08-09T04:28:42.537735",
     "exception": false,
     "start_time": "2020-08-09T04:28:42.491169",
     "status": "completed"
    },
    "tags": []
   },
   "source": [
    "**Age > 110** (supercentenarian) ? Let's set it to **NA**."
   ]
  },
  {
   "cell_type": "code",
   "execution_count": 74,
   "metadata": {
    "execution": {
     "iopub.execute_input": "2020-08-09T04:28:42.657554Z",
     "iopub.status.busy": "2020-08-09T04:28:42.656686Z",
     "iopub.status.idle": "2020-08-09T04:28:42.664707Z",
     "shell.execute_reply": "2020-08-09T04:28:42.664100Z"
    },
    "papermill": {
     "duration": 0.070152,
     "end_time": "2020-08-09T04:28:42.664825",
     "exception": false,
     "start_time": "2020-08-09T04:28:42.594673",
     "status": "completed"
    },
    "tags": []
   },
   "outputs": [],
   "source": [
    "train.loc[train['age'] > 110, 'age'] = np.nan\n",
    "test.loc[test['age'] > 110, 'age'] = np.nan"
   ]
  },
  {
   "cell_type": "markdown",
   "execution_count": null,
   "metadata": {
    "papermill": {
     "duration": 0.046463,
     "end_time": "2020-08-09T04:28:42.762979",
     "exception": false,
     "start_time": "2020-08-09T04:28:42.716516",
     "status": "completed"
    },
    "tags": []
   },
   "source": [
    "**Age < 0** ? Let's set it to **NA** too."
   ]
  },
  {
   "cell_type": "code",
   "execution_count": 75,
   "metadata": {
    "execution": {
     "iopub.execute_input": "2020-08-09T04:28:42.863676Z",
     "iopub.status.busy": "2020-08-09T04:28:42.863065Z",
     "iopub.status.idle": "2020-08-09T04:28:42.869466Z",
     "shell.execute_reply": "2020-08-09T04:28:42.868963Z"
    },
    "papermill": {
     "duration": 0.059443,
     "end_time": "2020-08-09T04:28:42.869592",
     "exception": false,
     "start_time": "2020-08-09T04:28:42.810149",
     "status": "completed"
    },
    "tags": []
   },
   "outputs": [],
   "source": [
    "train.loc[train['age'] < 0, 'age'] = np.nan\n",
    "test.loc[test['age'] < 0, 'age'] = np.nan"
   ]
  },
  {
   "cell_type": "markdown",
   "execution_count": null,
   "metadata": {
    "papermill": {
     "duration": 0.045862,
     "end_time": "2020-08-09T04:28:42.961974",
     "exception": false,
     "start_time": "2020-08-09T04:28:42.916112",
     "status": "completed"
    },
    "tags": []
   },
   "source": [
    "Domain"
   ]
  },
  {
   "cell_type": "code",
   "execution_count": 76,
   "metadata": {
    "execution": {
     "iopub.execute_input": "2020-08-09T04:28:43.066068Z",
     "iopub.status.busy": "2020-08-09T04:28:43.065298Z",
     "iopub.status.idle": "2020-08-09T04:28:43.069151Z",
     "shell.execute_reply": "2020-08-09T04:28:43.068604Z"
    },
    "papermill": {
     "duration": 0.060756,
     "end_time": "2020-08-09T04:28:43.069269",
     "exception": false,
     "start_time": "2020-08-09T04:28:43.008513",
     "status": "completed"
    },
    "tags": []
   },
   "outputs": [
    {
     "data": {
      "text/plain": [
       "@gmail.com         8854\n",
       "@yahoo.com          938\n",
       "@hotmail.com        893\n",
       "other               379\n",
       "@icloud.com         134\n",
       "@qq.com              84\n",
       "@outlook.com         58\n",
       "@live.com            50\n",
       "@ymail.com           35\n",
       "@163.com             20\n",
       "@rocketmail.com      11\n",
       "Name: domain, dtype: int64"
      ]
     },
     "execution_count": 76,
     "metadata": {},
     "output_type": "execute_result"
    }
   ],
   "source": [
    "train_flag1['domain'].value_counts()"
   ]
  },
  {
   "cell_type": "code",
   "execution_count": 77,
   "metadata": {
    "execution": {
     "iopub.execute_input": "2020-08-09T04:28:43.175862Z",
     "iopub.status.busy": "2020-08-09T04:28:43.175169Z",
     "iopub.status.idle": "2020-08-09T04:28:43.179494Z",
     "shell.execute_reply": "2020-08-09T04:28:43.179007Z"
    },
    "papermill": {
     "duration": 0.063863,
     "end_time": "2020-08-09T04:28:43.179609",
     "exception": false,
     "start_time": "2020-08-09T04:28:43.115746",
     "status": "completed"
    },
    "tags": []
   },
   "outputs": [
    {
     "data": {
      "text/plain": [
       "@gmail.com         53816\n",
       "@yahoo.com          4243\n",
       "@hotmail.com        2036\n",
       "other                820\n",
       "@icloud.com          305\n",
       "@qq.com              254\n",
       "@outlook.com         201\n",
       "@ymail.com           159\n",
       "@live.com            119\n",
       "@163.com              88\n",
       "@rocketmail.com       42\n",
       "Name: domain, dtype: int64"
      ]
     },
     "execution_count": 77,
     "metadata": {},
     "output_type": "execute_result"
    }
   ],
   "source": [
    "train_flag0['domain'].value_counts()"
   ]
  },
  {
   "cell_type": "code",
   "execution_count": 78,
   "metadata": {
    "execution": {
     "iopub.execute_input": "2020-08-09T04:28:43.282706Z",
     "iopub.status.busy": "2020-08-09T04:28:43.277439Z",
     "iopub.status.idle": "2020-08-09T04:28:43.429320Z",
     "shell.execute_reply": "2020-08-09T04:28:43.428752Z"
    },
    "papermill": {
     "duration": 0.20311,
     "end_time": "2020-08-09T04:28:43.429441",
     "exception": false,
     "start_time": "2020-08-09T04:28:43.226331",
     "status": "completed"
    },
    "tags": []
   },
   "outputs": [
    {
     "data": {
      "text/plain": [
       "<matplotlib.axes._subplots.AxesSubplot at 0x7f0f2ec633d0>"
      ]
     },
     "execution_count": 78,
     "metadata": {},
     "output_type": "execute_result"
    },
    {
     "data": {
      "image/png": "[encoded data removed]",
      "text/plain": [
       "<Figure size 432x288 with 1 Axes>"
      ]
     },
     "metadata": {
      "needs_background": "light"
     },
     "output_type": "display_data"
    }
   ],
   "source": [
    "train_flag1['domain'].hist()"
   ]
  },
  {
   "cell_type": "code",
   "execution_count": 79,
   "metadata": {
    "execution": {
     "iopub.execute_input": "2020-08-09T04:28:43.534590Z",
     "iopub.status.busy": "2020-08-09T04:28:43.533804Z",
     "iopub.status.idle": "2020-08-09T04:28:43.699961Z",
     "shell.execute_reply": "2020-08-09T04:28:43.699410Z"
    },
    "papermill": {
     "duration": 0.223036,
     "end_time": "2020-08-09T04:28:43.700077",
     "exception": false,
     "start_time": "2020-08-09T04:28:43.477041",
     "status": "completed"
    },
    "tags": []
   },
   "outputs": [
    {
     "data": {
      "text/plain": [
       "<matplotlib.axes._subplots.AxesSubplot at 0x7f0f2eaa27d0>"
      ]
     },
     "execution_count": 79,
     "metadata": {},
     "output_type": "execute_result"
    },
    {
     "data": {
      "image/png": "[encoded data removed]",
      "text/plain": [
       "<Figure size 432x288 with 1 Axes>"
      ]
     },
     "metadata": {
      "needs_background": "light"
     },
     "output_type": "display_data"
    }
   ],
   "source": [
    "train_flag0['domain'].hist()"
   ]
  },
  {
   "cell_type": "markdown",
   "execution_count": null,
   "metadata": {
    "papermill": {
     "duration": 0.046707,
     "end_time": "2020-08-09T04:28:43.794297",
     "exception": false,
     "start_time": "2020-08-09T04:28:43.747590",
     "status": "completed"
    },
    "tags": []
   },
   "source": [
    "**New feature: 'domain_type'**"
   ]
  },
  {
   "cell_type": "code",
   "execution_count": 80,
   "metadata": {
    "execution": {
     "iopub.execute_input": "2020-08-09T04:28:43.896122Z",
     "iopub.status.busy": "2020-08-09T04:28:43.895466Z",
     "iopub.status.idle": "2020-08-09T04:28:58.271778Z",
     "shell.execute_reply": "2020-08-09T04:28:58.271094Z"
    },
    "papermill": {
     "duration": 14.430692,
     "end_time": "2020-08-09T04:28:58.271897",
     "exception": false,
     "start_time": "2020-08-09T04:28:43.841205",
     "status": "completed"
    },
    "tags": []
   },
   "outputs": [],
   "source": [
    "list_low_domain = ['@163.com','@gmail.com','@yahoo.com','@ymail.com'] # low open rate\n",
    "list_med_domain = ['@outlook.com','@qq.com','@rocketmail.com'] # medium open rate\n",
    "list_high_domain = ['@hotmail.com','@icloud.com','@live.com','other'] # high open rate\n",
    "\n",
    "def make_domain_type(dom) :\n",
    "    if dom in list_low_domain :\n",
    "        res = 'low_domain'\n",
    "    elif dom in list_med_domain :\n",
    "        res = 'med_domain'\n",
    "    elif dom in list_high_domain :\n",
    "        res = 'high_domain'\n",
    "        \n",
    "    return res\n",
    "\n",
    "train['domain_type'] = train.apply(lambda x : make_domain_type(x['domain']), axis=1)\n",
    "test['domain_type'] = test.apply(lambda x : make_domain_type(x['domain']), axis=1)"
   ]
  },
  {
   "cell_type": "markdown",
   "execution_count": null,
   "metadata": {
    "papermill": {
     "duration": 0.047464,
     "end_time": "2020-08-09T04:28:58.367369",
     "exception": false,
     "start_time": "2020-08-09T04:28:58.319905",
     "status": "completed"
    },
    "tags": []
   },
   "source": [
    "Check this [public kernel](https://www.kaggle.com/marcellosusanto/shopee-ma-eda) for better visualizations and additional insights on 'age_class' and 'domain_type'."
   ]
  },
  {
   "cell_type": "markdown",
   "execution_count": null,
   "metadata": {
    "papermill": {
     "duration": 0.046811,
     "end_time": "2020-08-09T04:28:58.461545",
     "exception": false,
     "start_time": "2020-08-09T04:28:58.414734",
     "status": "completed"
    },
    "tags": []
   },
   "source": [
    "User Attributes"
   ]
  },
  {
   "cell_type": "code",
   "execution_count": 81,
   "metadata": {
    "execution": {
     "iopub.execute_input": "2020-08-09T04:28:58.565485Z",
     "iopub.status.busy": "2020-08-09T04:28:58.564713Z",
     "iopub.status.idle": "2020-08-09T04:28:58.569083Z",
     "shell.execute_reply": "2020-08-09T04:28:58.568590Z"
    },
    "papermill": {
     "duration": 0.060514,
     "end_time": "2020-08-09T04:28:58.569199",
     "exception": false,
     "start_time": "2020-08-09T04:28:58.508685",
     "status": "completed"
    },
    "tags": []
   },
   "outputs": [
    {
     "data": {
      "text/plain": [
       "1.0    7056\n",
       "nan    4394\n",
       "0.0       6\n",
       "Name: attr_1, dtype: int64"
      ]
     },
     "execution_count": 81,
     "metadata": {},
     "output_type": "execute_result"
    }
   ],
   "source": [
    "train_flag1['attr_1'].value_counts()"
   ]
  },
  {
   "cell_type": "code",
   "execution_count": 82,
   "metadata": {
    "execution": {
     "iopub.execute_input": "2020-08-09T04:28:58.677714Z",
     "iopub.status.busy": "2020-08-09T04:28:58.672349Z",
     "iopub.status.idle": "2020-08-09T04:28:58.682012Z",
     "shell.execute_reply": "2020-08-09T04:28:58.681517Z"
    },
    "papermill": {
     "duration": 0.065878,
     "end_time": "2020-08-09T04:28:58.682129",
     "exception": false,
     "start_time": "2020-08-09T04:28:58.616251",
     "status": "completed"
    },
    "tags": []
   },
   "outputs": [
    {
     "data": {
      "text/plain": [
       "1.0    38280\n",
       "nan    23798\n",
       "0.0        5\n",
       "Name: attr_1, dtype: int64"
      ]
     },
     "execution_count": 82,
     "metadata": {},
     "output_type": "execute_result"
    }
   ],
   "source": [
    "train_flag0['attr_1'].value_counts()"
   ]
  },
  {
   "cell_type": "code",
   "execution_count": 83,
   "metadata": {
    "execution": {
     "iopub.execute_input": "2020-08-09T04:28:58.786788Z",
     "iopub.status.busy": "2020-08-09T04:28:58.786103Z",
     "iopub.status.idle": "2020-08-09T04:28:58.852115Z",
     "shell.execute_reply": "2020-08-09T04:28:58.851570Z"
    },
    "papermill": {
     "duration": 0.123152,
     "end_time": "2020-08-09T04:28:58.852233",
     "exception": false,
     "start_time": "2020-08-09T04:28:58.729081",
     "status": "completed"
    },
    "tags": []
   },
   "outputs": [
    {
     "data": {
      "text/html": [
       "<div>\n",
       "<style scoped>\n",
       "    .dataframe tbody tr th:only-of-type {\n",
       "        vertical-align: middle;\n",
       "    }\n",
       "\n",
       "    .dataframe tbody tr th {\n",
       "        vertical-align: top;\n",
       "    }\n",
       "\n",
       "    .dataframe thead th {\n",
       "        text-align: right;\n",
       "    }\n",
       "</style>\n",
       "<table border=\"1\" class=\"dataframe\">\n",
       "  <thead>\n",
       "    <tr style=\"text-align: right;\">\n",
       "      <th></th>\n",
       "      <th>country_code</th>\n",
       "      <th>grass_date</th>\n",
       "      <th>user_id</th>\n",
       "      <th>subject_line_length</th>\n",
       "      <th>last_open_day</th>\n",
       "      <th>last_login_day</th>\n",
       "      <th>last_checkout_day</th>\n",
       "      <th>open_count_last_10_days</th>\n",
       "      <th>open_count_last_30_days</th>\n",
       "      <th>open_count_last_60_days</th>\n",
       "      <th>...</th>\n",
       "      <th>row_id</th>\n",
       "      <th>attr_1</th>\n",
       "      <th>attr_2</th>\n",
       "      <th>attr_3</th>\n",
       "      <th>age</th>\n",
       "      <th>domain</th>\n",
       "      <th>day_of_week</th>\n",
       "      <th>day_of_month</th>\n",
       "      <th>age_class</th>\n",
       "      <th>domain_type</th>\n",
       "    </tr>\n",
       "  </thead>\n",
       "  <tbody>\n",
       "    <tr>\n",
       "      <th>8</th>\n",
       "      <td>1</td>\n",
       "      <td>2019-07-16 00:00:00+08:00</td>\n",
       "      <td>350</td>\n",
       "      <td>49</td>\n",
       "      <td>7</td>\n",
       "      <td>5</td>\n",
       "      <td>26</td>\n",
       "      <td>2</td>\n",
       "      <td>4</td>\n",
       "      <td>7</td>\n",
       "      <td>...</td>\n",
       "      <td>8</td>\n",
       "      <td>nan</td>\n",
       "      <td>1.0</td>\n",
       "      <td>0.0</td>\n",
       "      <td>NaN</td>\n",
       "      <td>@yahoo.com</td>\n",
       "      <td>Tuesday</td>\n",
       "      <td>16</td>\n",
       "      <td>Unknown</td>\n",
       "      <td>low_domain</td>\n",
       "    </tr>\n",
       "    <tr>\n",
       "      <th>86</th>\n",
       "      <td>5</td>\n",
       "      <td>2019-07-16 00:00:00+08:00</td>\n",
       "      <td>4478</td>\n",
       "      <td>43</td>\n",
       "      <td>12</td>\n",
       "      <td>18</td>\n",
       "      <td>58</td>\n",
       "      <td>1</td>\n",
       "      <td>2</td>\n",
       "      <td>9</td>\n",
       "      <td>...</td>\n",
       "      <td>86</td>\n",
       "      <td>nan</td>\n",
       "      <td>1.0</td>\n",
       "      <td>0.0</td>\n",
       "      <td>NaN</td>\n",
       "      <td>@yahoo.com</td>\n",
       "      <td>Tuesday</td>\n",
       "      <td>16</td>\n",
       "      <td>Unknown</td>\n",
       "      <td>low_domain</td>\n",
       "    </tr>\n",
       "    <tr>\n",
       "      <th>164</th>\n",
       "      <td>3</td>\n",
       "      <td>2019-07-16 00:00:00+08:00</td>\n",
       "      <td>10054</td>\n",
       "      <td>36</td>\n",
       "      <td>36</td>\n",
       "      <td>3</td>\n",
       "      <td>3</td>\n",
       "      <td>0</td>\n",
       "      <td>0</td>\n",
       "      <td>4</td>\n",
       "      <td>...</td>\n",
       "      <td>164</td>\n",
       "      <td>nan</td>\n",
       "      <td>1.0</td>\n",
       "      <td>0.0</td>\n",
       "      <td>NaN</td>\n",
       "      <td>@yahoo.com</td>\n",
       "      <td>Tuesday</td>\n",
       "      <td>16</td>\n",
       "      <td>Unknown</td>\n",
       "      <td>low_domain</td>\n",
       "    </tr>\n",
       "    <tr>\n",
       "      <th>168</th>\n",
       "      <td>2</td>\n",
       "      <td>2019-07-16 00:00:00+08:00</td>\n",
       "      <td>10181</td>\n",
       "      <td>48</td>\n",
       "      <td>3</td>\n",
       "      <td>8</td>\n",
       "      <td>13</td>\n",
       "      <td>4</td>\n",
       "      <td>7</td>\n",
       "      <td>12</td>\n",
       "      <td>...</td>\n",
       "      <td>168</td>\n",
       "      <td>nan</td>\n",
       "      <td>1.0</td>\n",
       "      <td>0.0</td>\n",
       "      <td>NaN</td>\n",
       "      <td>@gmail.com</td>\n",
       "      <td>Tuesday</td>\n",
       "      <td>16</td>\n",
       "      <td>Unknown</td>\n",
       "      <td>low_domain</td>\n",
       "    </tr>\n",
       "    <tr>\n",
       "      <th>172</th>\n",
       "      <td>5</td>\n",
       "      <td>2019-07-16 00:00:00+08:00</td>\n",
       "      <td>10451</td>\n",
       "      <td>43</td>\n",
       "      <td>25</td>\n",
       "      <td>15</td>\n",
       "      <td>19</td>\n",
       "      <td>0</td>\n",
       "      <td>1</td>\n",
       "      <td>1</td>\n",
       "      <td>...</td>\n",
       "      <td>172</td>\n",
       "      <td>nan</td>\n",
       "      <td>1.0</td>\n",
       "      <td>0.0</td>\n",
       "      <td>NaN</td>\n",
       "      <td>@gmail.com</td>\n",
       "      <td>Tuesday</td>\n",
       "      <td>16</td>\n",
       "      <td>Unknown</td>\n",
       "      <td>low_domain</td>\n",
       "    </tr>\n",
       "    <tr>\n",
       "      <th>...</th>\n",
       "      <td>...</td>\n",
       "      <td>...</td>\n",
       "      <td>...</td>\n",
       "      <td>...</td>\n",
       "      <td>...</td>\n",
       "      <td>...</td>\n",
       "      <td>...</td>\n",
       "      <td>...</td>\n",
       "      <td>...</td>\n",
       "      <td>...</td>\n",
       "      <td>...</td>\n",
       "      <td>...</td>\n",
       "      <td>...</td>\n",
       "      <td>...</td>\n",
       "      <td>...</td>\n",
       "      <td>...</td>\n",
       "      <td>...</td>\n",
       "      <td>...</td>\n",
       "      <td>...</td>\n",
       "      <td>...</td>\n",
       "      <td>...</td>\n",
       "    </tr>\n",
       "    <tr>\n",
       "      <th>73508</th>\n",
       "      <td>2</td>\n",
       "      <td>2019-09-02 00:00:00+08:00</td>\n",
       "      <td>126959</td>\n",
       "      <td>38</td>\n",
       "      <td>3</td>\n",
       "      <td>243</td>\n",
       "      <td>Never checkout</td>\n",
       "      <td>4</td>\n",
       "      <td>13</td>\n",
       "      <td>28</td>\n",
       "      <td>...</td>\n",
       "      <td>73508</td>\n",
       "      <td>nan</td>\n",
       "      <td>1.0</td>\n",
       "      <td>0.0</td>\n",
       "      <td>NaN</td>\n",
       "      <td>@gmail.com</td>\n",
       "      <td>Monday</td>\n",
       "      <td>2</td>\n",
       "      <td>Unknown</td>\n",
       "      <td>low_domain</td>\n",
       "    </tr>\n",
       "    <tr>\n",
       "      <th>73516</th>\n",
       "      <td>6</td>\n",
       "      <td>2019-09-02 00:00:00+08:00</td>\n",
       "      <td>127132</td>\n",
       "      <td>39</td>\n",
       "      <td>1</td>\n",
       "      <td>1</td>\n",
       "      <td>28</td>\n",
       "      <td>12</td>\n",
       "      <td>25</td>\n",
       "      <td>44</td>\n",
       "      <td>...</td>\n",
       "      <td>73516</td>\n",
       "      <td>nan</td>\n",
       "      <td>1.0</td>\n",
       "      <td>0.0</td>\n",
       "      <td>NaN</td>\n",
       "      <td>@gmail.com</td>\n",
       "      <td>Monday</td>\n",
       "      <td>2</td>\n",
       "      <td>Unknown</td>\n",
       "      <td>low_domain</td>\n",
       "    </tr>\n",
       "    <tr>\n",
       "      <th>73521</th>\n",
       "      <td>6</td>\n",
       "      <td>2019-09-02 00:00:00+08:00</td>\n",
       "      <td>127363</td>\n",
       "      <td>39</td>\n",
       "      <td>18</td>\n",
       "      <td>345</td>\n",
       "      <td>Never checkout</td>\n",
       "      <td>5</td>\n",
       "      <td>8</td>\n",
       "      <td>22</td>\n",
       "      <td>...</td>\n",
       "      <td>73521</td>\n",
       "      <td>nan</td>\n",
       "      <td>1.0</td>\n",
       "      <td>0.0</td>\n",
       "      <td>NaN</td>\n",
       "      <td>@gmail.com</td>\n",
       "      <td>Monday</td>\n",
       "      <td>2</td>\n",
       "      <td>Unknown</td>\n",
       "      <td>low_domain</td>\n",
       "    </tr>\n",
       "    <tr>\n",
       "      <th>73528</th>\n",
       "      <td>2</td>\n",
       "      <td>2019-09-02 00:00:00+08:00</td>\n",
       "      <td>127475</td>\n",
       "      <td>38</td>\n",
       "      <td>4</td>\n",
       "      <td>49</td>\n",
       "      <td>Never checkout</td>\n",
       "      <td>1</td>\n",
       "      <td>9</td>\n",
       "      <td>17</td>\n",
       "      <td>...</td>\n",
       "      <td>73528</td>\n",
       "      <td>nan</td>\n",
       "      <td>1.0</td>\n",
       "      <td>0.0</td>\n",
       "      <td>NaN</td>\n",
       "      <td>@qq.com</td>\n",
       "      <td>Monday</td>\n",
       "      <td>2</td>\n",
       "      <td>Unknown</td>\n",
       "      <td>med_domain</td>\n",
       "    </tr>\n",
       "    <tr>\n",
       "      <th>73533</th>\n",
       "      <td>3</td>\n",
       "      <td>2019-09-02 00:00:00+08:00</td>\n",
       "      <td>127610</td>\n",
       "      <td>49</td>\n",
       "      <td>24</td>\n",
       "      <td>1083</td>\n",
       "      <td>1087</td>\n",
       "      <td>0</td>\n",
       "      <td>3</td>\n",
       "      <td>4</td>\n",
       "      <td>...</td>\n",
       "      <td>73533</td>\n",
       "      <td>nan</td>\n",
       "      <td>1.0</td>\n",
       "      <td>0.0</td>\n",
       "      <td>NaN</td>\n",
       "      <td>@gmail.com</td>\n",
       "      <td>Monday</td>\n",
       "      <td>2</td>\n",
       "      <td>Unknown</td>\n",
       "      <td>low_domain</td>\n",
       "    </tr>\n",
       "  </tbody>\n",
       "</table>\n",
       "<p>4394 rows × 27 columns</p>\n",
       "</div>"
      ],
      "text/plain": [
       "      country_code                grass_date  user_id  subject_line_length  \\\n",
       "8                1 2019-07-16 00:00:00+08:00      350                   49   \n",
       "86               5 2019-07-16 00:00:00+08:00     4478                   43   \n",
       "164              3 2019-07-16 00:00:00+08:00    10054                   36   \n",
       "168              2 2019-07-16 00:00:00+08:00    10181                   48   \n",
       "172              5 2019-07-16 00:00:00+08:00    10451                   43   \n",
       "...            ...                       ...      ...                  ...   \n",
       "73508            2 2019-09-02 00:00:00+08:00   126959                   38   \n",
       "73516            6 2019-09-02 00:00:00+08:00   127132                   39   \n",
       "73521            6 2019-09-02 00:00:00+08:00   127363                   39   \n",
       "73528            2 2019-09-02 00:00:00+08:00   127475                   38   \n",
       "73533            3 2019-09-02 00:00:00+08:00   127610                   49   \n",
       "\n",
       "      last_open_day last_login_day last_checkout_day  open_count_last_10_days  \\\n",
       "8                 7              5                26                        2   \n",
       "86               12             18                58                        1   \n",
       "164              36              3                 3                        0   \n",
       "168               3              8                13                        4   \n",
       "172              25             15                19                        0   \n",
       "...             ...            ...               ...                      ...   \n",
       "73508             3            243    Never checkout                        4   \n",
       "73516             1              1                28                       12   \n",
       "73521            18            345    Never checkout                        5   \n",
       "73528             4             49    Never checkout                        1   \n",
       "73533            24           1083              1087                        0   \n",
       "\n",
       "       open_count_last_30_days  open_count_last_60_days  ...  row_id  attr_1  \\\n",
       "8                            4                        7  ...       8     nan   \n",
       "86                           2                        9  ...      86     nan   \n",
       "164                          0                        4  ...     164     nan   \n",
       "168                          7                       12  ...     168     nan   \n",
       "172                          1                        1  ...     172     nan   \n",
       "...                        ...                      ...  ...     ...     ...   \n",
       "73508                       13                       28  ...   73508     nan   \n",
       "73516                       25                       44  ...   73516     nan   \n",
       "73521                        8                       22  ...   73521     nan   \n",
       "73528                        9                       17  ...   73528     nan   \n",
       "73533                        3                        4  ...   73533     nan   \n",
       "\n",
       "       attr_2  attr_3  age      domain  day_of_week  day_of_month age_class  \\\n",
       "8         1.0     0.0  NaN  @yahoo.com      Tuesday            16   Unknown   \n",
       "86        1.0     0.0  NaN  @yahoo.com      Tuesday            16   Unknown   \n",
       "164       1.0     0.0  NaN  @yahoo.com      Tuesday            16   Unknown   \n",
       "168       1.0     0.0  NaN  @gmail.com      Tuesday            16   Unknown   \n",
       "172       1.0     0.0  NaN  @gmail.com      Tuesday            16   Unknown   \n",
       "...       ...     ...  ...         ...          ...           ...       ...   \n",
       "73508     1.0     0.0  NaN  @gmail.com       Monday             2   Unknown   \n",
       "73516     1.0     0.0  NaN  @gmail.com       Monday             2   Unknown   \n",
       "73521     1.0     0.0  NaN  @gmail.com       Monday             2   Unknown   \n",
       "73528     1.0     0.0  NaN     @qq.com       Monday             2   Unknown   \n",
       "73533     1.0     0.0  NaN  @gmail.com       Monday             2   Unknown   \n",
       "\n",
       "      domain_type  \n",
       "8      low_domain  \n",
       "86     low_domain  \n",
       "164    low_domain  \n",
       "168    low_domain  \n",
       "172    low_domain  \n",
       "...           ...  \n",
       "73508  low_domain  \n",
       "73516  low_domain  \n",
       "73521  low_domain  \n",
       "73528  med_domain  \n",
       "73533  low_domain  \n",
       "\n",
       "[4394 rows x 27 columns]"
      ]
     },
     "execution_count": 83,
     "metadata": {},
     "output_type": "execute_result"
    }
   ],
   "source": [
    "train[(train['open_flag'] == 1) & (train['attr_1'] == 'nan')]"
   ]
  },
  {
   "cell_type": "code",
   "execution_count": 84,
   "metadata": {
    "execution": {
     "iopub.execute_input": "2020-08-09T04:28:58.958134Z",
     "iopub.status.busy": "2020-08-09T04:28:58.957452Z",
     "iopub.status.idle": "2020-08-09T04:28:59.024196Z",
     "shell.execute_reply": "2020-08-09T04:28:59.023649Z"
    },
    "papermill": {
     "duration": 0.124411,
     "end_time": "2020-08-09T04:28:59.024310",
     "exception": false,
     "start_time": "2020-08-09T04:28:58.899899",
     "status": "completed"
    },
    "tags": []
   },
   "outputs": [
    {
     "data": {
      "text/html": [
       "<div>\n",
       "<style scoped>\n",
       "    .dataframe tbody tr th:only-of-type {\n",
       "        vertical-align: middle;\n",
       "    }\n",
       "\n",
       "    .dataframe tbody tr th {\n",
       "        vertical-align: top;\n",
       "    }\n",
       "\n",
       "    .dataframe thead th {\n",
       "        text-align: right;\n",
       "    }\n",
       "</style>\n",
       "<table border=\"1\" class=\"dataframe\">\n",
       "  <thead>\n",
       "    <tr style=\"text-align: right;\">\n",
       "      <th></th>\n",
       "      <th>country_code</th>\n",
       "      <th>grass_date</th>\n",
       "      <th>user_id</th>\n",
       "      <th>subject_line_length</th>\n",
       "      <th>last_open_day</th>\n",
       "      <th>last_login_day</th>\n",
       "      <th>last_checkout_day</th>\n",
       "      <th>open_count_last_10_days</th>\n",
       "      <th>open_count_last_30_days</th>\n",
       "      <th>open_count_last_60_days</th>\n",
       "      <th>...</th>\n",
       "      <th>row_id</th>\n",
       "      <th>attr_1</th>\n",
       "      <th>attr_2</th>\n",
       "      <th>attr_3</th>\n",
       "      <th>age</th>\n",
       "      <th>domain</th>\n",
       "      <th>day_of_week</th>\n",
       "      <th>day_of_month</th>\n",
       "      <th>age_class</th>\n",
       "      <th>domain_type</th>\n",
       "    </tr>\n",
       "  </thead>\n",
       "  <tbody>\n",
       "    <tr>\n",
       "      <th>2</th>\n",
       "      <td>6</td>\n",
       "      <td>2019-07-16 00:00:00+08:00</td>\n",
       "      <td>177</td>\n",
       "      <td>49</td>\n",
       "      <td>14</td>\n",
       "      <td>5</td>\n",
       "      <td>5</td>\n",
       "      <td>0</td>\n",
       "      <td>4</td>\n",
       "      <td>12</td>\n",
       "      <td>...</td>\n",
       "      <td>2</td>\n",
       "      <td>nan</td>\n",
       "      <td>1.0</td>\n",
       "      <td>0.0</td>\n",
       "      <td>NaN</td>\n",
       "      <td>@yahoo.com</td>\n",
       "      <td>Tuesday</td>\n",
       "      <td>16</td>\n",
       "      <td>Unknown</td>\n",
       "      <td>low_domain</td>\n",
       "    </tr>\n",
       "    <tr>\n",
       "      <th>4</th>\n",
       "      <td>6</td>\n",
       "      <td>2019-07-16 00:00:00+08:00</td>\n",
       "      <td>221</td>\n",
       "      <td>49</td>\n",
       "      <td>227</td>\n",
       "      <td>6</td>\n",
       "      <td>221</td>\n",
       "      <td>0</td>\n",
       "      <td>0</td>\n",
       "      <td>0</td>\n",
       "      <td>...</td>\n",
       "      <td>4</td>\n",
       "      <td>nan</td>\n",
       "      <td>1.0</td>\n",
       "      <td>0.0</td>\n",
       "      <td>NaN</td>\n",
       "      <td>@hotmail.com</td>\n",
       "      <td>Tuesday</td>\n",
       "      <td>16</td>\n",
       "      <td>Unknown</td>\n",
       "      <td>high_domain</td>\n",
       "    </tr>\n",
       "    <tr>\n",
       "      <th>14</th>\n",
       "      <td>2</td>\n",
       "      <td>2019-07-16 00:00:00+08:00</td>\n",
       "      <td>635</td>\n",
       "      <td>36</td>\n",
       "      <td>Never open</td>\n",
       "      <td>44</td>\n",
       "      <td>57</td>\n",
       "      <td>0</td>\n",
       "      <td>0</td>\n",
       "      <td>0</td>\n",
       "      <td>...</td>\n",
       "      <td>14</td>\n",
       "      <td>nan</td>\n",
       "      <td>1.0</td>\n",
       "      <td>0.0</td>\n",
       "      <td>NaN</td>\n",
       "      <td>@hotmail.com</td>\n",
       "      <td>Tuesday</td>\n",
       "      <td>16</td>\n",
       "      <td>Unknown</td>\n",
       "      <td>high_domain</td>\n",
       "    </tr>\n",
       "    <tr>\n",
       "      <th>26</th>\n",
       "      <td>1</td>\n",
       "      <td>2019-07-16 00:00:00+08:00</td>\n",
       "      <td>1217</td>\n",
       "      <td>64</td>\n",
       "      <td>70</td>\n",
       "      <td>1396</td>\n",
       "      <td>Never checkout</td>\n",
       "      <td>0</td>\n",
       "      <td>0</td>\n",
       "      <td>0</td>\n",
       "      <td>...</td>\n",
       "      <td>26</td>\n",
       "      <td>nan</td>\n",
       "      <td>1.0</td>\n",
       "      <td>0.0</td>\n",
       "      <td>NaN</td>\n",
       "      <td>@gmail.com</td>\n",
       "      <td>Tuesday</td>\n",
       "      <td>16</td>\n",
       "      <td>Unknown</td>\n",
       "      <td>low_domain</td>\n",
       "    </tr>\n",
       "    <tr>\n",
       "      <th>29</th>\n",
       "      <td>4</td>\n",
       "      <td>2019-07-16 00:00:00+08:00</td>\n",
       "      <td>1349</td>\n",
       "      <td>40</td>\n",
       "      <td>26</td>\n",
       "      <td>6</td>\n",
       "      <td>139</td>\n",
       "      <td>0</td>\n",
       "      <td>1</td>\n",
       "      <td>1</td>\n",
       "      <td>...</td>\n",
       "      <td>29</td>\n",
       "      <td>nan</td>\n",
       "      <td>1.0</td>\n",
       "      <td>0.0</td>\n",
       "      <td>NaN</td>\n",
       "      <td>@hotmail.com</td>\n",
       "      <td>Tuesday</td>\n",
       "      <td>16</td>\n",
       "      <td>Unknown</td>\n",
       "      <td>high_domain</td>\n",
       "    </tr>\n",
       "    <tr>\n",
       "      <th>...</th>\n",
       "      <td>...</td>\n",
       "      <td>...</td>\n",
       "      <td>...</td>\n",
       "      <td>...</td>\n",
       "      <td>...</td>\n",
       "      <td>...</td>\n",
       "      <td>...</td>\n",
       "      <td>...</td>\n",
       "      <td>...</td>\n",
       "      <td>...</td>\n",
       "      <td>...</td>\n",
       "      <td>...</td>\n",
       "      <td>...</td>\n",
       "      <td>...</td>\n",
       "      <td>...</td>\n",
       "      <td>...</td>\n",
       "      <td>...</td>\n",
       "      <td>...</td>\n",
       "      <td>...</td>\n",
       "      <td>...</td>\n",
       "      <td>...</td>\n",
       "    </tr>\n",
       "    <tr>\n",
       "      <th>73531</th>\n",
       "      <td>4</td>\n",
       "      <td>2019-09-02 00:00:00+08:00</td>\n",
       "      <td>127547</td>\n",
       "      <td>34</td>\n",
       "      <td>45</td>\n",
       "      <td>3</td>\n",
       "      <td>73</td>\n",
       "      <td>0</td>\n",
       "      <td>0</td>\n",
       "      <td>3</td>\n",
       "      <td>...</td>\n",
       "      <td>73531</td>\n",
       "      <td>nan</td>\n",
       "      <td>1.0</td>\n",
       "      <td>0.0</td>\n",
       "      <td>NaN</td>\n",
       "      <td>@gmail.com</td>\n",
       "      <td>Monday</td>\n",
       "      <td>2</td>\n",
       "      <td>Unknown</td>\n",
       "      <td>low_domain</td>\n",
       "    </tr>\n",
       "    <tr>\n",
       "      <th>73532</th>\n",
       "      <td>1</td>\n",
       "      <td>2019-09-02 00:00:00+08:00</td>\n",
       "      <td>127595</td>\n",
       "      <td>33</td>\n",
       "      <td>8</td>\n",
       "      <td>18</td>\n",
       "      <td>Never checkout</td>\n",
       "      <td>1</td>\n",
       "      <td>3</td>\n",
       "      <td>3</td>\n",
       "      <td>...</td>\n",
       "      <td>73532</td>\n",
       "      <td>nan</td>\n",
       "      <td>1.0</td>\n",
       "      <td>0.0</td>\n",
       "      <td>NaN</td>\n",
       "      <td>@gmail.com</td>\n",
       "      <td>Monday</td>\n",
       "      <td>2</td>\n",
       "      <td>Unknown</td>\n",
       "      <td>low_domain</td>\n",
       "    </tr>\n",
       "    <tr>\n",
       "      <th>73534</th>\n",
       "      <td>6</td>\n",
       "      <td>2019-09-02 00:00:00+08:00</td>\n",
       "      <td>127613</td>\n",
       "      <td>39</td>\n",
       "      <td>24</td>\n",
       "      <td>36</td>\n",
       "      <td>279</td>\n",
       "      <td>0</td>\n",
       "      <td>1</td>\n",
       "      <td>1</td>\n",
       "      <td>...</td>\n",
       "      <td>73534</td>\n",
       "      <td>nan</td>\n",
       "      <td>1.0</td>\n",
       "      <td>0.0</td>\n",
       "      <td>NaN</td>\n",
       "      <td>@hotmail.com</td>\n",
       "      <td>Monday</td>\n",
       "      <td>2</td>\n",
       "      <td>Unknown</td>\n",
       "      <td>high_domain</td>\n",
       "    </tr>\n",
       "    <tr>\n",
       "      <th>73536</th>\n",
       "      <td>2</td>\n",
       "      <td>2019-09-02 00:00:00+08:00</td>\n",
       "      <td>127696</td>\n",
       "      <td>32</td>\n",
       "      <td>Never open</td>\n",
       "      <td>Never login</td>\n",
       "      <td>Never checkout</td>\n",
       "      <td>0</td>\n",
       "      <td>0</td>\n",
       "      <td>0</td>\n",
       "      <td>...</td>\n",
       "      <td>73536</td>\n",
       "      <td>nan</td>\n",
       "      <td>nan</td>\n",
       "      <td>0.0</td>\n",
       "      <td>NaN</td>\n",
       "      <td>@gmail.com</td>\n",
       "      <td>Monday</td>\n",
       "      <td>2</td>\n",
       "      <td>Unknown</td>\n",
       "      <td>low_domain</td>\n",
       "    </tr>\n",
       "    <tr>\n",
       "      <th>73538</th>\n",
       "      <td>6</td>\n",
       "      <td>2019-09-02 00:00:00+08:00</td>\n",
       "      <td>127880</td>\n",
       "      <td>39</td>\n",
       "      <td>1</td>\n",
       "      <td>3</td>\n",
       "      <td>Never checkout</td>\n",
       "      <td>2</td>\n",
       "      <td>2</td>\n",
       "      <td>3</td>\n",
       "      <td>...</td>\n",
       "      <td>73538</td>\n",
       "      <td>nan</td>\n",
       "      <td>1.0</td>\n",
       "      <td>0.0</td>\n",
       "      <td>NaN</td>\n",
       "      <td>@gmail.com</td>\n",
       "      <td>Monday</td>\n",
       "      <td>2</td>\n",
       "      <td>Unknown</td>\n",
       "      <td>low_domain</td>\n",
       "    </tr>\n",
       "  </tbody>\n",
       "</table>\n",
       "<p>23798 rows × 27 columns</p>\n",
       "</div>"
      ],
      "text/plain": [
       "      country_code                grass_date  user_id  subject_line_length  \\\n",
       "2                6 2019-07-16 00:00:00+08:00      177                   49   \n",
       "4                6 2019-07-16 00:00:00+08:00      221                   49   \n",
       "14               2 2019-07-16 00:00:00+08:00      635                   36   \n",
       "26               1 2019-07-16 00:00:00+08:00     1217                   64   \n",
       "29               4 2019-07-16 00:00:00+08:00     1349                   40   \n",
       "...            ...                       ...      ...                  ...   \n",
       "73531            4 2019-09-02 00:00:00+08:00   127547                   34   \n",
       "73532            1 2019-09-02 00:00:00+08:00   127595                   33   \n",
       "73534            6 2019-09-02 00:00:00+08:00   127613                   39   \n",
       "73536            2 2019-09-02 00:00:00+08:00   127696                   32   \n",
       "73538            6 2019-09-02 00:00:00+08:00   127880                   39   \n",
       "\n",
       "      last_open_day last_login_day last_checkout_day  open_count_last_10_days  \\\n",
       "2                14              5                 5                        0   \n",
       "4               227              6               221                        0   \n",
       "14       Never open             44                57                        0   \n",
       "26               70           1396    Never checkout                        0   \n",
       "29               26              6               139                        0   \n",
       "...             ...            ...               ...                      ...   \n",
       "73531            45              3                73                        0   \n",
       "73532             8             18    Never checkout                        1   \n",
       "73534            24             36               279                        0   \n",
       "73536    Never open    Never login    Never checkout                        0   \n",
       "73538             1              3    Never checkout                        2   \n",
       "\n",
       "       open_count_last_30_days  open_count_last_60_days  ...  row_id  attr_1  \\\n",
       "2                            4                       12  ...       2     nan   \n",
       "4                            0                        0  ...       4     nan   \n",
       "14                           0                        0  ...      14     nan   \n",
       "26                           0                        0  ...      26     nan   \n",
       "29                           1                        1  ...      29     nan   \n",
       "...                        ...                      ...  ...     ...     ...   \n",
       "73531                        0                        3  ...   73531     nan   \n",
       "73532                        3                        3  ...   73532     nan   \n",
       "73534                        1                        1  ...   73534     nan   \n",
       "73536                        0                        0  ...   73536     nan   \n",
       "73538                        2                        3  ...   73538     nan   \n",
       "\n",
       "       attr_2  attr_3  age        domain  day_of_week  day_of_month age_class  \\\n",
       "2         1.0     0.0  NaN    @yahoo.com      Tuesday            16   Unknown   \n",
       "4         1.0     0.0  NaN  @hotmail.com      Tuesday            16   Unknown   \n",
       "14        1.0     0.0  NaN  @hotmail.com      Tuesday            16   Unknown   \n",
       "26        1.0     0.0  NaN    @gmail.com      Tuesday            16   Unknown   \n",
       "29        1.0     0.0  NaN  @hotmail.com      Tuesday            16   Unknown   \n",
       "...       ...     ...  ...           ...          ...           ...       ...   \n",
       "73531     1.0     0.0  NaN    @gmail.com       Monday             2   Unknown   \n",
       "73532     1.0     0.0  NaN    @gmail.com       Monday             2   Unknown   \n",
       "73534     1.0     0.0  NaN  @hotmail.com       Monday             2   Unknown   \n",
       "73536     nan     0.0  NaN    @gmail.com       Monday             2   Unknown   \n",
       "73538     1.0     0.0  NaN    @gmail.com       Monday             2   Unknown   \n",
       "\n",
       "       domain_type  \n",
       "2       low_domain  \n",
       "4      high_domain  \n",
       "14     high_domain  \n",
       "26      low_domain  \n",
       "29     high_domain  \n",
       "...            ...  \n",
       "73531   low_domain  \n",
       "73532   low_domain  \n",
       "73534  high_domain  \n",
       "73536   low_domain  \n",
       "73538   low_domain  \n",
       "\n",
       "[23798 rows x 27 columns]"
      ]
     },
     "execution_count": 84,
     "metadata": {},
     "output_type": "execute_result"
    }
   ],
   "source": [
    "train[(train['open_flag'] == 0) & (train['attr_1'] == 'nan')]"
   ]
  },
  {
   "cell_type": "code",
   "execution_count": 85,
   "metadata": {
    "execution": {
     "iopub.execute_input": "2020-08-09T04:28:59.130368Z",
     "iopub.status.busy": "2020-08-09T04:28:59.129395Z",
     "iopub.status.idle": "2020-08-09T04:28:59.133275Z",
     "shell.execute_reply": "2020-08-09T04:28:59.132658Z"
    },
    "papermill": {
     "duration": 0.060989,
     "end_time": "2020-08-09T04:28:59.133386",
     "exception": false,
     "start_time": "2020-08-09T04:28:59.072397",
     "status": "completed"
    },
    "tags": []
   },
   "outputs": [
    {
     "data": {
      "text/plain": [
       "1.0    11353\n",
       "nan       74\n",
       "0.0       29\n",
       "Name: attr_2, dtype: int64"
      ]
     },
     "execution_count": 85,
     "metadata": {},
     "output_type": "execute_result"
    }
   ],
   "source": [
    "train_flag1['attr_2'].value_counts()"
   ]
  },
  {
   "cell_type": "code",
   "execution_count": 86,
   "metadata": {
    "execution": {
     "iopub.execute_input": "2020-08-09T04:28:59.249213Z",
     "iopub.status.busy": "2020-08-09T04:28:59.245761Z",
     "iopub.status.idle": "2020-08-09T04:28:59.255269Z",
     "shell.execute_reply": "2020-08-09T04:28:59.254752Z"
    },
    "papermill": {
     "duration": 0.073785,
     "end_time": "2020-08-09T04:28:59.255391",
     "exception": false,
     "start_time": "2020-08-09T04:28:59.181606",
     "status": "completed"
    },
    "tags": []
   },
   "outputs": [
    {
     "data": {
      "text/plain": [
       "1.0    61706\n",
       "nan      205\n",
       "0.0      172\n",
       "Name: attr_2, dtype: int64"
      ]
     },
     "execution_count": 86,
     "metadata": {},
     "output_type": "execute_result"
    }
   ],
   "source": [
    "train_flag0['attr_2'].value_counts()"
   ]
  },
  {
   "cell_type": "code",
   "execution_count": 87,
   "metadata": {
    "execution": {
     "iopub.execute_input": "2020-08-09T04:28:59.363443Z",
     "iopub.status.busy": "2020-08-09T04:28:59.362643Z",
     "iopub.status.idle": "2020-08-09T04:28:59.366218Z",
     "shell.execute_reply": "2020-08-09T04:28:59.366649Z"
    },
    "papermill": {
     "duration": 0.062699,
     "end_time": "2020-08-09T04:28:59.366792",
     "exception": false,
     "start_time": "2020-08-09T04:28:59.304093",
     "status": "completed"
    },
    "tags": []
   },
   "outputs": [
    {
     "data": {
      "text/plain": [
       "0.0    4397\n",
       "2.0    3450\n",
       "1.0    3041\n",
       "4.0     310\n",
       "3.0     258\n",
       "Name: attr_3, dtype: int64"
      ]
     },
     "execution_count": 87,
     "metadata": {},
     "output_type": "execute_result"
    }
   ],
   "source": [
    "train_flag1['attr_3'].value_counts()"
   ]
  },
  {
   "cell_type": "code",
   "execution_count": 88,
   "metadata": {
    "execution": {
     "iopub.execute_input": "2020-08-09T04:28:59.479222Z",
     "iopub.status.busy": "2020-08-09T04:28:59.478476Z",
     "iopub.status.idle": "2020-08-09T04:28:59.482852Z",
     "shell.execute_reply": "2020-08-09T04:28:59.482306Z"
    },
    "papermill": {
     "duration": 0.067668,
     "end_time": "2020-08-09T04:28:59.482987",
     "exception": false,
     "start_time": "2020-08-09T04:28:59.415319",
     "status": "completed"
    },
    "tags": []
   },
   "outputs": [
    {
     "data": {
      "text/plain": [
       "0.0    23811\n",
       "2.0    19954\n",
       "1.0    14719\n",
       "4.0     1886\n",
       "3.0     1713\n",
       "Name: attr_3, dtype: int64"
      ]
     },
     "execution_count": 88,
     "metadata": {},
     "output_type": "execute_result"
    }
   ],
   "source": [
    "train_flag0['attr_3'].value_counts()"
   ]
  },
  {
   "cell_type": "markdown",
   "execution_count": null,
   "metadata": {
    "papermill": {
     "duration": 0.048258,
     "end_time": "2020-08-09T04:28:59.580309",
     "exception": false,
     "start_time": "2020-08-09T04:28:59.532051",
     "status": "completed"
    },
    "tags": []
   },
   "source": [
    "**Clean data**"
   ]
  },
  {
   "cell_type": "code",
   "execution_count": 89,
   "metadata": {
    "execution": {
     "iopub.execute_input": "2020-08-09T04:28:59.681623Z",
     "iopub.status.busy": "2020-08-09T04:28:59.681004Z",
     "iopub.status.idle": "2020-08-09T04:28:59.721344Z",
     "shell.execute_reply": "2020-08-09T04:28:59.720702Z"
    },
    "papermill": {
     "duration": 0.092878,
     "end_time": "2020-08-09T04:28:59.721472",
     "exception": false,
     "start_time": "2020-08-09T04:28:59.628594",
     "status": "completed"
    },
    "tags": []
   },
   "outputs": [
    {
     "data": {
      "text/plain": [
       "country_code                       0\n",
       "grass_date                         0\n",
       "user_id                            0\n",
       "subject_line_length                0\n",
       "last_open_day                      0\n",
       "last_login_day                     0\n",
       "last_checkout_day                  0\n",
       "open_count_last_10_days            0\n",
       "open_count_last_30_days            0\n",
       "open_count_last_60_days            0\n",
       "login_count_last_10_days           0\n",
       "login_count_last_30_days           0\n",
       "login_count_last_60_days           0\n",
       "checkout_count_last_10_days        0\n",
       "checkout_count_last_30_days        0\n",
       "checkout_count_last_60_days        0\n",
       "open_flag                          0\n",
       "row_id                             0\n",
       "attr_1                             0\n",
       "attr_2                             0\n",
       "attr_3                             0\n",
       "age                            28489\n",
       "domain                             0\n",
       "day_of_week                        0\n",
       "day_of_month                       0\n",
       "age_class                          0\n",
       "domain_type                        0\n",
       "dtype: int64"
      ]
     },
     "execution_count": 89,
     "metadata": {},
     "output_type": "execute_result"
    }
   ],
   "source": [
    "train.isna().sum()"
   ]
  },
  {
   "cell_type": "code",
   "execution_count": 90,
   "metadata": {
    "execution": {
     "iopub.execute_input": "2020-08-09T04:28:59.823435Z",
     "iopub.status.busy": "2020-08-09T04:28:59.822767Z",
     "iopub.status.idle": "2020-08-09T04:28:59.867353Z",
     "shell.execute_reply": "2020-08-09T04:28:59.867777Z"
    },
    "papermill": {
     "duration": 0.097946,
     "end_time": "2020-08-09T04:28:59.867951",
     "exception": false,
     "start_time": "2020-08-09T04:28:59.770005",
     "status": "completed"
    },
    "tags": []
   },
   "outputs": [
    {
     "data": {
      "text/plain": [
       "country_code                       0\n",
       "grass_date                         0\n",
       "user_id                            0\n",
       "subject_line_length                0\n",
       "last_open_day                      0\n",
       "last_login_day                     0\n",
       "last_checkout_day                  0\n",
       "open_count_last_10_days            0\n",
       "open_count_last_30_days            0\n",
       "open_count_last_60_days            0\n",
       "login_count_last_10_days           0\n",
       "login_count_last_30_days           0\n",
       "login_count_last_60_days           0\n",
       "checkout_count_last_10_days        0\n",
       "checkout_count_last_30_days        0\n",
       "checkout_count_last_60_days        0\n",
       "row_id                             0\n",
       "attr_1                             0\n",
       "attr_2                             0\n",
       "attr_3                             0\n",
       "age                            21406\n",
       "domain                             0\n",
       "day_of_week                        0\n",
       "day_of_month                       0\n",
       "age_class                          0\n",
       "domain_type                        0\n",
       "dtype: int64"
      ]
     },
     "execution_count": 90,
     "metadata": {},
     "output_type": "execute_result"
    }
   ],
   "source": [
    "test.isna().sum()"
   ]
  },
  {
   "cell_type": "code",
   "execution_count": 91,
   "metadata": {
    "execution": {
     "iopub.execute_input": "2020-08-09T04:28:59.971515Z",
     "iopub.status.busy": "2020-08-09T04:28:59.970800Z",
     "iopub.status.idle": "2020-08-09T04:28:59.985150Z",
     "shell.execute_reply": "2020-08-09T04:28:59.984511Z"
    },
    "papermill": {
     "duration": 0.068514,
     "end_time": "2020-08-09T04:28:59.985269",
     "exception": false,
     "start_time": "2020-08-09T04:28:59.916755",
     "status": "completed"
    },
    "tags": []
   },
   "outputs": [
    {
     "data": {
      "text/html": [
       "<div>\n",
       "<style scoped>\n",
       "    .dataframe tbody tr th:only-of-type {\n",
       "        vertical-align: middle;\n",
       "    }\n",
       "\n",
       "    .dataframe tbody tr th {\n",
       "        vertical-align: top;\n",
       "    }\n",
       "\n",
       "    .dataframe thead th {\n",
       "        text-align: right;\n",
       "    }\n",
       "</style>\n",
       "<table border=\"1\" class=\"dataframe\">\n",
       "  <thead>\n",
       "    <tr style=\"text-align: right;\">\n",
       "      <th></th>\n",
       "      <th>attr_1</th>\n",
       "      <th>attr_2</th>\n",
       "      <th>attr_3</th>\n",
       "    </tr>\n",
       "  </thead>\n",
       "  <tbody>\n",
       "    <tr>\n",
       "      <th>0</th>\n",
       "      <td>1.0</td>\n",
       "      <td>1.0</td>\n",
       "      <td>2.0</td>\n",
       "    </tr>\n",
       "    <tr>\n",
       "      <th>1</th>\n",
       "      <td>1.0</td>\n",
       "      <td>1.0</td>\n",
       "      <td>2.0</td>\n",
       "    </tr>\n",
       "    <tr>\n",
       "      <th>2</th>\n",
       "      <td>nan</td>\n",
       "      <td>1.0</td>\n",
       "      <td>0.0</td>\n",
       "    </tr>\n",
       "    <tr>\n",
       "      <th>3</th>\n",
       "      <td>1.0</td>\n",
       "      <td>1.0</td>\n",
       "      <td>2.0</td>\n",
       "    </tr>\n",
       "    <tr>\n",
       "      <th>4</th>\n",
       "      <td>nan</td>\n",
       "      <td>1.0</td>\n",
       "      <td>0.0</td>\n",
       "    </tr>\n",
       "    <tr>\n",
       "      <th>...</th>\n",
       "      <td>...</td>\n",
       "      <td>...</td>\n",
       "      <td>...</td>\n",
       "    </tr>\n",
       "    <tr>\n",
       "      <th>73534</th>\n",
       "      <td>nan</td>\n",
       "      <td>1.0</td>\n",
       "      <td>0.0</td>\n",
       "    </tr>\n",
       "    <tr>\n",
       "      <th>73535</th>\n",
       "      <td>1.0</td>\n",
       "      <td>1.0</td>\n",
       "      <td>2.0</td>\n",
       "    </tr>\n",
       "    <tr>\n",
       "      <th>73536</th>\n",
       "      <td>nan</td>\n",
       "      <td>nan</td>\n",
       "      <td>0.0</td>\n",
       "    </tr>\n",
       "    <tr>\n",
       "      <th>73537</th>\n",
       "      <td>1.0</td>\n",
       "      <td>1.0</td>\n",
       "      <td>1.0</td>\n",
       "    </tr>\n",
       "    <tr>\n",
       "      <th>73538</th>\n",
       "      <td>nan</td>\n",
       "      <td>1.0</td>\n",
       "      <td>0.0</td>\n",
       "    </tr>\n",
       "  </tbody>\n",
       "</table>\n",
       "<p>73539 rows × 3 columns</p>\n",
       "</div>"
      ],
      "text/plain": [
       "      attr_1 attr_2 attr_3\n",
       "0        1.0    1.0    2.0\n",
       "1        1.0    1.0    2.0\n",
       "2        nan    1.0    0.0\n",
       "3        1.0    1.0    2.0\n",
       "4        nan    1.0    0.0\n",
       "...      ...    ...    ...\n",
       "73534    nan    1.0    0.0\n",
       "73535    1.0    1.0    2.0\n",
       "73536    nan    nan    0.0\n",
       "73537    1.0    1.0    1.0\n",
       "73538    nan    1.0    0.0\n",
       "\n",
       "[73539 rows x 3 columns]"
      ]
     },
     "execution_count": 91,
     "metadata": {},
     "output_type": "execute_result"
    }
   ],
   "source": [
    "train[['attr_1', 'attr_2', 'attr_3']]"
   ]
  },
  {
   "cell_type": "code",
   "execution_count": 92,
   "metadata": {
    "execution": {
     "iopub.execute_input": "2020-08-09T04:29:00.095825Z",
     "iopub.status.busy": "2020-08-09T04:29:00.094734Z",
     "iopub.status.idle": "2020-08-09T04:29:00.113746Z",
     "shell.execute_reply": "2020-08-09T04:29:00.113179Z"
    },
    "papermill": {
     "duration": 0.079263,
     "end_time": "2020-08-09T04:29:00.113863",
     "exception": false,
     "start_time": "2020-08-09T04:29:00.034600",
     "status": "completed"
    },
    "tags": []
   },
   "outputs": [],
   "source": [
    "# add a new unknown variable per attribute\n",
    "train['attr_1'] = train['attr_1'].replace(['nan'], '2.0')\n",
    "train['attr_2'] = train['attr_2'].replace(['nan'], '2.0')\n",
    "test['attr_1'] = test['attr_1'].replace(['nan'], '2.0')\n",
    "test['attr_2'] = test['attr_2'].replace(['nan'], '2.0')\n",
    "\n",
    "# print(train['attr_1'].isna().sum(), test['attr_1'].isna().sum())\n",
    "# print(train['attr_2'].isna().sum(), test['attr_1'].isna().sum())"
   ]
  },
  {
   "cell_type": "code",
   "execution_count": 93,
   "metadata": {
    "execution": {
     "iopub.execute_input": "2020-08-09T04:29:00.226868Z",
     "iopub.status.busy": "2020-08-09T04:29:00.226181Z",
     "iopub.status.idle": "2020-08-09T04:29:00.230714Z",
     "shell.execute_reply": "2020-08-09T04:29:00.230199Z"
    },
    "papermill": {
     "duration": 0.067319,
     "end_time": "2020-08-09T04:29:00.230841",
     "exception": false,
     "start_time": "2020-08-09T04:29:00.163522",
     "status": "completed"
    },
    "tags": []
   },
   "outputs": [
    {
     "data": {
      "text/plain": [
       "1.0    45336\n",
       "2.0    28192\n",
       "0.0       11\n",
       "Name: attr_1, dtype: int64"
      ]
     },
     "execution_count": 93,
     "metadata": {},
     "output_type": "execute_result"
    }
   ],
   "source": [
    "train['attr_1'].value_counts()"
   ]
  },
  {
   "cell_type": "code",
   "execution_count": 94,
   "metadata": {
    "execution": {
     "iopub.execute_input": "2020-08-09T04:29:00.334028Z",
     "iopub.status.busy": "2020-08-09T04:29:00.333380Z",
     "iopub.status.idle": "2020-08-09T04:29:00.374014Z",
     "shell.execute_reply": "2020-08-09T04:29:00.373385Z"
    },
    "papermill": {
     "duration": 0.094223,
     "end_time": "2020-08-09T04:29:00.374130",
     "exception": false,
     "start_time": "2020-08-09T04:29:00.279907",
     "status": "completed"
    },
    "tags": []
   },
   "outputs": [
    {
     "data": {
      "text/plain": [
       "country_code                       0\n",
       "grass_date                         0\n",
       "user_id                            0\n",
       "subject_line_length                0\n",
       "last_open_day                      0\n",
       "last_login_day                     0\n",
       "last_checkout_day                  0\n",
       "open_count_last_10_days            0\n",
       "open_count_last_30_days            0\n",
       "open_count_last_60_days            0\n",
       "login_count_last_10_days           0\n",
       "login_count_last_30_days           0\n",
       "login_count_last_60_days           0\n",
       "checkout_count_last_10_days        0\n",
       "checkout_count_last_30_days        0\n",
       "checkout_count_last_60_days        0\n",
       "open_flag                          0\n",
       "row_id                             0\n",
       "attr_1                             0\n",
       "attr_2                             0\n",
       "attr_3                             0\n",
       "age                            28489\n",
       "domain                             0\n",
       "day_of_week                        0\n",
       "day_of_month                       0\n",
       "age_class                          0\n",
       "domain_type                        0\n",
       "dtype: int64"
      ]
     },
     "execution_count": 94,
     "metadata": {},
     "output_type": "execute_result"
    }
   ],
   "source": [
    "train.isna().sum()"
   ]
  },
  {
   "cell_type": "code",
   "execution_count": 95,
   "metadata": {
    "execution": {
     "iopub.execute_input": "2020-08-09T04:29:00.514585Z",
     "iopub.status.busy": "2020-08-09T04:29:00.513939Z",
     "iopub.status.idle": "2020-08-09T04:29:00.546701Z",
     "shell.execute_reply": "2020-08-09T04:29:00.546091Z"
    },
    "papermill": {
     "duration": 0.122767,
     "end_time": "2020-08-09T04:29:00.546838",
     "exception": false,
     "start_time": "2020-08-09T04:29:00.424071",
     "status": "completed"
    },
    "tags": []
   },
   "outputs": [
    {
     "data": {
      "text/plain": [
       "country_code                       0\n",
       "grass_date                         0\n",
       "user_id                            0\n",
       "subject_line_length                0\n",
       "last_open_day                      0\n",
       "last_login_day                     0\n",
       "last_checkout_day                  0\n",
       "open_count_last_10_days            0\n",
       "open_count_last_30_days            0\n",
       "open_count_last_60_days            0\n",
       "login_count_last_10_days           0\n",
       "login_count_last_30_days           0\n",
       "login_count_last_60_days           0\n",
       "checkout_count_last_10_days        0\n",
       "checkout_count_last_30_days        0\n",
       "checkout_count_last_60_days        0\n",
       "row_id                             0\n",
       "attr_1                             0\n",
       "attr_2                             0\n",
       "attr_3                             0\n",
       "age                            21406\n",
       "domain                             0\n",
       "day_of_week                        0\n",
       "day_of_month                       0\n",
       "age_class                          0\n",
       "domain_type                        0\n",
       "dtype: int64"
      ]
     },
     "execution_count": 95,
     "metadata": {},
     "output_type": "execute_result"
    }
   ],
   "source": [
    "test.isna().sum()"
   ]
  },
  {
   "cell_type": "markdown",
   "execution_count": null,
   "metadata": {
    "papermill": {
     "duration": 0.048933,
     "end_time": "2020-08-09T04:29:00.644668",
     "exception": false,
     "start_time": "2020-08-09T04:29:00.595735",
     "status": "completed"
    },
    "tags": []
   },
   "source": [
    "# Extract features"
   ]
  },
  {
   "cell_type": "markdown",
   "execution_count": null,
   "metadata": {
    "papermill": {
     "duration": 0.04925,
     "end_time": "2020-08-09T04:29:00.742570",
     "exception": false,
     "start_time": "2020-08-09T04:29:00.693320",
     "status": "completed"
    },
    "tags": []
   },
   "source": [
    "**Convert non-numerical features to numerical features for modeling**"
   ]
  },
  {
   "cell_type": "code",
   "execution_count": 96,
   "metadata": {
    "execution": {
     "iopub.execute_input": "2020-08-09T04:29:00.846748Z",
     "iopub.status.busy": "2020-08-09T04:29:00.846091Z",
     "iopub.status.idle": "2020-08-09T04:29:00.850502Z",
     "shell.execute_reply": "2020-08-09T04:29:00.850012Z"
    },
    "papermill": {
     "duration": 0.059248,
     "end_time": "2020-08-09T04:29:00.850630",
     "exception": false,
     "start_time": "2020-08-09T04:29:00.791382",
     "status": "completed"
    },
    "tags": []
   },
   "outputs": [
    {
     "data": {
      "text/plain": [
       "Index(['user_id', 'subject_line_length', 'open_count_last_10_days',\n",
       "       'open_count_last_30_days', 'open_count_last_60_days',\n",
       "       'login_count_last_10_days', 'login_count_last_30_days',\n",
       "       'login_count_last_60_days', 'checkout_count_last_10_days',\n",
       "       'checkout_count_last_30_days', 'checkout_count_last_60_days',\n",
       "       'open_flag', 'row_id', 'age', 'day_of_month'],\n",
       "      dtype='object')"
      ]
     },
     "execution_count": 96,
     "metadata": {},
     "output_type": "execute_result"
    }
   ],
   "source": [
    "train._get_numeric_data().columns"
   ]
  },
  {
   "cell_type": "markdown",
   "execution_count": null,
   "metadata": {
    "papermill": {
     "duration": 0.049209,
     "end_time": "2020-08-09T04:29:00.948964",
     "exception": false,
     "start_time": "2020-08-09T04:29:00.899755",
     "status": "completed"
    },
    "tags": []
   },
   "source": [
    "Grass Date"
   ]
  },
  {
   "cell_type": "code",
   "execution_count": 97,
   "metadata": {
    "execution": {
     "iopub.execute_input": "2020-08-09T04:29:01.055108Z",
     "iopub.status.busy": "2020-08-09T04:29:01.054303Z",
     "iopub.status.idle": "2020-08-09T04:29:01.062166Z",
     "shell.execute_reply": "2020-08-09T04:29:01.062650Z"
    },
    "papermill": {
     "duration": 0.064533,
     "end_time": "2020-08-09T04:29:01.062794",
     "exception": false,
     "start_time": "2020-08-09T04:29:00.998261",
     "status": "completed"
    },
    "tags": []
   },
   "outputs": [],
   "source": [
    "train['grass_date'] = train['grass_date'].dt.tz_convert(None)\n",
    "train['grass_date'] = (train['grass_date'] - dt.datetime(1970,1,1)).dt.total_seconds()\n",
    "\n",
    "test['grass_date'] = test['grass_date'].dt.tz_convert(None)\n",
    "test['grass_date'] = (test['grass_date'] - dt.datetime(1970,1,1)).dt.total_seconds()"
   ]
  },
  {
   "cell_type": "markdown",
   "execution_count": null,
   "metadata": {
    "papermill": {
     "duration": 0.049679,
     "end_time": "2020-08-09T04:29:01.161550",
     "exception": false,
     "start_time": "2020-08-09T04:29:01.111871",
     "status": "completed"
    },
    "tags": []
   },
   "source": [
    "Let's add **new features** from what we know about: 'last_open_day', 'last_login_day', 'last_checkout_day'"
   ]
  },
  {
   "cell_type": "code",
   "execution_count": 98,
   "metadata": {
    "execution": {
     "iopub.execute_input": "2020-08-09T04:29:01.268548Z",
     "iopub.status.busy": "2020-08-09T04:29:01.267882Z",
     "iopub.status.idle": "2020-08-09T04:29:01.353564Z",
     "shell.execute_reply": "2020-08-09T04:29:01.353019Z"
    },
    "papermill": {
     "duration": 0.142885,
     "end_time": "2020-08-09T04:29:01.353690",
     "exception": false,
     "start_time": "2020-08-09T04:29:01.210805",
     "status": "completed"
    },
    "tags": []
   },
   "outputs": [],
   "source": [
    "# never_open, boolean\n",
    "train['never_open'] = train['last_open_day'].apply(lambda x: 'never_open' if x == 'Never open' else 'open')\n",
    "test['never_open'] = test['last_open_day'].apply(lambda x: 'never_open' if x == 'Never open' else 'open')\n",
    "\n",
    "# never_login, boolean\n",
    "train['never_login'] = train['last_login_day'].apply(lambda x: 'never_login' if x == 'Never login' else 'login')\n",
    "test['never_login'] = test['last_login_day'].apply(lambda x: 'never_login' if x == 'Never login' else 'login')\n",
    "\n",
    "# never_checkout, boolean\n",
    "train['never_checkout'] = train['last_checkout_day'].apply(lambda x: 'never_checkout' if x == 'Never checkout' else 'checkout')\n",
    "test['never_checkout'] = test['last_checkout_day'].apply(lambda x: 'never_checkout' if x == 'Never checkout' else 'checkout')"
   ]
  },
  {
   "cell_type": "code",
   "execution_count": 99,
   "metadata": {
    "execution": {
     "iopub.execute_input": "2020-08-09T04:29:01.467452Z",
     "iopub.status.busy": "2020-08-09T04:29:01.466445Z",
     "iopub.status.idle": "2020-08-09T04:29:01.470365Z",
     "shell.execute_reply": "2020-08-09T04:29:01.469853Z"
    },
    "papermill": {
     "duration": 0.066742,
     "end_time": "2020-08-09T04:29:01.470481",
     "exception": false,
     "start_time": "2020-08-09T04:29:01.403739",
     "status": "completed"
    },
    "tags": []
   },
   "outputs": [
    {
     "data": {
      "text/plain": [
       "open          66021\n",
       "never_open     7518\n",
       "Name: never_open, dtype: int64"
      ]
     },
     "execution_count": 99,
     "metadata": {},
     "output_type": "execute_result"
    }
   ],
   "source": [
    "train['never_open'].value_counts()"
   ]
  },
  {
   "cell_type": "markdown",
   "execution_count": null,
   "metadata": {
    "papermill": {
     "duration": 0.049502,
     "end_time": "2020-08-09T04:29:01.569998",
     "exception": false,
     "start_time": "2020-08-09T04:29:01.520496",
     "status": "completed"
    },
    "tags": []
   },
   "source": [
    "**Convert to numerical:**\n",
    "\n",
    "last_open_day, last_login_day, last_checkout_day"
   ]
  },
  {
   "cell_type": "code",
   "execution_count": 100,
   "metadata": {
    "execution": {
     "iopub.execute_input": "2020-08-09T04:29:01.675665Z",
     "iopub.status.busy": "2020-08-09T04:29:01.674340Z",
     "iopub.status.idle": "2020-08-09T04:29:01.721665Z",
     "shell.execute_reply": "2020-08-09T04:29:01.720994Z"
    },
    "papermill": {
     "duration": 0.102611,
     "end_time": "2020-08-09T04:29:01.721789",
     "exception": false,
     "start_time": "2020-08-09T04:29:01.619178",
     "status": "completed"
    },
    "tags": []
   },
   "outputs": [
    {
     "data": {
      "text/html": [
       "<div>\n",
       "<style scoped>\n",
       "    .dataframe tbody tr th:only-of-type {\n",
       "        vertical-align: middle;\n",
       "    }\n",
       "\n",
       "    .dataframe tbody tr th {\n",
       "        vertical-align: top;\n",
       "    }\n",
       "\n",
       "    .dataframe thead th {\n",
       "        text-align: right;\n",
       "    }\n",
       "</style>\n",
       "<table border=\"1\" class=\"dataframe\">\n",
       "  <thead>\n",
       "    <tr style=\"text-align: right;\">\n",
       "      <th></th>\n",
       "      <th>last_open_day</th>\n",
       "      <th>last_login_day</th>\n",
       "      <th>last_checkout_day</th>\n",
       "    </tr>\n",
       "  </thead>\n",
       "  <tbody>\n",
       "    <tr>\n",
       "      <th>0</th>\n",
       "      <td>19</td>\n",
       "      <td>6</td>\n",
       "      <td>18</td>\n",
       "    </tr>\n",
       "    <tr>\n",
       "      <th>1</th>\n",
       "      <td>9</td>\n",
       "      <td>4</td>\n",
       "      <td>8</td>\n",
       "    </tr>\n",
       "    <tr>\n",
       "      <th>2</th>\n",
       "      <td>14</td>\n",
       "      <td>5</td>\n",
       "      <td>5</td>\n",
       "    </tr>\n",
       "    <tr>\n",
       "      <th>3</th>\n",
       "      <td>49</td>\n",
       "      <td>9</td>\n",
       "      <td>53</td>\n",
       "    </tr>\n",
       "    <tr>\n",
       "      <th>4</th>\n",
       "      <td>227</td>\n",
       "      <td>6</td>\n",
       "      <td>221</td>\n",
       "    </tr>\n",
       "    <tr>\n",
       "      <th>...</th>\n",
       "      <td>...</td>\n",
       "      <td>...</td>\n",
       "      <td>...</td>\n",
       "    </tr>\n",
       "    <tr>\n",
       "      <th>73534</th>\n",
       "      <td>24</td>\n",
       "      <td>36</td>\n",
       "      <td>279</td>\n",
       "    </tr>\n",
       "    <tr>\n",
       "      <th>73535</th>\n",
       "      <td>46</td>\n",
       "      <td>10</td>\n",
       "      <td>51</td>\n",
       "    </tr>\n",
       "    <tr>\n",
       "      <th>73536</th>\n",
       "      <td>Never open</td>\n",
       "      <td>Never login</td>\n",
       "      <td>Never checkout</td>\n",
       "    </tr>\n",
       "    <tr>\n",
       "      <th>73537</th>\n",
       "      <td>5</td>\n",
       "      <td>34</td>\n",
       "      <td>Never checkout</td>\n",
       "    </tr>\n",
       "    <tr>\n",
       "      <th>73538</th>\n",
       "      <td>1</td>\n",
       "      <td>3</td>\n",
       "      <td>Never checkout</td>\n",
       "    </tr>\n",
       "  </tbody>\n",
       "</table>\n",
       "<p>73539 rows × 3 columns</p>\n",
       "</div>"
      ],
      "text/plain": [
       "      last_open_day last_login_day last_checkout_day\n",
       "0                19              6                18\n",
       "1                 9              4                 8\n",
       "2                14              5                 5\n",
       "3                49              9                53\n",
       "4               227              6               221\n",
       "...             ...            ...               ...\n",
       "73534            24             36               279\n",
       "73535            46             10                51\n",
       "73536    Never open    Never login    Never checkout\n",
       "73537             5             34    Never checkout\n",
       "73538             1              3    Never checkout\n",
       "\n",
       "[73539 rows x 3 columns]"
      ]
     },
     "execution_count": 100,
     "metadata": {},
     "output_type": "execute_result"
    }
   ],
   "source": [
    "train[['last_open_day', 'last_login_day', 'last_checkout_day']]"
   ]
  },
  {
   "cell_type": "code",
   "execution_count": 101,
   "metadata": {
    "execution": {
     "iopub.execute_input": "2020-08-09T04:29:01.837314Z",
     "iopub.status.busy": "2020-08-09T04:29:01.836608Z",
     "iopub.status.idle": "2020-08-09T04:29:01.841057Z",
     "shell.execute_reply": "2020-08-09T04:29:01.840505Z"
    },
    "papermill": {
     "duration": 0.06907,
     "end_time": "2020-08-09T04:29:01.841174",
     "exception": false,
     "start_time": "2020-08-09T04:29:01.772104",
     "status": "completed"
    },
    "tags": []
   },
   "outputs": [
    {
     "data": {
      "text/plain": [
       "Never open    7518\n",
       "1             5051\n",
       "2             4429\n",
       "3             3353\n",
       "4             2848\n",
       "              ... \n",
       "420              1\n",
       "463              1\n",
       "440              1\n",
       "573              1\n",
       "400              1\n",
       "Name: last_open_day, Length: 549, dtype: int64"
      ]
     },
     "execution_count": 101,
     "metadata": {},
     "output_type": "execute_result"
    }
   ],
   "source": [
    "train['last_open_day'].value_counts()"
   ]
  },
  {
   "cell_type": "code",
   "execution_count": 102,
   "metadata": {
    "execution": {
     "iopub.execute_input": "2020-08-09T04:29:01.952067Z",
     "iopub.status.busy": "2020-08-09T04:29:01.951462Z",
     "iopub.status.idle": "2020-08-09T04:29:01.955833Z",
     "shell.execute_reply": "2020-08-09T04:29:01.956340Z"
    },
    "papermill": {
     "duration": 0.065422,
     "end_time": "2020-08-09T04:29:01.956485",
     "exception": false,
     "start_time": "2020-08-09T04:29:01.891063",
     "status": "completed"
    },
    "tags": []
   },
   "outputs": [
    {
     "data": {
      "text/plain": [
       "0"
      ]
     },
     "execution_count": 102,
     "metadata": {},
     "output_type": "execute_result"
    }
   ],
   "source": [
    "len(train[train['last_open_day'] == '0'])"
   ]
  },
  {
   "cell_type": "code",
   "execution_count": 103,
   "metadata": {
    "execution": {
     "iopub.execute_input": "2020-08-09T04:29:02.065652Z",
     "iopub.status.busy": "2020-08-09T04:29:02.065006Z",
     "iopub.status.idle": "2020-08-09T04:29:02.091772Z",
     "shell.execute_reply": "2020-08-09T04:29:02.091276Z"
    },
    "papermill": {
     "duration": 0.085075,
     "end_time": "2020-08-09T04:29:02.091880",
     "exception": false,
     "start_time": "2020-08-09T04:29:02.006805",
     "status": "completed"
    },
    "tags": []
   },
   "outputs": [
    {
     "data": {
      "text/plain": [
       "1000    7518\n",
       "1       5051\n",
       "2       4429\n",
       "3       3353\n",
       "4       2848\n",
       "        ... \n",
       "587        1\n",
       "545        1\n",
       "331        1\n",
       "737        1\n",
       "703        1\n",
       "Name: last_open_day, Length: 549, dtype: int64"
      ]
     },
     "execution_count": 103,
     "metadata": {},
     "output_type": "execute_result"
    }
   ],
   "source": [
    "train['last_open_day'] = train['last_open_day'].replace(['Never open'], 1000)\n",
    "train['last_open_day'] = train['last_open_day'].astype(int)\n",
    "train['last_open_day'].value_counts()"
   ]
  },
  {
   "cell_type": "code",
   "execution_count": 104,
   "metadata": {
    "execution": {
     "iopub.execute_input": "2020-08-09T04:29:02.200976Z",
     "iopub.status.busy": "2020-08-09T04:29:02.200322Z",
     "iopub.status.idle": "2020-08-09T04:29:02.222806Z",
     "shell.execute_reply": "2020-08-09T04:29:02.222130Z"
    },
    "papermill": {
     "duration": 0.080384,
     "end_time": "2020-08-09T04:29:02.222952",
     "exception": false,
     "start_time": "2020-08-09T04:29:02.142568",
     "status": "completed"
    },
    "tags": []
   },
   "outputs": [
    {
     "data": {
      "text/plain": [
       "1000    7589\n",
       "1       3753\n",
       "2       2616\n",
       "3       1990\n",
       "4       1703\n",
       "        ... \n",
       "812        1\n",
       "396        1\n",
       "364        1\n",
       "300        1\n",
       "591        1\n",
       "Name: last_open_day, Length: 491, dtype: int64"
      ]
     },
     "execution_count": 104,
     "metadata": {},
     "output_type": "execute_result"
    }
   ],
   "source": [
    "test['last_open_day'] = test['last_open_day'].replace(['Never open'], 1000)\n",
    "test['last_open_day'] = test['last_open_day'].astype(int)\n",
    "test['last_open_day'].value_counts()"
   ]
  },
  {
   "cell_type": "code",
   "execution_count": 105,
   "metadata": {
    "execution": {
     "iopub.execute_input": "2020-08-09T04:29:02.341025Z",
     "iopub.status.busy": "2020-08-09T04:29:02.332161Z",
     "iopub.status.idle": "2020-08-09T04:29:02.359453Z",
     "shell.execute_reply": "2020-08-09T04:29:02.358903Z"
    },
    "papermill": {
     "duration": 0.085799,
     "end_time": "2020-08-09T04:29:02.359572",
     "exception": false,
     "start_time": "2020-08-09T04:29:02.273773",
     "status": "completed"
    },
    "tags": []
   },
   "outputs": [
    {
     "data": {
      "text/plain": [
       "1        10852\n",
       "2         6382\n",
       "3         5007\n",
       "4         3972\n",
       "5         3156\n",
       "         ...  \n",
       "927          1\n",
       "1119         1\n",
       "892          1\n",
       "1148         1\n",
       "18103        1\n",
       "Name: last_login_day, Length: 893, dtype: int64"
      ]
     },
     "execution_count": 105,
     "metadata": {},
     "output_type": "execute_result"
    }
   ],
   "source": [
    "train['last_login_day'] = train['last_login_day'].replace(['Never login'], 19000)\n",
    "train['last_login_day'] = train['last_login_day'].astype(int)\n",
    "train['last_login_day'].value_counts()"
   ]
  },
  {
   "cell_type": "code",
   "execution_count": 106,
   "metadata": {
    "execution": {
     "iopub.execute_input": "2020-08-09T04:29:02.468845Z",
     "iopub.status.busy": "2020-08-09T04:29:02.468247Z",
     "iopub.status.idle": "2020-08-09T04:29:02.489133Z",
     "shell.execute_reply": "2020-08-09T04:29:02.488498Z"
    },
    "papermill": {
     "duration": 0.078138,
     "end_time": "2020-08-09T04:29:02.489249",
     "exception": false,
     "start_time": "2020-08-09T04:29:02.411111",
     "status": "completed"
    },
    "tags": []
   },
   "outputs": [
    {
     "data": {
      "text/plain": [
       "1        8647\n",
       "2        5216\n",
       "3        3932\n",
       "4        3167\n",
       "5        2593\n",
       "         ... \n",
       "586         1\n",
       "603         1\n",
       "18145       1\n",
       "1353        1\n",
       "1055        1\n",
       "Name: last_login_day, Length: 829, dtype: int64"
      ]
     },
     "execution_count": 106,
     "metadata": {},
     "output_type": "execute_result"
    }
   ],
   "source": [
    "test['last_login_day'] = test['last_login_day'].replace(['Never login'], 19000)\n",
    "test['last_login_day'] = test['last_login_day'].astype(int)\n",
    "test['last_login_day'].value_counts()"
   ]
  },
  {
   "cell_type": "code",
   "execution_count": 107,
   "metadata": {
    "execution": {
     "iopub.execute_input": "2020-08-09T04:29:02.604407Z",
     "iopub.status.busy": "2020-08-09T04:29:02.601671Z",
     "iopub.status.idle": "2020-08-09T04:29:02.608638Z",
     "shell.execute_reply": "2020-08-09T04:29:02.608129Z"
    },
    "papermill": {
     "duration": 0.067963,
     "end_time": "2020-08-09T04:29:02.608748",
     "exception": false,
     "start_time": "2020-08-09T04:29:02.540785",
     "status": "completed"
    },
    "tags": []
   },
   "outputs": [
    {
     "data": {
      "text/plain": [
       "Never checkout    16905\n",
       "1                  3184\n",
       "2                  2611\n",
       "3                  2159\n",
       "4                  2065\n",
       "                  ...  \n",
       "986                   1\n",
       "785                   1\n",
       "1124                  1\n",
       "1122                  1\n",
       "1042                  1\n",
       "Name: last_checkout_day, Length: 947, dtype: int64"
      ]
     },
     "execution_count": 107,
     "metadata": {},
     "output_type": "execute_result"
    }
   ],
   "source": [
    "train['last_checkout_day'].value_counts()"
   ]
  },
  {
   "cell_type": "code",
   "execution_count": 108,
   "metadata": {
    "execution": {
     "iopub.execute_input": "2020-08-09T04:29:02.718982Z",
     "iopub.status.busy": "2020-08-09T04:29:02.718280Z",
     "iopub.status.idle": "2020-08-09T04:29:02.728881Z",
     "shell.execute_reply": "2020-08-09T04:29:02.728318Z"
    },
    "papermill": {
     "duration": 0.070197,
     "end_time": "2020-08-09T04:29:02.729018",
     "exception": false,
     "start_time": "2020-08-09T04:29:02.658821",
     "status": "completed"
    },
    "tags": []
   },
   "outputs": [
    {
     "data": {
      "text/plain": [
       "0"
      ]
     },
     "execution_count": 108,
     "metadata": {},
     "output_type": "execute_result"
    }
   ],
   "source": [
    "len(train[train['last_checkout_day'] == '0'])"
   ]
  },
  {
   "cell_type": "code",
   "execution_count": 109,
   "metadata": {
    "execution": {
     "iopub.execute_input": "2020-08-09T04:29:02.838304Z",
     "iopub.status.busy": "2020-08-09T04:29:02.837624Z",
     "iopub.status.idle": "2020-08-09T04:29:02.862671Z",
     "shell.execute_reply": "2020-08-09T04:29:02.863158Z"
    },
    "papermill": {
     "duration": 0.084142,
     "end_time": "2020-08-09T04:29:02.863317",
     "exception": false,
     "start_time": "2020-08-09T04:29:02.779175",
     "status": "completed"
    },
    "tags": []
   },
   "outputs": [
    {
     "data": {
      "text/plain": [
       "1500    16905\n",
       "1        3184\n",
       "2        2611\n",
       "3        2159\n",
       "4        2065\n",
       "        ...  \n",
       "546         1\n",
       "674         1\n",
       "1122        1\n",
       "1186        1\n",
       "1087        1\n",
       "Name: last_checkout_day, Length: 947, dtype: int64"
      ]
     },
     "execution_count": 109,
     "metadata": {},
     "output_type": "execute_result"
    }
   ],
   "source": [
    "train['last_checkout_day'] = train['last_checkout_day'].replace(['Never checkout'], 1500)\n",
    "train['last_checkout_day'] = train['last_checkout_day'].astype(int)\n",
    "train['last_checkout_day'].value_counts()"
   ]
  },
  {
   "cell_type": "code",
   "execution_count": 110,
   "metadata": {
    "execution": {
     "iopub.execute_input": "2020-08-09T04:29:02.975703Z",
     "iopub.status.busy": "2020-08-09T04:29:02.974792Z",
     "iopub.status.idle": "2020-08-09T04:29:02.994953Z",
     "shell.execute_reply": "2020-08-09T04:29:02.995418Z"
    },
    "papermill": {
     "duration": 0.081432,
     "end_time": "2020-08-09T04:29:02.995574",
     "exception": false,
     "start_time": "2020-08-09T04:29:02.914142",
     "status": "completed"
    },
    "tags": []
   },
   "outputs": [
    {
     "data": {
      "text/plain": [
       "1500    11403\n",
       "1        2851\n",
       "2        2234\n",
       "3        1944\n",
       "4        1699\n",
       "        ...  \n",
       "1424        1\n",
       "497         1\n",
       "561         1\n",
       "625         1\n",
       "687         1\n",
       "Name: last_checkout_day, Length: 898, dtype: int64"
      ]
     },
     "execution_count": 110,
     "metadata": {},
     "output_type": "execute_result"
    }
   ],
   "source": [
    "test['last_checkout_day'] = test['last_checkout_day'].replace(['Never checkout'], 1500)\n",
    "test['last_checkout_day'] = test['last_checkout_day'].astype(int)\n",
    "test['last_checkout_day'].value_counts()"
   ]
  },
  {
   "cell_type": "markdown",
   "execution_count": null,
   "metadata": {
    "papermill": {
     "duration": 0.049859,
     "end_time": "2020-08-09T04:29:03.096893",
     "exception": false,
     "start_time": "2020-08-09T04:29:03.047034",
     "status": "completed"
    },
    "tags": []
   },
   "source": [
    "Let's check the types again"
   ]
  },
  {
   "cell_type": "code",
   "execution_count": 111,
   "metadata": {
    "execution": {
     "iopub.execute_input": "2020-08-09T04:29:03.204934Z",
     "iopub.status.busy": "2020-08-09T04:29:03.203875Z",
     "iopub.status.idle": "2020-08-09T04:29:03.263196Z",
     "shell.execute_reply": "2020-08-09T04:29:03.262534Z"
    },
    "papermill": {
     "duration": 0.115648,
     "end_time": "2020-08-09T04:29:03.263326",
     "exception": false,
     "start_time": "2020-08-09T04:29:03.147678",
     "status": "completed"
    },
    "tags": []
   },
   "outputs": [
    {
     "name": "stdout",
     "output_type": "stream",
     "text": [
      "<class 'pandas.core.frame.DataFrame'>\n",
      "Int64Index: 73539 entries, 0 to 73538\n",
      "Data columns (total 30 columns):\n",
      " #   Column                       Non-Null Count  Dtype  \n",
      "---  ------                       --------------  -----  \n",
      " 0   country_code                 73539 non-null  object \n",
      " 1   grass_date                   73539 non-null  float64\n",
      " 2   user_id                      73539 non-null  int64  \n",
      " 3   subject_line_length          73539 non-null  int64  \n",
      " 4   last_open_day                73539 non-null  int64  \n",
      " 5   last_login_day               73539 non-null  int64  \n",
      " 6   last_checkout_day            73539 non-null  int64  \n",
      " 7   open_count_last_10_days      73539 non-null  int64  \n",
      " 8   open_count_last_30_days      73539 non-null  int64  \n",
      " 9   open_count_last_60_days      73539 non-null  int64  \n",
      " 10  login_count_last_10_days     73539 non-null  int64  \n",
      " 11  login_count_last_30_days     73539 non-null  int64  \n",
      " 12  login_count_last_60_days     73539 non-null  int64  \n",
      " 13  checkout_count_last_10_days  73539 non-null  int64  \n",
      " 14  checkout_count_last_30_days  73539 non-null  int64  \n",
      " 15  checkout_count_last_60_days  73539 non-null  int64  \n",
      " 16  open_flag                    73539 non-null  int64  \n",
      " 17  row_id                       73539 non-null  int64  \n",
      " 18  attr_1                       73539 non-null  object \n",
      " 19  attr_2                       73539 non-null  object \n",
      " 20  attr_3                       73539 non-null  object \n",
      " 21  age                          45050 non-null  float64\n",
      " 22  domain                       73539 non-null  object \n",
      " 23  day_of_week                  73539 non-null  object \n",
      " 24  day_of_month                 73539 non-null  int64  \n",
      " 25  age_class                    73539 non-null  object \n",
      " 26  domain_type                  73539 non-null  object \n",
      " 27  never_open                   73539 non-null  object \n",
      " 28  never_login                  73539 non-null  object \n",
      " 29  never_checkout               73539 non-null  object \n",
      "dtypes: float64(2), int64(17), object(11)\n",
      "memory usage: 17.4+ MB\n"
     ]
    }
   ],
   "source": [
    "train.info()"
   ]
  },
  {
   "cell_type": "code",
   "execution_count": 112,
   "metadata": {
    "execution": {
     "iopub.execute_input": "2020-08-09T04:29:03.389462Z",
     "iopub.status.busy": "2020-08-09T04:29:03.388629Z",
     "iopub.status.idle": "2020-08-09T04:29:03.396006Z",
     "shell.execute_reply": "2020-08-09T04:29:03.395407Z"
    },
    "papermill": {
     "duration": 0.080929,
     "end_time": "2020-08-09T04:29:03.396124",
     "exception": false,
     "start_time": "2020-08-09T04:29:03.315195",
     "status": "completed"
    },
    "tags": []
   },
   "outputs": [
    {
     "data": {
      "text/html": [
       "<div>\n",
       "<style scoped>\n",
       "    .dataframe tbody tr th:only-of-type {\n",
       "        vertical-align: middle;\n",
       "    }\n",
       "\n",
       "    .dataframe tbody tr th {\n",
       "        vertical-align: top;\n",
       "    }\n",
       "\n",
       "    .dataframe thead th {\n",
       "        text-align: right;\n",
       "    }\n",
       "</style>\n",
       "<table border=\"1\" class=\"dataframe\">\n",
       "  <thead>\n",
       "    <tr style=\"text-align: right;\">\n",
       "      <th></th>\n",
       "      <th>grass_date</th>\n",
       "      <th>user_id</th>\n",
       "      <th>subject_line_length</th>\n",
       "      <th>last_open_day</th>\n",
       "      <th>last_login_day</th>\n",
       "      <th>last_checkout_day</th>\n",
       "      <th>open_count_last_10_days</th>\n",
       "      <th>open_count_last_30_days</th>\n",
       "      <th>open_count_last_60_days</th>\n",
       "      <th>login_count_last_10_days</th>\n",
       "      <th>login_count_last_30_days</th>\n",
       "      <th>login_count_last_60_days</th>\n",
       "      <th>checkout_count_last_10_days</th>\n",
       "      <th>checkout_count_last_30_days</th>\n",
       "      <th>checkout_count_last_60_days</th>\n",
       "      <th>open_flag</th>\n",
       "      <th>row_id</th>\n",
       "      <th>age</th>\n",
       "      <th>day_of_month</th>\n",
       "    </tr>\n",
       "  </thead>\n",
       "  <tbody>\n",
       "    <tr>\n",
       "      <th>0</th>\n",
       "      <td>1.563206e+09</td>\n",
       "      <td>43</td>\n",
       "      <td>44</td>\n",
       "      <td>19</td>\n",
       "      <td>6</td>\n",
       "      <td>18</td>\n",
       "      <td>0</td>\n",
       "      <td>2</td>\n",
       "      <td>4</td>\n",
       "      <td>12</td>\n",
       "      <td>43</td>\n",
       "      <td>99</td>\n",
       "      <td>0</td>\n",
       "      <td>5</td>\n",
       "      <td>10</td>\n",
       "      <td>0</td>\n",
       "      <td>0</td>\n",
       "      <td>47.0</td>\n",
       "      <td>16</td>\n",
       "    </tr>\n",
       "    <tr>\n",
       "      <th>1</th>\n",
       "      <td>1.563206e+09</td>\n",
       "      <td>102</td>\n",
       "      <td>44</td>\n",
       "      <td>9</td>\n",
       "      <td>4</td>\n",
       "      <td>8</td>\n",
       "      <td>2</td>\n",
       "      <td>9</td>\n",
       "      <td>17</td>\n",
       "      <td>18</td>\n",
       "      <td>48</td>\n",
       "      <td>90</td>\n",
       "      <td>1</td>\n",
       "      <td>1</td>\n",
       "      <td>4</td>\n",
       "      <td>1</td>\n",
       "      <td>1</td>\n",
       "      <td>25.0</td>\n",
       "      <td>16</td>\n",
       "    </tr>\n",
       "    <tr>\n",
       "      <th>2</th>\n",
       "      <td>1.563206e+09</td>\n",
       "      <td>177</td>\n",
       "      <td>49</td>\n",
       "      <td>14</td>\n",
       "      <td>5</td>\n",
       "      <td>5</td>\n",
       "      <td>0</td>\n",
       "      <td>4</td>\n",
       "      <td>12</td>\n",
       "      <td>24</td>\n",
       "      <td>69</td>\n",
       "      <td>119</td>\n",
       "      <td>5</td>\n",
       "      <td>19</td>\n",
       "      <td>27</td>\n",
       "      <td>0</td>\n",
       "      <td>2</td>\n",
       "      <td>NaN</td>\n",
       "      <td>16</td>\n",
       "    </tr>\n",
       "    <tr>\n",
       "      <th>3</th>\n",
       "      <td>1.563206e+09</td>\n",
       "      <td>184</td>\n",
       "      <td>49</td>\n",
       "      <td>49</td>\n",
       "      <td>9</td>\n",
       "      <td>53</td>\n",
       "      <td>0</td>\n",
       "      <td>0</td>\n",
       "      <td>1</td>\n",
       "      <td>9</td>\n",
       "      <td>23</td>\n",
       "      <td>69</td>\n",
       "      <td>1</td>\n",
       "      <td>3</td>\n",
       "      <td>6</td>\n",
       "      <td>0</td>\n",
       "      <td>3</td>\n",
       "      <td>24.0</td>\n",
       "      <td>16</td>\n",
       "    </tr>\n",
       "    <tr>\n",
       "      <th>4</th>\n",
       "      <td>1.563206e+09</td>\n",
       "      <td>221</td>\n",
       "      <td>49</td>\n",
       "      <td>227</td>\n",
       "      <td>6</td>\n",
       "      <td>221</td>\n",
       "      <td>0</td>\n",
       "      <td>0</td>\n",
       "      <td>0</td>\n",
       "      <td>2</td>\n",
       "      <td>5</td>\n",
       "      <td>5</td>\n",
       "      <td>0</td>\n",
       "      <td>0</td>\n",
       "      <td>0</td>\n",
       "      <td>0</td>\n",
       "      <td>4</td>\n",
       "      <td>NaN</td>\n",
       "      <td>16</td>\n",
       "    </tr>\n",
       "    <tr>\n",
       "      <th>...</th>\n",
       "      <td>...</td>\n",
       "      <td>...</td>\n",
       "      <td>...</td>\n",
       "      <td>...</td>\n",
       "      <td>...</td>\n",
       "      <td>...</td>\n",
       "      <td>...</td>\n",
       "      <td>...</td>\n",
       "      <td>...</td>\n",
       "      <td>...</td>\n",
       "      <td>...</td>\n",
       "      <td>...</td>\n",
       "      <td>...</td>\n",
       "      <td>...</td>\n",
       "      <td>...</td>\n",
       "      <td>...</td>\n",
       "      <td>...</td>\n",
       "      <td>...</td>\n",
       "      <td>...</td>\n",
       "    </tr>\n",
       "    <tr>\n",
       "      <th>73534</th>\n",
       "      <td>1.567354e+09</td>\n",
       "      <td>127613</td>\n",
       "      <td>39</td>\n",
       "      <td>24</td>\n",
       "      <td>36</td>\n",
       "      <td>279</td>\n",
       "      <td>0</td>\n",
       "      <td>1</td>\n",
       "      <td>1</td>\n",
       "      <td>0</td>\n",
       "      <td>0</td>\n",
       "      <td>0</td>\n",
       "      <td>0</td>\n",
       "      <td>0</td>\n",
       "      <td>0</td>\n",
       "      <td>0</td>\n",
       "      <td>73534</td>\n",
       "      <td>NaN</td>\n",
       "      <td>2</td>\n",
       "    </tr>\n",
       "    <tr>\n",
       "      <th>73535</th>\n",
       "      <td>1.567354e+09</td>\n",
       "      <td>127620</td>\n",
       "      <td>38</td>\n",
       "      <td>46</td>\n",
       "      <td>10</td>\n",
       "      <td>51</td>\n",
       "      <td>0</td>\n",
       "      <td>0</td>\n",
       "      <td>1</td>\n",
       "      <td>0</td>\n",
       "      <td>0</td>\n",
       "      <td>0</td>\n",
       "      <td>0</td>\n",
       "      <td>0</td>\n",
       "      <td>0</td>\n",
       "      <td>0</td>\n",
       "      <td>73535</td>\n",
       "      <td>30.0</td>\n",
       "      <td>2</td>\n",
       "    </tr>\n",
       "    <tr>\n",
       "      <th>73536</th>\n",
       "      <td>1.567354e+09</td>\n",
       "      <td>127696</td>\n",
       "      <td>32</td>\n",
       "      <td>1000</td>\n",
       "      <td>19000</td>\n",
       "      <td>1500</td>\n",
       "      <td>0</td>\n",
       "      <td>0</td>\n",
       "      <td>0</td>\n",
       "      <td>0</td>\n",
       "      <td>0</td>\n",
       "      <td>0</td>\n",
       "      <td>0</td>\n",
       "      <td>0</td>\n",
       "      <td>0</td>\n",
       "      <td>0</td>\n",
       "      <td>73536</td>\n",
       "      <td>NaN</td>\n",
       "      <td>2</td>\n",
       "    </tr>\n",
       "    <tr>\n",
       "      <th>73537</th>\n",
       "      <td>1.567354e+09</td>\n",
       "      <td>127807</td>\n",
       "      <td>38</td>\n",
       "      <td>5</td>\n",
       "      <td>34</td>\n",
       "      <td>1500</td>\n",
       "      <td>2</td>\n",
       "      <td>4</td>\n",
       "      <td>4</td>\n",
       "      <td>0</td>\n",
       "      <td>0</td>\n",
       "      <td>0</td>\n",
       "      <td>0</td>\n",
       "      <td>0</td>\n",
       "      <td>0</td>\n",
       "      <td>1</td>\n",
       "      <td>73537</td>\n",
       "      <td>38.0</td>\n",
       "      <td>2</td>\n",
       "    </tr>\n",
       "    <tr>\n",
       "      <th>73538</th>\n",
       "      <td>1.567354e+09</td>\n",
       "      <td>127880</td>\n",
       "      <td>39</td>\n",
       "      <td>1</td>\n",
       "      <td>3</td>\n",
       "      <td>1500</td>\n",
       "      <td>2</td>\n",
       "      <td>2</td>\n",
       "      <td>3</td>\n",
       "      <td>0</td>\n",
       "      <td>0</td>\n",
       "      <td>0</td>\n",
       "      <td>0</td>\n",
       "      <td>0</td>\n",
       "      <td>0</td>\n",
       "      <td>0</td>\n",
       "      <td>73538</td>\n",
       "      <td>NaN</td>\n",
       "      <td>2</td>\n",
       "    </tr>\n",
       "  </tbody>\n",
       "</table>\n",
       "<p>73539 rows × 19 columns</p>\n",
       "</div>"
      ],
      "text/plain": [
       "         grass_date  user_id  subject_line_length  last_open_day  \\\n",
       "0      1.563206e+09       43                   44             19   \n",
       "1      1.563206e+09      102                   44              9   \n",
       "2      1.563206e+09      177                   49             14   \n",
       "3      1.563206e+09      184                   49             49   \n",
       "4      1.563206e+09      221                   49            227   \n",
       "...             ...      ...                  ...            ...   \n",
       "73534  1.567354e+09   127613                   39             24   \n",
       "73535  1.567354e+09   127620                   38             46   \n",
       "73536  1.567354e+09   127696                   32           1000   \n",
       "73537  1.567354e+09   127807                   38              5   \n",
       "73538  1.567354e+09   127880                   39              1   \n",
       "\n",
       "       last_login_day  last_checkout_day  open_count_last_10_days  \\\n",
       "0                   6                 18                        0   \n",
       "1                   4                  8                        2   \n",
       "2                   5                  5                        0   \n",
       "3                   9                 53                        0   \n",
       "4                   6                221                        0   \n",
       "...               ...                ...                      ...   \n",
       "73534              36                279                        0   \n",
       "73535              10                 51                        0   \n",
       "73536           19000               1500                        0   \n",
       "73537              34               1500                        2   \n",
       "73538               3               1500                        2   \n",
       "\n",
       "       open_count_last_30_days  open_count_last_60_days  \\\n",
       "0                            2                        4   \n",
       "1                            9                       17   \n",
       "2                            4                       12   \n",
       "3                            0                        1   \n",
       "4                            0                        0   \n",
       "...                        ...                      ...   \n",
       "73534                        1                        1   \n",
       "73535                        0                        1   \n",
       "73536                        0                        0   \n",
       "73537                        4                        4   \n",
       "73538                        2                        3   \n",
       "\n",
       "       login_count_last_10_days  login_count_last_30_days  \\\n",
       "0                            12                        43   \n",
       "1                            18                        48   \n",
       "2                            24                        69   \n",
       "3                             9                        23   \n",
       "4                             2                         5   \n",
       "...                         ...                       ...   \n",
       "73534                         0                         0   \n",
       "73535                         0                         0   \n",
       "73536                         0                         0   \n",
       "73537                         0                         0   \n",
       "73538                         0                         0   \n",
       "\n",
       "       login_count_last_60_days  checkout_count_last_10_days  \\\n",
       "0                            99                            0   \n",
       "1                            90                            1   \n",
       "2                           119                            5   \n",
       "3                            69                            1   \n",
       "4                             5                            0   \n",
       "...                         ...                          ...   \n",
       "73534                         0                            0   \n",
       "73535                         0                            0   \n",
       "73536                         0                            0   \n",
       "73537                         0                            0   \n",
       "73538                         0                            0   \n",
       "\n",
       "       checkout_count_last_30_days  checkout_count_last_60_days  open_flag  \\\n",
       "0                                5                           10          0   \n",
       "1                                1                            4          1   \n",
       "2                               19                           27          0   \n",
       "3                                3                            6          0   \n",
       "4                                0                            0          0   \n",
       "...                            ...                          ...        ...   \n",
       "73534                            0                            0          0   \n",
       "73535                            0                            0          0   \n",
       "73536                            0                            0          0   \n",
       "73537                            0                            0          1   \n",
       "73538                            0                            0          0   \n",
       "\n",
       "       row_id   age  day_of_month  \n",
       "0           0  47.0            16  \n",
       "1           1  25.0            16  \n",
       "2           2   NaN            16  \n",
       "3           3  24.0            16  \n",
       "4           4   NaN            16  \n",
       "...       ...   ...           ...  \n",
       "73534   73534   NaN             2  \n",
       "73535   73535  30.0             2  \n",
       "73536   73536   NaN             2  \n",
       "73537   73537  38.0             2  \n",
       "73538   73538   NaN             2  \n",
       "\n",
       "[73539 rows x 19 columns]"
      ]
     },
     "execution_count": 112,
     "metadata": {},
     "output_type": "execute_result"
    }
   ],
   "source": [
    "train_feat = train._get_numeric_data()\n",
    "train_feat"
   ]
  },
  {
   "cell_type": "code",
   "execution_count": 113,
   "metadata": {
    "execution": {
     "iopub.execute_input": "2020-08-09T04:29:03.618325Z",
     "iopub.status.busy": "2020-08-09T04:29:03.617651Z",
     "iopub.status.idle": "2020-08-09T04:29:03.638973Z",
     "shell.execute_reply": "2020-08-09T04:29:03.638363Z"
    },
    "papermill": {
     "duration": 0.078477,
     "end_time": "2020-08-09T04:29:03.639093",
     "exception": false,
     "start_time": "2020-08-09T04:29:03.560616",
     "status": "completed"
    },
    "tags": []
   },
   "outputs": [],
   "source": [
    "test_feat = test._get_numeric_data()"
   ]
  },
  {
   "cell_type": "markdown",
   "execution_count": null,
   "metadata": {
    "papermill": {
     "duration": 0.051107,
     "end_time": "2020-08-09T04:29:03.741244",
     "exception": false,
     "start_time": "2020-08-09T04:29:03.690137",
     "status": "completed"
    },
    "tags": []
   },
   "source": [
    "One Hot Encoding: 'domain' column"
   ]
  },
  {
   "cell_type": "code",
   "execution_count": 114,
   "metadata": {
    "execution": {
     "iopub.execute_input": "2020-08-09T04:29:03.850545Z",
     "iopub.status.busy": "2020-08-09T04:29:03.849870Z",
     "iopub.status.idle": "2020-08-09T04:29:03.888436Z",
     "shell.execute_reply": "2020-08-09T04:29:03.887811Z"
    },
    "papermill": {
     "duration": 0.096196,
     "end_time": "2020-08-09T04:29:03.888550",
     "exception": false,
     "start_time": "2020-08-09T04:29:03.792354",
     "status": "completed"
    },
    "tags": []
   },
   "outputs": [
    {
     "data": {
      "text/html": [
       "<div>\n",
       "<style scoped>\n",
       "    .dataframe tbody tr th:only-of-type {\n",
       "        vertical-align: middle;\n",
       "    }\n",
       "\n",
       "    .dataframe tbody tr th {\n",
       "        vertical-align: top;\n",
       "    }\n",
       "\n",
       "    .dataframe thead th {\n",
       "        text-align: right;\n",
       "    }\n",
       "</style>\n",
       "<table border=\"1\" class=\"dataframe\">\n",
       "  <thead>\n",
       "    <tr style=\"text-align: right;\">\n",
       "      <th></th>\n",
       "      <th>grass_date</th>\n",
       "      <th>user_id</th>\n",
       "      <th>subject_line_length</th>\n",
       "      <th>last_open_day</th>\n",
       "      <th>last_login_day</th>\n",
       "      <th>last_checkout_day</th>\n",
       "      <th>open_count_last_10_days</th>\n",
       "      <th>open_count_last_30_days</th>\n",
       "      <th>open_count_last_60_days</th>\n",
       "      <th>login_count_last_10_days</th>\n",
       "      <th>...</th>\n",
       "      <th>@gmail.com</th>\n",
       "      <th>@hotmail.com</th>\n",
       "      <th>@icloud.com</th>\n",
       "      <th>@live.com</th>\n",
       "      <th>@outlook.com</th>\n",
       "      <th>@qq.com</th>\n",
       "      <th>@rocketmail.com</th>\n",
       "      <th>@yahoo.com</th>\n",
       "      <th>@ymail.com</th>\n",
       "      <th>other</th>\n",
       "    </tr>\n",
       "  </thead>\n",
       "  <tbody>\n",
       "    <tr>\n",
       "      <th>0</th>\n",
       "      <td>1.563206e+09</td>\n",
       "      <td>43</td>\n",
       "      <td>44</td>\n",
       "      <td>19</td>\n",
       "      <td>6</td>\n",
       "      <td>18</td>\n",
       "      <td>0</td>\n",
       "      <td>2</td>\n",
       "      <td>4</td>\n",
       "      <td>12</td>\n",
       "      <td>...</td>\n",
       "      <td>1</td>\n",
       "      <td>0</td>\n",
       "      <td>0</td>\n",
       "      <td>0</td>\n",
       "      <td>0</td>\n",
       "      <td>0</td>\n",
       "      <td>0</td>\n",
       "      <td>0</td>\n",
       "      <td>0</td>\n",
       "      <td>0</td>\n",
       "    </tr>\n",
       "    <tr>\n",
       "      <th>1</th>\n",
       "      <td>1.563206e+09</td>\n",
       "      <td>102</td>\n",
       "      <td>44</td>\n",
       "      <td>9</td>\n",
       "      <td>4</td>\n",
       "      <td>8</td>\n",
       "      <td>2</td>\n",
       "      <td>9</td>\n",
       "      <td>17</td>\n",
       "      <td>18</td>\n",
       "      <td>...</td>\n",
       "      <td>0</td>\n",
       "      <td>1</td>\n",
       "      <td>0</td>\n",
       "      <td>0</td>\n",
       "      <td>0</td>\n",
       "      <td>0</td>\n",
       "      <td>0</td>\n",
       "      <td>0</td>\n",
       "      <td>0</td>\n",
       "      <td>0</td>\n",
       "    </tr>\n",
       "    <tr>\n",
       "      <th>2</th>\n",
       "      <td>1.563206e+09</td>\n",
       "      <td>177</td>\n",
       "      <td>49</td>\n",
       "      <td>14</td>\n",
       "      <td>5</td>\n",
       "      <td>5</td>\n",
       "      <td>0</td>\n",
       "      <td>4</td>\n",
       "      <td>12</td>\n",
       "      <td>24</td>\n",
       "      <td>...</td>\n",
       "      <td>0</td>\n",
       "      <td>0</td>\n",
       "      <td>0</td>\n",
       "      <td>0</td>\n",
       "      <td>0</td>\n",
       "      <td>0</td>\n",
       "      <td>0</td>\n",
       "      <td>1</td>\n",
       "      <td>0</td>\n",
       "      <td>0</td>\n",
       "    </tr>\n",
       "    <tr>\n",
       "      <th>3</th>\n",
       "      <td>1.563206e+09</td>\n",
       "      <td>184</td>\n",
       "      <td>49</td>\n",
       "      <td>49</td>\n",
       "      <td>9</td>\n",
       "      <td>53</td>\n",
       "      <td>0</td>\n",
       "      <td>0</td>\n",
       "      <td>1</td>\n",
       "      <td>9</td>\n",
       "      <td>...</td>\n",
       "      <td>0</td>\n",
       "      <td>0</td>\n",
       "      <td>0</td>\n",
       "      <td>0</td>\n",
       "      <td>0</td>\n",
       "      <td>0</td>\n",
       "      <td>0</td>\n",
       "      <td>1</td>\n",
       "      <td>0</td>\n",
       "      <td>0</td>\n",
       "    </tr>\n",
       "    <tr>\n",
       "      <th>4</th>\n",
       "      <td>1.563206e+09</td>\n",
       "      <td>221</td>\n",
       "      <td>49</td>\n",
       "      <td>227</td>\n",
       "      <td>6</td>\n",
       "      <td>221</td>\n",
       "      <td>0</td>\n",
       "      <td>0</td>\n",
       "      <td>0</td>\n",
       "      <td>2</td>\n",
       "      <td>...</td>\n",
       "      <td>0</td>\n",
       "      <td>1</td>\n",
       "      <td>0</td>\n",
       "      <td>0</td>\n",
       "      <td>0</td>\n",
       "      <td>0</td>\n",
       "      <td>0</td>\n",
       "      <td>0</td>\n",
       "      <td>0</td>\n",
       "      <td>0</td>\n",
       "    </tr>\n",
       "    <tr>\n",
       "      <th>...</th>\n",
       "      <td>...</td>\n",
       "      <td>...</td>\n",
       "      <td>...</td>\n",
       "      <td>...</td>\n",
       "      <td>...</td>\n",
       "      <td>...</td>\n",
       "      <td>...</td>\n",
       "      <td>...</td>\n",
       "      <td>...</td>\n",
       "      <td>...</td>\n",
       "      <td>...</td>\n",
       "      <td>...</td>\n",
       "      <td>...</td>\n",
       "      <td>...</td>\n",
       "      <td>...</td>\n",
       "      <td>...</td>\n",
       "      <td>...</td>\n",
       "      <td>...</td>\n",
       "      <td>...</td>\n",
       "      <td>...</td>\n",
       "      <td>...</td>\n",
       "    </tr>\n",
       "    <tr>\n",
       "      <th>73534</th>\n",
       "      <td>1.567354e+09</td>\n",
       "      <td>127613</td>\n",
       "      <td>39</td>\n",
       "      <td>24</td>\n",
       "      <td>36</td>\n",
       "      <td>279</td>\n",
       "      <td>0</td>\n",
       "      <td>1</td>\n",
       "      <td>1</td>\n",
       "      <td>0</td>\n",
       "      <td>...</td>\n",
       "      <td>0</td>\n",
       "      <td>1</td>\n",
       "      <td>0</td>\n",
       "      <td>0</td>\n",
       "      <td>0</td>\n",
       "      <td>0</td>\n",
       "      <td>0</td>\n",
       "      <td>0</td>\n",
       "      <td>0</td>\n",
       "      <td>0</td>\n",
       "    </tr>\n",
       "    <tr>\n",
       "      <th>73535</th>\n",
       "      <td>1.567354e+09</td>\n",
       "      <td>127620</td>\n",
       "      <td>38</td>\n",
       "      <td>46</td>\n",
       "      <td>10</td>\n",
       "      <td>51</td>\n",
       "      <td>0</td>\n",
       "      <td>0</td>\n",
       "      <td>1</td>\n",
       "      <td>0</td>\n",
       "      <td>...</td>\n",
       "      <td>1</td>\n",
       "      <td>0</td>\n",
       "      <td>0</td>\n",
       "      <td>0</td>\n",
       "      <td>0</td>\n",
       "      <td>0</td>\n",
       "      <td>0</td>\n",
       "      <td>0</td>\n",
       "      <td>0</td>\n",
       "      <td>0</td>\n",
       "    </tr>\n",
       "    <tr>\n",
       "      <th>73536</th>\n",
       "      <td>1.567354e+09</td>\n",
       "      <td>127696</td>\n",
       "      <td>32</td>\n",
       "      <td>1000</td>\n",
       "      <td>19000</td>\n",
       "      <td>1500</td>\n",
       "      <td>0</td>\n",
       "      <td>0</td>\n",
       "      <td>0</td>\n",
       "      <td>0</td>\n",
       "      <td>...</td>\n",
       "      <td>1</td>\n",
       "      <td>0</td>\n",
       "      <td>0</td>\n",
       "      <td>0</td>\n",
       "      <td>0</td>\n",
       "      <td>0</td>\n",
       "      <td>0</td>\n",
       "      <td>0</td>\n",
       "      <td>0</td>\n",
       "      <td>0</td>\n",
       "    </tr>\n",
       "    <tr>\n",
       "      <th>73537</th>\n",
       "      <td>1.567354e+09</td>\n",
       "      <td>127807</td>\n",
       "      <td>38</td>\n",
       "      <td>5</td>\n",
       "      <td>34</td>\n",
       "      <td>1500</td>\n",
       "      <td>2</td>\n",
       "      <td>4</td>\n",
       "      <td>4</td>\n",
       "      <td>0</td>\n",
       "      <td>...</td>\n",
       "      <td>1</td>\n",
       "      <td>0</td>\n",
       "      <td>0</td>\n",
       "      <td>0</td>\n",
       "      <td>0</td>\n",
       "      <td>0</td>\n",
       "      <td>0</td>\n",
       "      <td>0</td>\n",
       "      <td>0</td>\n",
       "      <td>0</td>\n",
       "    </tr>\n",
       "    <tr>\n",
       "      <th>73538</th>\n",
       "      <td>1.567354e+09</td>\n",
       "      <td>127880</td>\n",
       "      <td>39</td>\n",
       "      <td>1</td>\n",
       "      <td>3</td>\n",
       "      <td>1500</td>\n",
       "      <td>2</td>\n",
       "      <td>2</td>\n",
       "      <td>3</td>\n",
       "      <td>0</td>\n",
       "      <td>...</td>\n",
       "      <td>1</td>\n",
       "      <td>0</td>\n",
       "      <td>0</td>\n",
       "      <td>0</td>\n",
       "      <td>0</td>\n",
       "      <td>0</td>\n",
       "      <td>0</td>\n",
       "      <td>0</td>\n",
       "      <td>0</td>\n",
       "      <td>0</td>\n",
       "    </tr>\n",
       "  </tbody>\n",
       "</table>\n",
       "<p>73539 rows × 30 columns</p>\n",
       "</div>"
      ],
      "text/plain": [
       "         grass_date  user_id  subject_line_length  last_open_day  \\\n",
       "0      1.563206e+09       43                   44             19   \n",
       "1      1.563206e+09      102                   44              9   \n",
       "2      1.563206e+09      177                   49             14   \n",
       "3      1.563206e+09      184                   49             49   \n",
       "4      1.563206e+09      221                   49            227   \n",
       "...             ...      ...                  ...            ...   \n",
       "73534  1.567354e+09   127613                   39             24   \n",
       "73535  1.567354e+09   127620                   38             46   \n",
       "73536  1.567354e+09   127696                   32           1000   \n",
       "73537  1.567354e+09   127807                   38              5   \n",
       "73538  1.567354e+09   127880                   39              1   \n",
       "\n",
       "       last_login_day  last_checkout_day  open_count_last_10_days  \\\n",
       "0                   6                 18                        0   \n",
       "1                   4                  8                        2   \n",
       "2                   5                  5                        0   \n",
       "3                   9                 53                        0   \n",
       "4                   6                221                        0   \n",
       "...               ...                ...                      ...   \n",
       "73534              36                279                        0   \n",
       "73535              10                 51                        0   \n",
       "73536           19000               1500                        0   \n",
       "73537              34               1500                        2   \n",
       "73538               3               1500                        2   \n",
       "\n",
       "       open_count_last_30_days  open_count_last_60_days  \\\n",
       "0                            2                        4   \n",
       "1                            9                       17   \n",
       "2                            4                       12   \n",
       "3                            0                        1   \n",
       "4                            0                        0   \n",
       "...                        ...                      ...   \n",
       "73534                        1                        1   \n",
       "73535                        0                        1   \n",
       "73536                        0                        0   \n",
       "73537                        4                        4   \n",
       "73538                        2                        3   \n",
       "\n",
       "       login_count_last_10_days  ...  @gmail.com  @hotmail.com  @icloud.com  \\\n",
       "0                            12  ...           1             0            0   \n",
       "1                            18  ...           0             1            0   \n",
       "2                            24  ...           0             0            0   \n",
       "3                             9  ...           0             0            0   \n",
       "4                             2  ...           0             1            0   \n",
       "...                         ...  ...         ...           ...          ...   \n",
       "73534                         0  ...           0             1            0   \n",
       "73535                         0  ...           1             0            0   \n",
       "73536                         0  ...           1             0            0   \n",
       "73537                         0  ...           1             0            0   \n",
       "73538                         0  ...           1             0            0   \n",
       "\n",
       "       @live.com  @outlook.com  @qq.com  @rocketmail.com  @yahoo.com  \\\n",
       "0              0             0        0                0           0   \n",
       "1              0             0        0                0           0   \n",
       "2              0             0        0                0           1   \n",
       "3              0             0        0                0           1   \n",
       "4              0             0        0                0           0   \n",
       "...          ...           ...      ...              ...         ...   \n",
       "73534          0             0        0                0           0   \n",
       "73535          0             0        0                0           0   \n",
       "73536          0             0        0                0           0   \n",
       "73537          0             0        0                0           0   \n",
       "73538          0             0        0                0           0   \n",
       "\n",
       "       @ymail.com  other  \n",
       "0               0      0  \n",
       "1               0      0  \n",
       "2               0      0  \n",
       "3               0      0  \n",
       "4               0      0  \n",
       "...           ...    ...  \n",
       "73534           0      0  \n",
       "73535           0      0  \n",
       "73536           0      0  \n",
       "73537           0      0  \n",
       "73538           0      0  \n",
       "\n",
       "[73539 rows x 30 columns]"
      ]
     },
     "execution_count": 114,
     "metadata": {},
     "output_type": "execute_result"
    }
   ],
   "source": [
    "dom_flag = pd.get_dummies(train['domain'])\n",
    "train_feat = pd.concat([train_feat, dom_flag], axis = 1)\n",
    "train_feat"
   ]
  },
  {
   "cell_type": "code",
   "execution_count": 115,
   "metadata": {
    "execution": {
     "iopub.execute_input": "2020-08-09T04:29:04.008839Z",
     "iopub.status.busy": "2020-08-09T04:29:04.008209Z",
     "iopub.status.idle": "2020-08-09T04:29:04.012503Z",
     "shell.execute_reply": "2020-08-09T04:29:04.011841Z"
    },
    "papermill": {
     "duration": 0.070626,
     "end_time": "2020-08-09T04:29:04.012618",
     "exception": false,
     "start_time": "2020-08-09T04:29:03.941992",
     "status": "completed"
    },
    "tags": []
   },
   "outputs": [
    {
     "data": {
      "text/html": [
       "<div>\n",
       "<style scoped>\n",
       "    .dataframe tbody tr th:only-of-type {\n",
       "        vertical-align: middle;\n",
       "    }\n",
       "\n",
       "    .dataframe tbody tr th {\n",
       "        vertical-align: top;\n",
       "    }\n",
       "\n",
       "    .dataframe thead th {\n",
       "        text-align: right;\n",
       "    }\n",
       "</style>\n",
       "<table border=\"1\" class=\"dataframe\">\n",
       "  <thead>\n",
       "    <tr style=\"text-align: right;\">\n",
       "      <th></th>\n",
       "      <th>@163.com</th>\n",
       "      <th>@gmail.com</th>\n",
       "      <th>@hotmail.com</th>\n",
       "      <th>@icloud.com</th>\n",
       "      <th>@live.com</th>\n",
       "      <th>@outlook.com</th>\n",
       "      <th>@qq.com</th>\n",
       "      <th>@rocketmail.com</th>\n",
       "      <th>@yahoo.com</th>\n",
       "      <th>@ymail.com</th>\n",
       "      <th>other</th>\n",
       "    </tr>\n",
       "  </thead>\n",
       "  <tbody>\n",
       "    <tr>\n",
       "      <th>0</th>\n",
       "      <td>0</td>\n",
       "      <td>1</td>\n",
       "      <td>0</td>\n",
       "      <td>0</td>\n",
       "      <td>0</td>\n",
       "      <td>0</td>\n",
       "      <td>0</td>\n",
       "      <td>0</td>\n",
       "      <td>0</td>\n",
       "      <td>0</td>\n",
       "      <td>0</td>\n",
       "    </tr>\n",
       "    <tr>\n",
       "      <th>1</th>\n",
       "      <td>0</td>\n",
       "      <td>0</td>\n",
       "      <td>1</td>\n",
       "      <td>0</td>\n",
       "      <td>0</td>\n",
       "      <td>0</td>\n",
       "      <td>0</td>\n",
       "      <td>0</td>\n",
       "      <td>0</td>\n",
       "      <td>0</td>\n",
       "      <td>0</td>\n",
       "    </tr>\n",
       "    <tr>\n",
       "      <th>2</th>\n",
       "      <td>0</td>\n",
       "      <td>0</td>\n",
       "      <td>0</td>\n",
       "      <td>0</td>\n",
       "      <td>0</td>\n",
       "      <td>0</td>\n",
       "      <td>0</td>\n",
       "      <td>0</td>\n",
       "      <td>1</td>\n",
       "      <td>0</td>\n",
       "      <td>0</td>\n",
       "    </tr>\n",
       "    <tr>\n",
       "      <th>3</th>\n",
       "      <td>0</td>\n",
       "      <td>0</td>\n",
       "      <td>0</td>\n",
       "      <td>0</td>\n",
       "      <td>0</td>\n",
       "      <td>0</td>\n",
       "      <td>0</td>\n",
       "      <td>0</td>\n",
       "      <td>1</td>\n",
       "      <td>0</td>\n",
       "      <td>0</td>\n",
       "    </tr>\n",
       "    <tr>\n",
       "      <th>4</th>\n",
       "      <td>0</td>\n",
       "      <td>0</td>\n",
       "      <td>1</td>\n",
       "      <td>0</td>\n",
       "      <td>0</td>\n",
       "      <td>0</td>\n",
       "      <td>0</td>\n",
       "      <td>0</td>\n",
       "      <td>0</td>\n",
       "      <td>0</td>\n",
       "      <td>0</td>\n",
       "    </tr>\n",
       "    <tr>\n",
       "      <th>...</th>\n",
       "      <td>...</td>\n",
       "      <td>...</td>\n",
       "      <td>...</td>\n",
       "      <td>...</td>\n",
       "      <td>...</td>\n",
       "      <td>...</td>\n",
       "      <td>...</td>\n",
       "      <td>...</td>\n",
       "      <td>...</td>\n",
       "      <td>...</td>\n",
       "      <td>...</td>\n",
       "    </tr>\n",
       "    <tr>\n",
       "      <th>73534</th>\n",
       "      <td>0</td>\n",
       "      <td>0</td>\n",
       "      <td>1</td>\n",
       "      <td>0</td>\n",
       "      <td>0</td>\n",
       "      <td>0</td>\n",
       "      <td>0</td>\n",
       "      <td>0</td>\n",
       "      <td>0</td>\n",
       "      <td>0</td>\n",
       "      <td>0</td>\n",
       "    </tr>\n",
       "    <tr>\n",
       "      <th>73535</th>\n",
       "      <td>0</td>\n",
       "      <td>1</td>\n",
       "      <td>0</td>\n",
       "      <td>0</td>\n",
       "      <td>0</td>\n",
       "      <td>0</td>\n",
       "      <td>0</td>\n",
       "      <td>0</td>\n",
       "      <td>0</td>\n",
       "      <td>0</td>\n",
       "      <td>0</td>\n",
       "    </tr>\n",
       "    <tr>\n",
       "      <th>73536</th>\n",
       "      <td>0</td>\n",
       "      <td>1</td>\n",
       "      <td>0</td>\n",
       "      <td>0</td>\n",
       "      <td>0</td>\n",
       "      <td>0</td>\n",
       "      <td>0</td>\n",
       "      <td>0</td>\n",
       "      <td>0</td>\n",
       "      <td>0</td>\n",
       "      <td>0</td>\n",
       "    </tr>\n",
       "    <tr>\n",
       "      <th>73537</th>\n",
       "      <td>0</td>\n",
       "      <td>1</td>\n",
       "      <td>0</td>\n",
       "      <td>0</td>\n",
       "      <td>0</td>\n",
       "      <td>0</td>\n",
       "      <td>0</td>\n",
       "      <td>0</td>\n",
       "      <td>0</td>\n",
       "      <td>0</td>\n",
       "      <td>0</td>\n",
       "    </tr>\n",
       "    <tr>\n",
       "      <th>73538</th>\n",
       "      <td>0</td>\n",
       "      <td>1</td>\n",
       "      <td>0</td>\n",
       "      <td>0</td>\n",
       "      <td>0</td>\n",
       "      <td>0</td>\n",
       "      <td>0</td>\n",
       "      <td>0</td>\n",
       "      <td>0</td>\n",
       "      <td>0</td>\n",
       "      <td>0</td>\n",
       "    </tr>\n",
       "  </tbody>\n",
       "</table>\n",
       "<p>73539 rows × 11 columns</p>\n",
       "</div>"
      ],
      "text/plain": [
       "       @163.com  @gmail.com  @hotmail.com  @icloud.com  @live.com  \\\n",
       "0             0           1             0            0          0   \n",
       "1             0           0             1            0          0   \n",
       "2             0           0             0            0          0   \n",
       "3             0           0             0            0          0   \n",
       "4             0           0             1            0          0   \n",
       "...         ...         ...           ...          ...        ...   \n",
       "73534         0           0             1            0          0   \n",
       "73535         0           1             0            0          0   \n",
       "73536         0           1             0            0          0   \n",
       "73537         0           1             0            0          0   \n",
       "73538         0           1             0            0          0   \n",
       "\n",
       "       @outlook.com  @qq.com  @rocketmail.com  @yahoo.com  @ymail.com  other  \n",
       "0                 0        0                0           0           0      0  \n",
       "1                 0        0                0           0           0      0  \n",
       "2                 0        0                0           1           0      0  \n",
       "3                 0        0                0           1           0      0  \n",
       "4                 0        0                0           0           0      0  \n",
       "...             ...      ...              ...         ...         ...    ...  \n",
       "73534             0        0                0           0           0      0  \n",
       "73535             0        0                0           0           0      0  \n",
       "73536             0        0                0           0           0      0  \n",
       "73537             0        0                0           0           0      0  \n",
       "73538             0        0                0           0           0      0  \n",
       "\n",
       "[73539 rows x 11 columns]"
      ]
     },
     "execution_count": 115,
     "metadata": {},
     "output_type": "execute_result"
    }
   ],
   "source": [
    "dom_flag"
   ]
  },
  {
   "cell_type": "code",
   "execution_count": 116,
   "metadata": {
    "execution": {
     "iopub.execute_input": "2020-08-09T04:29:04.125902Z",
     "iopub.status.busy": "2020-08-09T04:29:04.125243Z",
     "iopub.status.idle": "2020-08-09T04:29:04.160781Z",
     "shell.execute_reply": "2020-08-09T04:29:04.160243Z"
    },
    "papermill": {
     "duration": 0.094991,
     "end_time": "2020-08-09T04:29:04.160928",
     "exception": false,
     "start_time": "2020-08-09T04:29:04.065937",
     "status": "completed"
    },
    "tags": []
   },
   "outputs": [
    {
     "data": {
      "text/html": [
       "<div>\n",
       "<style scoped>\n",
       "    .dataframe tbody tr th:only-of-type {\n",
       "        vertical-align: middle;\n",
       "    }\n",
       "\n",
       "    .dataframe tbody tr th {\n",
       "        vertical-align: top;\n",
       "    }\n",
       "\n",
       "    .dataframe thead th {\n",
       "        text-align: right;\n",
       "    }\n",
       "</style>\n",
       "<table border=\"1\" class=\"dataframe\">\n",
       "  <thead>\n",
       "    <tr style=\"text-align: right;\">\n",
       "      <th></th>\n",
       "      <th>grass_date</th>\n",
       "      <th>user_id</th>\n",
       "      <th>subject_line_length</th>\n",
       "      <th>last_open_day</th>\n",
       "      <th>last_login_day</th>\n",
       "      <th>last_checkout_day</th>\n",
       "      <th>open_count_last_10_days</th>\n",
       "      <th>open_count_last_30_days</th>\n",
       "      <th>open_count_last_60_days</th>\n",
       "      <th>login_count_last_10_days</th>\n",
       "      <th>...</th>\n",
       "      <th>@gmail.com</th>\n",
       "      <th>@hotmail.com</th>\n",
       "      <th>@icloud.com</th>\n",
       "      <th>@live.com</th>\n",
       "      <th>@outlook.com</th>\n",
       "      <th>@qq.com</th>\n",
       "      <th>@rocketmail.com</th>\n",
       "      <th>@yahoo.com</th>\n",
       "      <th>@ymail.com</th>\n",
       "      <th>other</th>\n",
       "    </tr>\n",
       "  </thead>\n",
       "  <tbody>\n",
       "    <tr>\n",
       "      <th>0</th>\n",
       "      <td>1.567440e+09</td>\n",
       "      <td>0</td>\n",
       "      <td>35</td>\n",
       "      <td>27</td>\n",
       "      <td>2</td>\n",
       "      <td>13</td>\n",
       "      <td>2</td>\n",
       "      <td>3</td>\n",
       "      <td>4</td>\n",
       "      <td>10</td>\n",
       "      <td>...</td>\n",
       "      <td>1</td>\n",
       "      <td>0</td>\n",
       "      <td>0</td>\n",
       "      <td>0</td>\n",
       "      <td>0</td>\n",
       "      <td>0</td>\n",
       "      <td>0</td>\n",
       "      <td>0</td>\n",
       "      <td>0</td>\n",
       "      <td>0</td>\n",
       "    </tr>\n",
       "    <tr>\n",
       "      <th>1</th>\n",
       "      <td>1.567440e+09</td>\n",
       "      <td>130</td>\n",
       "      <td>35</td>\n",
       "      <td>7</td>\n",
       "      <td>5</td>\n",
       "      <td>383</td>\n",
       "      <td>1</td>\n",
       "      <td>1</td>\n",
       "      <td>1</td>\n",
       "      <td>5</td>\n",
       "      <td>...</td>\n",
       "      <td>1</td>\n",
       "      <td>0</td>\n",
       "      <td>0</td>\n",
       "      <td>0</td>\n",
       "      <td>0</td>\n",
       "      <td>0</td>\n",
       "      <td>0</td>\n",
       "      <td>0</td>\n",
       "      <td>0</td>\n",
       "      <td>0</td>\n",
       "    </tr>\n",
       "    <tr>\n",
       "      <th>2</th>\n",
       "      <td>1.567440e+09</td>\n",
       "      <td>150</td>\n",
       "      <td>25</td>\n",
       "      <td>34</td>\n",
       "      <td>1</td>\n",
       "      <td>3</td>\n",
       "      <td>0</td>\n",
       "      <td>0</td>\n",
       "      <td>0</td>\n",
       "      <td>13</td>\n",
       "      <td>...</td>\n",
       "      <td>1</td>\n",
       "      <td>0</td>\n",
       "      <td>0</td>\n",
       "      <td>0</td>\n",
       "      <td>0</td>\n",
       "      <td>0</td>\n",
       "      <td>0</td>\n",
       "      <td>0</td>\n",
       "      <td>0</td>\n",
       "      <td>0</td>\n",
       "    </tr>\n",
       "    <tr>\n",
       "      <th>3</th>\n",
       "      <td>1.567440e+09</td>\n",
       "      <td>181</td>\n",
       "      <td>36</td>\n",
       "      <td>63</td>\n",
       "      <td>5</td>\n",
       "      <td>5</td>\n",
       "      <td>0</td>\n",
       "      <td>0</td>\n",
       "      <td>0</td>\n",
       "      <td>43</td>\n",
       "      <td>...</td>\n",
       "      <td>0</td>\n",
       "      <td>0</td>\n",
       "      <td>0</td>\n",
       "      <td>0</td>\n",
       "      <td>0</td>\n",
       "      <td>0</td>\n",
       "      <td>0</td>\n",
       "      <td>1</td>\n",
       "      <td>0</td>\n",
       "      <td>0</td>\n",
       "    </tr>\n",
       "    <tr>\n",
       "      <th>4</th>\n",
       "      <td>1.567440e+09</td>\n",
       "      <td>192</td>\n",
       "      <td>23</td>\n",
       "      <td>6</td>\n",
       "      <td>5</td>\n",
       "      <td>54</td>\n",
       "      <td>0</td>\n",
       "      <td>0</td>\n",
       "      <td>0</td>\n",
       "      <td>4</td>\n",
       "      <td>...</td>\n",
       "      <td>1</td>\n",
       "      <td>0</td>\n",
       "      <td>0</td>\n",
       "      <td>0</td>\n",
       "      <td>0</td>\n",
       "      <td>0</td>\n",
       "      <td>0</td>\n",
       "      <td>0</td>\n",
       "      <td>0</td>\n",
       "      <td>0</td>\n",
       "    </tr>\n",
       "    <tr>\n",
       "      <th>...</th>\n",
       "      <td>...</td>\n",
       "      <td>...</td>\n",
       "      <td>...</td>\n",
       "      <td>...</td>\n",
       "      <td>...</td>\n",
       "      <td>...</td>\n",
       "      <td>...</td>\n",
       "      <td>...</td>\n",
       "      <td>...</td>\n",
       "      <td>...</td>\n",
       "      <td>...</td>\n",
       "      <td>...</td>\n",
       "      <td>...</td>\n",
       "      <td>...</td>\n",
       "      <td>...</td>\n",
       "      <td>...</td>\n",
       "      <td>...</td>\n",
       "      <td>...</td>\n",
       "      <td>...</td>\n",
       "      <td>...</td>\n",
       "      <td>...</td>\n",
       "    </tr>\n",
       "    <tr>\n",
       "      <th>55965</th>\n",
       "      <td>1.569686e+09</td>\n",
       "      <td>127348</td>\n",
       "      <td>53</td>\n",
       "      <td>1000</td>\n",
       "      <td>4</td>\n",
       "      <td>8</td>\n",
       "      <td>0</td>\n",
       "      <td>0</td>\n",
       "      <td>0</td>\n",
       "      <td>0</td>\n",
       "      <td>...</td>\n",
       "      <td>1</td>\n",
       "      <td>0</td>\n",
       "      <td>0</td>\n",
       "      <td>0</td>\n",
       "      <td>0</td>\n",
       "      <td>0</td>\n",
       "      <td>0</td>\n",
       "      <td>0</td>\n",
       "      <td>0</td>\n",
       "      <td>0</td>\n",
       "    </tr>\n",
       "    <tr>\n",
       "      <th>55966</th>\n",
       "      <td>1.569686e+09</td>\n",
       "      <td>127396</td>\n",
       "      <td>53</td>\n",
       "      <td>59</td>\n",
       "      <td>802</td>\n",
       "      <td>1207</td>\n",
       "      <td>0</td>\n",
       "      <td>0</td>\n",
       "      <td>1</td>\n",
       "      <td>0</td>\n",
       "      <td>...</td>\n",
       "      <td>1</td>\n",
       "      <td>0</td>\n",
       "      <td>0</td>\n",
       "      <td>0</td>\n",
       "      <td>0</td>\n",
       "      <td>0</td>\n",
       "      <td>0</td>\n",
       "      <td>0</td>\n",
       "      <td>0</td>\n",
       "      <td>0</td>\n",
       "    </tr>\n",
       "    <tr>\n",
       "      <th>55967</th>\n",
       "      <td>1.569686e+09</td>\n",
       "      <td>127574</td>\n",
       "      <td>43</td>\n",
       "      <td>1000</td>\n",
       "      <td>7</td>\n",
       "      <td>1500</td>\n",
       "      <td>0</td>\n",
       "      <td>0</td>\n",
       "      <td>0</td>\n",
       "      <td>0</td>\n",
       "      <td>...</td>\n",
       "      <td>0</td>\n",
       "      <td>1</td>\n",
       "      <td>0</td>\n",
       "      <td>0</td>\n",
       "      <td>0</td>\n",
       "      <td>0</td>\n",
       "      <td>0</td>\n",
       "      <td>0</td>\n",
       "      <td>0</td>\n",
       "      <td>0</td>\n",
       "    </tr>\n",
       "    <tr>\n",
       "      <th>55968</th>\n",
       "      <td>1.569686e+09</td>\n",
       "      <td>127887</td>\n",
       "      <td>43</td>\n",
       "      <td>5</td>\n",
       "      <td>5</td>\n",
       "      <td>6</td>\n",
       "      <td>2</td>\n",
       "      <td>5</td>\n",
       "      <td>14</td>\n",
       "      <td>0</td>\n",
       "      <td>...</td>\n",
       "      <td>1</td>\n",
       "      <td>0</td>\n",
       "      <td>0</td>\n",
       "      <td>0</td>\n",
       "      <td>0</td>\n",
       "      <td>0</td>\n",
       "      <td>0</td>\n",
       "      <td>0</td>\n",
       "      <td>0</td>\n",
       "      <td>0</td>\n",
       "    </tr>\n",
       "    <tr>\n",
       "      <th>55969</th>\n",
       "      <td>1.569686e+09</td>\n",
       "      <td>127895</td>\n",
       "      <td>53</td>\n",
       "      <td>5</td>\n",
       "      <td>3</td>\n",
       "      <td>20</td>\n",
       "      <td>2</td>\n",
       "      <td>14</td>\n",
       "      <td>27</td>\n",
       "      <td>0</td>\n",
       "      <td>...</td>\n",
       "      <td>0</td>\n",
       "      <td>1</td>\n",
       "      <td>0</td>\n",
       "      <td>0</td>\n",
       "      <td>0</td>\n",
       "      <td>0</td>\n",
       "      <td>0</td>\n",
       "      <td>0</td>\n",
       "      <td>0</td>\n",
       "      <td>0</td>\n",
       "    </tr>\n",
       "  </tbody>\n",
       "</table>\n",
       "<p>55970 rows × 29 columns</p>\n",
       "</div>"
      ],
      "text/plain": [
       "         grass_date  user_id  subject_line_length  last_open_day  \\\n",
       "0      1.567440e+09        0                   35             27   \n",
       "1      1.567440e+09      130                   35              7   \n",
       "2      1.567440e+09      150                   25             34   \n",
       "3      1.567440e+09      181                   36             63   \n",
       "4      1.567440e+09      192                   23              6   \n",
       "...             ...      ...                  ...            ...   \n",
       "55965  1.569686e+09   127348                   53           1000   \n",
       "55966  1.569686e+09   127396                   53             59   \n",
       "55967  1.569686e+09   127574                   43           1000   \n",
       "55968  1.569686e+09   127887                   43              5   \n",
       "55969  1.569686e+09   127895                   53              5   \n",
       "\n",
       "       last_login_day  last_checkout_day  open_count_last_10_days  \\\n",
       "0                   2                 13                        2   \n",
       "1                   5                383                        1   \n",
       "2                   1                  3                        0   \n",
       "3                   5                  5                        0   \n",
       "4                   5                 54                        0   \n",
       "...               ...                ...                      ...   \n",
       "55965               4                  8                        0   \n",
       "55966             802               1207                        0   \n",
       "55967               7               1500                        0   \n",
       "55968               5                  6                        2   \n",
       "55969               3                 20                        2   \n",
       "\n",
       "       open_count_last_30_days  open_count_last_60_days  \\\n",
       "0                            3                        4   \n",
       "1                            1                        1   \n",
       "2                            0                        0   \n",
       "3                            0                        0   \n",
       "4                            0                        0   \n",
       "...                        ...                      ...   \n",
       "55965                        0                        0   \n",
       "55966                        0                        1   \n",
       "55967                        0                        0   \n",
       "55968                        5                       14   \n",
       "55969                       14                       27   \n",
       "\n",
       "       login_count_last_10_days  ...  @gmail.com  @hotmail.com  @icloud.com  \\\n",
       "0                            10  ...           1             0            0   \n",
       "1                             5  ...           1             0            0   \n",
       "2                            13  ...           1             0            0   \n",
       "3                            43  ...           0             0            0   \n",
       "4                             4  ...           1             0            0   \n",
       "...                         ...  ...         ...           ...          ...   \n",
       "55965                         0  ...           1             0            0   \n",
       "55966                         0  ...           1             0            0   \n",
       "55967                         0  ...           0             1            0   \n",
       "55968                         0  ...           1             0            0   \n",
       "55969                         0  ...           0             1            0   \n",
       "\n",
       "       @live.com  @outlook.com  @qq.com  @rocketmail.com  @yahoo.com  \\\n",
       "0              0             0        0                0           0   \n",
       "1              0             0        0                0           0   \n",
       "2              0             0        0                0           0   \n",
       "3              0             0        0                0           1   \n",
       "4              0             0        0                0           0   \n",
       "...          ...           ...      ...              ...         ...   \n",
       "55965          0             0        0                0           0   \n",
       "55966          0             0        0                0           0   \n",
       "55967          0             0        0                0           0   \n",
       "55968          0             0        0                0           0   \n",
       "55969          0             0        0                0           0   \n",
       "\n",
       "       @ymail.com  other  \n",
       "0               0      0  \n",
       "1               0      0  \n",
       "2               0      0  \n",
       "3               0      0  \n",
       "4               0      0  \n",
       "...           ...    ...  \n",
       "55965           0      0  \n",
       "55966           0      0  \n",
       "55967           0      0  \n",
       "55968           0      0  \n",
       "55969           0      0  \n",
       "\n",
       "[55970 rows x 29 columns]"
      ]
     },
     "execution_count": 116,
     "metadata": {},
     "output_type": "execute_result"
    }
   ],
   "source": [
    "dom_flag_test = pd.get_dummies(test['domain'])\n",
    "test_feat = pd.concat([test_feat, dom_flag_test], axis = 1)\n",
    "test_feat"
   ]
  },
  {
   "cell_type": "markdown",
   "execution_count": null,
   "metadata": {
    "papermill": {
     "duration": 0.052858,
     "end_time": "2020-08-09T04:29:04.267280",
     "exception": false,
     "start_time": "2020-08-09T04:29:04.214422",
     "status": "completed"
    },
    "tags": []
   },
   "source": [
    "One Hot Encoding: 'country_code' column"
   ]
  },
  {
   "cell_type": "code",
   "execution_count": 117,
   "metadata": {
    "execution": {
     "iopub.execute_input": "2020-08-09T04:29:04.382155Z",
     "iopub.status.busy": "2020-08-09T04:29:04.381395Z",
     "iopub.status.idle": "2020-08-09T04:29:04.443064Z",
     "shell.execute_reply": "2020-08-09T04:29:04.442552Z"
    },
    "papermill": {
     "duration": 0.122049,
     "end_time": "2020-08-09T04:29:04.443182",
     "exception": false,
     "start_time": "2020-08-09T04:29:04.321133",
     "status": "completed"
    },
    "tags": []
   },
   "outputs": [
    {
     "data": {
      "text/html": [
       "<div>\n",
       "<style scoped>\n",
       "    .dataframe tbody tr th:only-of-type {\n",
       "        vertical-align: middle;\n",
       "    }\n",
       "\n",
       "    .dataframe tbody tr th {\n",
       "        vertical-align: top;\n",
       "    }\n",
       "\n",
       "    .dataframe thead th {\n",
       "        text-align: right;\n",
       "    }\n",
       "</style>\n",
       "<table border=\"1\" class=\"dataframe\">\n",
       "  <thead>\n",
       "    <tr style=\"text-align: right;\">\n",
       "      <th></th>\n",
       "      <th>grass_date</th>\n",
       "      <th>user_id</th>\n",
       "      <th>subject_line_length</th>\n",
       "      <th>last_open_day</th>\n",
       "      <th>last_login_day</th>\n",
       "      <th>last_checkout_day</th>\n",
       "      <th>open_count_last_10_days</th>\n",
       "      <th>open_count_last_30_days</th>\n",
       "      <th>open_count_last_60_days</th>\n",
       "      <th>login_count_last_10_days</th>\n",
       "      <th>...</th>\n",
       "      <th>@yahoo.com</th>\n",
       "      <th>@ymail.com</th>\n",
       "      <th>other</th>\n",
       "      <th>1</th>\n",
       "      <th>2</th>\n",
       "      <th>3</th>\n",
       "      <th>4</th>\n",
       "      <th>5</th>\n",
       "      <th>6</th>\n",
       "      <th>7</th>\n",
       "    </tr>\n",
       "  </thead>\n",
       "  <tbody>\n",
       "    <tr>\n",
       "      <th>0</th>\n",
       "      <td>1.563206e+09</td>\n",
       "      <td>43</td>\n",
       "      <td>44</td>\n",
       "      <td>19</td>\n",
       "      <td>6</td>\n",
       "      <td>18</td>\n",
       "      <td>0</td>\n",
       "      <td>2</td>\n",
       "      <td>4</td>\n",
       "      <td>12</td>\n",
       "      <td>...</td>\n",
       "      <td>0</td>\n",
       "      <td>0</td>\n",
       "      <td>0</td>\n",
       "      <td>0</td>\n",
       "      <td>0</td>\n",
       "      <td>0</td>\n",
       "      <td>1</td>\n",
       "      <td>0</td>\n",
       "      <td>0</td>\n",
       "      <td>0</td>\n",
       "    </tr>\n",
       "    <tr>\n",
       "      <th>1</th>\n",
       "      <td>1.563206e+09</td>\n",
       "      <td>102</td>\n",
       "      <td>44</td>\n",
       "      <td>9</td>\n",
       "      <td>4</td>\n",
       "      <td>8</td>\n",
       "      <td>2</td>\n",
       "      <td>9</td>\n",
       "      <td>17</td>\n",
       "      <td>18</td>\n",
       "      <td>...</td>\n",
       "      <td>0</td>\n",
       "      <td>0</td>\n",
       "      <td>0</td>\n",
       "      <td>0</td>\n",
       "      <td>0</td>\n",
       "      <td>0</td>\n",
       "      <td>1</td>\n",
       "      <td>0</td>\n",
       "      <td>0</td>\n",
       "      <td>0</td>\n",
       "    </tr>\n",
       "    <tr>\n",
       "      <th>2</th>\n",
       "      <td>1.563206e+09</td>\n",
       "      <td>177</td>\n",
       "      <td>49</td>\n",
       "      <td>14</td>\n",
       "      <td>5</td>\n",
       "      <td>5</td>\n",
       "      <td>0</td>\n",
       "      <td>4</td>\n",
       "      <td>12</td>\n",
       "      <td>24</td>\n",
       "      <td>...</td>\n",
       "      <td>1</td>\n",
       "      <td>0</td>\n",
       "      <td>0</td>\n",
       "      <td>0</td>\n",
       "      <td>0</td>\n",
       "      <td>0</td>\n",
       "      <td>0</td>\n",
       "      <td>0</td>\n",
       "      <td>1</td>\n",
       "      <td>0</td>\n",
       "    </tr>\n",
       "    <tr>\n",
       "      <th>3</th>\n",
       "      <td>1.563206e+09</td>\n",
       "      <td>184</td>\n",
       "      <td>49</td>\n",
       "      <td>49</td>\n",
       "      <td>9</td>\n",
       "      <td>53</td>\n",
       "      <td>0</td>\n",
       "      <td>0</td>\n",
       "      <td>1</td>\n",
       "      <td>9</td>\n",
       "      <td>...</td>\n",
       "      <td>1</td>\n",
       "      <td>0</td>\n",
       "      <td>0</td>\n",
       "      <td>1</td>\n",
       "      <td>0</td>\n",
       "      <td>0</td>\n",
       "      <td>0</td>\n",
       "      <td>0</td>\n",
       "      <td>0</td>\n",
       "      <td>0</td>\n",
       "    </tr>\n",
       "    <tr>\n",
       "      <th>4</th>\n",
       "      <td>1.563206e+09</td>\n",
       "      <td>221</td>\n",
       "      <td>49</td>\n",
       "      <td>227</td>\n",
       "      <td>6</td>\n",
       "      <td>221</td>\n",
       "      <td>0</td>\n",
       "      <td>0</td>\n",
       "      <td>0</td>\n",
       "      <td>2</td>\n",
       "      <td>...</td>\n",
       "      <td>0</td>\n",
       "      <td>0</td>\n",
       "      <td>0</td>\n",
       "      <td>0</td>\n",
       "      <td>0</td>\n",
       "      <td>0</td>\n",
       "      <td>0</td>\n",
       "      <td>0</td>\n",
       "      <td>1</td>\n",
       "      <td>0</td>\n",
       "    </tr>\n",
       "    <tr>\n",
       "      <th>...</th>\n",
       "      <td>...</td>\n",
       "      <td>...</td>\n",
       "      <td>...</td>\n",
       "      <td>...</td>\n",
       "      <td>...</td>\n",
       "      <td>...</td>\n",
       "      <td>...</td>\n",
       "      <td>...</td>\n",
       "      <td>...</td>\n",
       "      <td>...</td>\n",
       "      <td>...</td>\n",
       "      <td>...</td>\n",
       "      <td>...</td>\n",
       "      <td>...</td>\n",
       "      <td>...</td>\n",
       "      <td>...</td>\n",
       "      <td>...</td>\n",
       "      <td>...</td>\n",
       "      <td>...</td>\n",
       "      <td>...</td>\n",
       "      <td>...</td>\n",
       "    </tr>\n",
       "    <tr>\n",
       "      <th>73534</th>\n",
       "      <td>1.567354e+09</td>\n",
       "      <td>127613</td>\n",
       "      <td>39</td>\n",
       "      <td>24</td>\n",
       "      <td>36</td>\n",
       "      <td>279</td>\n",
       "      <td>0</td>\n",
       "      <td>1</td>\n",
       "      <td>1</td>\n",
       "      <td>0</td>\n",
       "      <td>...</td>\n",
       "      <td>0</td>\n",
       "      <td>0</td>\n",
       "      <td>0</td>\n",
       "      <td>0</td>\n",
       "      <td>0</td>\n",
       "      <td>0</td>\n",
       "      <td>0</td>\n",
       "      <td>0</td>\n",
       "      <td>1</td>\n",
       "      <td>0</td>\n",
       "    </tr>\n",
       "    <tr>\n",
       "      <th>73535</th>\n",
       "      <td>1.567354e+09</td>\n",
       "      <td>127620</td>\n",
       "      <td>38</td>\n",
       "      <td>46</td>\n",
       "      <td>10</td>\n",
       "      <td>51</td>\n",
       "      <td>0</td>\n",
       "      <td>0</td>\n",
       "      <td>1</td>\n",
       "      <td>0</td>\n",
       "      <td>...</td>\n",
       "      <td>0</td>\n",
       "      <td>0</td>\n",
       "      <td>0</td>\n",
       "      <td>0</td>\n",
       "      <td>1</td>\n",
       "      <td>0</td>\n",
       "      <td>0</td>\n",
       "      <td>0</td>\n",
       "      <td>0</td>\n",
       "      <td>0</td>\n",
       "    </tr>\n",
       "    <tr>\n",
       "      <th>73536</th>\n",
       "      <td>1.567354e+09</td>\n",
       "      <td>127696</td>\n",
       "      <td>32</td>\n",
       "      <td>1000</td>\n",
       "      <td>19000</td>\n",
       "      <td>1500</td>\n",
       "      <td>0</td>\n",
       "      <td>0</td>\n",
       "      <td>0</td>\n",
       "      <td>0</td>\n",
       "      <td>...</td>\n",
       "      <td>0</td>\n",
       "      <td>0</td>\n",
       "      <td>0</td>\n",
       "      <td>0</td>\n",
       "      <td>1</td>\n",
       "      <td>0</td>\n",
       "      <td>0</td>\n",
       "      <td>0</td>\n",
       "      <td>0</td>\n",
       "      <td>0</td>\n",
       "    </tr>\n",
       "    <tr>\n",
       "      <th>73537</th>\n",
       "      <td>1.567354e+09</td>\n",
       "      <td>127807</td>\n",
       "      <td>38</td>\n",
       "      <td>5</td>\n",
       "      <td>34</td>\n",
       "      <td>1500</td>\n",
       "      <td>2</td>\n",
       "      <td>4</td>\n",
       "      <td>4</td>\n",
       "      <td>0</td>\n",
       "      <td>...</td>\n",
       "      <td>0</td>\n",
       "      <td>0</td>\n",
       "      <td>0</td>\n",
       "      <td>0</td>\n",
       "      <td>1</td>\n",
       "      <td>0</td>\n",
       "      <td>0</td>\n",
       "      <td>0</td>\n",
       "      <td>0</td>\n",
       "      <td>0</td>\n",
       "    </tr>\n",
       "    <tr>\n",
       "      <th>73538</th>\n",
       "      <td>1.567354e+09</td>\n",
       "      <td>127880</td>\n",
       "      <td>39</td>\n",
       "      <td>1</td>\n",
       "      <td>3</td>\n",
       "      <td>1500</td>\n",
       "      <td>2</td>\n",
       "      <td>2</td>\n",
       "      <td>3</td>\n",
       "      <td>0</td>\n",
       "      <td>...</td>\n",
       "      <td>0</td>\n",
       "      <td>0</td>\n",
       "      <td>0</td>\n",
       "      <td>0</td>\n",
       "      <td>0</td>\n",
       "      <td>0</td>\n",
       "      <td>0</td>\n",
       "      <td>0</td>\n",
       "      <td>1</td>\n",
       "      <td>0</td>\n",
       "    </tr>\n",
       "  </tbody>\n",
       "</table>\n",
       "<p>73539 rows × 37 columns</p>\n",
       "</div>"
      ],
      "text/plain": [
       "         grass_date  user_id  subject_line_length  last_open_day  \\\n",
       "0      1.563206e+09       43                   44             19   \n",
       "1      1.563206e+09      102                   44              9   \n",
       "2      1.563206e+09      177                   49             14   \n",
       "3      1.563206e+09      184                   49             49   \n",
       "4      1.563206e+09      221                   49            227   \n",
       "...             ...      ...                  ...            ...   \n",
       "73534  1.567354e+09   127613                   39             24   \n",
       "73535  1.567354e+09   127620                   38             46   \n",
       "73536  1.567354e+09   127696                   32           1000   \n",
       "73537  1.567354e+09   127807                   38              5   \n",
       "73538  1.567354e+09   127880                   39              1   \n",
       "\n",
       "       last_login_day  last_checkout_day  open_count_last_10_days  \\\n",
       "0                   6                 18                        0   \n",
       "1                   4                  8                        2   \n",
       "2                   5                  5                        0   \n",
       "3                   9                 53                        0   \n",
       "4                   6                221                        0   \n",
       "...               ...                ...                      ...   \n",
       "73534              36                279                        0   \n",
       "73535              10                 51                        0   \n",
       "73536           19000               1500                        0   \n",
       "73537              34               1500                        2   \n",
       "73538               3               1500                        2   \n",
       "\n",
       "       open_count_last_30_days  open_count_last_60_days  \\\n",
       "0                            2                        4   \n",
       "1                            9                       17   \n",
       "2                            4                       12   \n",
       "3                            0                        1   \n",
       "4                            0                        0   \n",
       "...                        ...                      ...   \n",
       "73534                        1                        1   \n",
       "73535                        0                        1   \n",
       "73536                        0                        0   \n",
       "73537                        4                        4   \n",
       "73538                        2                        3   \n",
       "\n",
       "       login_count_last_10_days  ...  @yahoo.com  @ymail.com  other  1  2  3  \\\n",
       "0                            12  ...           0           0      0  0  0  0   \n",
       "1                            18  ...           0           0      0  0  0  0   \n",
       "2                            24  ...           1           0      0  0  0  0   \n",
       "3                             9  ...           1           0      0  1  0  0   \n",
       "4                             2  ...           0           0      0  0  0  0   \n",
       "...                         ...  ...         ...         ...    ... .. .. ..   \n",
       "73534                         0  ...           0           0      0  0  0  0   \n",
       "73535                         0  ...           0           0      0  0  1  0   \n",
       "73536                         0  ...           0           0      0  0  1  0   \n",
       "73537                         0  ...           0           0      0  0  1  0   \n",
       "73538                         0  ...           0           0      0  0  0  0   \n",
       "\n",
       "       4  5  6  7  \n",
       "0      1  0  0  0  \n",
       "1      1  0  0  0  \n",
       "2      0  0  1  0  \n",
       "3      0  0  0  0  \n",
       "4      0  0  1  0  \n",
       "...   .. .. .. ..  \n",
       "73534  0  0  1  0  \n",
       "73535  0  0  0  0  \n",
       "73536  0  0  0  0  \n",
       "73537  0  0  0  0  \n",
       "73538  0  0  1  0  \n",
       "\n",
       "[73539 rows x 37 columns]"
      ]
     },
     "execution_count": 117,
     "metadata": {},
     "output_type": "execute_result"
    }
   ],
   "source": [
    "ccode_flag = pd.get_dummies(train['country_code'])\n",
    "train_feat = pd.concat([train_feat, ccode_flag], axis = 1)\n",
    "train_feat"
   ]
  },
  {
   "cell_type": "code",
   "execution_count": 118,
   "metadata": {
    "execution": {
     "iopub.execute_input": "2020-08-09T04:29:04.557358Z",
     "iopub.status.busy": "2020-08-09T04:29:04.556699Z",
     "iopub.status.idle": "2020-08-09T04:29:04.615771Z",
     "shell.execute_reply": "2020-08-09T04:29:04.614723Z"
    },
    "papermill": {
     "duration": 0.119754,
     "end_time": "2020-08-09T04:29:04.615998",
     "exception": false,
     "start_time": "2020-08-09T04:29:04.496244",
     "status": "completed"
    },
    "tags": []
   },
   "outputs": [
    {
     "data": {
      "text/html": [
       "<div>\n",
       "<style scoped>\n",
       "    .dataframe tbody tr th:only-of-type {\n",
       "        vertical-align: middle;\n",
       "    }\n",
       "\n",
       "    .dataframe tbody tr th {\n",
       "        vertical-align: top;\n",
       "    }\n",
       "\n",
       "    .dataframe thead th {\n",
       "        text-align: right;\n",
       "    }\n",
       "</style>\n",
       "<table border=\"1\" class=\"dataframe\">\n",
       "  <thead>\n",
       "    <tr style=\"text-align: right;\">\n",
       "      <th></th>\n",
       "      <th>grass_date</th>\n",
       "      <th>user_id</th>\n",
       "      <th>subject_line_length</th>\n",
       "      <th>last_open_day</th>\n",
       "      <th>last_login_day</th>\n",
       "      <th>last_checkout_day</th>\n",
       "      <th>open_count_last_10_days</th>\n",
       "      <th>open_count_last_30_days</th>\n",
       "      <th>open_count_last_60_days</th>\n",
       "      <th>login_count_last_10_days</th>\n",
       "      <th>...</th>\n",
       "      <th>@yahoo.com</th>\n",
       "      <th>@ymail.com</th>\n",
       "      <th>other</th>\n",
       "      <th>1</th>\n",
       "      <th>2</th>\n",
       "      <th>3</th>\n",
       "      <th>4</th>\n",
       "      <th>5</th>\n",
       "      <th>6</th>\n",
       "      <th>7</th>\n",
       "    </tr>\n",
       "  </thead>\n",
       "  <tbody>\n",
       "    <tr>\n",
       "      <th>0</th>\n",
       "      <td>1.567440e+09</td>\n",
       "      <td>0</td>\n",
       "      <td>35</td>\n",
       "      <td>27</td>\n",
       "      <td>2</td>\n",
       "      <td>13</td>\n",
       "      <td>2</td>\n",
       "      <td>3</td>\n",
       "      <td>4</td>\n",
       "      <td>10</td>\n",
       "      <td>...</td>\n",
       "      <td>0</td>\n",
       "      <td>0</td>\n",
       "      <td>0</td>\n",
       "      <td>0</td>\n",
       "      <td>0</td>\n",
       "      <td>0</td>\n",
       "      <td>0</td>\n",
       "      <td>0</td>\n",
       "      <td>1</td>\n",
       "      <td>0</td>\n",
       "    </tr>\n",
       "    <tr>\n",
       "      <th>1</th>\n",
       "      <td>1.567440e+09</td>\n",
       "      <td>130</td>\n",
       "      <td>35</td>\n",
       "      <td>7</td>\n",
       "      <td>5</td>\n",
       "      <td>383</td>\n",
       "      <td>1</td>\n",
       "      <td>1</td>\n",
       "      <td>1</td>\n",
       "      <td>5</td>\n",
       "      <td>...</td>\n",
       "      <td>0</td>\n",
       "      <td>0</td>\n",
       "      <td>0</td>\n",
       "      <td>0</td>\n",
       "      <td>0</td>\n",
       "      <td>0</td>\n",
       "      <td>0</td>\n",
       "      <td>0</td>\n",
       "      <td>1</td>\n",
       "      <td>0</td>\n",
       "    </tr>\n",
       "    <tr>\n",
       "      <th>2</th>\n",
       "      <td>1.567440e+09</td>\n",
       "      <td>150</td>\n",
       "      <td>25</td>\n",
       "      <td>34</td>\n",
       "      <td>1</td>\n",
       "      <td>3</td>\n",
       "      <td>0</td>\n",
       "      <td>0</td>\n",
       "      <td>0</td>\n",
       "      <td>13</td>\n",
       "      <td>...</td>\n",
       "      <td>0</td>\n",
       "      <td>0</td>\n",
       "      <td>0</td>\n",
       "      <td>0</td>\n",
       "      <td>0</td>\n",
       "      <td>0</td>\n",
       "      <td>0</td>\n",
       "      <td>1</td>\n",
       "      <td>0</td>\n",
       "      <td>0</td>\n",
       "    </tr>\n",
       "    <tr>\n",
       "      <th>3</th>\n",
       "      <td>1.567440e+09</td>\n",
       "      <td>181</td>\n",
       "      <td>36</td>\n",
       "      <td>63</td>\n",
       "      <td>5</td>\n",
       "      <td>5</td>\n",
       "      <td>0</td>\n",
       "      <td>0</td>\n",
       "      <td>0</td>\n",
       "      <td>43</td>\n",
       "      <td>...</td>\n",
       "      <td>1</td>\n",
       "      <td>0</td>\n",
       "      <td>0</td>\n",
       "      <td>1</td>\n",
       "      <td>0</td>\n",
       "      <td>0</td>\n",
       "      <td>0</td>\n",
       "      <td>0</td>\n",
       "      <td>0</td>\n",
       "      <td>0</td>\n",
       "    </tr>\n",
       "    <tr>\n",
       "      <th>4</th>\n",
       "      <td>1.567440e+09</td>\n",
       "      <td>192</td>\n",
       "      <td>23</td>\n",
       "      <td>6</td>\n",
       "      <td>5</td>\n",
       "      <td>54</td>\n",
       "      <td>0</td>\n",
       "      <td>0</td>\n",
       "      <td>0</td>\n",
       "      <td>4</td>\n",
       "      <td>...</td>\n",
       "      <td>0</td>\n",
       "      <td>0</td>\n",
       "      <td>0</td>\n",
       "      <td>0</td>\n",
       "      <td>0</td>\n",
       "      <td>0</td>\n",
       "      <td>0</td>\n",
       "      <td>1</td>\n",
       "      <td>0</td>\n",
       "      <td>0</td>\n",
       "    </tr>\n",
       "    <tr>\n",
       "      <th>...</th>\n",
       "      <td>...</td>\n",
       "      <td>...</td>\n",
       "      <td>...</td>\n",
       "      <td>...</td>\n",
       "      <td>...</td>\n",
       "      <td>...</td>\n",
       "      <td>...</td>\n",
       "      <td>...</td>\n",
       "      <td>...</td>\n",
       "      <td>...</td>\n",
       "      <td>...</td>\n",
       "      <td>...</td>\n",
       "      <td>...</td>\n",
       "      <td>...</td>\n",
       "      <td>...</td>\n",
       "      <td>...</td>\n",
       "      <td>...</td>\n",
       "      <td>...</td>\n",
       "      <td>...</td>\n",
       "      <td>...</td>\n",
       "      <td>...</td>\n",
       "    </tr>\n",
       "    <tr>\n",
       "      <th>55965</th>\n",
       "      <td>1.569686e+09</td>\n",
       "      <td>127348</td>\n",
       "      <td>53</td>\n",
       "      <td>1000</td>\n",
       "      <td>4</td>\n",
       "      <td>8</td>\n",
       "      <td>0</td>\n",
       "      <td>0</td>\n",
       "      <td>0</td>\n",
       "      <td>0</td>\n",
       "      <td>...</td>\n",
       "      <td>0</td>\n",
       "      <td>0</td>\n",
       "      <td>0</td>\n",
       "      <td>0</td>\n",
       "      <td>0</td>\n",
       "      <td>0</td>\n",
       "      <td>0</td>\n",
       "      <td>0</td>\n",
       "      <td>1</td>\n",
       "      <td>0</td>\n",
       "    </tr>\n",
       "    <tr>\n",
       "      <th>55966</th>\n",
       "      <td>1.569686e+09</td>\n",
       "      <td>127396</td>\n",
       "      <td>53</td>\n",
       "      <td>59</td>\n",
       "      <td>802</td>\n",
       "      <td>1207</td>\n",
       "      <td>0</td>\n",
       "      <td>0</td>\n",
       "      <td>1</td>\n",
       "      <td>0</td>\n",
       "      <td>...</td>\n",
       "      <td>0</td>\n",
       "      <td>0</td>\n",
       "      <td>0</td>\n",
       "      <td>0</td>\n",
       "      <td>0</td>\n",
       "      <td>0</td>\n",
       "      <td>0</td>\n",
       "      <td>0</td>\n",
       "      <td>1</td>\n",
       "      <td>0</td>\n",
       "    </tr>\n",
       "    <tr>\n",
       "      <th>55967</th>\n",
       "      <td>1.569686e+09</td>\n",
       "      <td>127574</td>\n",
       "      <td>43</td>\n",
       "      <td>1000</td>\n",
       "      <td>7</td>\n",
       "      <td>1500</td>\n",
       "      <td>0</td>\n",
       "      <td>0</td>\n",
       "      <td>0</td>\n",
       "      <td>0</td>\n",
       "      <td>...</td>\n",
       "      <td>0</td>\n",
       "      <td>0</td>\n",
       "      <td>0</td>\n",
       "      <td>0</td>\n",
       "      <td>0</td>\n",
       "      <td>0</td>\n",
       "      <td>0</td>\n",
       "      <td>0</td>\n",
       "      <td>1</td>\n",
       "      <td>0</td>\n",
       "    </tr>\n",
       "    <tr>\n",
       "      <th>55968</th>\n",
       "      <td>1.569686e+09</td>\n",
       "      <td>127887</td>\n",
       "      <td>43</td>\n",
       "      <td>5</td>\n",
       "      <td>5</td>\n",
       "      <td>6</td>\n",
       "      <td>2</td>\n",
       "      <td>5</td>\n",
       "      <td>14</td>\n",
       "      <td>0</td>\n",
       "      <td>...</td>\n",
       "      <td>0</td>\n",
       "      <td>0</td>\n",
       "      <td>0</td>\n",
       "      <td>0</td>\n",
       "      <td>0</td>\n",
       "      <td>0</td>\n",
       "      <td>0</td>\n",
       "      <td>0</td>\n",
       "      <td>1</td>\n",
       "      <td>0</td>\n",
       "    </tr>\n",
       "    <tr>\n",
       "      <th>55969</th>\n",
       "      <td>1.569686e+09</td>\n",
       "      <td>127895</td>\n",
       "      <td>53</td>\n",
       "      <td>5</td>\n",
       "      <td>3</td>\n",
       "      <td>20</td>\n",
       "      <td>2</td>\n",
       "      <td>14</td>\n",
       "      <td>27</td>\n",
       "      <td>0</td>\n",
       "      <td>...</td>\n",
       "      <td>0</td>\n",
       "      <td>0</td>\n",
       "      <td>0</td>\n",
       "      <td>0</td>\n",
       "      <td>0</td>\n",
       "      <td>0</td>\n",
       "      <td>0</td>\n",
       "      <td>0</td>\n",
       "      <td>1</td>\n",
       "      <td>0</td>\n",
       "    </tr>\n",
       "  </tbody>\n",
       "</table>\n",
       "<p>55970 rows × 36 columns</p>\n",
       "</div>"
      ],
      "text/plain": [
       "         grass_date  user_id  subject_line_length  last_open_day  \\\n",
       "0      1.567440e+09        0                   35             27   \n",
       "1      1.567440e+09      130                   35              7   \n",
       "2      1.567440e+09      150                   25             34   \n",
       "3      1.567440e+09      181                   36             63   \n",
       "4      1.567440e+09      192                   23              6   \n",
       "...             ...      ...                  ...            ...   \n",
       "55965  1.569686e+09   127348                   53           1000   \n",
       "55966  1.569686e+09   127396                   53             59   \n",
       "55967  1.569686e+09   127574                   43           1000   \n",
       "55968  1.569686e+09   127887                   43              5   \n",
       "55969  1.569686e+09   127895                   53              5   \n",
       "\n",
       "       last_login_day  last_checkout_day  open_count_last_10_days  \\\n",
       "0                   2                 13                        2   \n",
       "1                   5                383                        1   \n",
       "2                   1                  3                        0   \n",
       "3                   5                  5                        0   \n",
       "4                   5                 54                        0   \n",
       "...               ...                ...                      ...   \n",
       "55965               4                  8                        0   \n",
       "55966             802               1207                        0   \n",
       "55967               7               1500                        0   \n",
       "55968               5                  6                        2   \n",
       "55969               3                 20                        2   \n",
       "\n",
       "       open_count_last_30_days  open_count_last_60_days  \\\n",
       "0                            3                        4   \n",
       "1                            1                        1   \n",
       "2                            0                        0   \n",
       "3                            0                        0   \n",
       "4                            0                        0   \n",
       "...                        ...                      ...   \n",
       "55965                        0                        0   \n",
       "55966                        0                        1   \n",
       "55967                        0                        0   \n",
       "55968                        5                       14   \n",
       "55969                       14                       27   \n",
       "\n",
       "       login_count_last_10_days  ...  @yahoo.com  @ymail.com  other  1  2  3  \\\n",
       "0                            10  ...           0           0      0  0  0  0   \n",
       "1                             5  ...           0           0      0  0  0  0   \n",
       "2                            13  ...           0           0      0  0  0  0   \n",
       "3                            43  ...           1           0      0  1  0  0   \n",
       "4                             4  ...           0           0      0  0  0  0   \n",
       "...                         ...  ...         ...         ...    ... .. .. ..   \n",
       "55965                         0  ...           0           0      0  0  0  0   \n",
       "55966                         0  ...           0           0      0  0  0  0   \n",
       "55967                         0  ...           0           0      0  0  0  0   \n",
       "55968                         0  ...           0           0      0  0  0  0   \n",
       "55969                         0  ...           0           0      0  0  0  0   \n",
       "\n",
       "       4  5  6  7  \n",
       "0      0  0  1  0  \n",
       "1      0  0  1  0  \n",
       "2      0  1  0  0  \n",
       "3      0  0  0  0  \n",
       "4      0  1  0  0  \n",
       "...   .. .. .. ..  \n",
       "55965  0  0  1  0  \n",
       "55966  0  0  1  0  \n",
       "55967  0  0  1  0  \n",
       "55968  0  0  1  0  \n",
       "55969  0  0  1  0  \n",
       "\n",
       "[55970 rows x 36 columns]"
      ]
     },
     "execution_count": 118,
     "metadata": {},
     "output_type": "execute_result"
    }
   ],
   "source": [
    "ccode_flag_test = pd.get_dummies(test['country_code'])\n",
    "test_feat = pd.concat([test_feat, ccode_flag_test], axis = 1)\n",
    "test_feat"
   ]
  },
  {
   "cell_type": "markdown",
   "execution_count": null,
   "metadata": {
    "papermill": {
     "duration": 0.053898,
     "end_time": "2020-08-09T04:29:04.736570",
     "exception": false,
     "start_time": "2020-08-09T04:29:04.682672",
     "status": "completed"
    },
    "tags": []
   },
   "source": [
    "One Hot Encoding: Day of Week"
   ]
  },
  {
   "cell_type": "code",
   "execution_count": 119,
   "metadata": {
    "execution": {
     "iopub.execute_input": "2020-08-09T04:29:04.890383Z",
     "iopub.status.busy": "2020-08-09T04:29:04.889691Z",
     "iopub.status.idle": "2020-08-09T04:29:04.947172Z",
     "shell.execute_reply": "2020-08-09T04:29:04.947630Z"
    },
    "papermill": {
     "duration": 0.11957,
     "end_time": "2020-08-09T04:29:04.947806",
     "exception": false,
     "start_time": "2020-08-09T04:29:04.828236",
     "status": "completed"
    },
    "tags": []
   },
   "outputs": [
    {
     "data": {
      "text/html": [
       "<div>\n",
       "<style scoped>\n",
       "    .dataframe tbody tr th:only-of-type {\n",
       "        vertical-align: middle;\n",
       "    }\n",
       "\n",
       "    .dataframe tbody tr th {\n",
       "        vertical-align: top;\n",
       "    }\n",
       "\n",
       "    .dataframe thead th {\n",
       "        text-align: right;\n",
       "    }\n",
       "</style>\n",
       "<table border=\"1\" class=\"dataframe\">\n",
       "  <thead>\n",
       "    <tr style=\"text-align: right;\">\n",
       "      <th></th>\n",
       "      <th>grass_date</th>\n",
       "      <th>user_id</th>\n",
       "      <th>subject_line_length</th>\n",
       "      <th>last_open_day</th>\n",
       "      <th>last_login_day</th>\n",
       "      <th>last_checkout_day</th>\n",
       "      <th>open_count_last_10_days</th>\n",
       "      <th>open_count_last_30_days</th>\n",
       "      <th>open_count_last_60_days</th>\n",
       "      <th>login_count_last_10_days</th>\n",
       "      <th>...</th>\n",
       "      <th>5</th>\n",
       "      <th>6</th>\n",
       "      <th>7</th>\n",
       "      <th>Friday</th>\n",
       "      <th>Monday</th>\n",
       "      <th>Saturday</th>\n",
       "      <th>Sunday</th>\n",
       "      <th>Thursday</th>\n",
       "      <th>Tuesday</th>\n",
       "      <th>Wednesday</th>\n",
       "    </tr>\n",
       "  </thead>\n",
       "  <tbody>\n",
       "    <tr>\n",
       "      <th>0</th>\n",
       "      <td>1.563206e+09</td>\n",
       "      <td>43</td>\n",
       "      <td>44</td>\n",
       "      <td>19</td>\n",
       "      <td>6</td>\n",
       "      <td>18</td>\n",
       "      <td>0</td>\n",
       "      <td>2</td>\n",
       "      <td>4</td>\n",
       "      <td>12</td>\n",
       "      <td>...</td>\n",
       "      <td>0</td>\n",
       "      <td>0</td>\n",
       "      <td>0</td>\n",
       "      <td>0</td>\n",
       "      <td>0</td>\n",
       "      <td>0</td>\n",
       "      <td>0</td>\n",
       "      <td>0</td>\n",
       "      <td>1</td>\n",
       "      <td>0</td>\n",
       "    </tr>\n",
       "    <tr>\n",
       "      <th>1</th>\n",
       "      <td>1.563206e+09</td>\n",
       "      <td>102</td>\n",
       "      <td>44</td>\n",
       "      <td>9</td>\n",
       "      <td>4</td>\n",
       "      <td>8</td>\n",
       "      <td>2</td>\n",
       "      <td>9</td>\n",
       "      <td>17</td>\n",
       "      <td>18</td>\n",
       "      <td>...</td>\n",
       "      <td>0</td>\n",
       "      <td>0</td>\n",
       "      <td>0</td>\n",
       "      <td>0</td>\n",
       "      <td>0</td>\n",
       "      <td>0</td>\n",
       "      <td>0</td>\n",
       "      <td>0</td>\n",
       "      <td>1</td>\n",
       "      <td>0</td>\n",
       "    </tr>\n",
       "    <tr>\n",
       "      <th>2</th>\n",
       "      <td>1.563206e+09</td>\n",
       "      <td>177</td>\n",
       "      <td>49</td>\n",
       "      <td>14</td>\n",
       "      <td>5</td>\n",
       "      <td>5</td>\n",
       "      <td>0</td>\n",
       "      <td>4</td>\n",
       "      <td>12</td>\n",
       "      <td>24</td>\n",
       "      <td>...</td>\n",
       "      <td>0</td>\n",
       "      <td>1</td>\n",
       "      <td>0</td>\n",
       "      <td>0</td>\n",
       "      <td>0</td>\n",
       "      <td>0</td>\n",
       "      <td>0</td>\n",
       "      <td>0</td>\n",
       "      <td>1</td>\n",
       "      <td>0</td>\n",
       "    </tr>\n",
       "    <tr>\n",
       "      <th>3</th>\n",
       "      <td>1.563206e+09</td>\n",
       "      <td>184</td>\n",
       "      <td>49</td>\n",
       "      <td>49</td>\n",
       "      <td>9</td>\n",
       "      <td>53</td>\n",
       "      <td>0</td>\n",
       "      <td>0</td>\n",
       "      <td>1</td>\n",
       "      <td>9</td>\n",
       "      <td>...</td>\n",
       "      <td>0</td>\n",
       "      <td>0</td>\n",
       "      <td>0</td>\n",
       "      <td>0</td>\n",
       "      <td>0</td>\n",
       "      <td>0</td>\n",
       "      <td>0</td>\n",
       "      <td>0</td>\n",
       "      <td>1</td>\n",
       "      <td>0</td>\n",
       "    </tr>\n",
       "    <tr>\n",
       "      <th>4</th>\n",
       "      <td>1.563206e+09</td>\n",
       "      <td>221</td>\n",
       "      <td>49</td>\n",
       "      <td>227</td>\n",
       "      <td>6</td>\n",
       "      <td>221</td>\n",
       "      <td>0</td>\n",
       "      <td>0</td>\n",
       "      <td>0</td>\n",
       "      <td>2</td>\n",
       "      <td>...</td>\n",
       "      <td>0</td>\n",
       "      <td>1</td>\n",
       "      <td>0</td>\n",
       "      <td>0</td>\n",
       "      <td>0</td>\n",
       "      <td>0</td>\n",
       "      <td>0</td>\n",
       "      <td>0</td>\n",
       "      <td>1</td>\n",
       "      <td>0</td>\n",
       "    </tr>\n",
       "    <tr>\n",
       "      <th>...</th>\n",
       "      <td>...</td>\n",
       "      <td>...</td>\n",
       "      <td>...</td>\n",
       "      <td>...</td>\n",
       "      <td>...</td>\n",
       "      <td>...</td>\n",
       "      <td>...</td>\n",
       "      <td>...</td>\n",
       "      <td>...</td>\n",
       "      <td>...</td>\n",
       "      <td>...</td>\n",
       "      <td>...</td>\n",
       "      <td>...</td>\n",
       "      <td>...</td>\n",
       "      <td>...</td>\n",
       "      <td>...</td>\n",
       "      <td>...</td>\n",
       "      <td>...</td>\n",
       "      <td>...</td>\n",
       "      <td>...</td>\n",
       "      <td>...</td>\n",
       "    </tr>\n",
       "    <tr>\n",
       "      <th>73534</th>\n",
       "      <td>1.567354e+09</td>\n",
       "      <td>127613</td>\n",
       "      <td>39</td>\n",
       "      <td>24</td>\n",
       "      <td>36</td>\n",
       "      <td>279</td>\n",
       "      <td>0</td>\n",
       "      <td>1</td>\n",
       "      <td>1</td>\n",
       "      <td>0</td>\n",
       "      <td>...</td>\n",
       "      <td>0</td>\n",
       "      <td>1</td>\n",
       "      <td>0</td>\n",
       "      <td>0</td>\n",
       "      <td>1</td>\n",
       "      <td>0</td>\n",
       "      <td>0</td>\n",
       "      <td>0</td>\n",
       "      <td>0</td>\n",
       "      <td>0</td>\n",
       "    </tr>\n",
       "    <tr>\n",
       "      <th>73535</th>\n",
       "      <td>1.567354e+09</td>\n",
       "      <td>127620</td>\n",
       "      <td>38</td>\n",
       "      <td>46</td>\n",
       "      <td>10</td>\n",
       "      <td>51</td>\n",
       "      <td>0</td>\n",
       "      <td>0</td>\n",
       "      <td>1</td>\n",
       "      <td>0</td>\n",
       "      <td>...</td>\n",
       "      <td>0</td>\n",
       "      <td>0</td>\n",
       "      <td>0</td>\n",
       "      <td>0</td>\n",
       "      <td>1</td>\n",
       "      <td>0</td>\n",
       "      <td>0</td>\n",
       "      <td>0</td>\n",
       "      <td>0</td>\n",
       "      <td>0</td>\n",
       "    </tr>\n",
       "    <tr>\n",
       "      <th>73536</th>\n",
       "      <td>1.567354e+09</td>\n",
       "      <td>127696</td>\n",
       "      <td>32</td>\n",
       "      <td>1000</td>\n",
       "      <td>19000</td>\n",
       "      <td>1500</td>\n",
       "      <td>0</td>\n",
       "      <td>0</td>\n",
       "      <td>0</td>\n",
       "      <td>0</td>\n",
       "      <td>...</td>\n",
       "      <td>0</td>\n",
       "      <td>0</td>\n",
       "      <td>0</td>\n",
       "      <td>0</td>\n",
       "      <td>1</td>\n",
       "      <td>0</td>\n",
       "      <td>0</td>\n",
       "      <td>0</td>\n",
       "      <td>0</td>\n",
       "      <td>0</td>\n",
       "    </tr>\n",
       "    <tr>\n",
       "      <th>73537</th>\n",
       "      <td>1.567354e+09</td>\n",
       "      <td>127807</td>\n",
       "      <td>38</td>\n",
       "      <td>5</td>\n",
       "      <td>34</td>\n",
       "      <td>1500</td>\n",
       "      <td>2</td>\n",
       "      <td>4</td>\n",
       "      <td>4</td>\n",
       "      <td>0</td>\n",
       "      <td>...</td>\n",
       "      <td>0</td>\n",
       "      <td>0</td>\n",
       "      <td>0</td>\n",
       "      <td>0</td>\n",
       "      <td>1</td>\n",
       "      <td>0</td>\n",
       "      <td>0</td>\n",
       "      <td>0</td>\n",
       "      <td>0</td>\n",
       "      <td>0</td>\n",
       "    </tr>\n",
       "    <tr>\n",
       "      <th>73538</th>\n",
       "      <td>1.567354e+09</td>\n",
       "      <td>127880</td>\n",
       "      <td>39</td>\n",
       "      <td>1</td>\n",
       "      <td>3</td>\n",
       "      <td>1500</td>\n",
       "      <td>2</td>\n",
       "      <td>2</td>\n",
       "      <td>3</td>\n",
       "      <td>0</td>\n",
       "      <td>...</td>\n",
       "      <td>0</td>\n",
       "      <td>1</td>\n",
       "      <td>0</td>\n",
       "      <td>0</td>\n",
       "      <td>1</td>\n",
       "      <td>0</td>\n",
       "      <td>0</td>\n",
       "      <td>0</td>\n",
       "      <td>0</td>\n",
       "      <td>0</td>\n",
       "    </tr>\n",
       "  </tbody>\n",
       "</table>\n",
       "<p>73539 rows × 44 columns</p>\n",
       "</div>"
      ],
      "text/plain": [
       "         grass_date  user_id  subject_line_length  last_open_day  \\\n",
       "0      1.563206e+09       43                   44             19   \n",
       "1      1.563206e+09      102                   44              9   \n",
       "2      1.563206e+09      177                   49             14   \n",
       "3      1.563206e+09      184                   49             49   \n",
       "4      1.563206e+09      221                   49            227   \n",
       "...             ...      ...                  ...            ...   \n",
       "73534  1.567354e+09   127613                   39             24   \n",
       "73535  1.567354e+09   127620                   38             46   \n",
       "73536  1.567354e+09   127696                   32           1000   \n",
       "73537  1.567354e+09   127807                   38              5   \n",
       "73538  1.567354e+09   127880                   39              1   \n",
       "\n",
       "       last_login_day  last_checkout_day  open_count_last_10_days  \\\n",
       "0                   6                 18                        0   \n",
       "1                   4                  8                        2   \n",
       "2                   5                  5                        0   \n",
       "3                   9                 53                        0   \n",
       "4                   6                221                        0   \n",
       "...               ...                ...                      ...   \n",
       "73534              36                279                        0   \n",
       "73535              10                 51                        0   \n",
       "73536           19000               1500                        0   \n",
       "73537              34               1500                        2   \n",
       "73538               3               1500                        2   \n",
       "\n",
       "       open_count_last_30_days  open_count_last_60_days  \\\n",
       "0                            2                        4   \n",
       "1                            9                       17   \n",
       "2                            4                       12   \n",
       "3                            0                        1   \n",
       "4                            0                        0   \n",
       "...                        ...                      ...   \n",
       "73534                        1                        1   \n",
       "73535                        0                        1   \n",
       "73536                        0                        0   \n",
       "73537                        4                        4   \n",
       "73538                        2                        3   \n",
       "\n",
       "       login_count_last_10_days  ...  5  6  7  Friday  Monday  Saturday  \\\n",
       "0                            12  ...  0  0  0       0       0         0   \n",
       "1                            18  ...  0  0  0       0       0         0   \n",
       "2                            24  ...  0  1  0       0       0         0   \n",
       "3                             9  ...  0  0  0       0       0         0   \n",
       "4                             2  ...  0  1  0       0       0         0   \n",
       "...                         ...  ... .. .. ..     ...     ...       ...   \n",
       "73534                         0  ...  0  1  0       0       1         0   \n",
       "73535                         0  ...  0  0  0       0       1         0   \n",
       "73536                         0  ...  0  0  0       0       1         0   \n",
       "73537                         0  ...  0  0  0       0       1         0   \n",
       "73538                         0  ...  0  1  0       0       1         0   \n",
       "\n",
       "       Sunday  Thursday  Tuesday  Wednesday  \n",
       "0           0         0        1          0  \n",
       "1           0         0        1          0  \n",
       "2           0         0        1          0  \n",
       "3           0         0        1          0  \n",
       "4           0         0        1          0  \n",
       "...       ...       ...      ...        ...  \n",
       "73534       0         0        0          0  \n",
       "73535       0         0        0          0  \n",
       "73536       0         0        0          0  \n",
       "73537       0         0        0          0  \n",
       "73538       0         0        0          0  \n",
       "\n",
       "[73539 rows x 44 columns]"
      ]
     },
     "execution_count": 119,
     "metadata": {},
     "output_type": "execute_result"
    }
   ],
   "source": [
    "dweek_flag = pd.get_dummies(train['day_of_week'])\n",
    "train_feat = pd.concat([train_feat, dweek_flag], axis = 1)\n",
    "train_feat"
   ]
  },
  {
   "cell_type": "code",
   "execution_count": 120,
   "metadata": {
    "execution": {
     "iopub.execute_input": "2020-08-09T04:29:05.065469Z",
     "iopub.status.busy": "2020-08-09T04:29:05.064713Z",
     "iopub.status.idle": "2020-08-09T04:29:05.103235Z",
     "shell.execute_reply": "2020-08-09T04:29:05.103702Z"
    },
    "papermill": {
     "duration": 0.101537,
     "end_time": "2020-08-09T04:29:05.103856",
     "exception": false,
     "start_time": "2020-08-09T04:29:05.002319",
     "status": "completed"
    },
    "tags": []
   },
   "outputs": [
    {
     "data": {
      "text/html": [
       "<div>\n",
       "<style scoped>\n",
       "    .dataframe tbody tr th:only-of-type {\n",
       "        vertical-align: middle;\n",
       "    }\n",
       "\n",
       "    .dataframe tbody tr th {\n",
       "        vertical-align: top;\n",
       "    }\n",
       "\n",
       "    .dataframe thead th {\n",
       "        text-align: right;\n",
       "    }\n",
       "</style>\n",
       "<table border=\"1\" class=\"dataframe\">\n",
       "  <thead>\n",
       "    <tr style=\"text-align: right;\">\n",
       "      <th></th>\n",
       "      <th>grass_date</th>\n",
       "      <th>user_id</th>\n",
       "      <th>subject_line_length</th>\n",
       "      <th>last_open_day</th>\n",
       "      <th>last_login_day</th>\n",
       "      <th>last_checkout_day</th>\n",
       "      <th>open_count_last_10_days</th>\n",
       "      <th>open_count_last_30_days</th>\n",
       "      <th>open_count_last_60_days</th>\n",
       "      <th>login_count_last_10_days</th>\n",
       "      <th>...</th>\n",
       "      <th>5</th>\n",
       "      <th>6</th>\n",
       "      <th>7</th>\n",
       "      <th>Friday</th>\n",
       "      <th>Monday</th>\n",
       "      <th>Saturday</th>\n",
       "      <th>Sunday</th>\n",
       "      <th>Thursday</th>\n",
       "      <th>Tuesday</th>\n",
       "      <th>Wednesday</th>\n",
       "    </tr>\n",
       "  </thead>\n",
       "  <tbody>\n",
       "    <tr>\n",
       "      <th>0</th>\n",
       "      <td>1.567440e+09</td>\n",
       "      <td>0</td>\n",
       "      <td>35</td>\n",
       "      <td>27</td>\n",
       "      <td>2</td>\n",
       "      <td>13</td>\n",
       "      <td>2</td>\n",
       "      <td>3</td>\n",
       "      <td>4</td>\n",
       "      <td>10</td>\n",
       "      <td>...</td>\n",
       "      <td>0</td>\n",
       "      <td>1</td>\n",
       "      <td>0</td>\n",
       "      <td>0</td>\n",
       "      <td>0</td>\n",
       "      <td>0</td>\n",
       "      <td>0</td>\n",
       "      <td>0</td>\n",
       "      <td>1</td>\n",
       "      <td>0</td>\n",
       "    </tr>\n",
       "    <tr>\n",
       "      <th>1</th>\n",
       "      <td>1.567440e+09</td>\n",
       "      <td>130</td>\n",
       "      <td>35</td>\n",
       "      <td>7</td>\n",
       "      <td>5</td>\n",
       "      <td>383</td>\n",
       "      <td>1</td>\n",
       "      <td>1</td>\n",
       "      <td>1</td>\n",
       "      <td>5</td>\n",
       "      <td>...</td>\n",
       "      <td>0</td>\n",
       "      <td>1</td>\n",
       "      <td>0</td>\n",
       "      <td>0</td>\n",
       "      <td>0</td>\n",
       "      <td>0</td>\n",
       "      <td>0</td>\n",
       "      <td>0</td>\n",
       "      <td>1</td>\n",
       "      <td>0</td>\n",
       "    </tr>\n",
       "    <tr>\n",
       "      <th>2</th>\n",
       "      <td>1.567440e+09</td>\n",
       "      <td>150</td>\n",
       "      <td>25</td>\n",
       "      <td>34</td>\n",
       "      <td>1</td>\n",
       "      <td>3</td>\n",
       "      <td>0</td>\n",
       "      <td>0</td>\n",
       "      <td>0</td>\n",
       "      <td>13</td>\n",
       "      <td>...</td>\n",
       "      <td>1</td>\n",
       "      <td>0</td>\n",
       "      <td>0</td>\n",
       "      <td>0</td>\n",
       "      <td>0</td>\n",
       "      <td>0</td>\n",
       "      <td>0</td>\n",
       "      <td>0</td>\n",
       "      <td>1</td>\n",
       "      <td>0</td>\n",
       "    </tr>\n",
       "    <tr>\n",
       "      <th>3</th>\n",
       "      <td>1.567440e+09</td>\n",
       "      <td>181</td>\n",
       "      <td>36</td>\n",
       "      <td>63</td>\n",
       "      <td>5</td>\n",
       "      <td>5</td>\n",
       "      <td>0</td>\n",
       "      <td>0</td>\n",
       "      <td>0</td>\n",
       "      <td>43</td>\n",
       "      <td>...</td>\n",
       "      <td>0</td>\n",
       "      <td>0</td>\n",
       "      <td>0</td>\n",
       "      <td>0</td>\n",
       "      <td>0</td>\n",
       "      <td>0</td>\n",
       "      <td>0</td>\n",
       "      <td>0</td>\n",
       "      <td>1</td>\n",
       "      <td>0</td>\n",
       "    </tr>\n",
       "    <tr>\n",
       "      <th>4</th>\n",
       "      <td>1.567440e+09</td>\n",
       "      <td>192</td>\n",
       "      <td>23</td>\n",
       "      <td>6</td>\n",
       "      <td>5</td>\n",
       "      <td>54</td>\n",
       "      <td>0</td>\n",
       "      <td>0</td>\n",
       "      <td>0</td>\n",
       "      <td>4</td>\n",
       "      <td>...</td>\n",
       "      <td>1</td>\n",
       "      <td>0</td>\n",
       "      <td>0</td>\n",
       "      <td>0</td>\n",
       "      <td>0</td>\n",
       "      <td>0</td>\n",
       "      <td>0</td>\n",
       "      <td>0</td>\n",
       "      <td>1</td>\n",
       "      <td>0</td>\n",
       "    </tr>\n",
       "    <tr>\n",
       "      <th>...</th>\n",
       "      <td>...</td>\n",
       "      <td>...</td>\n",
       "      <td>...</td>\n",
       "      <td>...</td>\n",
       "      <td>...</td>\n",
       "      <td>...</td>\n",
       "      <td>...</td>\n",
       "      <td>...</td>\n",
       "      <td>...</td>\n",
       "      <td>...</td>\n",
       "      <td>...</td>\n",
       "      <td>...</td>\n",
       "      <td>...</td>\n",
       "      <td>...</td>\n",
       "      <td>...</td>\n",
       "      <td>...</td>\n",
       "      <td>...</td>\n",
       "      <td>...</td>\n",
       "      <td>...</td>\n",
       "      <td>...</td>\n",
       "      <td>...</td>\n",
       "    </tr>\n",
       "    <tr>\n",
       "      <th>55965</th>\n",
       "      <td>1.569686e+09</td>\n",
       "      <td>127348</td>\n",
       "      <td>53</td>\n",
       "      <td>1000</td>\n",
       "      <td>4</td>\n",
       "      <td>8</td>\n",
       "      <td>0</td>\n",
       "      <td>0</td>\n",
       "      <td>0</td>\n",
       "      <td>0</td>\n",
       "      <td>...</td>\n",
       "      <td>0</td>\n",
       "      <td>1</td>\n",
       "      <td>0</td>\n",
       "      <td>0</td>\n",
       "      <td>0</td>\n",
       "      <td>0</td>\n",
       "      <td>1</td>\n",
       "      <td>0</td>\n",
       "      <td>0</td>\n",
       "      <td>0</td>\n",
       "    </tr>\n",
       "    <tr>\n",
       "      <th>55966</th>\n",
       "      <td>1.569686e+09</td>\n",
       "      <td>127396</td>\n",
       "      <td>53</td>\n",
       "      <td>59</td>\n",
       "      <td>802</td>\n",
       "      <td>1207</td>\n",
       "      <td>0</td>\n",
       "      <td>0</td>\n",
       "      <td>1</td>\n",
       "      <td>0</td>\n",
       "      <td>...</td>\n",
       "      <td>0</td>\n",
       "      <td>1</td>\n",
       "      <td>0</td>\n",
       "      <td>0</td>\n",
       "      <td>0</td>\n",
       "      <td>0</td>\n",
       "      <td>1</td>\n",
       "      <td>0</td>\n",
       "      <td>0</td>\n",
       "      <td>0</td>\n",
       "    </tr>\n",
       "    <tr>\n",
       "      <th>55967</th>\n",
       "      <td>1.569686e+09</td>\n",
       "      <td>127574</td>\n",
       "      <td>43</td>\n",
       "      <td>1000</td>\n",
       "      <td>7</td>\n",
       "      <td>1500</td>\n",
       "      <td>0</td>\n",
       "      <td>0</td>\n",
       "      <td>0</td>\n",
       "      <td>0</td>\n",
       "      <td>...</td>\n",
       "      <td>0</td>\n",
       "      <td>1</td>\n",
       "      <td>0</td>\n",
       "      <td>0</td>\n",
       "      <td>0</td>\n",
       "      <td>0</td>\n",
       "      <td>1</td>\n",
       "      <td>0</td>\n",
       "      <td>0</td>\n",
       "      <td>0</td>\n",
       "    </tr>\n",
       "    <tr>\n",
       "      <th>55968</th>\n",
       "      <td>1.569686e+09</td>\n",
       "      <td>127887</td>\n",
       "      <td>43</td>\n",
       "      <td>5</td>\n",
       "      <td>5</td>\n",
       "      <td>6</td>\n",
       "      <td>2</td>\n",
       "      <td>5</td>\n",
       "      <td>14</td>\n",
       "      <td>0</td>\n",
       "      <td>...</td>\n",
       "      <td>0</td>\n",
       "      <td>1</td>\n",
       "      <td>0</td>\n",
       "      <td>0</td>\n",
       "      <td>0</td>\n",
       "      <td>0</td>\n",
       "      <td>1</td>\n",
       "      <td>0</td>\n",
       "      <td>0</td>\n",
       "      <td>0</td>\n",
       "    </tr>\n",
       "    <tr>\n",
       "      <th>55969</th>\n",
       "      <td>1.569686e+09</td>\n",
       "      <td>127895</td>\n",
       "      <td>53</td>\n",
       "      <td>5</td>\n",
       "      <td>3</td>\n",
       "      <td>20</td>\n",
       "      <td>2</td>\n",
       "      <td>14</td>\n",
       "      <td>27</td>\n",
       "      <td>0</td>\n",
       "      <td>...</td>\n",
       "      <td>0</td>\n",
       "      <td>1</td>\n",
       "      <td>0</td>\n",
       "      <td>0</td>\n",
       "      <td>0</td>\n",
       "      <td>0</td>\n",
       "      <td>1</td>\n",
       "      <td>0</td>\n",
       "      <td>0</td>\n",
       "      <td>0</td>\n",
       "    </tr>\n",
       "  </tbody>\n",
       "</table>\n",
       "<p>55970 rows × 43 columns</p>\n",
       "</div>"
      ],
      "text/plain": [
       "         grass_date  user_id  subject_line_length  last_open_day  \\\n",
       "0      1.567440e+09        0                   35             27   \n",
       "1      1.567440e+09      130                   35              7   \n",
       "2      1.567440e+09      150                   25             34   \n",
       "3      1.567440e+09      181                   36             63   \n",
       "4      1.567440e+09      192                   23              6   \n",
       "...             ...      ...                  ...            ...   \n",
       "55965  1.569686e+09   127348                   53           1000   \n",
       "55966  1.569686e+09   127396                   53             59   \n",
       "55967  1.569686e+09   127574                   43           1000   \n",
       "55968  1.569686e+09   127887                   43              5   \n",
       "55969  1.569686e+09   127895                   53              5   \n",
       "\n",
       "       last_login_day  last_checkout_day  open_count_last_10_days  \\\n",
       "0                   2                 13                        2   \n",
       "1                   5                383                        1   \n",
       "2                   1                  3                        0   \n",
       "3                   5                  5                        0   \n",
       "4                   5                 54                        0   \n",
       "...               ...                ...                      ...   \n",
       "55965               4                  8                        0   \n",
       "55966             802               1207                        0   \n",
       "55967               7               1500                        0   \n",
       "55968               5                  6                        2   \n",
       "55969               3                 20                        2   \n",
       "\n",
       "       open_count_last_30_days  open_count_last_60_days  \\\n",
       "0                            3                        4   \n",
       "1                            1                        1   \n",
       "2                            0                        0   \n",
       "3                            0                        0   \n",
       "4                            0                        0   \n",
       "...                        ...                      ...   \n",
       "55965                        0                        0   \n",
       "55966                        0                        1   \n",
       "55967                        0                        0   \n",
       "55968                        5                       14   \n",
       "55969                       14                       27   \n",
       "\n",
       "       login_count_last_10_days  ...  5  6  7  Friday  Monday  Saturday  \\\n",
       "0                            10  ...  0  1  0       0       0         0   \n",
       "1                             5  ...  0  1  0       0       0         0   \n",
       "2                            13  ...  1  0  0       0       0         0   \n",
       "3                            43  ...  0  0  0       0       0         0   \n",
       "4                             4  ...  1  0  0       0       0         0   \n",
       "...                         ...  ... .. .. ..     ...     ...       ...   \n",
       "55965                         0  ...  0  1  0       0       0         0   \n",
       "55966                         0  ...  0  1  0       0       0         0   \n",
       "55967                         0  ...  0  1  0       0       0         0   \n",
       "55968                         0  ...  0  1  0       0       0         0   \n",
       "55969                         0  ...  0  1  0       0       0         0   \n",
       "\n",
       "       Sunday  Thursday  Tuesday  Wednesday  \n",
       "0           0         0        1          0  \n",
       "1           0         0        1          0  \n",
       "2           0         0        1          0  \n",
       "3           0         0        1          0  \n",
       "4           0         0        1          0  \n",
       "...       ...       ...      ...        ...  \n",
       "55965       1         0        0          0  \n",
       "55966       1         0        0          0  \n",
       "55967       1         0        0          0  \n",
       "55968       1         0        0          0  \n",
       "55969       1         0        0          0  \n",
       "\n",
       "[55970 rows x 43 columns]"
      ]
     },
     "execution_count": 120,
     "metadata": {},
     "output_type": "execute_result"
    }
   ],
   "source": [
    "dweek_flag_test = pd.get_dummies(test['day_of_week'])\n",
    "test_feat = pd.concat([test_feat, dweek_flag_test], axis = 1)\n",
    "test_feat"
   ]
  },
  {
   "cell_type": "markdown",
   "execution_count": null,
   "metadata": {
    "papermill": {
     "duration": 0.054653,
     "end_time": "2020-08-09T04:29:05.213547",
     "exception": false,
     "start_time": "2020-08-09T04:29:05.158894",
     "status": "completed"
    },
    "tags": []
   },
   "source": [
    "One Hot Encoding: Never open, login, checkout"
   ]
  },
  {
   "cell_type": "code",
   "execution_count": 121,
   "metadata": {
    "execution": {
     "iopub.execute_input": "2020-08-09T04:29:05.333728Z",
     "iopub.status.busy": "2020-08-09T04:29:05.333124Z",
     "iopub.status.idle": "2020-08-09T04:29:05.389077Z",
     "shell.execute_reply": "2020-08-09T04:29:05.388581Z"
    },
    "papermill": {
     "duration": 0.120241,
     "end_time": "2020-08-09T04:29:05.389199",
     "exception": false,
     "start_time": "2020-08-09T04:29:05.268958",
     "status": "completed"
    },
    "tags": []
   },
   "outputs": [
    {
     "name": "stdout",
     "output_type": "stream",
     "text": [
      "(73539, 46)\n",
      "(55970, 45)\n"
     ]
    }
   ],
   "source": [
    "open_flag = pd.get_dummies(train['never_open'])\n",
    "train_feat = pd.concat([train_feat, open_flag], axis = 1)\n",
    "print(train_feat.shape)\n",
    "\n",
    "open_flag_test = pd.get_dummies(test['never_open'])\n",
    "test_feat = pd.concat([test_feat, open_flag_test], axis = 1)\n",
    "print(test_feat.shape)"
   ]
  },
  {
   "cell_type": "code",
   "execution_count": 122,
   "metadata": {
    "execution": {
     "iopub.execute_input": "2020-08-09T04:29:05.508368Z",
     "iopub.status.busy": "2020-08-09T04:29:05.507677Z",
     "iopub.status.idle": "2020-08-09T04:29:05.547281Z",
     "shell.execute_reply": "2020-08-09T04:29:05.546553Z"
    },
    "papermill": {
     "duration": 0.102424,
     "end_time": "2020-08-09T04:29:05.547523",
     "exception": false,
     "start_time": "2020-08-09T04:29:05.445099",
     "status": "completed"
    },
    "tags": []
   },
   "outputs": [
    {
     "name": "stdout",
     "output_type": "stream",
     "text": [
      "(73539, 48)\n",
      "(55970, 47)\n"
     ]
    }
   ],
   "source": [
    "login_flag = pd.get_dummies(train['never_login'])\n",
    "train_feat = pd.concat([train_feat, login_flag], axis = 1)\n",
    "print(train_feat.shape)\n",
    "\n",
    "login_flag_test = pd.get_dummies(test['never_login'])\n",
    "test_feat = pd.concat([test_feat, login_flag_test], axis = 1)\n",
    "print(test_feat.shape)"
   ]
  },
  {
   "cell_type": "code",
   "execution_count": 123,
   "metadata": {
    "execution": {
     "iopub.execute_input": "2020-08-09T04:29:05.667483Z",
     "iopub.status.busy": "2020-08-09T04:29:05.666830Z",
     "iopub.status.idle": "2020-08-09T04:29:05.697793Z",
     "shell.execute_reply": "2020-08-09T04:29:05.698582Z"
    },
    "papermill": {
     "duration": 0.094859,
     "end_time": "2020-08-09T04:29:05.698823",
     "exception": false,
     "start_time": "2020-08-09T04:29:05.603964",
     "status": "completed"
    },
    "tags": []
   },
   "outputs": [
    {
     "name": "stdout",
     "output_type": "stream",
     "text": [
      "(73539, 50)\n",
      "(55970, 49)\n"
     ]
    }
   ],
   "source": [
    "checkout_flag = pd.get_dummies(train['never_checkout'])\n",
    "train_feat = pd.concat([train_feat, checkout_flag], axis = 1)\n",
    "print(train_feat.shape)\n",
    "\n",
    "checkout_flag_test = pd.get_dummies(test['never_checkout'])\n",
    "test_feat = pd.concat([test_feat, checkout_flag_test], axis = 1)\n",
    "print(test_feat.shape)"
   ]
  },
  {
   "cell_type": "markdown",
   "execution_count": null,
   "metadata": {
    "papermill": {
     "duration": 0.055231,
     "end_time": "2020-08-09T04:29:05.811435",
     "exception": false,
     "start_time": "2020-08-09T04:29:05.756204",
     "status": "completed"
    },
    "tags": []
   },
   "source": [
    "One Hot Encoding: attr_1/2/3"
   ]
  },
  {
   "cell_type": "code",
   "execution_count": 124,
   "metadata": {
    "execution": {
     "iopub.execute_input": "2020-08-09T04:29:05.947444Z",
     "iopub.status.busy": "2020-08-09T04:29:05.933031Z",
     "iopub.status.idle": "2020-08-09T04:29:05.954002Z",
     "shell.execute_reply": "2020-08-09T04:29:05.953433Z"
    },
    "papermill": {
     "duration": 0.086176,
     "end_time": "2020-08-09T04:29:05.954124",
     "exception": false,
     "start_time": "2020-08-09T04:29:05.867948",
     "status": "completed"
    },
    "tags": []
   },
   "outputs": [],
   "source": [
    "attr1_mapper_encode = {'0.0': 'attr_10',\n",
    "                       '1.0': 'attr_11',\n",
    "                       '2.0': 'attr_12'}\n",
    "\n",
    "train['attr_1'] = train['attr_1'].map(attr1_mapper_encode)\n",
    "test['attr_1'] = test['attr_1'].map(attr1_mapper_encode)"
   ]
  },
  {
   "cell_type": "code",
   "execution_count": 125,
   "metadata": {
    "execution": {
     "iopub.execute_input": "2020-08-09T04:29:06.088603Z",
     "iopub.status.busy": "2020-08-09T04:29:06.080611Z",
     "iopub.status.idle": "2020-08-09T04:29:06.095378Z",
     "shell.execute_reply": "2020-08-09T04:29:06.094799Z"
    },
    "papermill": {
     "duration": 0.085333,
     "end_time": "2020-08-09T04:29:06.095497",
     "exception": false,
     "start_time": "2020-08-09T04:29:06.010164",
     "status": "completed"
    },
    "tags": []
   },
   "outputs": [],
   "source": [
    "attr2_mapper_encode = {'0.0': 'attr_20',\n",
    "                       '1.0': 'attr_21',\n",
    "                       '2.0': 'attr_22'}\n",
    "\n",
    "train['attr_2'] = train['attr_2'].map(attr2_mapper_encode)\n",
    "test['attr_2'] = test['attr_2'].map(attr2_mapper_encode)"
   ]
  },
  {
   "cell_type": "code",
   "execution_count": 126,
   "metadata": {
    "execution": {
     "iopub.execute_input": "2020-08-09T04:29:06.229443Z",
     "iopub.status.busy": "2020-08-09T04:29:06.215885Z",
     "iopub.status.idle": "2020-08-09T04:29:06.236134Z",
     "shell.execute_reply": "2020-08-09T04:29:06.235590Z"
    },
    "papermill": {
     "duration": 0.084429,
     "end_time": "2020-08-09T04:29:06.236271",
     "exception": false,
     "start_time": "2020-08-09T04:29:06.151842",
     "status": "completed"
    },
    "tags": []
   },
   "outputs": [],
   "source": [
    "attr3_mapper_encode = {'0.0': 'attr_30',\n",
    "                       '1.0': 'attr_31',\n",
    "                       '2.0': 'attr_32',\n",
    "                       '3.0': 'attr_33', \n",
    "                       '4.0': 'attr_34'}\n",
    "\n",
    "train['attr_3'] = train['attr_3'].map(attr3_mapper_encode)\n",
    "test['attr_3'] = test['attr_3'].map(attr3_mapper_encode)"
   ]
  },
  {
   "cell_type": "code",
   "execution_count": 127,
   "metadata": {
    "execution": {
     "iopub.execute_input": "2020-08-09T04:29:06.356357Z",
     "iopub.status.busy": "2020-08-09T04:29:06.355710Z",
     "iopub.status.idle": "2020-08-09T04:29:06.394172Z",
     "shell.execute_reply": "2020-08-09T04:29:06.393532Z"
    },
    "papermill": {
     "duration": 0.101896,
     "end_time": "2020-08-09T04:29:06.394302",
     "exception": false,
     "start_time": "2020-08-09T04:29:06.292406",
     "status": "completed"
    },
    "tags": []
   },
   "outputs": [
    {
     "name": "stdout",
     "output_type": "stream",
     "text": [
      "(73539, 53)\n",
      "(55970, 52)\n"
     ]
    }
   ],
   "source": [
    "attr1_flag = pd.get_dummies(train['attr_1'])\n",
    "train_feat = pd.concat([train_feat, attr1_flag], axis = 1)\n",
    "print(train_feat.shape)\n",
    "\n",
    "attr1_flag_test = pd.get_dummies(test['attr_1'])\n",
    "test_feat = pd.concat([test_feat, attr1_flag_test], axis = 1)\n",
    "print(test_feat.shape)"
   ]
  },
  {
   "cell_type": "code",
   "execution_count": 128,
   "metadata": {
    "execution": {
     "iopub.execute_input": "2020-08-09T04:29:06.513552Z",
     "iopub.status.busy": "2020-08-09T04:29:06.512668Z",
     "iopub.status.idle": "2020-08-09T04:29:06.544200Z",
     "shell.execute_reply": "2020-08-09T04:29:06.543605Z"
    },
    "papermill": {
     "duration": 0.094175,
     "end_time": "2020-08-09T04:29:06.544326",
     "exception": false,
     "start_time": "2020-08-09T04:29:06.450151",
     "status": "completed"
    },
    "tags": []
   },
   "outputs": [
    {
     "name": "stdout",
     "output_type": "stream",
     "text": [
      "(73539, 56)\n",
      "(55970, 55)\n"
     ]
    }
   ],
   "source": [
    "attr2_flag = pd.get_dummies(train['attr_2'])\n",
    "train_feat = pd.concat([train_feat, attr2_flag], axis = 1)\n",
    "print(train_feat.shape)\n",
    "\n",
    "attr2_flag_test = pd.get_dummies(test['attr_2'])\n",
    "test_feat = pd.concat([test_feat, attr2_flag_test], axis = 1)\n",
    "print(test_feat.shape)"
   ]
  },
  {
   "cell_type": "code",
   "execution_count": 129,
   "metadata": {
    "execution": {
     "iopub.execute_input": "2020-08-09T04:29:06.663027Z",
     "iopub.status.busy": "2020-08-09T04:29:06.662373Z",
     "iopub.status.idle": "2020-08-09T04:29:06.692742Z",
     "shell.execute_reply": "2020-08-09T04:29:06.692099Z"
    },
    "papermill": {
     "duration": 0.093069,
     "end_time": "2020-08-09T04:29:06.692857",
     "exception": false,
     "start_time": "2020-08-09T04:29:06.599788",
     "status": "completed"
    },
    "tags": []
   },
   "outputs": [
    {
     "name": "stdout",
     "output_type": "stream",
     "text": [
      "(73539, 61)\n",
      "(55970, 60)\n"
     ]
    }
   ],
   "source": [
    "attr3_flag = pd.get_dummies(train['attr_3'])\n",
    "train_feat = pd.concat([train_feat, attr3_flag], axis = 1)\n",
    "print(train_feat.shape)\n",
    "\n",
    "attr3_flag_test = pd.get_dummies(test['attr_3'])\n",
    "test_feat = pd.concat([test_feat, attr3_flag_test], axis = 1)\n",
    "print(test_feat.shape)"
   ]
  },
  {
   "cell_type": "code",
   "execution_count": 130,
   "metadata": {
    "execution": {
     "iopub.execute_input": "2020-08-09T04:29:06.812273Z",
     "iopub.status.busy": "2020-08-09T04:29:06.811412Z",
     "iopub.status.idle": "2020-08-09T04:29:06.815661Z",
     "shell.execute_reply": "2020-08-09T04:29:06.815049Z"
    },
    "papermill": {
     "duration": 0.066775,
     "end_time": "2020-08-09T04:29:06.815775",
     "exception": false,
     "start_time": "2020-08-09T04:29:06.749000",
     "status": "completed"
    },
    "tags": []
   },
   "outputs": [
    {
     "data": {
      "text/plain": [
       "country_code                    object\n",
       "grass_date                     float64\n",
       "user_id                          int64\n",
       "subject_line_length              int64\n",
       "last_open_day                    int64\n",
       "last_login_day                   int64\n",
       "last_checkout_day                int64\n",
       "open_count_last_10_days          int64\n",
       "open_count_last_30_days          int64\n",
       "open_count_last_60_days          int64\n",
       "login_count_last_10_days         int64\n",
       "login_count_last_30_days         int64\n",
       "login_count_last_60_days         int64\n",
       "checkout_count_last_10_days      int64\n",
       "checkout_count_last_30_days      int64\n",
       "checkout_count_last_60_days      int64\n",
       "open_flag                        int64\n",
       "row_id                           int64\n",
       "attr_1                          object\n",
       "attr_2                          object\n",
       "attr_3                          object\n",
       "age                            float64\n",
       "domain                          object\n",
       "day_of_week                     object\n",
       "day_of_month                     int64\n",
       "age_class                       object\n",
       "domain_type                     object\n",
       "never_open                      object\n",
       "never_login                     object\n",
       "never_checkout                  object\n",
       "dtype: object"
      ]
     },
     "execution_count": 130,
     "metadata": {},
     "output_type": "execute_result"
    }
   ],
   "source": [
    "train.dtypes"
   ]
  },
  {
   "cell_type": "markdown",
   "execution_count": null,
   "metadata": {
    "papermill": {
     "duration": 0.054973,
     "end_time": "2020-08-09T04:29:06.926151",
     "exception": false,
     "start_time": "2020-08-09T04:29:06.871178",
     "status": "completed"
    },
    "tags": []
   },
   "source": [
    "Let's see what we have so far"
   ]
  },
  {
   "cell_type": "code",
   "execution_count": 131,
   "metadata": {
    "execution": {
     "iopub.execute_input": "2020-08-09T04:29:07.044307Z",
     "iopub.status.busy": "2020-08-09T04:29:07.043654Z",
     "iopub.status.idle": "2020-08-09T04:29:07.071151Z",
     "shell.execute_reply": "2020-08-09T04:29:07.070519Z"
    },
    "papermill": {
     "duration": 0.089766,
     "end_time": "2020-08-09T04:29:07.071268",
     "exception": false,
     "start_time": "2020-08-09T04:29:06.981502",
     "status": "completed"
    },
    "tags": []
   },
   "outputs": [
    {
     "data": {
      "text/html": [
       "<div>\n",
       "<style scoped>\n",
       "    .dataframe tbody tr th:only-of-type {\n",
       "        vertical-align: middle;\n",
       "    }\n",
       "\n",
       "    .dataframe tbody tr th {\n",
       "        vertical-align: top;\n",
       "    }\n",
       "\n",
       "    .dataframe thead th {\n",
       "        text-align: right;\n",
       "    }\n",
       "</style>\n",
       "<table border=\"1\" class=\"dataframe\">\n",
       "  <thead>\n",
       "    <tr style=\"text-align: right;\">\n",
       "      <th></th>\n",
       "      <th>grass_date</th>\n",
       "      <th>user_id</th>\n",
       "      <th>subject_line_length</th>\n",
       "      <th>last_open_day</th>\n",
       "      <th>last_login_day</th>\n",
       "      <th>last_checkout_day</th>\n",
       "      <th>open_count_last_10_days</th>\n",
       "      <th>open_count_last_30_days</th>\n",
       "      <th>open_count_last_60_days</th>\n",
       "      <th>login_count_last_10_days</th>\n",
       "      <th>...</th>\n",
       "      <th>attr_11</th>\n",
       "      <th>attr_12</th>\n",
       "      <th>attr_20</th>\n",
       "      <th>attr_21</th>\n",
       "      <th>attr_22</th>\n",
       "      <th>attr_30</th>\n",
       "      <th>attr_31</th>\n",
       "      <th>attr_32</th>\n",
       "      <th>attr_33</th>\n",
       "      <th>attr_34</th>\n",
       "    </tr>\n",
       "  </thead>\n",
       "  <tbody>\n",
       "    <tr>\n",
       "      <th>0</th>\n",
       "      <td>1.563206e+09</td>\n",
       "      <td>43</td>\n",
       "      <td>44</td>\n",
       "      <td>19</td>\n",
       "      <td>6</td>\n",
       "      <td>18</td>\n",
       "      <td>0</td>\n",
       "      <td>2</td>\n",
       "      <td>4</td>\n",
       "      <td>12</td>\n",
       "      <td>...</td>\n",
       "      <td>1</td>\n",
       "      <td>0</td>\n",
       "      <td>0</td>\n",
       "      <td>1</td>\n",
       "      <td>0</td>\n",
       "      <td>0</td>\n",
       "      <td>0</td>\n",
       "      <td>1</td>\n",
       "      <td>0</td>\n",
       "      <td>0</td>\n",
       "    </tr>\n",
       "    <tr>\n",
       "      <th>1</th>\n",
       "      <td>1.563206e+09</td>\n",
       "      <td>102</td>\n",
       "      <td>44</td>\n",
       "      <td>9</td>\n",
       "      <td>4</td>\n",
       "      <td>8</td>\n",
       "      <td>2</td>\n",
       "      <td>9</td>\n",
       "      <td>17</td>\n",
       "      <td>18</td>\n",
       "      <td>...</td>\n",
       "      <td>1</td>\n",
       "      <td>0</td>\n",
       "      <td>0</td>\n",
       "      <td>1</td>\n",
       "      <td>0</td>\n",
       "      <td>0</td>\n",
       "      <td>0</td>\n",
       "      <td>1</td>\n",
       "      <td>0</td>\n",
       "      <td>0</td>\n",
       "    </tr>\n",
       "    <tr>\n",
       "      <th>2</th>\n",
       "      <td>1.563206e+09</td>\n",
       "      <td>177</td>\n",
       "      <td>49</td>\n",
       "      <td>14</td>\n",
       "      <td>5</td>\n",
       "      <td>5</td>\n",
       "      <td>0</td>\n",
       "      <td>4</td>\n",
       "      <td>12</td>\n",
       "      <td>24</td>\n",
       "      <td>...</td>\n",
       "      <td>0</td>\n",
       "      <td>1</td>\n",
       "      <td>0</td>\n",
       "      <td>1</td>\n",
       "      <td>0</td>\n",
       "      <td>1</td>\n",
       "      <td>0</td>\n",
       "      <td>0</td>\n",
       "      <td>0</td>\n",
       "      <td>0</td>\n",
       "    </tr>\n",
       "    <tr>\n",
       "      <th>3</th>\n",
       "      <td>1.563206e+09</td>\n",
       "      <td>184</td>\n",
       "      <td>49</td>\n",
       "      <td>49</td>\n",
       "      <td>9</td>\n",
       "      <td>53</td>\n",
       "      <td>0</td>\n",
       "      <td>0</td>\n",
       "      <td>1</td>\n",
       "      <td>9</td>\n",
       "      <td>...</td>\n",
       "      <td>1</td>\n",
       "      <td>0</td>\n",
       "      <td>0</td>\n",
       "      <td>1</td>\n",
       "      <td>0</td>\n",
       "      <td>0</td>\n",
       "      <td>0</td>\n",
       "      <td>1</td>\n",
       "      <td>0</td>\n",
       "      <td>0</td>\n",
       "    </tr>\n",
       "    <tr>\n",
       "      <th>4</th>\n",
       "      <td>1.563206e+09</td>\n",
       "      <td>221</td>\n",
       "      <td>49</td>\n",
       "      <td>227</td>\n",
       "      <td>6</td>\n",
       "      <td>221</td>\n",
       "      <td>0</td>\n",
       "      <td>0</td>\n",
       "      <td>0</td>\n",
       "      <td>2</td>\n",
       "      <td>...</td>\n",
       "      <td>0</td>\n",
       "      <td>1</td>\n",
       "      <td>0</td>\n",
       "      <td>1</td>\n",
       "      <td>0</td>\n",
       "      <td>1</td>\n",
       "      <td>0</td>\n",
       "      <td>0</td>\n",
       "      <td>0</td>\n",
       "      <td>0</td>\n",
       "    </tr>\n",
       "    <tr>\n",
       "      <th>...</th>\n",
       "      <td>...</td>\n",
       "      <td>...</td>\n",
       "      <td>...</td>\n",
       "      <td>...</td>\n",
       "      <td>...</td>\n",
       "      <td>...</td>\n",
       "      <td>...</td>\n",
       "      <td>...</td>\n",
       "      <td>...</td>\n",
       "      <td>...</td>\n",
       "      <td>...</td>\n",
       "      <td>...</td>\n",
       "      <td>...</td>\n",
       "      <td>...</td>\n",
       "      <td>...</td>\n",
       "      <td>...</td>\n",
       "      <td>...</td>\n",
       "      <td>...</td>\n",
       "      <td>...</td>\n",
       "      <td>...</td>\n",
       "      <td>...</td>\n",
       "    </tr>\n",
       "    <tr>\n",
       "      <th>73534</th>\n",
       "      <td>1.567354e+09</td>\n",
       "      <td>127613</td>\n",
       "      <td>39</td>\n",
       "      <td>24</td>\n",
       "      <td>36</td>\n",
       "      <td>279</td>\n",
       "      <td>0</td>\n",
       "      <td>1</td>\n",
       "      <td>1</td>\n",
       "      <td>0</td>\n",
       "      <td>...</td>\n",
       "      <td>0</td>\n",
       "      <td>1</td>\n",
       "      <td>0</td>\n",
       "      <td>1</td>\n",
       "      <td>0</td>\n",
       "      <td>1</td>\n",
       "      <td>0</td>\n",
       "      <td>0</td>\n",
       "      <td>0</td>\n",
       "      <td>0</td>\n",
       "    </tr>\n",
       "    <tr>\n",
       "      <th>73535</th>\n",
       "      <td>1.567354e+09</td>\n",
       "      <td>127620</td>\n",
       "      <td>38</td>\n",
       "      <td>46</td>\n",
       "      <td>10</td>\n",
       "      <td>51</td>\n",
       "      <td>0</td>\n",
       "      <td>0</td>\n",
       "      <td>1</td>\n",
       "      <td>0</td>\n",
       "      <td>...</td>\n",
       "      <td>1</td>\n",
       "      <td>0</td>\n",
       "      <td>0</td>\n",
       "      <td>1</td>\n",
       "      <td>0</td>\n",
       "      <td>0</td>\n",
       "      <td>0</td>\n",
       "      <td>1</td>\n",
       "      <td>0</td>\n",
       "      <td>0</td>\n",
       "    </tr>\n",
       "    <tr>\n",
       "      <th>73536</th>\n",
       "      <td>1.567354e+09</td>\n",
       "      <td>127696</td>\n",
       "      <td>32</td>\n",
       "      <td>1000</td>\n",
       "      <td>19000</td>\n",
       "      <td>1500</td>\n",
       "      <td>0</td>\n",
       "      <td>0</td>\n",
       "      <td>0</td>\n",
       "      <td>0</td>\n",
       "      <td>...</td>\n",
       "      <td>0</td>\n",
       "      <td>1</td>\n",
       "      <td>0</td>\n",
       "      <td>0</td>\n",
       "      <td>1</td>\n",
       "      <td>1</td>\n",
       "      <td>0</td>\n",
       "      <td>0</td>\n",
       "      <td>0</td>\n",
       "      <td>0</td>\n",
       "    </tr>\n",
       "    <tr>\n",
       "      <th>73537</th>\n",
       "      <td>1.567354e+09</td>\n",
       "      <td>127807</td>\n",
       "      <td>38</td>\n",
       "      <td>5</td>\n",
       "      <td>34</td>\n",
       "      <td>1500</td>\n",
       "      <td>2</td>\n",
       "      <td>4</td>\n",
       "      <td>4</td>\n",
       "      <td>0</td>\n",
       "      <td>...</td>\n",
       "      <td>1</td>\n",
       "      <td>0</td>\n",
       "      <td>0</td>\n",
       "      <td>1</td>\n",
       "      <td>0</td>\n",
       "      <td>0</td>\n",
       "      <td>1</td>\n",
       "      <td>0</td>\n",
       "      <td>0</td>\n",
       "      <td>0</td>\n",
       "    </tr>\n",
       "    <tr>\n",
       "      <th>73538</th>\n",
       "      <td>1.567354e+09</td>\n",
       "      <td>127880</td>\n",
       "      <td>39</td>\n",
       "      <td>1</td>\n",
       "      <td>3</td>\n",
       "      <td>1500</td>\n",
       "      <td>2</td>\n",
       "      <td>2</td>\n",
       "      <td>3</td>\n",
       "      <td>0</td>\n",
       "      <td>...</td>\n",
       "      <td>0</td>\n",
       "      <td>1</td>\n",
       "      <td>0</td>\n",
       "      <td>1</td>\n",
       "      <td>0</td>\n",
       "      <td>1</td>\n",
       "      <td>0</td>\n",
       "      <td>0</td>\n",
       "      <td>0</td>\n",
       "      <td>0</td>\n",
       "    </tr>\n",
       "  </tbody>\n",
       "</table>\n",
       "<p>73539 rows × 61 columns</p>\n",
       "</div>"
      ],
      "text/plain": [
       "         grass_date  user_id  subject_line_length  last_open_day  \\\n",
       "0      1.563206e+09       43                   44             19   \n",
       "1      1.563206e+09      102                   44              9   \n",
       "2      1.563206e+09      177                   49             14   \n",
       "3      1.563206e+09      184                   49             49   \n",
       "4      1.563206e+09      221                   49            227   \n",
       "...             ...      ...                  ...            ...   \n",
       "73534  1.567354e+09   127613                   39             24   \n",
       "73535  1.567354e+09   127620                   38             46   \n",
       "73536  1.567354e+09   127696                   32           1000   \n",
       "73537  1.567354e+09   127807                   38              5   \n",
       "73538  1.567354e+09   127880                   39              1   \n",
       "\n",
       "       last_login_day  last_checkout_day  open_count_last_10_days  \\\n",
       "0                   6                 18                        0   \n",
       "1                   4                  8                        2   \n",
       "2                   5                  5                        0   \n",
       "3                   9                 53                        0   \n",
       "4                   6                221                        0   \n",
       "...               ...                ...                      ...   \n",
       "73534              36                279                        0   \n",
       "73535              10                 51                        0   \n",
       "73536           19000               1500                        0   \n",
       "73537              34               1500                        2   \n",
       "73538               3               1500                        2   \n",
       "\n",
       "       open_count_last_30_days  open_count_last_60_days  \\\n",
       "0                            2                        4   \n",
       "1                            9                       17   \n",
       "2                            4                       12   \n",
       "3                            0                        1   \n",
       "4                            0                        0   \n",
       "...                        ...                      ...   \n",
       "73534                        1                        1   \n",
       "73535                        0                        1   \n",
       "73536                        0                        0   \n",
       "73537                        4                        4   \n",
       "73538                        2                        3   \n",
       "\n",
       "       login_count_last_10_days  ...  attr_11  attr_12  attr_20  attr_21  \\\n",
       "0                            12  ...        1        0        0        1   \n",
       "1                            18  ...        1        0        0        1   \n",
       "2                            24  ...        0        1        0        1   \n",
       "3                             9  ...        1        0        0        1   \n",
       "4                             2  ...        0        1        0        1   \n",
       "...                         ...  ...      ...      ...      ...      ...   \n",
       "73534                         0  ...        0        1        0        1   \n",
       "73535                         0  ...        1        0        0        1   \n",
       "73536                         0  ...        0        1        0        0   \n",
       "73537                         0  ...        1        0        0        1   \n",
       "73538                         0  ...        0        1        0        1   \n",
       "\n",
       "       attr_22  attr_30  attr_31  attr_32  attr_33  attr_34  \n",
       "0            0        0        0        1        0        0  \n",
       "1            0        0        0        1        0        0  \n",
       "2            0        1        0        0        0        0  \n",
       "3            0        0        0        1        0        0  \n",
       "4            0        1        0        0        0        0  \n",
       "...        ...      ...      ...      ...      ...      ...  \n",
       "73534        0        1        0        0        0        0  \n",
       "73535        0        0        0        1        0        0  \n",
       "73536        1        1        0        0        0        0  \n",
       "73537        0        0        1        0        0        0  \n",
       "73538        0        1        0        0        0        0  \n",
       "\n",
       "[73539 rows x 61 columns]"
      ]
     },
     "execution_count": 131,
     "metadata": {},
     "output_type": "execute_result"
    }
   ],
   "source": [
    "train_feat"
   ]
  },
  {
   "cell_type": "code",
   "execution_count": 132,
   "metadata": {
    "execution": {
     "iopub.execute_input": "2020-08-09T04:29:07.190109Z",
     "iopub.status.busy": "2020-08-09T04:29:07.189466Z",
     "iopub.status.idle": "2020-08-09T04:29:07.216975Z",
     "shell.execute_reply": "2020-08-09T04:29:07.216301Z"
    },
    "papermill": {
     "duration": 0.089329,
     "end_time": "2020-08-09T04:29:07.217097",
     "exception": false,
     "start_time": "2020-08-09T04:29:07.127768",
     "status": "completed"
    },
    "tags": []
   },
   "outputs": [
    {
     "data": {
      "text/html": [
       "<div>\n",
       "<style scoped>\n",
       "    .dataframe tbody tr th:only-of-type {\n",
       "        vertical-align: middle;\n",
       "    }\n",
       "\n",
       "    .dataframe tbody tr th {\n",
       "        vertical-align: top;\n",
       "    }\n",
       "\n",
       "    .dataframe thead th {\n",
       "        text-align: right;\n",
       "    }\n",
       "</style>\n",
       "<table border=\"1\" class=\"dataframe\">\n",
       "  <thead>\n",
       "    <tr style=\"text-align: right;\">\n",
       "      <th></th>\n",
       "      <th>grass_date</th>\n",
       "      <th>user_id</th>\n",
       "      <th>subject_line_length</th>\n",
       "      <th>last_open_day</th>\n",
       "      <th>last_login_day</th>\n",
       "      <th>last_checkout_day</th>\n",
       "      <th>open_count_last_10_days</th>\n",
       "      <th>open_count_last_30_days</th>\n",
       "      <th>open_count_last_60_days</th>\n",
       "      <th>login_count_last_10_days</th>\n",
       "      <th>...</th>\n",
       "      <th>attr_11</th>\n",
       "      <th>attr_12</th>\n",
       "      <th>attr_20</th>\n",
       "      <th>attr_21</th>\n",
       "      <th>attr_22</th>\n",
       "      <th>attr_30</th>\n",
       "      <th>attr_31</th>\n",
       "      <th>attr_32</th>\n",
       "      <th>attr_33</th>\n",
       "      <th>attr_34</th>\n",
       "    </tr>\n",
       "  </thead>\n",
       "  <tbody>\n",
       "    <tr>\n",
       "      <th>0</th>\n",
       "      <td>1.567440e+09</td>\n",
       "      <td>0</td>\n",
       "      <td>35</td>\n",
       "      <td>27</td>\n",
       "      <td>2</td>\n",
       "      <td>13</td>\n",
       "      <td>2</td>\n",
       "      <td>3</td>\n",
       "      <td>4</td>\n",
       "      <td>10</td>\n",
       "      <td>...</td>\n",
       "      <td>0</td>\n",
       "      <td>1</td>\n",
       "      <td>0</td>\n",
       "      <td>1</td>\n",
       "      <td>0</td>\n",
       "      <td>1</td>\n",
       "      <td>0</td>\n",
       "      <td>0</td>\n",
       "      <td>0</td>\n",
       "      <td>0</td>\n",
       "    </tr>\n",
       "    <tr>\n",
       "      <th>1</th>\n",
       "      <td>1.567440e+09</td>\n",
       "      <td>130</td>\n",
       "      <td>35</td>\n",
       "      <td>7</td>\n",
       "      <td>5</td>\n",
       "      <td>383</td>\n",
       "      <td>1</td>\n",
       "      <td>1</td>\n",
       "      <td>1</td>\n",
       "      <td>5</td>\n",
       "      <td>...</td>\n",
       "      <td>0</td>\n",
       "      <td>1</td>\n",
       "      <td>0</td>\n",
       "      <td>1</td>\n",
       "      <td>0</td>\n",
       "      <td>1</td>\n",
       "      <td>0</td>\n",
       "      <td>0</td>\n",
       "      <td>0</td>\n",
       "      <td>0</td>\n",
       "    </tr>\n",
       "    <tr>\n",
       "      <th>2</th>\n",
       "      <td>1.567440e+09</td>\n",
       "      <td>150</td>\n",
       "      <td>25</td>\n",
       "      <td>34</td>\n",
       "      <td>1</td>\n",
       "      <td>3</td>\n",
       "      <td>0</td>\n",
       "      <td>0</td>\n",
       "      <td>0</td>\n",
       "      <td>13</td>\n",
       "      <td>...</td>\n",
       "      <td>1</td>\n",
       "      <td>0</td>\n",
       "      <td>0</td>\n",
       "      <td>1</td>\n",
       "      <td>0</td>\n",
       "      <td>0</td>\n",
       "      <td>0</td>\n",
       "      <td>1</td>\n",
       "      <td>0</td>\n",
       "      <td>0</td>\n",
       "    </tr>\n",
       "    <tr>\n",
       "      <th>3</th>\n",
       "      <td>1.567440e+09</td>\n",
       "      <td>181</td>\n",
       "      <td>36</td>\n",
       "      <td>63</td>\n",
       "      <td>5</td>\n",
       "      <td>5</td>\n",
       "      <td>0</td>\n",
       "      <td>0</td>\n",
       "      <td>0</td>\n",
       "      <td>43</td>\n",
       "      <td>...</td>\n",
       "      <td>1</td>\n",
       "      <td>0</td>\n",
       "      <td>0</td>\n",
       "      <td>1</td>\n",
       "      <td>0</td>\n",
       "      <td>0</td>\n",
       "      <td>0</td>\n",
       "      <td>1</td>\n",
       "      <td>0</td>\n",
       "      <td>0</td>\n",
       "    </tr>\n",
       "    <tr>\n",
       "      <th>4</th>\n",
       "      <td>1.567440e+09</td>\n",
       "      <td>192</td>\n",
       "      <td>23</td>\n",
       "      <td>6</td>\n",
       "      <td>5</td>\n",
       "      <td>54</td>\n",
       "      <td>0</td>\n",
       "      <td>0</td>\n",
       "      <td>0</td>\n",
       "      <td>4</td>\n",
       "      <td>...</td>\n",
       "      <td>0</td>\n",
       "      <td>1</td>\n",
       "      <td>0</td>\n",
       "      <td>1</td>\n",
       "      <td>0</td>\n",
       "      <td>1</td>\n",
       "      <td>0</td>\n",
       "      <td>0</td>\n",
       "      <td>0</td>\n",
       "      <td>0</td>\n",
       "    </tr>\n",
       "    <tr>\n",
       "      <th>...</th>\n",
       "      <td>...</td>\n",
       "      <td>...</td>\n",
       "      <td>...</td>\n",
       "      <td>...</td>\n",
       "      <td>...</td>\n",
       "      <td>...</td>\n",
       "      <td>...</td>\n",
       "      <td>...</td>\n",
       "      <td>...</td>\n",
       "      <td>...</td>\n",
       "      <td>...</td>\n",
       "      <td>...</td>\n",
       "      <td>...</td>\n",
       "      <td>...</td>\n",
       "      <td>...</td>\n",
       "      <td>...</td>\n",
       "      <td>...</td>\n",
       "      <td>...</td>\n",
       "      <td>...</td>\n",
       "      <td>...</td>\n",
       "      <td>...</td>\n",
       "    </tr>\n",
       "    <tr>\n",
       "      <th>55965</th>\n",
       "      <td>1.569686e+09</td>\n",
       "      <td>127348</td>\n",
       "      <td>53</td>\n",
       "      <td>1000</td>\n",
       "      <td>4</td>\n",
       "      <td>8</td>\n",
       "      <td>0</td>\n",
       "      <td>0</td>\n",
       "      <td>0</td>\n",
       "      <td>0</td>\n",
       "      <td>...</td>\n",
       "      <td>0</td>\n",
       "      <td>1</td>\n",
       "      <td>0</td>\n",
       "      <td>1</td>\n",
       "      <td>0</td>\n",
       "      <td>1</td>\n",
       "      <td>0</td>\n",
       "      <td>0</td>\n",
       "      <td>0</td>\n",
       "      <td>0</td>\n",
       "    </tr>\n",
       "    <tr>\n",
       "      <th>55966</th>\n",
       "      <td>1.569686e+09</td>\n",
       "      <td>127396</td>\n",
       "      <td>53</td>\n",
       "      <td>59</td>\n",
       "      <td>802</td>\n",
       "      <td>1207</td>\n",
       "      <td>0</td>\n",
       "      <td>0</td>\n",
       "      <td>1</td>\n",
       "      <td>0</td>\n",
       "      <td>...</td>\n",
       "      <td>0</td>\n",
       "      <td>1</td>\n",
       "      <td>0</td>\n",
       "      <td>1</td>\n",
       "      <td>0</td>\n",
       "      <td>1</td>\n",
       "      <td>0</td>\n",
       "      <td>0</td>\n",
       "      <td>0</td>\n",
       "      <td>0</td>\n",
       "    </tr>\n",
       "    <tr>\n",
       "      <th>55967</th>\n",
       "      <td>1.569686e+09</td>\n",
       "      <td>127574</td>\n",
       "      <td>43</td>\n",
       "      <td>1000</td>\n",
       "      <td>7</td>\n",
       "      <td>1500</td>\n",
       "      <td>0</td>\n",
       "      <td>0</td>\n",
       "      <td>0</td>\n",
       "      <td>0</td>\n",
       "      <td>...</td>\n",
       "      <td>0</td>\n",
       "      <td>1</td>\n",
       "      <td>0</td>\n",
       "      <td>1</td>\n",
       "      <td>0</td>\n",
       "      <td>1</td>\n",
       "      <td>0</td>\n",
       "      <td>0</td>\n",
       "      <td>0</td>\n",
       "      <td>0</td>\n",
       "    </tr>\n",
       "    <tr>\n",
       "      <th>55968</th>\n",
       "      <td>1.569686e+09</td>\n",
       "      <td>127887</td>\n",
       "      <td>43</td>\n",
       "      <td>5</td>\n",
       "      <td>5</td>\n",
       "      <td>6</td>\n",
       "      <td>2</td>\n",
       "      <td>5</td>\n",
       "      <td>14</td>\n",
       "      <td>0</td>\n",
       "      <td>...</td>\n",
       "      <td>0</td>\n",
       "      <td>1</td>\n",
       "      <td>0</td>\n",
       "      <td>1</td>\n",
       "      <td>0</td>\n",
       "      <td>1</td>\n",
       "      <td>0</td>\n",
       "      <td>0</td>\n",
       "      <td>0</td>\n",
       "      <td>0</td>\n",
       "    </tr>\n",
       "    <tr>\n",
       "      <th>55969</th>\n",
       "      <td>1.569686e+09</td>\n",
       "      <td>127895</td>\n",
       "      <td>53</td>\n",
       "      <td>5</td>\n",
       "      <td>3</td>\n",
       "      <td>20</td>\n",
       "      <td>2</td>\n",
       "      <td>14</td>\n",
       "      <td>27</td>\n",
       "      <td>0</td>\n",
       "      <td>...</td>\n",
       "      <td>0</td>\n",
       "      <td>1</td>\n",
       "      <td>0</td>\n",
       "      <td>1</td>\n",
       "      <td>0</td>\n",
       "      <td>1</td>\n",
       "      <td>0</td>\n",
       "      <td>0</td>\n",
       "      <td>0</td>\n",
       "      <td>0</td>\n",
       "    </tr>\n",
       "  </tbody>\n",
       "</table>\n",
       "<p>55970 rows × 60 columns</p>\n",
       "</div>"
      ],
      "text/plain": [
       "         grass_date  user_id  subject_line_length  last_open_day  \\\n",
       "0      1.567440e+09        0                   35             27   \n",
       "1      1.567440e+09      130                   35              7   \n",
       "2      1.567440e+09      150                   25             34   \n",
       "3      1.567440e+09      181                   36             63   \n",
       "4      1.567440e+09      192                   23              6   \n",
       "...             ...      ...                  ...            ...   \n",
       "55965  1.569686e+09   127348                   53           1000   \n",
       "55966  1.569686e+09   127396                   53             59   \n",
       "55967  1.569686e+09   127574                   43           1000   \n",
       "55968  1.569686e+09   127887                   43              5   \n",
       "55969  1.569686e+09   127895                   53              5   \n",
       "\n",
       "       last_login_day  last_checkout_day  open_count_last_10_days  \\\n",
       "0                   2                 13                        2   \n",
       "1                   5                383                        1   \n",
       "2                   1                  3                        0   \n",
       "3                   5                  5                        0   \n",
       "4                   5                 54                        0   \n",
       "...               ...                ...                      ...   \n",
       "55965               4                  8                        0   \n",
       "55966             802               1207                        0   \n",
       "55967               7               1500                        0   \n",
       "55968               5                  6                        2   \n",
       "55969               3                 20                        2   \n",
       "\n",
       "       open_count_last_30_days  open_count_last_60_days  \\\n",
       "0                            3                        4   \n",
       "1                            1                        1   \n",
       "2                            0                        0   \n",
       "3                            0                        0   \n",
       "4                            0                        0   \n",
       "...                        ...                      ...   \n",
       "55965                        0                        0   \n",
       "55966                        0                        1   \n",
       "55967                        0                        0   \n",
       "55968                        5                       14   \n",
       "55969                       14                       27   \n",
       "\n",
       "       login_count_last_10_days  ...  attr_11  attr_12  attr_20  attr_21  \\\n",
       "0                            10  ...        0        1        0        1   \n",
       "1                             5  ...        0        1        0        1   \n",
       "2                            13  ...        1        0        0        1   \n",
       "3                            43  ...        1        0        0        1   \n",
       "4                             4  ...        0        1        0        1   \n",
       "...                         ...  ...      ...      ...      ...      ...   \n",
       "55965                         0  ...        0        1        0        1   \n",
       "55966                         0  ...        0        1        0        1   \n",
       "55967                         0  ...        0        1        0        1   \n",
       "55968                         0  ...        0        1        0        1   \n",
       "55969                         0  ...        0        1        0        1   \n",
       "\n",
       "       attr_22  attr_30  attr_31  attr_32  attr_33  attr_34  \n",
       "0            0        1        0        0        0        0  \n",
       "1            0        1        0        0        0        0  \n",
       "2            0        0        0        1        0        0  \n",
       "3            0        0        0        1        0        0  \n",
       "4            0        1        0        0        0        0  \n",
       "...        ...      ...      ...      ...      ...      ...  \n",
       "55965        0        1        0        0        0        0  \n",
       "55966        0        1        0        0        0        0  \n",
       "55967        0        1        0        0        0        0  \n",
       "55968        0        1        0        0        0        0  \n",
       "55969        0        1        0        0        0        0  \n",
       "\n",
       "[55970 rows x 60 columns]"
      ]
     },
     "execution_count": 132,
     "metadata": {},
     "output_type": "execute_result"
    }
   ],
   "source": [
    "test_feat"
   ]
  },
  {
   "cell_type": "code",
   "execution_count": 133,
   "metadata": {
    "execution": {
     "iopub.execute_input": "2020-08-09T04:29:07.338839Z",
     "iopub.status.busy": "2020-08-09T04:29:07.338136Z",
     "iopub.status.idle": "2020-08-09T04:29:07.341675Z",
     "shell.execute_reply": "2020-08-09T04:29:07.342163Z"
    },
    "papermill": {
     "duration": 0.067956,
     "end_time": "2020-08-09T04:29:07.342328",
     "exception": false,
     "start_time": "2020-08-09T04:29:07.274372",
     "status": "completed"
    },
    "tags": []
   },
   "outputs": [
    {
     "data": {
      "text/plain": [
       "57"
      ]
     },
     "execution_count": 133,
     "metadata": {},
     "output_type": "execute_result"
    }
   ],
   "source": [
    "features = [c for c in train_feat.columns if c not in ['open_flag', 'user_id', 'row_id', 'age_class', 'domain_type', 'day_of_month']]\n",
    "len(features)"
   ]
  },
  {
   "cell_type": "markdown",
   "execution_count": null,
   "metadata": {
    "papermill": {
     "duration": 0.056886,
     "end_time": "2020-08-09T04:29:07.457084",
     "exception": false,
     "start_time": "2020-08-09T04:29:07.400198",
     "status": "completed"
    },
    "tags": []
   },
   "source": [
    "Last minute imputation on 'age' column"
   ]
  },
  {
   "cell_type": "code",
   "execution_count": 134,
   "metadata": {
    "execution": {
     "iopub.execute_input": "2020-08-09T04:29:07.575233Z",
     "iopub.status.busy": "2020-08-09T04:29:07.574618Z",
     "iopub.status.idle": "2020-08-09T04:29:16.941518Z",
     "shell.execute_reply": "2020-08-09T04:29:16.942071Z"
    },
    "papermill": {
     "duration": 9.428693,
     "end_time": "2020-08-09T04:29:16.942248",
     "exception": false,
     "start_time": "2020-08-09T04:29:07.513555",
     "status": "completed"
    },
    "tags": []
   },
   "outputs": [
    {
     "name": "stdout",
     "output_type": "stream",
     "text": [
      "Collecting impyute\r\n",
      "  Downloading impyute-0.0.8-py2.py3-none-any.whl (31 kB)\r\n",
      "Requirement already satisfied: scipy in /opt/conda/lib/python3.7/site-packages (from impyute) (1.4.1)\r\n",
      "Requirement already satisfied: numpy in /opt/conda/lib/python3.7/site-packages (from impyute) (1.18.5)\r\n",
      "Requirement already satisfied: scikit-learn in /opt/conda/lib/python3.7/site-packages (from impyute) (0.23.1)\r\n",
      "Requirement already satisfied: joblib>=0.11 in /opt/conda/lib/python3.7/site-packages (from scikit-learn->impyute) (0.14.1)\r\n",
      "Requirement already satisfied: threadpoolctl>=2.0.0 in /opt/conda/lib/python3.7/site-packages (from scikit-learn->impyute) (2.1.0)\r\n",
      "Installing collected packages: impyute\r\n",
      "Successfully installed impyute-0.0.8\r\n",
      "\u001b[33mWARNING: You are using pip version 20.1.1; however, version 20.2.1 is available.\r\n",
      "You should consider upgrading via the '/opt/conda/bin/python3.7 -m pip install --upgrade pip' command.\u001b[0m\r\n"
     ]
    }
   ],
   "source": [
    "!pip install impyute"
   ]
  },
  {
   "cell_type": "code",
   "execution_count": 135,
   "metadata": {
    "execution": {
     "iopub.execute_input": "2020-08-09T04:29:17.066278Z",
     "iopub.status.busy": "2020-08-09T04:29:17.064480Z",
     "iopub.status.idle": "2020-08-09T04:29:17.092994Z",
     "shell.execute_reply": "2020-08-09T04:29:17.093709Z"
    },
    "papermill": {
     "duration": 0.094302,
     "end_time": "2020-08-09T04:29:17.093935",
     "exception": false,
     "start_time": "2020-08-09T04:29:16.999633",
     "status": "completed"
    },
    "tags": []
   },
   "outputs": [
    {
     "name": "stdout",
     "output_type": "stream",
     "text": [
      "14 14\n"
     ]
    }
   ],
   "source": [
    "print(list(train_feat[features].columns).index('age'), list(test_feat[features].columns).index('age'))"
   ]
  },
  {
   "cell_type": "code",
   "execution_count": 136,
   "metadata": {
    "execution": {
     "iopub.execute_input": "2020-08-09T04:29:17.221985Z",
     "iopub.status.busy": "2020-08-09T04:29:17.221299Z",
     "iopub.status.idle": "2020-08-09T04:31:21.947516Z",
     "shell.execute_reply": "2020-08-09T04:31:21.946903Z"
    },
    "papermill": {
     "duration": 124.790522,
     "end_time": "2020-08-09T04:31:21.947662",
     "exception": false,
     "start_time": "2020-08-09T04:29:17.157140",
     "status": "completed"
    },
    "tags": []
   },
   "outputs": [],
   "source": [
    "from impyute.imputation.cs import mice\n",
    "\n",
    "train_imputed = mice(train_feat[features].values)\n",
    "mice_ages = train_imputed[:, list(train_feat[features].columns).index('age')]\n",
    "train_feat['age'] = mice_ages\n",
    "\n",
    "test_imputed = mice(test_feat[features].values)\n",
    "mice_ages_test = test_imputed[:, list(test_feat[features].columns).index('age')]\n",
    "test_feat['age'] = mice_ages_test"
   ]
  },
  {
   "cell_type": "markdown",
   "execution_count": null,
   "metadata": {
    "papermill": {
     "duration": 0.056458,
     "end_time": "2020-08-09T04:31:22.062127",
     "exception": false,
     "start_time": "2020-08-09T04:31:22.005669",
     "status": "completed"
    },
    "tags": []
   },
   "source": [
    "Distribution Comparison"
   ]
  },
  {
   "cell_type": "code",
   "execution_count": 137,
   "metadata": {
    "execution": {
     "iopub.execute_input": "2020-08-09T04:31:22.180571Z",
     "iopub.status.busy": "2020-08-09T04:31:22.179941Z",
     "iopub.status.idle": "2020-08-09T04:31:22.190345Z",
     "shell.execute_reply": "2020-08-09T04:31:22.190791Z"
    },
    "papermill": {
     "duration": 0.072391,
     "end_time": "2020-08-09T04:31:22.190968",
     "exception": false,
     "start_time": "2020-08-09T04:31:22.118577",
     "status": "completed"
    },
    "tags": []
   },
   "outputs": [
    {
     "data": {
      "text/plain": [
       "count    45050.000000\n",
       "mean        30.881554\n",
       "std          9.525043\n",
       "min          0.000000\n",
       "25%         24.000000\n",
       "50%         29.000000\n",
       "75%         36.000000\n",
       "max        110.000000\n",
       "Name: age, dtype: float64"
      ]
     },
     "execution_count": 137,
     "metadata": {},
     "output_type": "execute_result"
    }
   ],
   "source": [
    "train['age'].describe()"
   ]
  },
  {
   "cell_type": "code",
   "execution_count": 138,
   "metadata": {
    "execution": {
     "iopub.execute_input": "2020-08-09T04:31:22.311158Z",
     "iopub.status.busy": "2020-08-09T04:31:22.310020Z",
     "iopub.status.idle": "2020-08-09T04:31:22.321002Z",
     "shell.execute_reply": "2020-08-09T04:31:22.320344Z"
    },
    "papermill": {
     "duration": 0.073193,
     "end_time": "2020-08-09T04:31:22.321126",
     "exception": false,
     "start_time": "2020-08-09T04:31:22.247933",
     "status": "completed"
    },
    "tags": []
   },
   "outputs": [
    {
     "data": {
      "text/plain": [
       "count    73539.000000\n",
       "mean        31.274904\n",
       "std          7.694697\n",
       "min          0.000000\n",
       "25%         27.000000\n",
       "50%         30.361492\n",
       "75%         34.211518\n",
       "max        110.000000\n",
       "Name: age, dtype: float64"
      ]
     },
     "execution_count": 138,
     "metadata": {},
     "output_type": "execute_result"
    }
   ],
   "source": [
    "train_feat['age'].describe()"
   ]
  },
  {
   "cell_type": "code",
   "execution_count": 139,
   "metadata": {
    "execution": {
     "iopub.execute_input": "2020-08-09T04:31:22.442543Z",
     "iopub.status.busy": "2020-08-09T04:31:22.441843Z",
     "iopub.status.idle": "2020-08-09T04:31:22.451850Z",
     "shell.execute_reply": "2020-08-09T04:31:22.452426Z"
    },
    "papermill": {
     "duration": 0.073266,
     "end_time": "2020-08-09T04:31:22.452588",
     "exception": false,
     "start_time": "2020-08-09T04:31:22.379322",
     "status": "completed"
    },
    "tags": []
   },
   "outputs": [
    {
     "data": {
      "text/plain": [
       "count    34564.000000\n",
       "mean        30.833960\n",
       "std          9.533456\n",
       "min          0.000000\n",
       "25%         24.000000\n",
       "50%         29.000000\n",
       "75%         36.000000\n",
       "max        110.000000\n",
       "Name: age, dtype: float64"
      ]
     },
     "execution_count": 139,
     "metadata": {},
     "output_type": "execute_result"
    }
   ],
   "source": [
    "test['age'].describe()"
   ]
  },
  {
   "cell_type": "code",
   "execution_count": 140,
   "metadata": {
    "execution": {
     "iopub.execute_input": "2020-08-09T04:31:22.576098Z",
     "iopub.status.busy": "2020-08-09T04:31:22.574907Z",
     "iopub.status.idle": "2020-08-09T04:31:22.584849Z",
     "shell.execute_reply": "2020-08-09T04:31:22.584269Z"
    },
    "papermill": {
     "duration": 0.073758,
     "end_time": "2020-08-09T04:31:22.584983",
     "exception": false,
     "start_time": "2020-08-09T04:31:22.511225",
     "status": "completed"
    },
    "tags": []
   },
   "outputs": [
    {
     "data": {
      "text/plain": [
       "count    55970.000000\n",
       "mean        31.938524\n",
       "std          7.906112\n",
       "min          0.000000\n",
       "25%         27.000000\n",
       "50%         31.695918\n",
       "75%         35.657961\n",
       "max        110.000000\n",
       "Name: age, dtype: float64"
      ]
     },
     "execution_count": 140,
     "metadata": {},
     "output_type": "execute_result"
    }
   ],
   "source": [
    "test_feat['age'].describe()"
   ]
  },
  {
   "cell_type": "markdown",
   "execution_count": null,
   "metadata": {
    "papermill": {
     "duration": 0.057381,
     "end_time": "2020-08-09T04:31:22.699909",
     "exception": false,
     "start_time": "2020-08-09T04:31:22.642528",
     "status": "completed"
    },
    "tags": []
   },
   "source": [
    "Last minute additional features"
   ]
  },
  {
   "cell_type": "code",
   "execution_count": 141,
   "metadata": {
    "execution": {
     "iopub.execute_input": "2020-08-09T04:31:22.822547Z",
     "iopub.status.busy": "2020-08-09T04:31:22.821835Z",
     "iopub.status.idle": "2020-08-09T04:31:22.853989Z",
     "shell.execute_reply": "2020-08-09T04:31:22.853330Z"
    },
    "papermill": {
     "duration": 0.096126,
     "end_time": "2020-08-09T04:31:22.854113",
     "exception": false,
     "start_time": "2020-08-09T04:31:22.757987",
     "status": "completed"
    },
    "tags": []
   },
   "outputs": [],
   "source": [
    "train['20_interval'] = train['open_count_last_30_days'] - train['open_count_last_10_days']\n",
    "train['30_interval'] = train['open_count_last_60_days'] - train['open_count_last_30_days']\n",
    "train['50_interval'] = train['open_count_last_60_days'] - train['open_count_last_10_days']\n",
    "\n",
    "test['20_interval'] = test['open_count_last_30_days'] - test['open_count_last_10_days']\n",
    "test['30_interval'] = test['open_count_last_60_days'] - test['open_count_last_30_days']\n",
    "test['50_interval'] = test['open_count_last_60_days'] - test['open_count_last_10_days']"
   ]
  },
  {
   "cell_type": "code",
   "execution_count": 142,
   "metadata": {
    "execution": {
     "iopub.execute_input": "2020-08-09T04:31:22.982782Z",
     "iopub.status.busy": "2020-08-09T04:31:22.982113Z",
     "iopub.status.idle": "2020-08-09T04:31:23.148940Z",
     "shell.execute_reply": "2020-08-09T04:31:23.148267Z"
    },
    "papermill": {
     "duration": 0.236643,
     "end_time": "2020-08-09T04:31:23.149060",
     "exception": false,
     "start_time": "2020-08-09T04:31:22.912417",
     "status": "completed"
    },
    "tags": []
   },
   "outputs": [],
   "source": [
    "train['age'] = train_feat['age']\n",
    "test['age'] = test_feat['age']\n",
    "\n",
    "train['domain'] = train['domain'].astype('category')\n",
    "test['domain'] = test['domain'].astype('category')\n",
    "\n",
    "train['country_code'] = train['country_code'].astype('category')\n",
    "test['country_code'] = test['country_code'].astype('category')\n",
    "\n",
    "train['day_of_week'] = train['day_of_week'].astype('category')\n",
    "test['day_of_week'] = test['day_of_week'].astype('category')\n",
    "\n",
    "train['attr_1'] = train['attr_1'].astype('category')\n",
    "test['attr_1'] = test['attr_1'].astype('category')\n",
    "\n",
    "train['attr_2'] = train['attr_2'].astype('category')\n",
    "test['attr_2'] = test['attr_2'].astype('category')\n",
    "\n",
    "train['attr_3'] = train['attr_3'].astype('category')\n",
    "test['attr_3'] = test['attr_3'].astype('category')\n",
    "\n",
    "train['never_open'] = train['never_open'].astype('category')\n",
    "test['never_open'] = test['never_open'].astype('category')\n",
    "\n",
    "train['never_login'] = train['never_login'].astype('category')\n",
    "test['never_login'] = test['never_login'].astype('category')\n",
    "\n",
    "train['never_checkout'] = train['never_checkout'].astype('category')\n",
    "test['never_checkout'] = test['never_checkout'].astype('category')\n",
    "\n",
    "train['age_class'] = train['age_class'].astype('category')\n",
    "test['age_class'] = test['age_class'].astype('category')\n",
    "\n",
    "train['domain_type'] = train['domain_type'].astype('category')\n",
    "test['domain_type'] = test['domain_type'].astype('category')"
   ]
  },
  {
   "cell_type": "code",
   "execution_count": 143,
   "metadata": {
    "execution": {
     "iopub.execute_input": "2020-08-09T04:31:23.313386Z",
     "iopub.status.busy": "2020-08-09T04:31:23.311807Z",
     "iopub.status.idle": "2020-08-09T04:31:23.336988Z",
     "shell.execute_reply": "2020-08-09T04:31:23.336318Z"
    },
    "papermill": {
     "duration": 0.130012,
     "end_time": "2020-08-09T04:31:23.337115",
     "exception": false,
     "start_time": "2020-08-09T04:31:23.207103",
     "status": "completed"
    },
    "tags": []
   },
   "outputs": [
    {
     "name": "stdout",
     "output_type": "stream",
     "text": [
      "<class 'pandas.core.frame.DataFrame'>\n",
      "Int64Index: 73539 entries, 0 to 73538\n",
      "Data columns (total 33 columns):\n",
      " #   Column                       Non-Null Count  Dtype   \n",
      "---  ------                       --------------  -----   \n",
      " 0   country_code                 73539 non-null  category\n",
      " 1   grass_date                   73539 non-null  float64 \n",
      " 2   user_id                      73539 non-null  int64   \n",
      " 3   subject_line_length          73539 non-null  int64   \n",
      " 4   last_open_day                73539 non-null  int64   \n",
      " 5   last_login_day               73539 non-null  int64   \n",
      " 6   last_checkout_day            73539 non-null  int64   \n",
      " 7   open_count_last_10_days      73539 non-null  int64   \n",
      " 8   open_count_last_30_days      73539 non-null  int64   \n",
      " 9   open_count_last_60_days      73539 non-null  int64   \n",
      " 10  login_count_last_10_days     73539 non-null  int64   \n",
      " 11  login_count_last_30_days     73539 non-null  int64   \n",
      " 12  login_count_last_60_days     73539 non-null  int64   \n",
      " 13  checkout_count_last_10_days  73539 non-null  int64   \n",
      " 14  checkout_count_last_30_days  73539 non-null  int64   \n",
      " 15  checkout_count_last_60_days  73539 non-null  int64   \n",
      " 16  open_flag                    73539 non-null  int64   \n",
      " 17  row_id                       73539 non-null  int64   \n",
      " 18  attr_1                       73539 non-null  category\n",
      " 19  attr_2                       73539 non-null  category\n",
      " 20  attr_3                       73539 non-null  category\n",
      " 21  age                          73539 non-null  float64 \n",
      " 22  domain                       73539 non-null  category\n",
      " 23  day_of_week                  73539 non-null  category\n",
      " 24  day_of_month                 73539 non-null  int64   \n",
      " 25  age_class                    73539 non-null  category\n",
      " 26  domain_type                  73539 non-null  category\n",
      " 27  never_open                   73539 non-null  category\n",
      " 28  never_login                  73539 non-null  category\n",
      " 29  never_checkout               73539 non-null  category\n",
      " 30  20_interval                  73539 non-null  int64   \n",
      " 31  30_interval                  73539 non-null  int64   \n",
      " 32  50_interval                  73539 non-null  int64   \n",
      "dtypes: category(11), float64(2), int64(20)\n",
      "memory usage: 13.7 MB\n"
     ]
    }
   ],
   "source": [
    "train.info()"
   ]
  },
  {
   "cell_type": "code",
   "execution_count": 144,
   "metadata": {
    "execution": {
     "iopub.execute_input": "2020-08-09T04:31:23.468486Z",
     "iopub.status.busy": "2020-08-09T04:31:23.467755Z",
     "iopub.status.idle": "2020-08-09T04:31:23.580950Z",
     "shell.execute_reply": "2020-08-09T04:31:23.581442Z"
    },
    "papermill": {
     "duration": 0.186411,
     "end_time": "2020-08-09T04:31:23.581587",
     "exception": false,
     "start_time": "2020-08-09T04:31:23.395176",
     "status": "completed"
    },
    "tags": []
   },
   "outputs": [
    {
     "data": {
      "text/html": [
       "<div>\n",
       "<style scoped>\n",
       "    .dataframe tbody tr th:only-of-type {\n",
       "        vertical-align: middle;\n",
       "    }\n",
       "\n",
       "    .dataframe tbody tr th {\n",
       "        vertical-align: top;\n",
       "    }\n",
       "\n",
       "    .dataframe thead th {\n",
       "        text-align: right;\n",
       "    }\n",
       "</style>\n",
       "<table border=\"1\" class=\"dataframe\">\n",
       "  <thead>\n",
       "    <tr style=\"text-align: right;\">\n",
       "      <th></th>\n",
       "      <th>grass_date</th>\n",
       "      <th>user_id</th>\n",
       "      <th>subject_line_length</th>\n",
       "      <th>last_open_day</th>\n",
       "      <th>last_login_day</th>\n",
       "      <th>last_checkout_day</th>\n",
       "      <th>open_count_last_10_days</th>\n",
       "      <th>open_count_last_30_days</th>\n",
       "      <th>open_count_last_60_days</th>\n",
       "      <th>login_count_last_10_days</th>\n",
       "      <th>...</th>\n",
       "      <th>checkout_count_last_10_days</th>\n",
       "      <th>checkout_count_last_30_days</th>\n",
       "      <th>checkout_count_last_60_days</th>\n",
       "      <th>open_flag</th>\n",
       "      <th>row_id</th>\n",
       "      <th>age</th>\n",
       "      <th>day_of_month</th>\n",
       "      <th>20_interval</th>\n",
       "      <th>30_interval</th>\n",
       "      <th>50_interval</th>\n",
       "    </tr>\n",
       "  </thead>\n",
       "  <tbody>\n",
       "    <tr>\n",
       "      <th>count</th>\n",
       "      <td>7.353900e+04</td>\n",
       "      <td>73539.000000</td>\n",
       "      <td>73539.000000</td>\n",
       "      <td>73539.000000</td>\n",
       "      <td>73539.000000</td>\n",
       "      <td>73539.000000</td>\n",
       "      <td>73539.000000</td>\n",
       "      <td>73539.000000</td>\n",
       "      <td>73539.000000</td>\n",
       "      <td>73539.000000</td>\n",
       "      <td>...</td>\n",
       "      <td>73539.000000</td>\n",
       "      <td>73539.000000</td>\n",
       "      <td>73539.000000</td>\n",
       "      <td>73539.000000</td>\n",
       "      <td>73539.00000</td>\n",
       "      <td>73539.000000</td>\n",
       "      <td>73539.000000</td>\n",
       "      <td>73539.000000</td>\n",
       "      <td>73539.000000</td>\n",
       "      <td>73539.000000</td>\n",
       "    </tr>\n",
       "    <tr>\n",
       "      <th>mean</th>\n",
       "      <td>1.565331e+09</td>\n",
       "      <td>63048.595358</td>\n",
       "      <td>43.656373</td>\n",
       "      <td>131.636288</td>\n",
       "      <td>125.217544</td>\n",
       "      <td>401.533227</td>\n",
       "      <td>0.911829</td>\n",
       "      <td>2.780457</td>\n",
       "      <td>5.019364</td>\n",
       "      <td>8.382287</td>\n",
       "      <td>...</td>\n",
       "      <td>0.909898</td>\n",
       "      <td>2.796040</td>\n",
       "      <td>5.420960</td>\n",
       "      <td>0.155781</td>\n",
       "      <td>36769.00000</td>\n",
       "      <td>31.274904</td>\n",
       "      <td>16.517263</td>\n",
       "      <td>1.868628</td>\n",
       "      <td>2.238907</td>\n",
       "      <td>4.107535</td>\n",
       "    </tr>\n",
       "    <tr>\n",
       "      <th>std</th>\n",
       "      <td>1.258417e+06</td>\n",
       "      <td>36068.006037</td>\n",
       "      <td>11.219323</td>\n",
       "      <td>297.657294</td>\n",
       "      <td>1214.701680</td>\n",
       "      <td>610.799974</td>\n",
       "      <td>1.754052</td>\n",
       "      <td>4.570239</td>\n",
       "      <td>7.902313</td>\n",
       "      <td>13.424436</td>\n",
       "      <td>...</td>\n",
       "      <td>2.887416</td>\n",
       "      <td>7.686064</td>\n",
       "      <td>13.980182</td>\n",
       "      <td>0.362650</td>\n",
       "      <td>21229.02506</td>\n",
       "      <td>7.694697</td>\n",
       "      <td>9.253182</td>\n",
       "      <td>3.145829</td>\n",
       "      <td>3.945820</td>\n",
       "      <td>6.594491</td>\n",
       "    </tr>\n",
       "    <tr>\n",
       "      <th>min</th>\n",
       "      <td>1.563206e+09</td>\n",
       "      <td>2.000000</td>\n",
       "      <td>10.000000</td>\n",
       "      <td>1.000000</td>\n",
       "      <td>0.000000</td>\n",
       "      <td>1.000000</td>\n",
       "      <td>0.000000</td>\n",
       "      <td>0.000000</td>\n",
       "      <td>0.000000</td>\n",
       "      <td>0.000000</td>\n",
       "      <td>...</td>\n",
       "      <td>0.000000</td>\n",
       "      <td>0.000000</td>\n",
       "      <td>0.000000</td>\n",
       "      <td>0.000000</td>\n",
       "      <td>0.00000</td>\n",
       "      <td>0.000000</td>\n",
       "      <td>1.000000</td>\n",
       "      <td>0.000000</td>\n",
       "      <td>0.000000</td>\n",
       "      <td>0.000000</td>\n",
       "    </tr>\n",
       "    <tr>\n",
       "      <th>25%</th>\n",
       "      <td>1.564243e+09</td>\n",
       "      <td>31679.500000</td>\n",
       "      <td>34.000000</td>\n",
       "      <td>6.000000</td>\n",
       "      <td>3.000000</td>\n",
       "      <td>10.000000</td>\n",
       "      <td>0.000000</td>\n",
       "      <td>0.000000</td>\n",
       "      <td>0.000000</td>\n",
       "      <td>0.000000</td>\n",
       "      <td>...</td>\n",
       "      <td>0.000000</td>\n",
       "      <td>0.000000</td>\n",
       "      <td>0.000000</td>\n",
       "      <td>0.000000</td>\n",
       "      <td>18384.50000</td>\n",
       "      <td>27.000000</td>\n",
       "      <td>8.000000</td>\n",
       "      <td>0.000000</td>\n",
       "      <td>0.000000</td>\n",
       "      <td>0.000000</td>\n",
       "    </tr>\n",
       "    <tr>\n",
       "      <th>50%</th>\n",
       "      <td>1.565280e+09</td>\n",
       "      <td>63340.000000</td>\n",
       "      <td>43.000000</td>\n",
       "      <td>18.000000</td>\n",
       "      <td>8.000000</td>\n",
       "      <td>44.000000</td>\n",
       "      <td>0.000000</td>\n",
       "      <td>1.000000</td>\n",
       "      <td>2.000000</td>\n",
       "      <td>3.000000</td>\n",
       "      <td>...</td>\n",
       "      <td>0.000000</td>\n",
       "      <td>0.000000</td>\n",
       "      <td>1.000000</td>\n",
       "      <td>0.000000</td>\n",
       "      <td>36769.00000</td>\n",
       "      <td>30.361492</td>\n",
       "      <td>18.000000</td>\n",
       "      <td>1.000000</td>\n",
       "      <td>1.000000</td>\n",
       "      <td>1.000000</td>\n",
       "    </tr>\n",
       "    <tr>\n",
       "      <th>75%</th>\n",
       "      <td>1.566403e+09</td>\n",
       "      <td>94731.500000</td>\n",
       "      <td>52.000000</td>\n",
       "      <td>56.000000</td>\n",
       "      <td>27.000000</td>\n",
       "      <td>456.000000</td>\n",
       "      <td>1.000000</td>\n",
       "      <td>3.000000</td>\n",
       "      <td>6.000000</td>\n",
       "      <td>12.000000</td>\n",
       "      <td>...</td>\n",
       "      <td>1.000000</td>\n",
       "      <td>3.000000</td>\n",
       "      <td>6.000000</td>\n",
       "      <td>0.000000</td>\n",
       "      <td>55153.50000</td>\n",
       "      <td>34.211518</td>\n",
       "      <td>24.000000</td>\n",
       "      <td>2.000000</td>\n",
       "      <td>3.000000</td>\n",
       "      <td>5.000000</td>\n",
       "    </tr>\n",
       "    <tr>\n",
       "      <th>max</th>\n",
       "      <td>1.567354e+09</td>\n",
       "      <td>127925.000000</td>\n",
       "      <td>75.000000</td>\n",
       "      <td>1000.000000</td>\n",
       "      <td>19000.000000</td>\n",
       "      <td>1500.000000</td>\n",
       "      <td>31.000000</td>\n",
       "      <td>92.000000</td>\n",
       "      <td>135.000000</td>\n",
       "      <td>254.000000</td>\n",
       "      <td>...</td>\n",
       "      <td>157.000000</td>\n",
       "      <td>531.000000</td>\n",
       "      <td>783.000000</td>\n",
       "      <td>1.000000</td>\n",
       "      <td>73538.00000</td>\n",
       "      <td>110.000000</td>\n",
       "      <td>30.000000</td>\n",
       "      <td>61.000000</td>\n",
       "      <td>61.000000</td>\n",
       "      <td>104.000000</td>\n",
       "    </tr>\n",
       "  </tbody>\n",
       "</table>\n",
       "<p>8 rows × 22 columns</p>\n",
       "</div>"
      ],
      "text/plain": [
       "         grass_date        user_id  subject_line_length  last_open_day  \\\n",
       "count  7.353900e+04   73539.000000         73539.000000   73539.000000   \n",
       "mean   1.565331e+09   63048.595358            43.656373     131.636288   \n",
       "std    1.258417e+06   36068.006037            11.219323     297.657294   \n",
       "min    1.563206e+09       2.000000            10.000000       1.000000   \n",
       "25%    1.564243e+09   31679.500000            34.000000       6.000000   \n",
       "50%    1.565280e+09   63340.000000            43.000000      18.000000   \n",
       "75%    1.566403e+09   94731.500000            52.000000      56.000000   \n",
       "max    1.567354e+09  127925.000000            75.000000    1000.000000   \n",
       "\n",
       "       last_login_day  last_checkout_day  open_count_last_10_days  \\\n",
       "count    73539.000000       73539.000000             73539.000000   \n",
       "mean       125.217544         401.533227                 0.911829   \n",
       "std       1214.701680         610.799974                 1.754052   \n",
       "min          0.000000           1.000000                 0.000000   \n",
       "25%          3.000000          10.000000                 0.000000   \n",
       "50%          8.000000          44.000000                 0.000000   \n",
       "75%         27.000000         456.000000                 1.000000   \n",
       "max      19000.000000        1500.000000                31.000000   \n",
       "\n",
       "       open_count_last_30_days  open_count_last_60_days  \\\n",
       "count             73539.000000             73539.000000   \n",
       "mean                  2.780457                 5.019364   \n",
       "std                   4.570239                 7.902313   \n",
       "min                   0.000000                 0.000000   \n",
       "25%                   0.000000                 0.000000   \n",
       "50%                   1.000000                 2.000000   \n",
       "75%                   3.000000                 6.000000   \n",
       "max                  92.000000               135.000000   \n",
       "\n",
       "       login_count_last_10_days  ...  checkout_count_last_10_days  \\\n",
       "count              73539.000000  ...                 73539.000000   \n",
       "mean                   8.382287  ...                     0.909898   \n",
       "std                   13.424436  ...                     2.887416   \n",
       "min                    0.000000  ...                     0.000000   \n",
       "25%                    0.000000  ...                     0.000000   \n",
       "50%                    3.000000  ...                     0.000000   \n",
       "75%                   12.000000  ...                     1.000000   \n",
       "max                  254.000000  ...                   157.000000   \n",
       "\n",
       "       checkout_count_last_30_days  checkout_count_last_60_days     open_flag  \\\n",
       "count                 73539.000000                 73539.000000  73539.000000   \n",
       "mean                      2.796040                     5.420960      0.155781   \n",
       "std                       7.686064                    13.980182      0.362650   \n",
       "min                       0.000000                     0.000000      0.000000   \n",
       "25%                       0.000000                     0.000000      0.000000   \n",
       "50%                       0.000000                     1.000000      0.000000   \n",
       "75%                       3.000000                     6.000000      0.000000   \n",
       "max                     531.000000                   783.000000      1.000000   \n",
       "\n",
       "            row_id           age  day_of_month   20_interval   30_interval  \\\n",
       "count  73539.00000  73539.000000  73539.000000  73539.000000  73539.000000   \n",
       "mean   36769.00000     31.274904     16.517263      1.868628      2.238907   \n",
       "std    21229.02506      7.694697      9.253182      3.145829      3.945820   \n",
       "min        0.00000      0.000000      1.000000      0.000000      0.000000   \n",
       "25%    18384.50000     27.000000      8.000000      0.000000      0.000000   \n",
       "50%    36769.00000     30.361492     18.000000      1.000000      1.000000   \n",
       "75%    55153.50000     34.211518     24.000000      2.000000      3.000000   \n",
       "max    73538.00000    110.000000     30.000000     61.000000     61.000000   \n",
       "\n",
       "        50_interval  \n",
       "count  73539.000000  \n",
       "mean       4.107535  \n",
       "std        6.594491  \n",
       "min        0.000000  \n",
       "25%        0.000000  \n",
       "50%        1.000000  \n",
       "75%        5.000000  \n",
       "max      104.000000  \n",
       "\n",
       "[8 rows x 22 columns]"
      ]
     },
     "execution_count": 144,
     "metadata": {},
     "output_type": "execute_result"
    }
   ],
   "source": [
    "train.describe()"
   ]
  },
  {
   "cell_type": "markdown",
   "execution_count": null,
   "metadata": {
    "papermill": {
     "duration": 0.057524,
     "end_time": "2020-08-09T04:31:23.697830",
     "exception": false,
     "start_time": "2020-08-09T04:31:23.640306",
     "status": "completed"
    },
    "tags": []
   },
   "source": [
    "Save to file: train and test features"
   ]
  },
  {
   "cell_type": "code",
   "execution_count": 145,
   "metadata": {
    "execution": {
     "iopub.execute_input": "2020-08-09T04:31:23.819622Z",
     "iopub.status.busy": "2020-08-09T04:31:23.818810Z",
     "iopub.status.idle": "2020-08-09T04:31:25.075510Z",
     "shell.execute_reply": "2020-08-09T04:31:25.074865Z"
    },
    "papermill": {
     "duration": 1.319807,
     "end_time": "2020-08-09T04:31:25.075634",
     "exception": false,
     "start_time": "2020-08-09T04:31:23.755827",
     "status": "completed"
    },
    "tags": []
   },
   "outputs": [],
   "source": [
    "train.to_csv('train_feat.csv', index = False)\n",
    "test.to_csv('test_feat.csv', index = False)"
   ]
  },
  {
   "cell_type": "markdown",
   "execution_count": null,
   "metadata": {
    "papermill": {
     "duration": 0.058822,
     "end_time": "2020-08-09T04:31:25.193313",
     "exception": false,
     "start_time": "2020-08-09T04:31:25.134491",
     "status": "completed"
    },
    "tags": []
   },
   "source": [
    "# Import preprocessed train and test features"
   ]
  },
  {
   "cell_type": "code",
   "execution_count": 146,
   "metadata": {
    "execution": {
     "iopub.execute_input": "2020-08-09T04:31:25.315811Z",
     "iopub.status.busy": "2020-08-09T04:31:25.314937Z",
     "iopub.status.idle": "2020-08-09T04:31:25.318078Z",
     "shell.execute_reply": "2020-08-09T04:31:25.317451Z"
    },
    "papermill": {
     "duration": 0.065847,
     "end_time": "2020-08-09T04:31:25.318191",
     "exception": false,
     "start_time": "2020-08-09T04:31:25.252344",
     "status": "completed"
    },
    "tags": []
   },
   "outputs": [],
   "source": [
    "# train_feat = pd.read_csv('../input/shopee-code-league-2020-marketing-analytics/train_feat.csv')\n",
    "# test_feat = pd.read_csv('../input/shopee-code-league-2020-marketing-analytics/test_feat.csv')\n",
    "# print(train_feat.shape, test_feat.shape)"
   ]
  },
  {
   "cell_type": "code",
   "execution_count": 147,
   "metadata": {
    "execution": {
     "iopub.execute_input": "2020-08-09T04:31:25.441868Z",
     "iopub.status.busy": "2020-08-09T04:31:25.440970Z",
     "iopub.status.idle": "2020-08-09T04:31:25.444057Z",
     "shell.execute_reply": "2020-08-09T04:31:25.443427Z"
    },
    "papermill": {
     "duration": 0.066506,
     "end_time": "2020-08-09T04:31:25.444173",
     "exception": false,
     "start_time": "2020-08-09T04:31:25.377667",
     "status": "completed"
    },
    "tags": []
   },
   "outputs": [],
   "source": [
    "# label = train_feat['open_flag']"
   ]
  },
  {
   "cell_type": "code",
   "execution_count": 148,
   "metadata": {
    "execution": {
     "iopub.execute_input": "2020-08-09T04:31:25.566010Z",
     "iopub.status.busy": "2020-08-09T04:31:25.565050Z",
     "iopub.status.idle": "2020-08-09T04:31:25.568152Z",
     "shell.execute_reply": "2020-08-09T04:31:25.567501Z"
    },
    "papermill": {
     "duration": 0.065426,
     "end_time": "2020-08-09T04:31:25.568269",
     "exception": false,
     "start_time": "2020-08-09T04:31:25.502843",
     "status": "completed"
    },
    "tags": []
   },
   "outputs": [],
   "source": [
    "# samp_sub = pd.read_csv('../input/open-shopee-code-league-marketing-analytics/sample_submission_0_1.csv')\n",
    "# print(samp_sub.shape)"
   ]
  },
  {
   "cell_type": "code",
   "execution_count": 149,
   "metadata": {
    "execution": {
     "iopub.execute_input": "2020-08-09T04:31:25.690361Z",
     "iopub.status.busy": "2020-08-09T04:31:25.689725Z",
     "iopub.status.idle": "2020-08-09T04:31:25.703446Z",
     "shell.execute_reply": "2020-08-09T04:31:25.702785Z"
    },
    "papermill": {
     "duration": 0.076497,
     "end_time": "2020-08-09T04:31:25.703562",
     "exception": false,
     "start_time": "2020-08-09T04:31:25.627065",
     "status": "completed"
    },
    "tags": []
   },
   "outputs": [],
   "source": [
    "train_feat_copy = train.copy()\n",
    "test_feat_copy = test.copy()"
   ]
  },
  {
   "cell_type": "markdown",
   "execution_count": null,
   "metadata": {
    "papermill": {
     "duration": 0.058359,
     "end_time": "2020-08-09T04:31:25.820873",
     "exception": false,
     "start_time": "2020-08-09T04:31:25.762514",
     "status": "completed"
    },
    "tags": []
   },
   "source": [
    "**Features and label**"
   ]
  },
  {
   "cell_type": "code",
   "execution_count": 150,
   "metadata": {
    "execution": {
     "iopub.execute_input": "2020-08-09T04:31:25.943836Z",
     "iopub.status.busy": "2020-08-09T04:31:25.942986Z",
     "iopub.status.idle": "2020-08-09T04:31:25.946286Z",
     "shell.execute_reply": "2020-08-09T04:31:25.945702Z"
    },
    "papermill": {
     "duration": 0.067278,
     "end_time": "2020-08-09T04:31:25.946412",
     "exception": false,
     "start_time": "2020-08-09T04:31:25.879134",
     "status": "completed"
    },
    "tags": []
   },
   "outputs": [],
   "source": [
    "features = [c for c in train.columns if c not in ['open_flag', 'user_id', 'row_id']]\n",
    "feat_label = [c for c in train.columns if c not in ['user_id', 'row_id']]\n",
    "label = train['open_flag']"
   ]
  },
  {
   "cell_type": "markdown",
   "execution_count": null,
   "metadata": {
    "papermill": {
     "duration": 0.057814,
     "end_time": "2020-08-09T04:31:26.062357",
     "exception": false,
     "start_time": "2020-08-09T04:31:26.004543",
     "status": "completed"
    },
    "tags": []
   },
   "source": [
    "# Modeling"
   ]
  },
  {
   "cell_type": "code",
   "execution_count": 151,
   "metadata": {
    "execution": {
     "iopub.execute_input": "2020-08-09T04:31:26.183125Z",
     "iopub.status.busy": "2020-08-09T04:31:26.182430Z",
     "iopub.status.idle": "2020-08-09T04:31:32.164930Z",
     "shell.execute_reply": "2020-08-09T04:31:32.166031Z"
    },
    "papermill": {
     "duration": 6.045814,
     "end_time": "2020-08-09T04:31:32.166203",
     "exception": false,
     "start_time": "2020-08-09T04:31:26.120389",
     "status": "completed"
    },
    "tags": []
   },
   "outputs": [
    {
     "name": "stdout",
     "output_type": "stream",
     "text": [
      "Checking whether there is an H2O instance running at http://localhost:54321 ..... not found.\n",
      "Attempting to start a local H2O server...\n",
      "  Java Version: openjdk version \"11.0.8\" 2020-07-14; OpenJDK Runtime Environment (build 11.0.8+10-post-Ubuntu-0ubuntu118.04.1); OpenJDK 64-Bit Server VM (build 11.0.8+10-post-Ubuntu-0ubuntu118.04.1, mixed mode, sharing)\n",
      "  Starting server from /opt/conda/lib/python3.7/site-packages/h2o/backend/bin/h2o.jar\n",
      "  Ice root: /tmp/tmp9255i3pw\n",
      "  JVM stdout: /tmp/tmp9255i3pw/h2o_unknownUser_started_from_python.out\n",
      "  JVM stderr: /tmp/tmp9255i3pw/h2o_unknownUser_started_from_python.err\n",
      "  Server is running at http://127.0.0.1:54321\n",
      "Connecting to H2O server at http://127.0.0.1:54321 ... successful.\n"
     ]
    },
    {
     "data": {
      "text/html": [
       "<div style=\"overflow:auto\"><table style=\"width:50%\"><tr><td>H2O_cluster_uptime:</td>\n",
       "<td>02 secs</td></tr>\n",
       "<tr><td>H2O_cluster_timezone:</td>\n",
       "<td>Etc/UTC</td></tr>\n",
       "<tr><td>H2O_data_parsing_timezone:</td>\n",
       "<td>UTC</td></tr>\n",
       "<tr><td>H2O_cluster_version:</td>\n",
       "<td>3.30.0.7</td></tr>\n",
       "<tr><td>H2O_cluster_version_age:</td>\n",
       "<td>18 days </td></tr>\n",
       "<tr><td>H2O_cluster_name:</td>\n",
       "<td>H2O_from_python_unknownUser_nihjtr</td></tr>\n",
       "<tr><td>H2O_cluster_total_nodes:</td>\n",
       "<td>1</td></tr>\n",
       "<tr><td>H2O_cluster_free_memory:</td>\n",
       "<td>4 Gb</td></tr>\n",
       "<tr><td>H2O_cluster_total_cores:</td>\n",
       "<td>4</td></tr>\n",
       "<tr><td>H2O_cluster_allowed_cores:</td>\n",
       "<td>4</td></tr>\n",
       "<tr><td>H2O_cluster_status:</td>\n",
       "<td>accepting new members, healthy</td></tr>\n",
       "<tr><td>H2O_connection_url:</td>\n",
       "<td>http://127.0.0.1:54321</td></tr>\n",
       "<tr><td>H2O_connection_proxy:</td>\n",
       "<td>{\"http\": null, \"https\": null}</td></tr>\n",
       "<tr><td>H2O_internal_security:</td>\n",
       "<td>False</td></tr>\n",
       "<tr><td>H2O_API_Extensions:</td>\n",
       "<td>Amazon S3, XGBoost, Algos, AutoML, Core V3, TargetEncoder, Core V4</td></tr>\n",
       "<tr><td>Python_version:</td>\n",
       "<td>3.7.6 final</td></tr></table></div>"
      ],
      "text/plain": [
       "--------------------------  ------------------------------------------------------------------\n",
       "H2O_cluster_uptime:         02 secs\n",
       "H2O_cluster_timezone:       Etc/UTC\n",
       "H2O_data_parsing_timezone:  UTC\n",
       "H2O_cluster_version:        3.30.0.7\n",
       "H2O_cluster_version_age:    18 days\n",
       "H2O_cluster_name:           H2O_from_python_unknownUser_nihjtr\n",
       "H2O_cluster_total_nodes:    1\n",
       "H2O_cluster_free_memory:    4 Gb\n",
       "H2O_cluster_total_cores:    4\n",
       "H2O_cluster_allowed_cores:  4\n",
       "H2O_cluster_status:         accepting new members, healthy\n",
       "H2O_connection_url:         http://127.0.0.1:54321\n",
       "H2O_connection_proxy:       {\"http\": null, \"https\": null}\n",
       "H2O_internal_security:      False\n",
       "H2O_API_Extensions:         Amazon S3, XGBoost, Algos, AutoML, Core V3, TargetEncoder, Core V4\n",
       "Python_version:             3.7.6 final\n",
       "--------------------------  ------------------------------------------------------------------"
      ]
     },
     "metadata": {},
     "output_type": "display_data"
    }
   ],
   "source": [
    "import h2o\n",
    "h2o.init()"
   ]
  },
  {
   "cell_type": "code",
   "execution_count": 152,
   "metadata": {
    "execution": {
     "iopub.execute_input": "2020-08-09T04:31:32.299888Z",
     "iopub.status.busy": "2020-08-09T04:31:32.298954Z",
     "iopub.status.idle": "2020-08-09T04:31:32.302182Z",
     "shell.execute_reply": "2020-08-09T04:31:32.301409Z"
    },
    "papermill": {
     "duration": 0.068733,
     "end_time": "2020-08-09T04:31:32.302355",
     "exception": false,
     "start_time": "2020-08-09T04:31:32.233622",
     "status": "completed"
    },
    "tags": []
   },
   "outputs": [],
   "source": [
    "X = features\n",
    "Y = 'open_flag'\n",
    "\n",
    "\n",
    "list_col = X + [Y]"
   ]
  },
  {
   "cell_type": "code",
   "execution_count": 153,
   "metadata": {
    "execution": {
     "iopub.execute_input": "2020-08-09T04:31:32.445598Z",
     "iopub.status.busy": "2020-08-09T04:31:32.444877Z",
     "iopub.status.idle": "2020-08-09T04:31:32.504573Z",
     "shell.execute_reply": "2020-08-09T04:31:32.503845Z"
    },
    "papermill": {
     "duration": 0.132917,
     "end_time": "2020-08-09T04:31:32.504699",
     "exception": false,
     "start_time": "2020-08-09T04:31:32.371782",
     "status": "completed"
    },
    "tags": []
   },
   "outputs": [],
   "source": [
    "from sklearn.model_selection import train_test_split\n",
    "train_data, val_data = train_test_split(train[feat_label], stratify=train['open_flag'], test_size = 0.2, random_state=1111)"
   ]
  },
  {
   "cell_type": "code",
   "execution_count": 154,
   "metadata": {
    "execution": {
     "iopub.execute_input": "2020-08-09T04:31:32.637811Z",
     "iopub.status.busy": "2020-08-09T04:31:32.636377Z",
     "iopub.status.idle": "2020-08-09T04:31:39.965348Z",
     "shell.execute_reply": "2020-08-09T04:31:39.964495Z"
    },
    "papermill": {
     "duration": 7.397391,
     "end_time": "2020-08-09T04:31:39.965538",
     "exception": false,
     "start_time": "2020-08-09T04:31:32.568147",
     "status": "completed"
    },
    "tags": []
   },
   "outputs": [
    {
     "name": "stdout",
     "output_type": "stream",
     "text": [
      "Parse progress: |█████████████████████████████████████████████████████████| 100%\n",
      "Parse progress: |█████████████████████████████████████████████████████████| 100%\n",
      "Parse progress: |█████████████████████████████████████████████████████████| 100%\n"
     ]
    }
   ],
   "source": [
    "h2o_train = h2o.H2OFrame(train_data[list_col])\n",
    "h2o_val = h2o.H2OFrame(val_data[list_col])\n",
    "h2o_test = h2o.H2OFrame(test[X])"
   ]
  },
  {
   "cell_type": "code",
   "execution_count": 155,
   "metadata": {
    "execution": {
     "iopub.execute_input": "2020-08-09T04:31:40.109069Z",
     "iopub.status.busy": "2020-08-09T04:31:40.108149Z",
     "iopub.status.idle": "2020-08-09T04:31:40.111427Z",
     "shell.execute_reply": "2020-08-09T04:31:40.110842Z"
    },
    "papermill": {
     "duration": 0.078286,
     "end_time": "2020-08-09T04:31:40.111541",
     "exception": false,
     "start_time": "2020-08-09T04:31:40.033255",
     "status": "completed"
    },
    "tags": []
   },
   "outputs": [],
   "source": [
    "X_cat = ['country_code', 'domain', 'day_of_week', 'attr_1', 'attr_2', 'attr_3',\n",
    "         'never_open', 'never_login', 'never_checkout', 'age_class', 'domain_type']\n",
    "\n",
    "for var in X_cat :\n",
    "    h2o_train[var] = h2o_train[var].asfactor()\n",
    "    h2o_val[var] = h2o_val[var].asfactor()\n",
    "    h2o_test[var] = h2o_test[var].asfactor()\n",
    "    \n",
    "h2o_train[Y] = h2o_train[Y].asfactor()\n",
    "h2o_val[Y] = h2o_val[Y].asfactor()"
   ]
  },
  {
   "cell_type": "code",
   "execution_count": 156,
   "metadata": {
    "execution": {
     "iopub.execute_input": "2020-08-09T04:31:40.268355Z",
     "iopub.status.busy": "2020-08-09T04:31:40.267527Z",
     "iopub.status.idle": "2020-08-09T04:31:40.270494Z",
     "shell.execute_reply": "2020-08-09T04:31:40.269857Z"
    },
    "papermill": {
     "duration": 0.096892,
     "end_time": "2020-08-09T04:31:40.270611",
     "exception": false,
     "start_time": "2020-08-09T04:31:40.173719",
     "status": "completed"
    },
    "tags": []
   },
   "outputs": [],
   "source": [
    "from h2o.estimators.gbm import H2OGradientBoostingEstimator\n",
    "from h2o.estimators.random_forest import H2ORandomForestEstimator\n",
    "from h2o.estimators.glm import H2OGeneralizedLinearEstimator\n",
    "from h2o.estimators import H2OXGBoostEstimator\n",
    "from h2o.estimators.stackedensemble import H2OStackedEnsembleEstimator\n",
    "import time\n",
    "\n",
    "def h2o_compare_models(df_train, df_test, X, Y) :\n",
    "    \n",
    "    start = time.time()\n",
    "    \n",
    "    # Initialize all model \n",
    "    glm = H2OGeneralizedLinearEstimator(family='binomial', nfolds=10, keep_cross_validation_predictions=True, fold_assignment='Modulo')\n",
    "    gbm = H2OGradientBoostingEstimator(distribution='bernoulli', nfolds=10, keep_cross_validation_predictions=True, fold_assignment='Modulo')\n",
    "    xgb = H2OXGBoostEstimator(distribution='bernoulli', nfolds=10, keep_cross_validation_predictions=True, fold_assignment='Modulo')\n",
    "    lgbm = H2OXGBoostEstimator(distribution='bernoulli', tree_method=\"hist\", grow_policy=\"lossguide\",\n",
    "                              nfolds=10, keep_cross_validation_predictions=True, fold_assignment='Modulo')\n",
    "    rf = H2ORandomForestEstimator(distribution='bernoulli', nfolds=10, keep_cross_validation_predictions=True, fold_assignment='Modulo')\n",
    "    ext = H2ORandomForestEstimator(distribution='bernoulli', histogram_type=\"Random\",\n",
    "                                  nfolds=10, keep_cross_validation_predictions=True, fold_assignment='Modulo')\n",
    "    \n",
    "    # Train model\n",
    "    glm.train(x=X, y=Y, training_frame=df_train)\n",
    "    gbm.train(x=X, y=Y, training_frame=df_train)\n",
    "    xgb.train(x=X, y=Y, training_frame=df_train)\n",
    "    lgbm.train(x=X, y=Y, training_frame=df_train)\n",
    "    rf.train(x=X, y=Y, training_frame=df_train)\n",
    "    ext.train(x=X, y=Y, training_frame=df_train)\n",
    "    \n",
    "    # Calculate train metrics \n",
    "    from sklearn.metrics import matthews_corrcoef\n",
    "    train_glm = matthews_corrcoef(h2o_train[Y].as_data_frame(), glm.predict(h2o_train)['predict'].as_data_frame())\n",
    "    train_gbm = matthews_corrcoef(h2o_train[Y].as_data_frame(), gbm.predict(h2o_train)['predict'].as_data_frame())\n",
    "    train_xgb = matthews_corrcoef(h2o_train[Y].as_data_frame(), xgb.predict(h2o_train)['predict'].as_data_frame())\n",
    "    train_lgbm = matthews_corrcoef(h2o_train[Y].as_data_frame(), lgbm.predict(h2o_train)['predict'].as_data_frame())\n",
    "    train_rf = matthews_corrcoef(h2o_train[Y].as_data_frame(), rf.predict(h2o_train)['predict'].as_data_frame())\n",
    "    train_ext = matthews_corrcoef(h2o_train[Y].as_data_frame(), ext.predict(h2o_train)['predict'].as_data_frame())\n",
    "\n",
    "    # Calculate CV metrics for all model \n",
    "    met_glm = matthews_corrcoef(h2o_train[Y].as_data_frame(), glm.cross_validation_holdout_predictions()['predict'].as_data_frame())\n",
    "    met_gbm = matthews_corrcoef(h2o_train[Y].as_data_frame(), gbm.cross_validation_holdout_predictions()['predict'].as_data_frame())\n",
    "    met_xgb = matthews_corrcoef(h2o_train[Y].as_data_frame(), xgb.cross_validation_holdout_predictions()['predict'].as_data_frame())\n",
    "    met_lgbm = matthews_corrcoef(h2o_train[Y].as_data_frame(), lgbm.cross_validation_holdout_predictions()['predict'].as_data_frame())\n",
    "    met_rf = matthews_corrcoef(h2o_train[Y].as_data_frame(), rf.cross_validation_holdout_predictions()['predict'].as_data_frame())\n",
    "    met_ext = matthews_corrcoef(h2o_train[Y].as_data_frame(), ext.cross_validation_holdout_predictions()['predict'].as_data_frame())\n",
    "    \n",
    "    # Calculate holdout metrics\n",
    "    from sklearn.metrics import matthews_corrcoef\n",
    "    hold_glm = matthews_corrcoef(h2o_val[Y].as_data_frame(), glm.predict(h2o_val)['predict'].as_data_frame())\n",
    "    hold_gbm = matthews_corrcoef(h2o_val[Y].as_data_frame(), gbm.predict(h2o_val)['predict'].as_data_frame())\n",
    "    hold_xgb = matthews_corrcoef(h2o_val[Y].as_data_frame(), xgb.predict(h2o_val)['predict'].as_data_frame())\n",
    "    hold_lgbm = matthews_corrcoef(h2o_val[Y].as_data_frame(), lgbm.predict(h2o_val)['predict'].as_data_frame())\n",
    "    hold_rf = matthews_corrcoef(h2o_val[Y].as_data_frame(), rf.predict(h2o_val)['predict'].as_data_frame())\n",
    "    hold_ext = matthews_corrcoef(h2o_val[Y].as_data_frame(), ext.predict(h2o_val)['predict'].as_data_frame())\n",
    "    \n",
    "    # Make result dataframe\n",
    "    result = pd.DataFrame({'Model':['GLM','GBM','XGB','LGBM','RF','ExtraTree'],\n",
    "                          'Train Metrics':[train_glm,train_gbm,train_xgb,train_lgbm,train_rf,train_ext],\n",
    "                          'CV Metrics':[met_glm,met_gbm,met_xgb,met_lgbm,met_rf,met_ext],\n",
    "                          'Holdout Metrics':[hold_glm,hold_gbm,hold_xgb,hold_lgbm,hold_rf,hold_ext]})\n",
    "    \n",
    "    end = time.time()\n",
    "    print('Time Used :',(end-start)/60)\n",
    "    \n",
    "    return result.sort_values('Holdout Metrics')"
   ]
  },
  {
   "cell_type": "code",
   "execution_count": 157,
   "metadata": {
    "execution": {
     "iopub.execute_input": "2020-08-09T04:31:40.607806Z",
     "iopub.status.busy": "2020-08-09T04:31:40.581589Z",
     "iopub.status.idle": "2020-08-09T04:39:30.704314Z",
     "shell.execute_reply": "2020-08-09T04:39:30.703711Z"
    },
    "papermill": {
     "duration": 470.371921,
     "end_time": "2020-08-09T04:39:30.704450",
     "exception": false,
     "start_time": "2020-08-09T04:31:40.332529",
     "status": "completed"
    },
    "tags": []
   },
   "outputs": [
    {
     "name": "stdout",
     "output_type": "stream",
     "text": [
      "glm Model Build progress: |███████████████████████████████████████████████| 100%\n",
      "gbm Model Build progress: |███████████████████████████████████████████████| 100%\n",
      "xgboost Model Build progress: |███████████████████████████████████████████| 100%\n",
      "xgboost Model Build progress: |███████████████████████████████████████████| 100%\n",
      "drf Model Build progress: |███████████████████████████████████████████████| 100%\n",
      "drf Model Build progress: |███████████████████████████████████████████████| 100%\n",
      "glm prediction progress: |████████████████████████████████████████████████| 100%\n",
      "gbm prediction progress: |████████████████████████████████████████████████| 100%\n",
      "xgboost prediction progress: |████████████████████████████████████████████| 100%\n",
      "xgboost prediction progress: |████████████████████████████████████████████| 100%\n",
      "drf prediction progress: |████████████████████████████████████████████████| 100%\n",
      "drf prediction progress: |████████████████████████████████████████████████| 100%\n",
      "glm prediction progress: |████████████████████████████████████████████████| 100%\n",
      "gbm prediction progress: |████████████████████████████████████████████████| 100%\n",
      "xgboost prediction progress: |████████████████████████████████████████████| 100%\n",
      "xgboost prediction progress: |████████████████████████████████████████████| 100%\n",
      "drf prediction progress: |████████████████████████████████████████████████| 100%\n",
      "drf prediction progress: |████████████████████████████████████████████████| 100%\n",
      "Time Used : 7.838137714068095\n"
     ]
    },
    {
     "data": {
      "text/html": [
       "<div>\n",
       "<style scoped>\n",
       "    .dataframe tbody tr th:only-of-type {\n",
       "        vertical-align: middle;\n",
       "    }\n",
       "\n",
       "    .dataframe tbody tr th {\n",
       "        vertical-align: top;\n",
       "    }\n",
       "\n",
       "    .dataframe thead th {\n",
       "        text-align: right;\n",
       "    }\n",
       "</style>\n",
       "<table border=\"1\" class=\"dataframe\">\n",
       "  <thead>\n",
       "    <tr style=\"text-align: right;\">\n",
       "      <th></th>\n",
       "      <th>Model</th>\n",
       "      <th>Train Metrics</th>\n",
       "      <th>CV Metrics</th>\n",
       "      <th>Holdout Metrics</th>\n",
       "    </tr>\n",
       "  </thead>\n",
       "  <tbody>\n",
       "    <tr>\n",
       "      <th>0</th>\n",
       "      <td>GLM</td>\n",
       "      <td>0.521652</td>\n",
       "      <td>0.523367</td>\n",
       "      <td>0.504101</td>\n",
       "    </tr>\n",
       "    <tr>\n",
       "      <th>4</th>\n",
       "      <td>RF</td>\n",
       "      <td>0.955485</td>\n",
       "      <td>0.527507</td>\n",
       "      <td>0.523682</td>\n",
       "    </tr>\n",
       "    <tr>\n",
       "      <th>5</th>\n",
       "      <td>ExtraTree</td>\n",
       "      <td>0.902075</td>\n",
       "      <td>0.526956</td>\n",
       "      <td>0.524026</td>\n",
       "    </tr>\n",
       "    <tr>\n",
       "      <th>1</th>\n",
       "      <td>GBM</td>\n",
       "      <td>0.562783</td>\n",
       "      <td>0.542380</td>\n",
       "      <td>0.528964</td>\n",
       "    </tr>\n",
       "    <tr>\n",
       "      <th>3</th>\n",
       "      <td>LGBM</td>\n",
       "      <td>0.639020</td>\n",
       "      <td>0.544061</td>\n",
       "      <td>0.543915</td>\n",
       "    </tr>\n",
       "    <tr>\n",
       "      <th>2</th>\n",
       "      <td>XGB</td>\n",
       "      <td>0.640648</td>\n",
       "      <td>0.544475</td>\n",
       "      <td>0.545993</td>\n",
       "    </tr>\n",
       "  </tbody>\n",
       "</table>\n",
       "</div>"
      ],
      "text/plain": [
       "       Model  Train Metrics  CV Metrics  Holdout Metrics\n",
       "0        GLM       0.521652    0.523367         0.504101\n",
       "4         RF       0.955485    0.527507         0.523682\n",
       "5  ExtraTree       0.902075    0.526956         0.524026\n",
       "1        GBM       0.562783    0.542380         0.528964\n",
       "3       LGBM       0.639020    0.544061         0.543915\n",
       "2        XGB       0.640648    0.544475         0.545993"
      ]
     },
     "execution_count": 157,
     "metadata": {},
     "output_type": "execute_result"
    }
   ],
   "source": [
    "res = h2o_compare_models(h2o_train, h2o_test, X, Y) \n",
    "res"
   ]
  },
  {
   "cell_type": "markdown",
   "execution_count": null,
   "metadata": {
    "papermill": {
     "duration": 0.074126,
     "end_time": "2020-08-09T04:39:30.855776",
     "exception": false,
     "start_time": "2020-08-09T04:39:30.781650",
     "status": "completed"
    },
    "tags": []
   },
   "source": [
    "The implementation was copied over from this [public kernel](https://www.kaggle.com/marcellosusanto/shopee-ma-eda)"
   ]
  },
  {
   "cell_type": "markdown",
   "execution_count": null,
   "metadata": {
    "papermill": {
     "duration": 0.074509,
     "end_time": "2020-08-09T04:39:31.003448",
     "exception": false,
     "start_time": "2020-08-09T04:39:30.928939",
     "status": "completed"
    },
    "tags": []
   },
   "source": [
    "**XGB**"
   ]
  },
  {
   "cell_type": "code",
   "execution_count": 158,
   "metadata": {
    "execution": {
     "iopub.execute_input": "2020-08-09T04:39:31.159091Z",
     "iopub.status.busy": "2020-08-09T04:39:31.158431Z",
     "iopub.status.idle": "2020-08-09T04:39:31.161628Z",
     "shell.execute_reply": "2020-08-09T04:39:31.161105Z"
    },
    "papermill": {
     "duration": 0.084255,
     "end_time": "2020-08-09T04:39:31.161743",
     "exception": false,
     "start_time": "2020-08-09T04:39:31.077488",
     "status": "completed"
    },
    "tags": []
   },
   "outputs": [],
   "source": [
    "from h2o.estimators.gbm import H2OGradientBoostingEstimator\n",
    "from h2o.estimators.random_forest import H2ORandomForestEstimator\n",
    "from h2o.estimators.glm import H2OGeneralizedLinearEstimator\n",
    "from h2o.estimators import H2OXGBoostEstimator\n",
    "from h2o.estimators.stackedensemble import H2OStackedEnsembleEstimator\n",
    "import time"
   ]
  },
  {
   "cell_type": "code",
   "execution_count": 159,
   "metadata": {
    "execution": {
     "iopub.execute_input": "2020-08-09T04:39:31.323956Z",
     "iopub.status.busy": "2020-08-09T04:39:31.322941Z",
     "iopub.status.idle": "2020-08-09T05:12:34.082740Z",
     "shell.execute_reply": "2020-08-09T05:12:34.081987Z"
    },
    "papermill": {
     "duration": 1982.848413,
     "end_time": "2020-08-09T05:12:34.082891",
     "exception": false,
     "start_time": "2020-08-09T04:39:31.234478",
     "status": "completed"
    },
    "tags": []
   },
   "outputs": [
    {
     "name": "stdout",
     "output_type": "stream",
     "text": [
      "xgboost Grid Build progress: |████████████████████████████████████████████| 100%\n"
     ]
    }
   ],
   "source": [
    "from h2o.estimators import H2OXGBoostEstimator\n",
    "from h2o.grid.grid_search import H2OGridSearch\n",
    "from sklearn.metrics import log_loss\n",
    "\n",
    "start = time.time()\n",
    "\n",
    "xgb = H2OXGBoostEstimator(distribution='bernoulli', nfolds=10, keep_cross_validation_predictions=True, fold_assignment='Modulo')\n",
    "\n",
    "xgb_params = {'max_depth' : [7,9,11], # picked after max depth search\n",
    "                'sample_rate': [x/100. for x in range(20,101)],\n",
    "                'col_sample_rate' : [x/100. for x in range(20,101)],\n",
    "                'col_sample_rate_per_tree': [x/100. for x in range(20,101)],\n",
    "                'min_split_improvement': [0,1e-8,1e-6,1e-4],\n",
    "              'reg_lambda':list(np.arange(0.5,1.05,0.05)),\n",
    "              'reg_alpha':list(np.arange(0.01,0.11,0.01)),\n",
    "             'learn_rate':list(np.arange(0.01,0.11,0.01)),\n",
    "             'booster':['dart','gbtree']}\n",
    "\n",
    "# Search criteria\n",
    "search_criteria = {'strategy': \"RandomDiscrete\",\n",
    "                   'max_runtime_secs': 3600,\n",
    "                   'max_models': 20,\n",
    "                   'seed' : 11,\n",
    "                   'stopping_rounds' : 5,\n",
    "                   'stopping_metric' : \"auc\",\n",
    "                   'stopping_tolerance': 1e-3\n",
    "                   }\n",
    "\n",
    "# Make grid model\n",
    "xgb_grid = H2OGridSearch(model=xgb,\n",
    "                          grid_id='best_xgb_cmon',\n",
    "                          hyper_params=xgb_params,\n",
    "                          search_criteria=search_criteria)\n",
    "\n",
    "# Train model\n",
    "xgb_grid.train(x=X, y=Y, training_frame=h2o_train, validation_frame=h2o_val)\n",
    "\n",
    "# Get best GLM\n",
    "xgb_res = xgb_grid.get_grid(sort_by='auc', decreasing=True)\n",
    "best_xgb = xgb_res.models[0]"
   ]
  },
  {
   "cell_type": "code",
   "execution_count": 160,
   "metadata": {
    "execution": {
     "iopub.execute_input": "2020-08-09T05:12:34.253071Z",
     "iopub.status.busy": "2020-08-09T05:12:34.252379Z",
     "iopub.status.idle": "2020-08-09T05:12:35.435279Z",
     "shell.execute_reply": "2020-08-09T05:12:35.434478Z"
    },
    "papermill": {
     "duration": 1.272123,
     "end_time": "2020-08-09T05:12:35.435415",
     "exception": false,
     "start_time": "2020-08-09T05:12:34.163292",
     "status": "completed"
    },
    "tags": []
   },
   "outputs": [
    {
     "name": "stdout",
     "output_type": "stream",
     "text": [
      "xgboost prediction progress: |████████████████████████████████████████████| 100%\n",
      "xgboost prediction progress: |████████████████████████████████████████████| 100%\n",
      "Train metrics : 0.6073117238093653\n",
      "CV metrics : 0.5431782042406682\n",
      "Holdout metrics : 0.5424033206176129\n",
      "Time Used : 33.06841543118159\n"
     ]
    }
   ],
   "source": [
    "from sklearn.metrics import matthews_corrcoef\n",
    "train_xgb = matthews_corrcoef(h2o_train[Y].as_data_frame(), best_xgb.predict(h2o_train)['predict'].as_data_frame())\n",
    "met_xgb = matthews_corrcoef(h2o_train[Y].as_data_frame(), best_xgb.cross_validation_holdout_predictions()['predict'].as_data_frame())\n",
    "hold_xgb = matthews_corrcoef(h2o_val[Y].as_data_frame(), best_xgb.predict(h2o_val)['predict'].as_data_frame())\n",
    "\n",
    "# Print result\n",
    "print('Train metrics :',train_xgb)\n",
    "print('CV metrics :',met_xgb)\n",
    "print('Holdout metrics :',hold_xgb)\n",
    "\n",
    "end = time.time()\n",
    "print('Time Used :',(end-start)/60)"
   ]
  },
  {
   "cell_type": "code",
   "execution_count": 161,
   "metadata": {
    "execution": {
     "iopub.execute_input": "2020-08-09T05:12:35.843755Z",
     "iopub.status.busy": "2020-08-09T05:12:35.813098Z",
     "iopub.status.idle": "2020-08-09T05:12:37.263261Z",
     "shell.execute_reply": "2020-08-09T05:12:37.262507Z"
    },
    "papermill": {
     "duration": 1.745877,
     "end_time": "2020-08-09T05:12:37.263391",
     "exception": false,
     "start_time": "2020-08-09T05:12:35.517514",
     "status": "completed"
    },
    "tags": []
   },
   "outputs": [
    {
     "name": "stdout",
     "output_type": "stream",
     "text": [
      "xgboost prediction progress: |████████████████████████████████████████████| 100%\n"
     ]
    }
   ],
   "source": [
    "pred = best_xgb.predict(h2o_test)['predict'].as_data_frame()\n",
    "sub = pd.read_csv('../input/open-shopee-code-league-marketing-analytics/sample_submission_0_1.csv')\n",
    "sub['open_flag'] = pred\n",
    "\n",
    "sub.to_csv('submission_xgb.csv', index=False)"
   ]
  },
  {
   "cell_type": "code",
   "execution_count": 162,
   "metadata": {
    "execution": {
     "iopub.execute_input": "2020-08-09T05:12:37.485578Z",
     "iopub.status.busy": "2020-08-09T05:12:37.484866Z",
     "iopub.status.idle": "2020-08-09T05:12:37.492173Z",
     "shell.execute_reply": "2020-08-09T05:12:37.491539Z"
    },
    "papermill": {
     "duration": 0.089496,
     "end_time": "2020-08-09T05:12:37.492292",
     "exception": false,
     "start_time": "2020-08-09T05:12:37.402796",
     "status": "completed"
    },
    "tags": []
   },
   "outputs": [
    {
     "data": {
      "text/plain": [
       "0    47916\n",
       "1     8054\n",
       "Name: open_flag, dtype: int64"
      ]
     },
     "execution_count": 162,
     "metadata": {},
     "output_type": "execute_result"
    }
   ],
   "source": [
    "sub['open_flag'].value_counts()"
   ]
  },
  {
   "cell_type": "markdown",
   "execution_count": null,
   "metadata": {
    "papermill": {
     "duration": 0.077712,
     "end_time": "2020-08-09T05:12:37.648098",
     "exception": false,
     "start_time": "2020-08-09T05:12:37.570386",
     "status": "completed"
    },
    "tags": []
   },
   "source": [
    "**LGBM**"
   ]
  },
  {
   "cell_type": "code",
   "execution_count": 163,
   "metadata": {
    "execution": {
     "iopub.execute_input": "2020-08-09T05:12:37.830695Z",
     "iopub.status.busy": "2020-08-09T05:12:37.826571Z",
     "iopub.status.idle": "2020-08-09T06:12:44.092020Z",
     "shell.execute_reply": "2020-08-09T06:12:44.090970Z"
    },
    "papermill": {
     "duration": 3606.364437,
     "end_time": "2020-08-09T06:12:44.092232",
     "exception": false,
     "start_time": "2020-08-09T05:12:37.727795",
     "status": "completed"
    },
    "tags": []
   },
   "outputs": [
    {
     "name": "stdout",
     "output_type": "stream",
     "text": [
      "xgboost Grid Build progress: |████████████████████████████████████████████| 100%\n"
     ]
    }
   ],
   "source": [
    "# Tune Model - LGBM - RandomGridSearch\n",
    "from h2o.estimators import H2OXGBoostEstimator\n",
    "from h2o.grid.grid_search import H2OGridSearch\n",
    "from sklearn.metrics import log_loss\n",
    "\n",
    "start = time.time()\n",
    "\n",
    "lgbm = H2OXGBoostEstimator(distribution='bernoulli', tree_method=\"hist\", grow_policy=\"lossguide\",\n",
    "                           nfolds=10, keep_cross_validation_predictions=True, fold_assignment='Modulo',\n",
    "                           ntrees=100, seed=11, score_tree_interval = 10,\n",
    "                           stopping_rounds = 5, stopping_metric = \"AUC\", stopping_tolerance = 1e-4)\n",
    "\n",
    "# LGBM Params\n",
    "lgbm_params = {'max_depth' : [7,9,11],  # picked after max depth search\n",
    "                'sample_rate': [x/100. for x in range(20,101)],\n",
    "                'col_sample_rate' : [x/100. for x in range(20,101)],\n",
    "                'col_sample_rate_per_tree': [x/100. for x in range(20,101)],\n",
    "                'min_split_improvement': [0,1e-8,1e-6,1e-4],\n",
    "              'reg_lambda':list(np.arange(0.5,1.05,0.05)),\n",
    "              'reg_alpha':list(np.arange(0.01,0.11,0.01)),\n",
    "             'learn_rate':list(np.arange(0.01,0.11,0.01)),\n",
    "             'booster':['dart','gbtree']}\n",
    "\n",
    "# Search criteria\n",
    "search_criteria = {'strategy': \"RandomDiscrete\",\n",
    "                   'max_runtime_secs': 3600,  # limit the runtime to 60 minutes\n",
    "                   'max_models': 20,  # build no more than 100 models\n",
    "                   'seed' : 11,\n",
    "                   'stopping_rounds' : 5,\n",
    "                   'stopping_metric' : \"auc\",\n",
    "                   'stopping_tolerance': 1e-3\n",
    "                   }\n",
    "\n",
    "# Make grid model\n",
    "lgbm_grid = H2OGridSearch(model=lgbm,\n",
    "                          grid_id='best_lgbm_cmon',\n",
    "                          hyper_params=lgbm_params,\n",
    "                          search_criteria=search_criteria)\n",
    "\n",
    "# Train model\n",
    "lgbm_grid.train(x=X, y=Y, training_frame=h2o_train, validation_frame=h2o_val)\n",
    "\n",
    "# Get best GLM\n",
    "lgbm_res = lgbm_grid.get_grid(sort_by='auc', decreasing=True)\n",
    "best_lgbm = lgbm_res.models[0]"
   ]
  },
  {
   "cell_type": "code",
   "execution_count": 164,
   "metadata": {
    "execution": {
     "iopub.execute_input": "2020-08-09T06:12:44.272352Z",
     "iopub.status.busy": "2020-08-09T06:12:44.271597Z",
     "iopub.status.idle": "2020-08-09T06:12:45.512174Z",
     "shell.execute_reply": "2020-08-09T06:12:45.512693Z"
    },
    "papermill": {
     "duration": 1.332351,
     "end_time": "2020-08-09T06:12:45.512849",
     "exception": false,
     "start_time": "2020-08-09T06:12:44.180498",
     "status": "completed"
    },
    "tags": []
   },
   "outputs": [
    {
     "name": "stdout",
     "output_type": "stream",
     "text": [
      "xgboost prediction progress: |████████████████████████████████████████████| 100%\n",
      "xgboost prediction progress: |████████████████████████████████████████████| 100%\n",
      "Train metrics : 0.6427186569892444\n",
      "CV metrics : 0.5466370587068732\n",
      "Holdout metrics : 0.5395854799365235\n",
      "Time Used : 60.12790144284566\n"
     ]
    }
   ],
   "source": [
    "from sklearn.metrics import matthews_corrcoef\n",
    "train_lgbm = matthews_corrcoef(h2o_train[Y].as_data_frame(), best_lgbm.predict(h2o_train)['predict'].as_data_frame())\n",
    "met_lgbm = matthews_corrcoef(h2o_train[Y].as_data_frame(), best_lgbm.cross_validation_holdout_predictions()['predict'].as_data_frame())\n",
    "hold_lgbm = matthews_corrcoef(h2o_val[Y].as_data_frame(), best_lgbm.predict(h2o_val)['predict'].as_data_frame())\n",
    "\n",
    "# Print result\n",
    "print('Train metrics :',train_lgbm)\n",
    "print('CV metrics :',met_lgbm)\n",
    "print('Holdout metrics :',hold_lgbm)\n",
    "\n",
    "end = time.time()\n",
    "print('Time Used :',(end-start)/60)"
   ]
  },
  {
   "cell_type": "code",
   "execution_count": 165,
   "metadata": {
    "execution": {
     "iopub.execute_input": "2020-08-09T06:12:45.692265Z",
     "iopub.status.busy": "2020-08-09T06:12:45.691530Z",
     "iopub.status.idle": "2020-08-09T06:12:46.289618Z",
     "shell.execute_reply": "2020-08-09T06:12:46.288873Z"
    },
    "papermill": {
     "duration": 0.688341,
     "end_time": "2020-08-09T06:12:46.289743",
     "exception": false,
     "start_time": "2020-08-09T06:12:45.601402",
     "status": "completed"
    },
    "tags": []
   },
   "outputs": [
    {
     "name": "stdout",
     "output_type": "stream",
     "text": [
      "xgboost prediction progress: |████████████████████████████████████████████| 100%\n"
     ]
    }
   ],
   "source": [
    "pred = best_lgbm.predict(h2o_test)['predict'].as_data_frame()\n",
    "sub = pd.read_csv('../input/open-shopee-code-league-marketing-analytics/sample_submission_0_1.csv')\n",
    "sub['open_flag'] = pred\n",
    "\n",
    "sub.to_csv('submission_lgbm.csv', index=False)"
   ]
  },
  {
   "cell_type": "code",
   "execution_count": 166,
   "metadata": {
    "execution": {
     "iopub.execute_input": "2020-08-09T06:12:46.460510Z",
     "iopub.status.busy": "2020-08-09T06:12:46.459806Z",
     "iopub.status.idle": "2020-08-09T06:12:46.467078Z",
     "shell.execute_reply": "2020-08-09T06:12:46.466411Z"
    },
    "papermill": {
     "duration": 0.094463,
     "end_time": "2020-08-09T06:12:46.467199",
     "exception": false,
     "start_time": "2020-08-09T06:12:46.372736",
     "status": "completed"
    },
    "tags": []
   },
   "outputs": [
    {
     "data": {
      "text/plain": [
       "0    47001\n",
       "1     8969\n",
       "Name: open_flag, dtype: int64"
      ]
     },
     "execution_count": 166,
     "metadata": {},
     "output_type": "execute_result"
    }
   ],
   "source": [
    "sub['open_flag'].value_counts()"
   ]
  },
  {
   "cell_type": "markdown",
   "execution_count": null,
   "metadata": {
    "papermill": {
     "duration": 0.082425,
     "end_time": "2020-08-09T06:12:46.632420",
     "exception": false,
     "start_time": "2020-08-09T06:12:46.549995",
     "status": "completed"
    },
    "tags": []
   },
   "source": [
    "Best submission: submission_xgb.csv\n",
    "\n",
    "Second best:     submission_lgbm.csv\n",
    "\n",
    "[Link to kernel](https://www.kaggle.com/rareloto/matrix-marketing-analytics-xgboost)"
   ]
  }
 ],
 "metadata": {
  "kernelspec": {
   "display_name": "Python 3",
   "language": "python",
   "name": "python3"
  },
  "language_info": {
   "codemirror_mode": {
    "name": "ipython",
    "version": 3
   },
   "file_extension": ".py",
   "mimetype": "text/x-python",
   "name": "python",
   "nbconvert_exporter": "python",
   "pygments_lexer": "ipython3",
   "version": "3.7.6"
  },
  "papermill": {
   "duration": 6265.373962,
   "end_time": "2020-08-09T06:12:46.823407",
   "environment_variables": {},
   "exception": null,
   "input_path": "__notebook__.ipynb",
   "output_path": "__notebook__.ipynb",
   "parameters": {},
   "start_time": "2020-08-09T04:28:21.449445",
   "version": "2.1.0"
  }
 },
 "nbformat": 4,
 "nbformat_minor": 4
}
